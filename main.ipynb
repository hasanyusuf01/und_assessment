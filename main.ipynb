{
  "cells": [
    {
      "cell_type": "code",
      "execution_count": 1,
      "metadata": {
        "colab": {
          "base_uri": "https://localhost:8080/",
          "height": 351
        },
        "id": "lh2_7_33icVA",
        "outputId": "e5928df6-3d15-4961-d860-4562e46fbf40"
      },
      "outputs": [
        {
          "name": "stdout",
          "output_type": "stream",
          "text": [
            "Collecting numpy<2\n",
            "  Downloading numpy-1.26.4-cp311-cp311-manylinux_2_17_x86_64.manylinux2014_x86_64.whl.metadata (61 kB)\n",
            "\u001b[?25l     \u001b[90m━━━━━━━━━━━━━━━━━━━━━━━━━━━━━━━━━━━━━━━━\u001b[0m \u001b[32m0.0/61.0 kB\u001b[0m \u001b[31m?\u001b[0m eta \u001b[36m-:--:--\u001b[0m\r\u001b[2K     \u001b[90m━━━━━━━━━━━━━━━━━━━━━━━━━━━━━━━━━━━━━━━━\u001b[0m \u001b[32m61.0/61.0 kB\u001b[0m \u001b[31m2.6 MB/s\u001b[0m eta \u001b[36m0:00:00\u001b[0m\n",
            "\u001b[?25hDownloading numpy-1.26.4-cp311-cp311-manylinux_2_17_x86_64.manylinux2014_x86_64.whl (18.3 MB)\n",
            "\u001b[2K   \u001b[90m━━━━━━━━━━━━━━━━━━━━━━━━━━━━━━━━━━━━━━━━\u001b[0m \u001b[32m18.3/18.3 MB\u001b[0m \u001b[31m83.3 MB/s\u001b[0m eta \u001b[36m0:00:00\u001b[0m\n",
            "\u001b[?25hInstalling collected packages: numpy\n",
            "  Attempting uninstall: numpy\n",
            "    Found existing installation: numpy 2.0.2\n",
            "    Uninstalling numpy-2.0.2:\n",
            "      Successfully uninstalled numpy-2.0.2\n",
            "\u001b[31mERROR: pip's dependency resolver does not currently take into account all the packages that are installed. This behaviour is the source of the following dependency conflicts.\n",
            "thinc 8.3.6 requires numpy<3.0.0,>=2.0.0, but you have numpy 1.26.4 which is incompatible.\u001b[0m\u001b[31m\n",
            "\u001b[0mSuccessfully installed numpy-1.26.4\n"
          ]
        },
        {
          "data": {
            "application/vnd.colab-display-data+json": {
              "id": "1570eac6800d45cb99e6a2b7d90da8c7",
              "pip_warning": {
                "packages": [
                  "numpy"
                ]
              }
            }
          },
          "metadata": {},
          "output_type": "display_data"
        }
      ],
      "source": [
        "!pip install --upgrade \"numpy<2\"\n"
      ]
    },
    {
      "cell_type": "code",
      "execution_count": 4,
      "metadata": {
        "colab": {
          "base_uri": "https://localhost:8080/"
        },
        "id": "qMH4FSzF_vVo",
        "outputId": "77f6d162-fc64-455b-f44e-0b01a753e812"
      },
      "outputs": [
        {
          "name": "stdout",
          "output_type": "stream",
          "text": [
            "Mounted at /content/drive\n"
          ]
        }
      ],
      "source": [
        "from google.colab import drive\n",
        "drive.mount('/content/drive')"
      ]
    },
    {
      "cell_type": "code",
      "execution_count": 1,
      "metadata": {
        "colab": {
          "base_uri": "https://localhost:8080/"
        },
        "id": "CwY3IzxOiny8",
        "outputId": "708f0fc8-adec-4bad-a8d4-951b923c71eb"
      },
      "outputs": [
        {
          "name": "stdout",
          "output_type": "stream",
          "text": [
            "/content\n"
          ]
        }
      ],
      "source": [
        "!pwd"
      ]
    },
    {
      "cell_type": "code",
      "execution_count": 2,
      "metadata": {
        "colab": {
          "base_uri": "https://localhost:8080/"
        },
        "id": "G_Xcm5BbiuTX",
        "outputId": "f3d3998b-cfc0-40f2-ae55-d4e1d219c28d"
      },
      "outputs": [
        {
          "name": "stdout",
          "output_type": "stream",
          "text": [
            "\u001b[0m\u001b[01;34msample_data\u001b[0m/\n"
          ]
        }
      ],
      "source": [
        "ls"
      ]
    },
    {
      "cell_type": "code",
      "execution_count": 5,
      "metadata": {
        "colab": {
          "base_uri": "https://localhost:8080/"
        },
        "id": "2BAmwWWiOmbm",
        "outputId": "6bae30cd-1f3b-4a83-da78-260d5162e066"
      },
      "outputs": [
        {
          "name": "stdout",
          "output_type": "stream",
          "text": [
            "/content/drive/MyDrive/Projects/rl\n"
          ]
        }
      ],
      "source": [
        "cd drive/MyDrive/Projects/rl"
      ]
    },
    {
      "cell_type": "code",
      "execution_count": 6,
      "metadata": {
        "id": "MfDENPSPTvQe"
      },
      "outputs": [],
      "source": [
        "# !git clone https://github.com/sainijagjit/DDPG-Pytorch.git"
      ]
    },
    {
      "cell_type": "code",
      "execution_count": 7,
      "metadata": {
        "colab": {
          "base_uri": "https://localhost:8080/"
        },
        "id": "_uKTnSpeUNvw",
        "outputId": "a1dfd29a-537c-4b20-93a8-f4a6364988c8"
      },
      "outputs": [
        {
          "name": "stdout",
          "output_type": "stream",
          "text": [
            "/content/drive/MyDrive/Projects/rl/DDPG-Pytorch\n"
          ]
        }
      ],
      "source": [
        "cd DDPG-Pytorch/"
      ]
    },
    {
      "cell_type": "code",
      "execution_count": 8,
      "metadata": {
        "colab": {
          "base_uri": "https://localhost:8080/"
        },
        "id": "6-T5PxjAffrY",
        "outputId": "8b5eafc2-95d5-4a7a-d7d3-2ec69bcf773c"
      },
      "outputs": [
        {
          "name": "stdout",
          "output_type": "stream",
          "text": [
            "Collecting gym==0.26.2\n",
            "  Downloading gym-0.26.2.tar.gz (721 kB)\n",
            "\u001b[?25l     \u001b[90m━━━━━━━━━━━━━━━━━━━━━━━━━━━━━━━━━━━━━━━━\u001b[0m \u001b[32m0.0/721.7 kB\u001b[0m \u001b[31m?\u001b[0m eta \u001b[36m-:--:--\u001b[0m\r\u001b[2K     \u001b[91m━━━━━━━━\u001b[0m\u001b[91m╸\u001b[0m\u001b[90m━━━━━━━━━━━━━━━━━━━━━━━━━━━━━━\u001b[0m \u001b[32m163.8/721.7 kB\u001b[0m \u001b[31m4.6 MB/s\u001b[0m eta \u001b[36m0:00:01\u001b[0m\r\u001b[2K     \u001b[91m━━━━━━━━━━━━━━━━━━━━━━━━━━━━━━━━━━━━━\u001b[0m\u001b[91m╸\u001b[0m \u001b[32m716.8/721.7 kB\u001b[0m \u001b[31m12.1 MB/s\u001b[0m eta \u001b[36m0:00:01\u001b[0m\r\u001b[2K     \u001b[90m━━━━━━━━━━━━━━━━━━━━━━━━━━━━━━━━━━━━━━━\u001b[0m \u001b[32m721.7/721.7 kB\u001b[0m \u001b[31m9.6 MB/s\u001b[0m eta \u001b[36m0:00:00\u001b[0m\n",
            "\u001b[?25h  Installing build dependencies ... \u001b[?25l\u001b[?25hdone\n",
            "  Getting requirements to build wheel ... \u001b[?25l\u001b[?25hdone\n",
            "  Preparing metadata (pyproject.toml) ... \u001b[?25l\u001b[?25hdone\n",
            "Requirement already satisfied: numpy>=1.18.0 in /usr/local/lib/python3.11/dist-packages (from gym==0.26.2) (1.26.4)\n",
            "Requirement already satisfied: cloudpickle>=1.2.0 in /usr/local/lib/python3.11/dist-packages (from gym==0.26.2) (3.1.1)\n",
            "Requirement already satisfied: gym_notices>=0.0.4 in /usr/local/lib/python3.11/dist-packages (from gym==0.26.2) (0.0.8)\n",
            "Building wheels for collected packages: gym\n",
            "  Building wheel for gym (pyproject.toml) ... \u001b[?25l\u001b[?25hdone\n",
            "  Created wheel for gym: filename=gym-0.26.2-py3-none-any.whl size=827728 sha256=3bf7e82e64b16244d009ab4a338dfe9fa81735ffa8b994c18f488a458019f571\n",
            "  Stored in directory: /root/.cache/pip/wheels/1c/77/9e/9af5470201a0b0543937933ee99ba884cd237d2faefe8f4d37\n",
            "Successfully built gym\n",
            "Installing collected packages: gym\n",
            "  Attempting uninstall: gym\n",
            "    Found existing installation: gym 0.25.2\n",
            "    Uninstalling gym-0.25.2:\n",
            "      Successfully uninstalled gym-0.25.2\n",
            "\u001b[31mERROR: pip's dependency resolver does not currently take into account all the packages that are installed. This behaviour is the source of the following dependency conflicts.\n",
            "dopamine-rl 4.1.2 requires gym<=0.25.2, but you have gym 0.26.2 which is incompatible.\u001b[0m\u001b[31m\n",
            "\u001b[0mSuccessfully installed gym-0.26.2\n"
          ]
        }
      ],
      "source": [
        "# !apt-get install -y swig\n",
        "!pip install gym==0.26.2"
      ]
    },
    {
      "cell_type": "code",
      "execution_count": null,
      "metadata": {
        "id": "pYmMTHQXVGE_"
      },
      "outputs": [],
      "source": [
        "from environment import PointParticleEnv"
      ]
    },
    {
      "cell_type": "code",
      "execution_count": 12,
      "metadata": {
        "colab": {
          "base_uri": "https://localhost:8080/",
          "height": 1000
        },
        "collapsed": true,
        "id": "YCb48-rXVUIS",
        "outputId": "6a8a9e1f-bbe8-426a-9851-48441a7d0b8a"
      },
      "outputs": [
        {
          "data": {
            "text/html": [
              "<video width=\"600\" height=\"600\" controls autoplay loop>\n",
              "  <source type=\"video/mp4\" src=\"data:video/mp4;base64,AAAAIGZ0eXBNNFYgAAACAE00ViBpc29taXNvMmF2YzEAAAAIZnJlZQAAKgptZGF0AAACrgYF//+q\n",
              "3EXpvebZSLeWLNgg2SPu73gyNjQgLSBjb3JlIDE2MyByMzA2MCA1ZGI2YWE2IC0gSC4yNjQvTVBF\n",
              "Ry00IEFWQyBjb2RlYyAtIENvcHlsZWZ0IDIwMDMtMjAyMSAtIGh0dHA6Ly93d3cudmlkZW9sYW4u\n",
              "b3JnL3gyNjQuaHRtbCAtIG9wdGlvbnM6IGNhYmFjPTEgcmVmPTMgZGVibG9jaz0xOjA6MCBhbmFs\n",
              "eXNlPTB4MzoweDExMyBtZT1oZXggc3VibWU9NyBwc3k9MSBwc3lfcmQ9MS4wMDowLjAwIG1peGVk\n",
              "X3JlZj0xIG1lX3JhbmdlPTE2IGNocm9tYV9tZT0xIHRyZWxsaXM9MSA4eDhkY3Q9MSBjcW09MCBk\n",
              "ZWFkem9uZT0yMSwxMSBmYXN0X3Bza2lwPTEgY2hyb21hX3FwX29mZnNldD0tMiB0aHJlYWRzPTMg\n",
              "bG9va2FoZWFkX3RocmVhZHM9MSBzbGljZWRfdGhyZWFkcz0wIG5yPTAgZGVjaW1hdGU9MSBpbnRl\n",
              "cmxhY2VkPTAgYmx1cmF5X2NvbXBhdD0wIGNvbnN0cmFpbmVkX2ludHJhPTAgYmZyYW1lcz0zIGJf\n",
              "cHlyYW1pZD0yIGJfYWRhcHQ9MSBiX2JpYXM9MCBkaXJlY3Q9MSB3ZWlnaHRiPTEgb3Blbl9nb3A9\n",
              "MCB3ZWlnaHRwPTIga2V5aW50PTI1MCBrZXlpbnRfbWluPTEwIHNjZW5lY3V0PTQwIGludHJhX3Jl\n",
              "ZnJlc2g9MCByY19sb29rYWhlYWQ9NDAgcmM9Y3JmIG1idHJlZT0xIGNyZj0yMy4wIHFjb21wPTAu\n",
              "NjAgcXBtaW49MCBxcG1heD02OSBxcHN0ZXA9NCBpcF9yYXRpbz0xLjQwIGFxPTE6MS4wMACAAAAF\n",
              "D2WIhAAR//73iB8yy2n5OtdyEeetLq0fUO5GcV6kvf4gAAADAAADAAIceCvyHWMDfpugAAA1oAac\n",
              "OeT/4M0/8QDOttXYB27Mw9J9mvlUiCU5ySI2SzjfT9sOPojj7Kgits/PMcxN/d+glLBL7AC/eyUz\n",
              "SyzwoENNO9C/LuvtZjDQayXjFzU1szYo1o6wYDEcJ0vi9iUPrnA7V71AAAAU5z+vdkukYGqv7Z2T\n",
              "H0L/UldC8+TouJxhnOYrRe5uctiiYVvxX8p1EwiOYB7Kx+mHgW7Ine3NcFuxeSmmIsuXl/V3jAM7\n",
              "jfYvRJmp38UJDMi/9vwevmfC9a+aTCCd+84tblNPnUzcUmTXKSGSKFHrtV5wy6VYv5pfPmdTsRpd\n",
              "bqjHn7eXhEqVbjGOyo4j0A0nwIgSg7gNmfyiXUHmXgjhrkL7jHfR0asYqkdgYrKBFrLDjvxEauxw\n",
              "ZYeec23zMH3KoaHn/9Z4T7g8LPkU4Bri3VddjWsRJ+Xdiw/ErgX+F5Feowd5Z1sDCFZbBiVXZFKC\n",
              "DB2pOt7RuPllh2exsMJYRC5z2Q0som3wVSNi6JrEkKQfCsIHRAF47nQDYtAJvyILDfVIuEsknUqA\n",
              "6OZqKVP5xHgw//qKD7xU5IlrByKz/1C0hZIXwJvsdteFzqCmAvE0WN2YIQnAWbkLrciEqPEzkdZN\n",
              "nnm/67Ir4Cqgo23ij+qhbMI5rXCozs8DCHRcnbkSMcpadd9RAhRThVXRG9zQQjgxXzziD38arYF0\n",
              "BSo3Kw4+wnM3VTnmC5WWdkhNhu0wPu3i6f7lyY8bhbA2cpWmrBGq+UI9Y5BJrPtvn7R7Ft0+WDqD\n",
              "4IBQt3pPqMiR5Jwilsi0W3aUuRlX2rhhs3VixMQL3yGHzpgoin/KdHMUQmlpzw8d58Mf8elJ7vjo\n",
              "3yQxyIHSQaA57spX+nqDzjlxf9LFp80FR7IqfuRaA7KVHfDJ94O6eK4lAi9EbN3D5253Kh6oFS2K\n",
              "qeWSeADUqLM2LcoX+csBLuVvvVuukb9YilL9J62cWwr1lFLLhXr+IvHVZDnC3FD0gZLl+caTDaBL\n",
              "urGLkdwfTSVjtOao0Cm8pPgEAPSBhqtbx0/XuH2A0IX2/Ua76hrVCndnzI5bvsQR0mMAI0k9iTeC\n",
              "VfdtRrTamMpHC2GUVcRHuvk4A2qp8NIPAc0W3sKBUSKGpwUrbda6xYnTcOFVBJBE4CcykgNQa2kF\n",
              "OpsBaN6ryILJaQihS0i2fM8YhTdlPSZpJRMrAayAvr39SXZ7v1AsLD1gjeYmUvzIPiA/8FU07wVH\n",
              "EuIl2xdxM8dYE0FTkr7JVhRFdASvde5PX9ItyU4WyO/Yzqf3jnxwRFBF4eMKFGbt+JJJMPHl7OgU\n",
              "/FZObDLMLm9SXolxzdRth8aBETDgry3+lf/NvgWo0bzFZAUKWxqMFHzMIQg4JLwVVkI6Pv1MjuVr\n",
              "5xLdwX/pkNlMoNv50C+LvwFdfv5oNzHrzadlBYiWCV6Yt+0Wr/nk4wlXN67TdbRXyKX3+lkMCP0I\n",
              "iugUxpjN8DNiIJ9712ziZLptGC3kT5RuC2WMMUKLiRZz6CZxXarWHHqn6nX3i99iUJJgAAS3kJ4H\n",
              "U7z7YcbPx7dtMn1thxU2PnEYWO4biQuviQc+IiOT4spfOtmjRlrohsFKmQQtl0ZRThiQfAKq2q3b\n",
              "erv/M/+c5szjN2zppsm9f69dlQtLGJw3JErU8M6XvnDQABgAAAMAAHZBAAAA00GaJGxBH/61KoAC\n",
              "Q22pho9Y/j4sremYOpvV12X8HnzsAHLfNs+Lt1Mz6C9f6+qVllVdmFaOjqAV442kKiguNr4piI7x\n",
              "9ElqpnhvSNMC/6JI2CB835oob1xeEtWF5cKnmr8x/kDVLhehedEzXvpWkC0SL1Z4uAU7HCMgd5hn\n",
              "1ZF4ZiSEr08iDe2x3rMdl7ah/W+yTF/suSzquQGw3vZyJEZZIfxpeF8HCkqq2Tp45Af50Dg3s+35\n",
              "8AAKKGzlNPlE4mvRC4lkFyGbtcYBtfHJKrku9NwAAABRQZ5CeId/AAjDk/mSh/CvNx/DXyzn9qAC\n",
              "0a53vL/6c/4vn5h/Q8LYKdR74KCPI0Bkuk4N0teq/amoDnHcMcgLRvtOjoTXEKTY0U4AFYyr/AFN\n",
              "AAAAHAGeYXRDfwAMj1fb321i9Jq+AAADAYquzAp00eAAAAC6AZ5jakN/AAAVBOkSWIqAdiM/X6G0\n",
              "r7AAlUOc96f/nqNe5bGHYcWHmK5KMgOv+gmLRPJ9+ywkI5KqpBzdjaIrIP5vXl3VxxxEzT7BAhok\n",
              "CDC3UaUdPktZe/eKQpQo7tTbmKgqaRyyvJgq6qT2y6djFHG7Wjq0k1W4KFa8rcV+vjrbnUDc4Oqq\n",
              "v8gEe2TLMYqL79m977HceO49NJ2Qdz+82G++q074LoWUNRJ9gjudOR3pEWuXZVgAAAbNAAAA1UGa\n",
              "Z0moQWiZTAgj//61KoAAAAMC3/QYZezYfh1Wa2nOI8e1TQAj5GsW8m9d3R+CjT2/QMn/h7gSOFHA\n",
              "NDKTwcOAofhcNGafhYfRibkFhltlaSFTViRn6R+4oPdVNG007MoUtONvvdikCScpQu2AdUtpqtBl\n",
              "ayXp15ne9Dynnv0/bdBnrwKeUJz2OxlxJ2M2oNg3WlgrHQJQ/1mlBjZhZbwzv85wb2AbSfFd8KXe\n",
              "qTrZfPEsV+bSWgda1Aeg1NlFgqi6cBUnaGNW6sis2zWfiXHnzgAa0QAAALNBnoVFESw3/wAAAwAP\n",
              "h2sIyfQIg9kJnRBhmn//GAA/pAT+iSQicOL0CWn17qbrKXyYQC5MfRRO/d9ek5Oyh6Aw362Pt3+f\n",
              "+TqR0AmHAkPAggUhKjywIu8z4q5emzv4cHlXvG+Ve5OoCyUO1CbhIWF9NesjZWIn2VHNjNwohCMz\n",
              "ZM1/6DhzetqbS2MtQAaIXH+QgMJDnKvXrT6dsEo+Y+EQTMFEKDYaleIfrxq2GekKUoALyQAAANQB\n",
              "nqZqQ38AAAMAANMAKJLEVith/BaHvgB0T1G4KobYqZ7Lr1WulsGcErM/b1gFaSYmiVH0re4ghf9U\n",
              "F2J+vhrHH/o+Kx4rtsVWtzr6119vzVNyrQWvkJIm0jh8KSqZNiBe8AxrARVJqdqnGRKRVCZb3JVj\n",
              "2hb8HzVCJ6n32K72DZO9VjUOHIA/JOGBvgTlJHfG+lDQxtb0Ez0hs3MTD4F4n+oc/9E9npD8MrGO\n",
              "FeL6LTI+DJVrB0genXSqt/zZMWVTeJX4QlIAAyUp/YN+muYXIsAVsQAAATBBmqtJqEFsmUwII//+\n",
              "tSqAAAADAABOfs3MvZsPw6rNbTnELrlfIOXcKmATS3z3UivU4eEdtmOS1kOAM2fIvNfr573W6wxc\n",
              "pWlFhvPdQde5O2T+oCUYMbGugGdjfw0jBQrxZ20C7CzbvRMNExH2cKY32HK5WCjD2mvg4GRcvLHg\n",
              "F7yJMAKbouLnVN7WH7qzn7aoDJp6fZVGvtUQccdfZjmr/ubeXDVPLTNHAMtifQOFHXatzeTyZt7h\n",
              "GZCVeBCsXE/sXhc+L14ypK7vg3LgNzTbEbfiRXYTqUafxft5E7xKPvcWIRoi4R88dO/jntMl6bst\n",
              "u5V+7/7fK6EngroQVYCaluDrHlI9ZqM8fN4kVyYNtsrJYQapEerkmp+Q8q9zq3liEiq+K3A9XNfX\n",
              "YXU3IRNAAAAA1kGeyUUVLDv/AAADAAADATByTbi5j7/co9nakdK2ItEA1AA/g+eIlUdi0cb1kAGy\n",
              "/ENiRvuc5j4KOMEZG0iN0uvMo3/3JND+tf2UqCR/lD9Dw5Dzu0MQfT3E6vrjD+4y0mUQGZtKeES6\n",
              "Bw7HoAnuzOTdq0oGkn7frNVRdCBpV9dWiXm33Sp8VRrpcC/0V1wGNSXWHthn0v2jC6LpLqgrnMM4\n",
              "cynIxt2XOZIUQod/FlJgdkBJE91HvZVgHC8fSp9ZekfhZ6Ao75zax1E6uLQiPWTMM8b/4EAAAACz\n",
              "AZ7odEN/AAADAAADAa/qqXyKXII90u5B+Ccf0ABt6ZbFDUK0VhCNJjPJVfx0IuvTnYNIhThU5QTk\n",
              "cq8Uelz54IUzEZ+HA8XrPE1Z/i2MRSICRYPPa0PhvNDIMu8vrgAVRyWG7bQyAhlYKUxnTXhot6xA\n",
              "C14yEOaGAym18PjW0c/rC0lGn3iuEwkEJjM8R4RTeiXPt1AAjWzroi4EpEgtFQOEthFWt9wO2RA1\n",
              "4l/r/M+IbUEAAAAnAZ7qakN/AAADAAADADtlD3rewZnu+iyX6RmMz7Y+AB/dko5DJHeAAAAARUGa\n",
              "70moQWyZTAgj//61KoAAAAMAAAMAAxUd75fy4Ar514+tMwSlThB+1O8A6D6/vATpKVSy3QRVxIpS\n",
              "87+LwyuEXicQYAAAACNBnw1FFSw7/wAAAwAAAwAqbhf5GSME4bngFcgAzQeiEKzF0wAAABYBnyx0\n",
              "Q38AAAMAAAMAO1p3bj+HuM0xAAAAGQGfLmpDfwAAAwAAAwA7ZQ9urNLsbTWBBcEAAABZQZszSahB\n",
              "bJlMCCP//rUqgAAAAwAAAwADFbP7QArJ9V/ffJ8Jtz8J7XNwxepRcrBZBN5ITnG4DC5bOQWi62VS\n",
              "OYPEXj6AqobbnTVLmANPfgVOuqPpMumSKYAAAAA9QZ9RRRUsO/8AAAMAAAMAKm4X+Rm8EdAB/SGJ\n",
              "V1fdS/0gG9qwS+iHzQit9lIinL6XR9VcWUwYQDRadyn2gAAAABoBn3B0Q38AAAMAAAMAO1p3brFH\n",
              "E9qAAUT7QQAAABkBn3JqQ38AAAMAAAMAO2UPbrEY2+kPn6egAAAAekGbd0moQWyZTAgj//61KoAA\n",
              "AAMAAAMAAymv0gA57vQtrt7yBCedVyRRIVrhUOAbzczMQl4PwqDSpZ8Z2odSwxsWEgVu2XC29QKT\n",
              "O/h8ZP++YDiqa6ym8TDqp+6zCy/bxTdN7JR9bDmh8XnzNqStvW1aV0QtNDfVfV+AAAAAMEGflUUV\n",
              "LDv/AAADAAADACpuF/kZwv007/oAJyyQDnzJkefd0SbB4WyAxXj9hNNT7QAAADYBn7R0Q38AAAMA\n",
              "AAMAO1p3b8U9687oAF1XJd1EqRuFPS/ynrRJkqBZRWtmE+XH6+OE2EsfafcAAAArAZ+2akN/AAAD\n",
              "AAADADtlD2/Ewa1XHkX+i4gANoAIIpuC5AcZ7ypa5WmqQQAAAHZBm7tJqEFsmUwII//+tSqAAAAD\n",
              "AAADAAMpSYLUArsO9/Jio7j8Tt9PWVOLlkraqDsv1Je4WWKbw7/xuf5mvHh1b3MKM5ncSV39atn8\n",
              "x1HiQFspmelGZlYmr1c9Q09TXrWccdfYvQcrsx8MIWTufs6XX6+oWfNxAAAAHEGf2UUVLDv/AAAD\n",
              "AAADACpuF/kZu8Z5Eb7ZIfwAAAAsAZ/4dEN/AAADAAADADtad26w9J4cgATrVay9yb0D2YH1/pVE\n",
              "nMXTf3A6msEAAAAmAZ/6akN/AAADAAADADtlD26tNqkAJn+VhWYNpzmK6IXVl5s7wgQAAABCQZv/\n",
              "SahBbJlMCCP//rUqgAAAAwAAAwADFQxzze6ADln03uObyoKuV7ssJW8nweJc2gvtCZhaEStnY91l\n",
              "nR50UfxxAAAALUGeHUUVLDv/AAADAAADACpuF/kZMv9ABDwkGIM7zVqL3/UoEGxXdQgKZ7gC4QAA\n",
              "ABgBnjx0Q38AAAMAAAMAO1p3bqyu1pdeFIAAAAAXAZ4+akN/AAADAAADADtlD26smVvawXAAAAAg\n",
              "QZojSahBbJlMCCP//rUqgAAAAwAAAwADFUk83rh9/HEAAAAnQZ5BRRUsO/8AAAMAAAMAKm4X+Rkj\n",
              "BOG4uR1cgBGNC9uCBw/HmLpAAAAALQGeYHRDfwAAAwAAAwA7WndurTapACaBIK2u9nIqZcOpvvHB\n",
              "d4SFN1GqdouVwQAAAC4BnmJqQ38AAAMAAAMAO2UPbqpyPgNoAE5dhNsuAaHLQ4ZOZOQ2dIkSHKDB\n",
              "ZMC4AAAAL0GaZ0moQWyZTAgj//61KoAAAAMAAAMAAxU0kSU0AwAbkflyBIbqe4uJhbSfoLElAAAA\n",
              "GUGehUUVLDv/AAADAAADACpuF/kZG9GRHCkAAAAfAZ6kdEN/AAADAAADADtad26sjsf3MFDABm5s\n",
              "wARi6QAAABgBnqZqQ38AAAMAAAMAO2UPbqzS7VUWC4EAAAAbQZqrSahBbJlMCCP//rUqgAAAAwAA\n",
              "AwAAAwLOAAAAOUGeyUUVLDv/AAADAAADACpuF/kZMrLgBCQqwxvUtMlZEf/b+LbNsmTclsY112e+\n",
              "j6dz5WO3dnJywAAAACIBnuh0Q38AAAMAAAMAO1p3bqzHa9jSWS05AAf252EZeECBAAAAIgGe6mpD\n",
              "fwAAAwAAAwA7ZQ9urJl1uXk6mREAB/bnYRl4QIAAAABSQZrvSahBbJlMCCP//rUqgAAAAwAAAwAD\n",
              "FTaHMAXv6vfdsLCznn2P2r2htrX+VO6XAQyaMrk5DaYYNnqN0JebAj/IQae9BuVptqmtAAtskw6T\n",
              "/wAAACRBnw1FFSw7/wAAAwAAAwAqbhf5GSMGnQ+LXJr6AC1B/NvV4QMAAAAnAZ8sdEN/AAADAAAD\n",
              "ADtad26srtr0eaiwAEKQCVoSOAEQuDOxVU5ZAAAAGQGfLmpDfwAAAwAAAwA7ZQ9urJl1uZ6lOWEA\n",
              "AAAoQZszSahBbJlMCCP//rUqgAAAAwAAAwADFTSRjx6ba4ALIzomQyn5BgAAADZBn1FFFSw7/wAA\n",
              "AwAAAwAqbhf5GM9/66OACaBL+2HjZ1W7waZ0J2elProKDCyyBf1571g+908AAAAZAZ9wdEN/AAAD\n",
              "AAADADtad26srtr0iSO2gQAAABcBn3JqQ38AAAMAAAMAO2UPbqyZW9rBcAAAAFRBm3dJqEFsmUwI\n",
              "I//+tSqAAAADAAADAAMVEYFw/bHQAdFJYuGH/fsxoturQITgxhkmg0o+/5ggqi2gapHIEl8y3KYO\n",
              "XlHjK444Y09iy6+li3q5xBgAAAAtQZ+VRRUsO/8AAAMAAAMAKm4X+Rkg370AE6CX5X2T1DPcFX5g\n",
              "FTu8o+Hmt5XBAAAAGAGftHRDfwAAAwAAAwA7WndvxT29rYB7+AAAACEBn7ZqQ38AAAMAAAMAO2UP\n",
              "b8TBjPGLiQhoAEJyo1XFL2EAAAAbQZu7SahBbJlMCCP//rUqgAAAAwAAAwAAAwLPAAAAL0Gf2UUV\n",
              "LDv/AAADAAADACpuF/kYz4BHUOAC22vt4i1Z1J2MjOVJdMIwHaNofIUgAAAALQGf+HRDfwAAAwAA\n",
              "AwA7WnduqpQBUgBNAgEH91V3H8oQ6UJpoHTvww8dCkfhSQAAABcBn/pqQ38AAAMAAAMAO2UPbqyZ\n",
              "W9rBcAAAAEBBm/9JqEFsmUwII//+tSqAAAADAAADAAMVDIsfjoAK1Tb1U6q4D/ZeF77UOchwp8w/\n",
              "vLhY/XcAiZl/7H0xK/jhAAAAJ0GeHUUVLDv/AAADAAADACpuF/kZIMKrdl/0oAS2snxmpKYo3kGw\n",
              "LwAAABcBnjx0Q38AAAMAAAMAO1p3bqzHXCFguAAAABcBnj5qQ38AAAMAAAMAO2UPbqy89Ax4UgAA\n",
              "AHBBmiNJqEFsmUwII//+tSqAAAADAAADAAMZMW/MAR1DCn2GsuwArmiPeFGa5cMcOaRidolu/HnJ\n",
              "20cdIypDG1i+Gv7dtyQiEu6KiZRQ2pdzqC2mstS+QqxEJ3Vc9gS7UWkNOyyjvySC53XjGvMRRJ/5\n",
              "AAAAHEGeQUUVLDv/AAADAAADACpuF/kZHr/THEUxCBAAAAAXAZ5gdEN/AAADAAADADtad26sx1wh\n",
              "YLkAAAArAZ5iakN/AAADAAADADtlD26qb9c5wCQAfo1XHZ1yTYjn1VPggRyWQXhAgAAAAEtBmmdJ\n",
              "qEFsmUwII//+tSqAAAADAAADAAMVEHWskwgCvsbHTralj7AVbN2+YnoGpFlaAhGt4mHBxCRKSpOZ\n",
              "GDi75782ua8vEaok/8EAAAAvQZ6FRRUsO/8AAAMAAAMAKm4X+Rky/0AFy8KU1ST9pWsvkJenkdQU\n",
              "pkQxeSc7p4EAAAAkAZ6kdEN/AAADAAADADtad26sjuJevoiVZMsoAPg6fhC85OWBAAAAGAGepmpD\n",
              "fwAAAwAAAwA7ZQ9urJlYafgcrwAAADpBmqtJqEFsmUwII//+tSqAAAADAAADAAMVtDBgBXz6o3hR\n",
              "3OIx8Bkbf9ZwUlqk0C7IJ9FxZHf/738cAAAAJEGeyUUVLDv/AAADAAADACpuF/kZIMKrdmBCwASg\n",
              "kRrucdbeVwAAABgBnuh0Q38AAAMAAAMAO1p3bqzHWHsNOukAAAAsAZ7qakN/AAADAAADADtlD26q\n",
              "cj4DaABOXYTl15vOWaB5NLo/PN/HPElJl0gAAABRQZrvSahBbJlMCCP//rUqgAAAAwAAAwADFRJH\n",
              "NXGcIAsFwpr7RzvO/TSg41jNbddyJLHIdE7fRU8Ta6Ef4szWJjGDo/fR7wufuv4pMNcrd/HAAAAA\n",
              "GkGfDUUVLDv/AAADAAADACpuF/kZIwWYTV0hAAAAKAGfLHRDfwAAAwAAAwA7WndurTapACaA+MLz\n",
              "Y/51J3rO3lQ7NbuYukEAAAAqAZ8uakN/AAADAAADADtlD26qckS7wkAH7Ce9XVaN/UiNMS2mZqHa\n",
              "aQpBAAAARkGbM0moQWyZTAgj//61KoAAAAMAAAMAAxU2nLgCvnXj65ZJnxH4raa8WBUJr+82YfDJ\n",
              "2K1xw63ungAWyglgPP5kGAwLEkAAAABBQZ9RRRUsO/8AAAMAAAMAKm4X+RkjPRcAN0QXwGl3n9aQ\n",
              "nozSsbr5cCA53oXAWEtf4bYzXDKiuhShxhvEJfJIEukAAAAlAZ9wdEN/AAADAAADADtad2/FPcOe\n",
              "EAE5dbvMckoQz3Ge8R94qwAAABgBn3JqQ38AAAMAAAMAO2UPb8TBbvYVnv4AAABsQZt3SahBbJlM\n",
              "CCP//rUqgAAAAwAAAwADKa/SAFBvTJnd4DGBag4ut68po0G7Urc73LphPSeRtTMphCj+y4Emwwur\n",
              "kNnLTif7U5ZKpC0QS74FqqYzhSH4/IhTTTHS0kSPKjWALXC9SmLs6J83AAAAN0GflUUVLDv/AAAD\n",
              "AAADACpuF/kZwwO29ABD5TPZtZWkWZWIdXUicvFitQztteNiRi08ph0tTWEAAAAfAZ+0dEN/AAAD\n",
              "AAADADtad26sx1yHfIABAfdrhiOIKQAAADgBn7ZqQ38AAAMAAAMAO2UPbrFS0Ru+jWAAnQJyy03C\n",
              "tk7zU0cuDRs7IZxIEfH4fhrBD10UKq59oQAAAFxBm7tJqEFsmUwII//+tSqAAAADAAADAAMpNGIi\n",
              "SAB0S4jOLrQGb04UXWUID1tmkHbv2Sr2jf3S8UCZg111Z5VXje6TLsBfNGNT5NqZiO5L/5KODdeT\n",
              "7S0MfTifNwAAAC9Bn9lFFSw7/wAAAwAAAwAqbhf5GbvA91S0ALV0VvG7ycGVw8HYi5DOFnF9xNbh\n",
              "/AAAACcBn/h0Q38AAAMAAAMAO1p3b8U963zgps8FgBCBQFMQOzF3pU2OTVMAAAAsAZ/6akN/AAAD\n",
              "AAADADtlD2/EwSx4Hv0ACcwG2186PjIVtc1RsDrxtqLcGuUAAAA8QZv/SahBbJlMCCP//rUqgAAA\n",
              "AwAAAwABMP+V8ABa8mFAxCNdOsPir5OICIvjLjLGAPigBBA5Lg3OOIfBAAAAGkGeHUUVLDv/AAAD\n",
              "AAADACpuF/kJrXO3ntUhAAAANQGePHRDfwAAAwAAAwA7WndurTapACaBHAvqc1bJpdbD8owtIr/1\n",
              "/j9U/asJ3a2bUUs7LU5YAAAAMwGePmpDfwAAAwAAAwA7ZQ9urTapACaBHAvqc1bJp2P2labWnf/n\n",
              "dKbzKU0JjwUs7LU5YAAAAGJBmiNJqEFsmUwII//+tSqAAAADAAADAAMpr9IAbhGsXDI4ixNag4sm\n",
              "WYJl/p+7Urc7b1XlpndPFMRU6x2y1mq21UROxnVwtMZJ1F0T9BS86ginx5lIPU0umriDBCCcHfnz\n",
              "cQAAAChBnkFFFSw7/wAAAwAAAwAqbhf5GcLwZOkjR/fWAEICsKjbRzrooaVQAAAANAGeYHRDfwAA\n",
              "AwAAAwA7WndusaA8AH9IGJU6hTm/NksAzMKcmJfhF5e8KFJZGvmqwT5gp9sAAAA3AZ5iakN/AAAD\n",
              "AAADADtlD26xoDwAf0dfMWOZEKvTdZPO3IQnUvwjV46VoXj4YzADEXZn/pSn2gAAACNBmmdJqEFs\n",
              "mUwII//+tSqAAAADAAADAAMpSS48TLL/Zv3IMQAAAFJBnoVFFSw7/wAAAwAAAwAqbhf5GcDKgABx\n",
              "vhD3PlanuGJG/aR3X3PSrmN/3ToA0lSI/EjEtqESf90NvTMZd8QoPcE+hc5IDEjx1M07y/T4YYfx\n",
              "AAAAKgGepHRDfwAAAwAAAwA7WndurvqGB2f8Crp5oAEBURvT5s5nNhOnu56H8QAAADIBnqZqQ38A\n",
              "AAMAAAMAO2UPbrFDKVgA/g7T6r675+Uo2Vk4MfitAuSGJK+E+10rsi6A/wAAAGZBmqtJqEFsmUwI\n",
              "I//+tSqAAAADAAADAAMVs/tADkxVX98vxx0Ea0yIMo39CjzHWz6GtD7npSg7/dborDiIocbwf0Ev\n",
              "I3IiKUzOVjyXII/1IN9GAXpSfkIWZmacTZuiLHQotB4es1gAAAAjQZ7JRRUsO/8AAAMAAAMAKm4X\n",
              "+RkjBp0aV1ABn/H00qseTlgAAAAZAZ7odEN/AAADAAADADtad26srtr0iSO2gQAAABsBnupqQ38A\n",
              "AAMAAAMAO2UPbqy8/cuAji/WnLAAAABGQZrvSahBbJlMCCP//rUqgAAAAwAAAwADFbP7QA5MVV/e\n",
              "e3LVLJ6tf1L2Le3jU05lBHfriaXB1iYvT/HiMnbzbhHIcRJ/4AAAAD9Bnw1FFSw7/wAAAwAAAwAq\n",
              "bhf5Gc9dABO3w0rfuHkCedqkdvBWEwptDrXShkvEKCpCOBzGRaUFvAwbcAyIbT0AAAAtAZ8sdEN/\n",
              "AAADAAADADtad26xRvO/noAE5brjuzDPxPEIhZ92zU0WxHZa6A/hAAAALwGfLmpDfwAAAwAAAwA7\n",
              "ZQ9usRibeesABOiu2YFNjnKJ5TwBwLgPCM+8ns+u901hAAAAM0GbM0moQWyZTAgj//61KoAAAAMA\n",
              "AAMAASj4e3YoAEDmo9Wibopr/g57MBnYPLquAx75gAAAACFBn1FFFSw7/wAAAwAAAwAqbhf5CVz9\n",
              "Z8q8AFZ5IJ+PscAAAAAWAZ9wdEN/AAADAAADADtad24/f0b2OQAAABYBn3JqQ38AAAMAAAMAO2UP\n",
              "bj+MFe0UAAAAUkGbd0moQWyZTAgj//61KoAAAAMAAAMAAxUMf7LBTnQAWC0oz80TIGECROboAHL1\n",
              "5xTh4vmyTb/jjWfnkw7Wk1SSaWo4gqrHkMTvODv78YhOIMAAAAAuQZ+VRRUsO/8AAAMAAAMAKm4X\n",
              "+RjPefjegA4gOkvWdAh6Avmx3xz069uLqpLyuQAAACoBn7R0Q38AAAMAAAMAO1p3bq02qQAmgOl9\n",
              "Y85sj7AaWG6HyZZFvYOUC4AAAAAjAZ+2akN/AAADAAADADtlD26qb9e76paOhvhoAELO4gs+kKUA\n",
              "AABJQZu7SahBbJlMCCP//rUqgAAAAwAAAwADFTaHMAR0jeO8faCguDMlkQ0xcMgVYVuCMCE9TIF6\n",
              "p3c05avwJkn+E37SimLDUHWJIQAAACJBn9lFFSw7/wAAAwAAAwAqbhf5GRvRKn8tcgAzXKg/kmLp\n",
              "AAAAKgGf+HRDfwAAAwAAAwA7WnduqnlKPKJAB/B71c3QsuirerwvflpV/v0uVwAAABsBn/pqQ38A\n",
              "AAMAAAMAO2UPbqpyf+hyjLRunK4AAAAgQZv/SahBbJlMCCP//rUqgAAAAwAAAwADFUk83rh9/HEA\n",
              "AAAjQZ4dRRUsO/8AAAMAAAMAKm4X+RkjBZq9cgA+tHwQq71OBcEAAAAwAZ48dEN/AAADAAADADta\n",
              "d26saJ+9AAnQPghrNq+oz517+E2oH2M/VbaDkxGikfCkAAAAFwGePmpDfwAAAwAAAwA7ZQ9urLz0\n",
              "qiwXAAAARUGaI0moQWyZTAgj//61KoAAAAMAAAMAAxU2hzADiRVXM73yH2ysqubTO+v0Bkrcl7bJ\n",
              "Hjblc7Rzyd0A4Vp6gtrY9wdYkwAAACVBnkFFFSw7/wAAAwAAAwAqbhf5GRvRKp+qYgAbP3W6hID+\n",
              "eagXAAAAFwGeYHRDfwAAAwAAAwA7WndurMdcIWC5AAAAFgGeYmpDfwAAAwAAAwA7ZQ9uP3gvaKAA\n",
              "AABFQZpnSahBbJlMCCP//rUqgAAAAwAAAwADFRJJhTmaADdEJGZPLNZbeiF3XlFy1QY+r8QuEWho\n",
              "hWc2HXfS0g5AqoYQysSRAAAAOUGehUUVLDv/AAADAAADACpuF/kYzzEFJkUAAcSodEn0vQ8Xa0Uq\n",
              "+knprvvr/JYYwQbJWAH7j28C4QAAABcBnqR0Q38AAAMAAAMAO1p3bqyO0565XQAAACEBnqZqQ38A\n",
              "AAMAAAMAO2UPbqzS7GikQDQAH91c4vo3lcEAAABWQZqrSahBbJlMCCP//rUqgAAAAwAAAwADFUnf\n",
              "aADdAtVz2HJkprvEhVzape0gHKbK8nfAYhyAKoVHBUor/SsdUKhd948hw+g2ST2LwrCvkXFRM+dJ\n",
              "/4AAAAAcQZ7JRRUsO/8AAAMAAAMAKm4X+Rkev9McRTEIEAAAACcBnuh0Q38AAAMAAAMAO1p3bq02\n",
              "qQAmgKQ31x9Er0SL0j534d0SQpEAAAAoAZ7qakN/AAADAAADADtlD26smXX0hYACIJmikmGfYFRh\n",
              "3W8GD5VOWAAAADpBmu9JqEFsmUwIIf/+qlUAAAMAAAMAAAYrByAAA4h28FkdeZuH6enizbCcIU6h\n",
              "6+l+qwFx5ergEHNwAAAAHUGfDUUVLDv/AAADAAADACpuF/lBa6tXADLmh65RAAAALgGfLHRDfwAA\n",
              "AwAAAwA7WnduqncH3fLp01DD2zACBqq33y+FfkEqsjEHKnGPunkAAAAxAZ8uakN/AAADAAADADtl\n",
              "D2/FIKJcg+gAToIEcvwf5ahQ1p/JAn2U9I/EB0sZ6VEfbQAAAC9BmzNJqEFsmUwIf//+qZYAAAMA\n",
              "AAMAAAkEt67VQAarCnuDhbhb9jltHEySi1avFgAAABtBn1FFFSw7/wAAAwAAAwAqbhf5QWVWah/i\n",
              "EsAAAAAuAZ9wdEN/AAADAAADADtad2/EoinTjM97AATo6e1rhhJQnSo54re1tTLmYy7PbQAAAC4B\n",
              "n3JqQ38AAAMAAAMAO2UPb8Ugre8IAJ0DrORhZn73YwR8Ymcp58LvJHwg0fbQAAAANUGbdUmoQWyZ\n",
              "TBRMN//+p4QAAAMAAAMAAC+muaAnskAJodPa1wwk8bjSQWRW9ramXMxl9yu6AAAAJQGflGpDfwAA\n",
              "AwAAAwA7alUL8Ve6ZVRNjyQBb85AAhwCSIEYKsEAAAo0bW9vdgAAAGxtdmhkAAAAAAAAAAAAAAAA\n",
              "AAAD6AAAOpgAAQAAAQAAAAAAAAAAAAAAAAEAAAAAAAAAAAAAAAAAAAABAAAAAAAAAAAAAAAAAABA\n",
              "AAAAAAAAAAAAAAAAAAAAAAAAAAAAAAAAAAAAAAAAAgAACV50cmFrAAAAXHRraGQAAAADAAAAAAAA\n",
              "AAAAAAABAAAAAAAAOpgAAAAAAAAAAAAAAAAAAAAAAAEAAAAAAAAAAAAAAAAAAAABAAAAAAAAAAAA\n",
              "AAAAAABAAAAAAlgAAAJYAAAAAAAkZWR0cwAAABxlbHN0AAAAAAAAAAEAADqYAAAIAAABAAAAAAjW\n",
              "bWRpYQAAACBtZGhkAAAAAAAAAAAAAAAAAAAoAAACWABVxAAAAAAALWhkbHIAAAAAAAAAAHZpZGUA\n",
              "AAAAAAAAAAAAAABWaWRlb0hhbmRsZXIAAAAIgW1pbmYAAAAUdm1oZAAAAAEAAAAAAAAAAAAAACRk\n",
              "aW5mAAAAHGRyZWYAAAAAAAAAAQAAAAx1cmwgAAAAAQAACEFzdGJsAAAAuXN0c2QAAAAAAAAAAQAA\n",
              "AKlhdmMxAAAAAAAAAAEAAAAAAAAAAAAAAAAAAAAAAlgCWABIAAAASAAAAAAAAAABAAAAAAAAAAAA\n",
              "AAAAAAAAAAAAAAAAAAAAAAAAAAAAAAAAGP//AAAAN2F2Y0MBZAAW/+EAGmdkABas2UCYE3llhAAA\n",
              "AwAEAAADAFA8WLZYAQAGaOvjyyLA/fj4AAAAABx1dWlka2hA8l8kT8W6OaUbzwMj8wAAAAAAAAAY\n",
              "c3R0cwAAAAAAAAABAAAAlgAABAAAAAAUc3RzcwAAAAAAAAABAAAAAQAABLhjdHRzAAAAAAAAAJUA\n",
              "AAABAAAIAAAAAAEAABQAAAAAAQAACAAAAAABAAAAAAAAAAEAAAQAAAAAAQAAEAAAAAACAAAEAAAA\n",
              "AAEAABQAAAAAAQAACAAAAAABAAAAAAAAAAEAAAQAAAAAAQAAFAAAAAABAAAIAAAAAAEAAAAAAAAA\n",
              "AQAABAAAAAABAAAUAAAAAAEAAAgAAAAAAQAAAAAAAAABAAAEAAAAAAEAABQAAAAAAQAACAAAAAAB\n",
              "AAAAAAAAAAEAAAQAAAAAAQAAFAAAAAABAAAIAAAAAAEAAAAAAAAAAQAABAAAAAABAAAUAAAAAAEA\n",
              "AAgAAAAAAQAAAAAAAAABAAAEAAAAAAEAABQAAAAAAQAACAAAAAABAAAAAAAAAAEAAAQAAAAAAQAA\n",
              "FAAAAAABAAAIAAAAAAEAAAAAAAAAAQAABAAAAAABAAAUAAAAAAEAAAgAAAAAAQAAAAAAAAABAAAE\n",
              "AAAAAAEAABQAAAAAAQAACAAAAAABAAAAAAAAAAEAAAQAAAAAAQAAFAAAAAABAAAIAAAAAAEAAAAA\n",
              "AAAAAQAABAAAAAABAAAUAAAAAAEAAAgAAAAAAQAAAAAAAAABAAAEAAAAAAEAABQAAAAAAQAACAAA\n",
              "AAABAAAAAAAAAAEAAAQAAAAAAQAAFAAAAAABAAAIAAAAAAEAAAAAAAAAAQAABAAAAAABAAAUAAAA\n",
              "AAEAAAgAAAAAAQAAAAAAAAABAAAEAAAAAAEAABQAAAAAAQAACAAAAAABAAAAAAAAAAEAAAQAAAAA\n",
              "AQAAFAAAAAABAAAIAAAAAAEAAAAAAAAAAQAABAAAAAABAAAUAAAAAAEAAAgAAAAAAQAAAAAAAAAB\n",
              "AAAEAAAAAAEAABQAAAAAAQAACAAAAAABAAAAAAAAAAEAAAQAAAAAAQAAFAAAAAABAAAIAAAAAAEA\n",
              "AAAAAAAAAQAABAAAAAABAAAUAAAAAAEAAAgAAAAAAQAAAAAAAAABAAAEAAAAAAEAABQAAAAAAQAA\n",
              "CAAAAAABAAAAAAAAAAEAAAQAAAAAAQAAFAAAAAABAAAIAAAAAAEAAAAAAAAAAQAABAAAAAABAAAU\n",
              "AAAAAAEAAAgAAAAAAQAAAAAAAAABAAAEAAAAAAEAABQAAAAAAQAACAAAAAABAAAAAAAAAAEAAAQA\n",
              "AAAAAQAAFAAAAAABAAAIAAAAAAEAAAAAAAAAAQAABAAAAAABAAAUAAAAAAEAAAgAAAAAAQAAAAAA\n",
              "AAABAAAEAAAAAAEAABQAAAAAAQAACAAAAAABAAAAAAAAAAEAAAQAAAAAAQAAFAAAAAABAAAIAAAA\n",
              "AAEAAAAAAAAAAQAABAAAAAABAAAUAAAAAAEAAAgAAAAAAQAAAAAAAAABAAAEAAAAAAEAABQAAAAA\n",
              "AQAACAAAAAABAAAAAAAAAAEAAAQAAAAAAQAAFAAAAAABAAAIAAAAAAEAAAAAAAAAAQAABAAAAAAB\n",
              "AAAUAAAAAAEAAAgAAAAAAQAAAAAAAAABAAAEAAAAAAEAABQAAAAAAQAACAAAAAABAAAAAAAAAAEA\n",
              "AAQAAAAAAQAAFAAAAAABAAAIAAAAAAEAAAAAAAAAAQAABAAAAAABAAAMAAAAAAEAAAQAAAAAHHN0\n",
              "c2MAAAAAAAAAAQAAAAEAAACWAAAAAQAAAmxzdHN6AAAAAAAAAAAAAACWAAAHxQAAANcAAABVAAAA\n",
              "IAAAAL4AAADZAAAAtwAAANgAAAE0AAAA2gAAALcAAAArAAAASQAAACcAAAAaAAAAHQAAAF0AAABB\n",
              "AAAAHgAAAB0AAAB+AAAANAAAADoAAAAvAAAAegAAACAAAAAwAAAAKgAAAEYAAAAxAAAAHAAAABsA\n",
              "AAAkAAAAKwAAADEAAAAyAAAAMwAAAB0AAAAjAAAAHAAAAB8AAAA9AAAAJgAAACYAAABWAAAAKAAA\n",
              "ACsAAAAdAAAALAAAADoAAAAdAAAAGwAAAFgAAAAxAAAAHAAAACUAAAAfAAAAMwAAADEAAAAbAAAA\n",
              "RAAAACsAAAAbAAAAGwAAAHQAAAAgAAAAGwAAAC8AAABPAAAAMwAAACgAAAAcAAAAPgAAACgAAAAc\n",
              "AAAAMAAAAFUAAAAeAAAALAAAAC4AAABKAAAARQAAACkAAAAcAAAAcAAAADsAAAAjAAAAPAAAAGAA\n",
              "AAAzAAAAKwAAADAAAABAAAAAHgAAADkAAAA3AAAAZgAAACwAAAA4AAAAOwAAACcAAABWAAAALgAA\n",
              "ADYAAABqAAAAJwAAAB0AAAAfAAAASgAAAEMAAAAxAAAAMwAAADcAAAAlAAAAGgAAABoAAABWAAAA\n",
              "MgAAAC4AAAAnAAAATQAAACYAAAAuAAAAHwAAACQAAAAnAAAANAAAABsAAABJAAAAKQAAABsAAAAa\n",
              "AAAASQAAAD0AAAAbAAAAJQAAAFoAAAAgAAAAKwAAACwAAAA+AAAAIQAAADIAAAA1AAAAMwAAAB8A\n",
              "AAAyAAAAMgAAADkAAAApAAAAFHN0Y28AAAAAAAAAAQAAADAAAABidWR0YQAAAFptZXRhAAAAAAAA\n",
              "ACFoZGxyAAAAAAAAAABtZGlyYXBwbAAAAAAAAAAAAAAAAC1pbHN0AAAAJal0b28AAAAdZGF0YQAA\n",
              "AAEAAAAATGF2ZjU4Ljc2LjEwMA==\n",
              "\">\n",
              "  Your browser does not support the video tag.\n",
              "</video>"
            ],
            "text/plain": [
              "<IPython.core.display.HTML object>"
            ]
          },
          "execution_count": 12,
          "metadata": {},
          "output_type": "execute_result"
        },
        {
          "data": {
            "image/png": "[encoded data removed]",
            "text/plain": [
              "<Figure size 600x600 with 1 Axes>"
            ]
          },
          "metadata": {},
          "output_type": "display_data"
        }
      ],
      "source": [
        "# Create environment with obstacles in state\n",
        "\n",
        "env = PointParticleEnv()\n",
        "import numpy as np\n",
        "import matplotlib.pyplot as plt\n",
        "from matplotlib import animation\n",
        "from IPython.display import HTML\n",
        "\n",
        "def run_random_agent_animation(env, steps=500):\n",
        "    frames = []\n",
        "    state = env.reset()\n",
        "    for _ in range(steps):\n",
        "        # Sample a random action from the continuous action space\n",
        "        action = env.action_space.sample()\n",
        "        state, reward, done,_,info = env.step(action)\n",
        "        frame = env.render(mode='rgb_array')\n",
        "        frames.append(frame)\n",
        "        if done:\n",
        "            break\n",
        "    return frames\n",
        "\n",
        "# Create environment instance (with obstacles and continuous actions)\n",
        "env = PointParticleEnv(obs=True)\n",
        "\n",
        "# Run the agent for 50 random steps and collect frames\n",
        "frames = run_random_agent_animation(env, steps=150)\n",
        "\n",
        "# Create animation using matplotlib\n",
        "fig, ax = plt.subplots(figsize=(6, 6))\n",
        "ax.axis('off')\n",
        "im = ax.imshow(frames[0])\n",
        "\n",
        "def update(frame):\n",
        "    im.set_data(frame)\n",
        "    return [im]\n",
        "\n",
        "anim = animation.FuncAnimation(fig, update, frames=frames, interval=100, blit=True)\n",
        "\n",
        "# Display animation as HTML video (for Jupyter notebooks)\n",
        "HTML(anim.to_html5_video())\n",
        "\n"
      ]
    },
    {
      "cell_type": "code",
      "execution_count": 18,
      "metadata": {
        "id": "ujBgisU_UWuE"
      },
      "outputs": [],
      "source": [
        "import os\n",
        "import wandb\n",
        "import csv\n",
        "# import gym\n",
        "import json\n",
        "import torch\n",
        "import numpy as np\n",
        "from tqdm import tqdm\n",
        "from src.utils import *\n",
        "from src.memory import *\n",
        "from src.agents import *\n",
        "from datetime import datetime\n",
        "\n",
        "os.environ['WANDB_API_KEY'] = ''\n",
        "class Trainer:\n",
        "\n",
        "    def __init__(self, config_file, enable_logging=True):\n",
        "        self.enable_logging = enable_logging\n",
        "        self.config = Trainer.parse_config(config_file)\n",
        "        self.env =  gym.make(self.config['env_name'])\n",
        "        self.env = apply_seed(self.env,self.config['seed'])\n",
        "        self.state_dimension = self.env.observation_space.shape[0]\n",
        "        print(\"state\",self.state_dimension)\n",
        "        self.action_dimension = self.env.action_space.shape[0]\n",
        "        print(\"action\",self.action_dimension)\n",
        "        self.max_action = float(self.env.action_space.high[0])\n",
        "        self.device = torch.device('cuda:0' if torch.cuda.is_available() else 'cpu')\n",
        "        self.agent = DDPGAgent(\n",
        "            state_dim=self.state_dimension, action_dim=self.action_dimension,\n",
        "            max_action=self.max_action, device=self.device,\n",
        "            discount=self.config['discount'], tau=self.config['tau']\n",
        "        )\n",
        "        self.save_file_name = f\"DDPG_{self.config['env_name']}_{self.config['seed']}\"\n",
        "        self.memory = ReplayBuffer()\n",
        "        if self.enable_logging:\n",
        "            wandb.init(project=\"ddpg\", config=self.config)\n",
        "        try:\n",
        "            os.mkdir('./pretrained_models')\n",
        "        except Exception as e:\n",
        "            pass\n",
        "\n",
        "\n",
        "\n",
        "        # CSV logging setup\n",
        "\n",
        "        # 1) Build a timestamped run directory\n",
        "        run_id = datetime.now().strftime(\"%Y_%m%_d_%H%M%S\")\n",
        "        self.log_dir = os.path.join(os.getcwd(), f\"logs_{run_id}\")\n",
        "        os.makedirs(self.log_dir, exist_ok=True)\n",
        "\n",
        "        # 2) Open your CSVs inside that folder\n",
        "        csv1_path = os.path.join(self.log_dir, \"csv1.csv\")\n",
        "        csv2_path = os.path.join(self.log_dir, \"csv2.csv\")\n",
        "        # Use buffering=1 (line‐buffered) so each writer.writerow() flushes automatically\n",
        "        self.csv1_file = open(csv1_path, 'w', newline='', buffering=1)\n",
        "        self.csv2_file = open(csv2_path, 'w', newline='', buffering=1)\n",
        "\n",
        "        # self.csv1_file = open('csv1.csv', 'w', newline='')\n",
        "        # self.csv2_file = open('csv2.csv', 'w', newline='')\n",
        "        self.csv1_writer = csv.writer(self.csv1_file)\n",
        "        self.csv2_writer = csv.writer(self.csv2_file)\n",
        "        # write headers\n",
        "        self.csv1_writer.writerow(['episode', 'episode_reward', 'goal_reached', 'reason', 'max_steps'])\n",
        "        self.csv2_writer.writerow(['episode', 'step', 'observation', 'reward'])\n",
        "\n",
        "        # if self.enable_logging:\n",
        "        #     wandb.init(project=\"ddpg\", config=self.config)\n",
        "        try:\n",
        "            os.mkdir('./pretrained_models')\n",
        "        except Exception:\n",
        "            pass\n",
        "\n",
        "\n",
        "\n",
        "\n",
        "    @staticmethod\n",
        "    def parse_config(json_file):\n",
        "        with open(json_file, 'r') as f:\n",
        "            configs = json.load(f)\n",
        "        return configs\n",
        "    def train(self):\n",
        "        num_episodes = 500\n",
        "        max_episode_steps = int(self.config.get('max_episode_steps', self.env._max_episode_steps))\n",
        "\n",
        "        ts = 0  # global time-step counter\n",
        "        episode_rewards = []\n",
        "        evaluations = []\n",
        "\n",
        "        for ep in tqdm(range(1, num_episodes + 1)):\n",
        "            print(\"episode number is: \", ep)\n",
        "            state, info = self.env.reset()\n",
        "            episode_reward, episode_timesteps = 0, 0\n",
        "            done = False\n",
        "\n",
        "            # run one episode\n",
        "            while not done and episode_timesteps < max_episode_steps:\n",
        "                episode_timesteps += 1\n",
        "                ts += 1\n",
        "\n",
        "                # select action\n",
        "                if ts < self.config['start_time_step']:\n",
        "                    action = self.env.action_space.sample()\n",
        "                else:\n",
        "                    action = (\n",
        "                        self.agent.select_action(np.array(state))\n",
        "                        + np.random.normal(0, self.max_action * self.config['expl_noise'], size=self.action_dimension)\n",
        "                    ).clip(-self.max_action, self.max_action)\n",
        "\n",
        "                # step the env\n",
        "                next_state, reward, done, trunc, info = self.env.step(action)\n",
        "\n",
        "                # log step-level data\n",
        "                self.csv2_writer.writerow([ep, episode_timesteps, json.dumps(next_state.tolist()), reward])\n",
        "\n",
        "                # push into replay, using 0-mask if time limit reached\n",
        "                time_limit_reached = (episode_timesteps >= max_episode_steps)\n",
        "                mask = float(done) if not time_limit_reached else 0.0\n",
        "                self.memory.push(state, action, reward, next_state, mask)\n",
        "\n",
        "                state = next_state\n",
        "                episode_reward += reward\n",
        "\n",
        "                # train after warm-up\n",
        "                if ts >= self.config['start_time_step']:\n",
        "                    self.agent.train(self.memory, self.config['batch_size'])\n",
        "\n",
        "            # end of episode: summary logging\n",
        "            # wandb.log({'Episode': ep,\n",
        "            #           'Episode Reward': episode_reward,\n",
        "            #           'Episode Length': episode_timesteps,\n",
        "            #           'Global Step': ts})\n",
        "            if done and not time_limit_reached:\n",
        "                goal_reached = 1\n",
        "                reason = 'goal reached'\n",
        "            else:\n",
        "                goal_reached = 0\n",
        "                reason = 'max step reached'\n",
        "            self.csv1_writer.writerow([ep, episode_reward, goal_reached, reason, episode_timesteps])\n",
        "\n",
        "            episode_rewards.append(episode_reward)\n",
        "\n",
        "            # every 10 episodes, evaluate + checkpoint\n",
        "            if ep % 10 == 0:\n",
        "                eval_score = evaluate_policy(\n",
        "                    self.agent,\n",
        "                    self.config['env_name'],\n",
        "                    self.config['seed'],\n",
        "                    enable_logging=False,\n",
        "                    wandb=None\n",
        "                )\n",
        "                evaluations.append(eval_score)\n",
        "                self.agent.save_checkpoint(f\"./pretrained_models/{self.save_file_name}\")\n",
        "\n",
        "        # wandb.finish()\n",
        "        # close CSV files\n",
        "        self.csv1_file.close()\n",
        "        self.csv2_file.close()\n",
        "        return episode_rewards, evaluations\n",
        "\n",
        "\n",
        "\n",
        "    def evaluate(self):\n",
        "        self.agent.load_checkpoint(f\"./pretrained_models/DDPG_{self.config['env_name']}_{self.config['seed']}\")\n",
        "        evaluate_policy(self.agent, self.config['env_name'], self.config['seed'],render=True)"
      ]
    },
    {
      "cell_type": "code",
      "execution_count": 19,
      "metadata": {
        "colab": {
          "base_uri": "https://localhost:8080/",
          "height": 1000
        },
        "id": "TgpYB1mYVzyT",
        "outputId": "3f74ebc0-d350-4d04-ced7-41f44d604be0"
      },
      "outputs": [
        {
          "name": "stdout",
          "output_type": "stream",
          "text": [
            "state 3\n",
            "action 1\n"
          ]
        },
        {
          "name": "stderr",
          "output_type": "stream",
          "text": [
            "/usr/local/lib/python3.11/dist-packages/gym/envs/registration.py:498: UserWarning: \u001b[33mWARN: Overriding environment PointParticle-v0 already in registry.\u001b[0m\n",
            "  logger.warn(f\"Overriding environment {new_spec.id} already in registry.\")\n"
          ]
        },
        {
          "data": {
            "text/html": [
              "Finishing previous runs because reinit is set to 'default'."
            ],
            "text/plain": [
              "<IPython.core.display.HTML object>"
            ]
          },
          "metadata": {},
          "output_type": "display_data"
        },
        {
          "data": {
            "text/html": [],
            "text/plain": [
              "<IPython.core.display.HTML object>"
            ]
          },
          "metadata": {},
          "output_type": "display_data"
        },
        {
          "data": {
            "text/html": [
              " View run <strong style=\"color:#cdcd00\">splendid-breeze-49</strong> at: <a href='https://wandb.ai/voldigoadanos53-aligarh-muslim-university/ddpg/runs/e22bc0h2' target=\"_blank\">https://wandb.ai/voldigoadanos53-aligarh-muslim-university/ddpg/runs/e22bc0h2</a><br> View project at: <a href='https://wandb.ai/voldigoadanos53-aligarh-muslim-university/ddpg' target=\"_blank\">https://wandb.ai/voldigoadanos53-aligarh-muslim-university/ddpg</a><br>Synced 5 W&B file(s), 0 media file(s), 0 artifact file(s) and 0 other file(s)"
            ],
            "text/plain": [
              "<IPython.core.display.HTML object>"
            ]
          },
          "metadata": {},
          "output_type": "display_data"
        },
        {
          "data": {
            "text/html": [
              "Find logs at: <code>./wandb/run-20250621_054136-e22bc0h2/logs</code>"
            ],
            "text/plain": [
              "<IPython.core.display.HTML object>"
            ]
          },
          "metadata": {},
          "output_type": "display_data"
        },
        {
          "data": {
            "text/html": [
              "Tracking run with wandb version 0.20.1"
            ],
            "text/plain": [
              "<IPython.core.display.HTML object>"
            ]
          },
          "metadata": {},
          "output_type": "display_data"
        },
        {
          "data": {
            "text/html": [
              "Run data is saved locally in <code>/content/drive/MyDrive/Projects/rl/DDPG-Pytorch/wandb/run-20250621_054235-zfrnncvf</code>"
            ],
            "text/plain": [
              "<IPython.core.display.HTML object>"
            ]
          },
          "metadata": {},
          "output_type": "display_data"
        },
        {
          "data": {
            "text/html": [
              "Syncing run <strong><a href='https://wandb.ai/voldigoadanos53-aligarh-muslim-university/ddpg/runs/zfrnncvf' target=\"_blank\">dulcet-yogurt-50</a></strong> to <a href='https://wandb.ai/voldigoadanos53-aligarh-muslim-university/ddpg' target=\"_blank\">Weights & Biases</a> (<a href='https://wandb.me/developer-guide' target=\"_blank\">docs</a>)<br>"
            ],
            "text/plain": [
              "<IPython.core.display.HTML object>"
            ]
          },
          "metadata": {},
          "output_type": "display_data"
        },
        {
          "data": {
            "text/html": [
              " View project at <a href='https://wandb.ai/voldigoadanos53-aligarh-muslim-university/ddpg' target=\"_blank\">https://wandb.ai/voldigoadanos53-aligarh-muslim-university/ddpg</a>"
            ],
            "text/plain": [
              "<IPython.core.display.HTML object>"
            ]
          },
          "metadata": {},
          "output_type": "display_data"
        },
        {
          "data": {
            "text/html": [
              " View run at <a href='https://wandb.ai/voldigoadanos53-aligarh-muslim-university/ddpg/runs/zfrnncvf' target=\"_blank\">https://wandb.ai/voldigoadanos53-aligarh-muslim-university/ddpg/runs/zfrnncvf</a>"
            ],
            "text/plain": [
              "<IPython.core.display.HTML object>"
            ]
          },
          "metadata": {},
          "output_type": "display_data"
        },
        {
          "name": "stderr",
          "output_type": "stream",
          "text": [
            "  0%|          | 0/500 [00:00<?, ?it/s]/usr/local/lib/python3.11/dist-packages/gym/utils/passive_env_checker.py:233: DeprecationWarning: `np.bool8` is a deprecated alias for `np.bool_`.  (Deprecated NumPy 1.24)\n",
            "  if not isinstance(terminated, (bool, np.bool8)):\n",
            "  0%|          | 1/500 [00:00<01:17,  6.48it/s]"
          ]
        },
        {
          "name": "stdout",
          "output_type": "stream",
          "text": [
            "episode number is:  1\n",
            "episode number is:  2\n"
          ]
        },
        {
          "name": "stderr",
          "output_type": "stream",
          "text": [
            "  1%|          | 3/500 [00:00<01:16,  6.46it/s]"
          ]
        },
        {
          "name": "stdout",
          "output_type": "stream",
          "text": [
            "episode number is:  3\n",
            "episode number is:  4\n"
          ]
        },
        {
          "name": "stderr",
          "output_type": "stream",
          "text": [
            "  1%|          | 5/500 [00:00<01:26,  5.75it/s]"
          ]
        },
        {
          "name": "stdout",
          "output_type": "stream",
          "text": [
            "episode number is:  5\n",
            "episode number is:  6\n"
          ]
        },
        {
          "name": "stderr",
          "output_type": "stream",
          "text": [
            "  1%|▏         | 7/500 [00:01<01:27,  5.63it/s]"
          ]
        },
        {
          "name": "stdout",
          "output_type": "stream",
          "text": [
            "episode number is:  7\n",
            "episode number is:  8\n"
          ]
        },
        {
          "name": "stderr",
          "output_type": "stream",
          "text": [
            "  2%|▏         | 9/500 [00:01<01:24,  5.83it/s]"
          ]
        },
        {
          "name": "stdout",
          "output_type": "stream",
          "text": [
            "episode number is:  9\n",
            "episode number is:  10\n",
            "Episode reward 1 ==> -31601.85939689448\n",
            "Episode reward 2 ==> -31601.85939689448\n",
            "Episode reward 3 ==> -31601.85939689448\n",
            "Episode reward 4 ==> -31601.85939689448\n",
            "Episode reward 5 ==> -31601.85939689448\n",
            "Episode reward 6 ==> -31601.85939689448\n",
            "Episode reward 7 ==> -31601.85939689448\n",
            "Episode reward 8 ==> -31601.85939689448\n",
            "Episode reward 9 ==> -31601.85939689448\n",
            "Episode reward 10 ==> -31601.85939689448\n",
            "avg_reward -31601.859396893626\n"
          ]
        },
        {
          "name": "stderr",
          "output_type": "stream",
          "text": [
            "  2%|▏         | 11/500 [00:09<15:15,  1.87s/it]"
          ]
        },
        {
          "name": "stdout",
          "output_type": "stream",
          "text": [
            "episode number is:  11\n",
            "episode number is:  12\n"
          ]
        },
        {
          "name": "stderr",
          "output_type": "stream",
          "text": [
            "  3%|▎         | 13/500 [00:10<08:04,  1.01it/s]"
          ]
        },
        {
          "name": "stdout",
          "output_type": "stream",
          "text": [
            "episode number is:  13\n",
            "episode number is:  14\n"
          ]
        },
        {
          "name": "stderr",
          "output_type": "stream",
          "text": [
            "  3%|▎         | 15/500 [00:10<04:38,  1.74it/s]"
          ]
        },
        {
          "name": "stdout",
          "output_type": "stream",
          "text": [
            "episode number is:  15\n",
            "episode number is:  16\n"
          ]
        },
        {
          "name": "stderr",
          "output_type": "stream",
          "text": [
            "  3%|▎         | 17/500 [00:10<02:57,  2.72it/s]"
          ]
        },
        {
          "name": "stdout",
          "output_type": "stream",
          "text": [
            "episode number is:  17\n",
            "episode number is:  18\n"
          ]
        },
        {
          "name": "stderr",
          "output_type": "stream",
          "text": [
            "  4%|▍         | 19/500 [00:11<02:08,  3.74it/s]"
          ]
        },
        {
          "name": "stdout",
          "output_type": "stream",
          "text": [
            "episode number is:  19\n",
            "episode number is:  20\n",
            "Episode reward 1 ==> -31601.85939689448\n",
            "Episode reward 2 ==> -31601.85939689448\n",
            "Episode reward 3 ==> -31601.85939689448\n",
            "Episode reward 4 ==> -31601.85939689448\n",
            "Episode reward 5 ==> -31601.85939689448\n",
            "Episode reward 6 ==> -31601.85939689448\n",
            "Episode reward 7 ==> -31601.85939689448\n",
            "Episode reward 8 ==> -31601.85939689448\n",
            "Episode reward 9 ==> -31601.85939689448\n"
          ]
        },
        {
          "name": "stderr",
          "output_type": "stream",
          "text": [
            "\r  4%|▍         | 20/500 [00:13<07:12,  1.11it/s]"
          ]
        },
        {
          "name": "stdout",
          "output_type": "stream",
          "text": [
            "Episode reward 10 ==> -31601.85939689448\n",
            "avg_reward -31601.859396893626\n",
            "episode number is:  21\n"
          ]
        },
        {
          "name": "stderr",
          "output_type": "stream",
          "text": [
            "  4%|▍         | 22/500 [00:13<04:07,  1.93it/s]"
          ]
        },
        {
          "name": "stdout",
          "output_type": "stream",
          "text": [
            "episode number is:  22\n",
            "episode number is:  23\n"
          ]
        },
        {
          "name": "stderr",
          "output_type": "stream",
          "text": [
            "  5%|▍         | 24/500 [00:14<02:39,  2.98it/s]"
          ]
        },
        {
          "name": "stdout",
          "output_type": "stream",
          "text": [
            "episode number is:  24\n",
            "episode number is:  25\n"
          ]
        },
        {
          "name": "stderr",
          "output_type": "stream",
          "text": [
            "  5%|▌         | 26/500 [00:14<01:56,  4.08it/s]"
          ]
        },
        {
          "name": "stdout",
          "output_type": "stream",
          "text": [
            "episode number is:  26\n",
            "episode number is:  27\n"
          ]
        },
        {
          "name": "stderr",
          "output_type": "stream",
          "text": [
            "  6%|▌         | 28/500 [00:14<01:34,  4.98it/s]"
          ]
        },
        {
          "name": "stdout",
          "output_type": "stream",
          "text": [
            "episode number is:  28\n",
            "episode number is:  29\n"
          ]
        },
        {
          "name": "stderr",
          "output_type": "stream",
          "text": [
            "\r  6%|▌         | 29/500 [00:14<01:31,  5.17it/s]"
          ]
        },
        {
          "name": "stdout",
          "output_type": "stream",
          "text": [
            "episode number is:  30\n",
            "Episode reward 1 ==> -31601.85939689448\n",
            "Episode reward 2 ==> -31601.85939689448\n",
            "Episode reward 3 ==> -31601.85939689448\n",
            "Episode reward 4 ==> -31601.85939689448\n",
            "Episode reward 5 ==> -31601.85939689448\n",
            "Episode reward 6 ==> -31601.85939689448\n",
            "Episode reward 7 ==> -31601.85939689448\n",
            "Episode reward 8 ==> -31601.85939689448\n",
            "Episode reward 9 ==> -31601.85939689448\n"
          ]
        },
        {
          "name": "stderr",
          "output_type": "stream",
          "text": [
            "\r  6%|▌         | 30/500 [00:18<08:43,  1.11s/it]"
          ]
        },
        {
          "name": "stdout",
          "output_type": "stream",
          "text": [
            "Episode reward 10 ==> -31601.85939689448\n",
            "avg_reward -31601.859396893626\n",
            "episode number is:  31\n"
          ]
        },
        {
          "name": "stderr",
          "output_type": "stream",
          "text": [
            "  6%|▋         | 32/500 [00:18<04:52,  1.60it/s]"
          ]
        },
        {
          "name": "stdout",
          "output_type": "stream",
          "text": [
            "episode number is:  32\n",
            "episode number is:  33\n"
          ]
        },
        {
          "name": "stderr",
          "output_type": "stream",
          "text": [
            "  7%|▋         | 34/500 [00:18<03:04,  2.53it/s]"
          ]
        },
        {
          "name": "stdout",
          "output_type": "stream",
          "text": [
            "episode number is:  34\n",
            "episode number is:  35\n"
          ]
        },
        {
          "name": "stderr",
          "output_type": "stream",
          "text": [
            "  7%|▋         | 36/500 [00:19<02:09,  3.59it/s]"
          ]
        },
        {
          "name": "stdout",
          "output_type": "stream",
          "text": [
            "episode number is:  36\n",
            "episode number is:  37\n"
          ]
        },
        {
          "name": "stderr",
          "output_type": "stream",
          "text": [
            "  8%|▊         | 38/500 [00:19<01:47,  4.31it/s]"
          ]
        },
        {
          "name": "stdout",
          "output_type": "stream",
          "text": [
            "episode number is:  38\n",
            "episode number is:  39\n"
          ]
        },
        {
          "name": "stderr",
          "output_type": "stream",
          "text": [
            "\r  8%|▊         | 39/500 [00:19<01:38,  4.70it/s]"
          ]
        },
        {
          "name": "stdout",
          "output_type": "stream",
          "text": [
            "episode number is:  40\n",
            "Episode reward 1 ==> -31601.85939689448\n",
            "Episode reward 2 ==> -31601.85939689448\n",
            "Episode reward 3 ==> -31601.85939689448\n",
            "Episode reward 4 ==> -31601.85939689448\n",
            "Episode reward 5 ==> -31601.85939689448\n",
            "Episode reward 6 ==> -31601.85939689448\n",
            "Episode reward 7 ==> -31601.85939689448\n",
            "Episode reward 8 ==> -31601.85939689448\n",
            "Episode reward 9 ==> -31601.85939689448\n"
          ]
        },
        {
          "name": "stderr",
          "output_type": "stream",
          "text": [
            "  8%|▊         | 41/500 [00:22<05:11,  1.47it/s]"
          ]
        },
        {
          "name": "stdout",
          "output_type": "stream",
          "text": [
            "Episode reward 10 ==> -31601.85939689448\n",
            "avg_reward -31601.859396893626\n",
            "episode number is:  41\n",
            "episode number is:  42\n"
          ]
        },
        {
          "name": "stderr",
          "output_type": "stream",
          "text": [
            "  9%|▊         | 43/500 [00:22<03:09,  2.41it/s]"
          ]
        },
        {
          "name": "stdout",
          "output_type": "stream",
          "text": [
            "episode number is:  43\n",
            "episode number is:  44\n"
          ]
        },
        {
          "name": "stderr",
          "output_type": "stream",
          "text": [
            "  9%|▉         | 45/500 [00:23<02:09,  3.52it/s]"
          ]
        },
        {
          "name": "stdout",
          "output_type": "stream",
          "text": [
            "episode number is:  45\n",
            "episode number is:  46\n"
          ]
        },
        {
          "name": "stderr",
          "output_type": "stream",
          "text": [
            "  9%|▉         | 47/500 [00:23<01:38,  4.60it/s]"
          ]
        },
        {
          "name": "stdout",
          "output_type": "stream",
          "text": [
            "episode number is:  47\n",
            "episode number is:  48\n"
          ]
        },
        {
          "name": "stderr",
          "output_type": "stream",
          "text": [
            " 10%|▉         | 49/500 [00:23<01:22,  5.46it/s]"
          ]
        },
        {
          "name": "stdout",
          "output_type": "stream",
          "text": [
            "episode number is:  49\n",
            "episode number is:  50\n",
            "Episode reward 1 ==> -31601.85939689448\n",
            "Episode reward 2 ==> -31601.85939689448\n",
            "Episode reward 3 ==> -31601.85939689448\n",
            "Episode reward 4 ==> -31601.85939689448\n",
            "Episode reward 5 ==> -31601.85939689448\n",
            "Episode reward 6 ==> -31601.85939689448\n",
            "Episode reward 7 ==> -31601.85939689448\n",
            "Episode reward 8 ==> -31601.85939689448\n",
            "Episode reward 9 ==> -31601.85939689448\n"
          ]
        },
        {
          "name": "stderr",
          "output_type": "stream",
          "text": [
            "\r 10%|█         | 50/500 [00:25<06:06,  1.23it/s]"
          ]
        },
        {
          "name": "stdout",
          "output_type": "stream",
          "text": [
            "Episode reward 10 ==> -31601.85939689448\n",
            "avg_reward -31601.859396893626\n",
            "episode number is:  51\n"
          ]
        },
        {
          "name": "stderr",
          "output_type": "stream",
          "text": [
            " 10%|█         | 52/500 [00:26<03:34,  2.08it/s]"
          ]
        },
        {
          "name": "stdout",
          "output_type": "stream",
          "text": [
            "episode number is:  52\n",
            "episode number is:  53\n"
          ]
        },
        {
          "name": "stderr",
          "output_type": "stream",
          "text": [
            " 11%|█         | 54/500 [00:26<02:20,  3.16it/s]"
          ]
        },
        {
          "name": "stdout",
          "output_type": "stream",
          "text": [
            "episode number is:  54\n",
            "episode number is:  55\n"
          ]
        },
        {
          "name": "stderr",
          "output_type": "stream",
          "text": [
            " 11%|█         | 56/500 [00:26<01:43,  4.29it/s]"
          ]
        },
        {
          "name": "stdout",
          "output_type": "stream",
          "text": [
            "episode number is:  56\n",
            "episode number is:  57\n"
          ]
        },
        {
          "name": "stderr",
          "output_type": "stream",
          "text": [
            " 12%|█▏        | 58/500 [00:27<01:26,  5.12it/s]"
          ]
        },
        {
          "name": "stdout",
          "output_type": "stream",
          "text": [
            "episode number is:  58\n",
            "episode number is:  59\n"
          ]
        },
        {
          "name": "stderr",
          "output_type": "stream",
          "text": [
            "\r 12%|█▏        | 59/500 [00:27<01:25,  5.15it/s]"
          ]
        },
        {
          "name": "stdout",
          "output_type": "stream",
          "text": [
            "episode number is:  60\n",
            "Episode reward 1 ==> -31601.85939689448\n",
            "Episode reward 2 ==> -31601.85939689448\n",
            "Episode reward 3 ==> -31601.85939689448\n",
            "Episode reward 4 ==> -31601.85939689448\n",
            "Episode reward 5 ==> -31601.85939689448\n",
            "Episode reward 6 ==> -31601.85939689448\n",
            "Episode reward 7 ==> -31601.85939689448\n",
            "Episode reward 8 ==> -31601.85939689448\n",
            "Episode reward 9 ==> -31601.85939689448\n",
            "Episode reward 10 ==> -31601.85939689448\n",
            "avg_reward -31601.859396893626\n"
          ]
        },
        {
          "name": "stderr",
          "output_type": "stream",
          "text": [
            " 12%|█▏        | 61/500 [00:29<04:30,  1.62it/s]"
          ]
        },
        {
          "name": "stdout",
          "output_type": "stream",
          "text": [
            "episode number is:  61\n",
            "episode number is:  62\n"
          ]
        },
        {
          "name": "stderr",
          "output_type": "stream",
          "text": [
            " 13%|█▎        | 63/500 [00:30<02:44,  2.65it/s]"
          ]
        },
        {
          "name": "stdout",
          "output_type": "stream",
          "text": [
            "episode number is:  63\n",
            "episode number is:  64\n"
          ]
        },
        {
          "name": "stderr",
          "output_type": "stream",
          "text": [
            " 13%|█▎        | 65/500 [00:30<01:56,  3.74it/s]"
          ]
        },
        {
          "name": "stdout",
          "output_type": "stream",
          "text": [
            "episode number is:  65\n",
            "episode number is:  66\n"
          ]
        },
        {
          "name": "stderr",
          "output_type": "stream",
          "text": [
            " 13%|█▎        | 67/500 [00:30<01:37,  4.44it/s]"
          ]
        },
        {
          "name": "stdout",
          "output_type": "stream",
          "text": [
            "episode number is:  67\n",
            "episode number is:  68\n"
          ]
        },
        {
          "name": "stderr",
          "output_type": "stream",
          "text": [
            " 14%|█▍        | 69/500 [00:31<01:24,  5.09it/s]"
          ]
        },
        {
          "name": "stdout",
          "output_type": "stream",
          "text": [
            "episode number is:  69\n",
            "episode number is:  70\n",
            "Episode reward 1 ==> -31601.85939689448\n",
            "Episode reward 2 ==> -31601.85939689448\n",
            "Episode reward 3 ==> -31601.85939689448\n",
            "Episode reward 4 ==> -31601.85939689448\n",
            "Episode reward 5 ==> -31601.85939689448\n",
            "Episode reward 6 ==> -31601.85939689448\n",
            "Episode reward 7 ==> -31601.85939689448\n",
            "Episode reward 8 ==> -31601.85939689448\n",
            "Episode reward 9 ==> -31601.85939689448\n"
          ]
        },
        {
          "name": "stderr",
          "output_type": "stream",
          "text": [
            "\r 14%|█▍        | 70/500 [00:34<07:50,  1.09s/it]"
          ]
        },
        {
          "name": "stdout",
          "output_type": "stream",
          "text": [
            "Episode reward 10 ==> -31601.85939689448\n",
            "avg_reward -31601.859396893626\n",
            "episode number is:  71\n"
          ]
        },
        {
          "name": "stderr",
          "output_type": "stream",
          "text": [
            " 14%|█▍        | 72/500 [00:34<04:29,  1.59it/s]"
          ]
        },
        {
          "name": "stdout",
          "output_type": "stream",
          "text": [
            "episode number is:  72\n",
            "episode number is:  73\n"
          ]
        },
        {
          "name": "stderr",
          "output_type": "stream",
          "text": [
            " 15%|█▍        | 74/500 [00:35<02:52,  2.47it/s]"
          ]
        },
        {
          "name": "stdout",
          "output_type": "stream",
          "text": [
            "episode number is:  74\n",
            "episode number is:  75\n"
          ]
        },
        {
          "name": "stderr",
          "output_type": "stream",
          "text": [
            " 15%|█▌        | 76/500 [00:35<02:04,  3.41it/s]"
          ]
        },
        {
          "name": "stdout",
          "output_type": "stream",
          "text": [
            "episode number is:  76\n",
            "episode number is:  77\n"
          ]
        },
        {
          "name": "stderr",
          "output_type": "stream",
          "text": [
            " 16%|█▌        | 79/500 [00:35<01:14,  5.65it/s]"
          ]
        },
        {
          "name": "stdout",
          "output_type": "stream",
          "text": [
            "episode number is:  78\n",
            "episode number is:  79\n",
            "episode number is:  80\n",
            "Episode reward 1 ==> -31601.85939689448\n",
            "Episode reward 2 ==> -31601.85939689448\n",
            "Episode reward 3 ==> -31601.85939689448\n",
            "Episode reward 4 ==> -31601.85939689448\n",
            "Episode reward 5 ==> -31601.85939689448\n",
            "Episode reward 6 ==> -31601.85939689448\n",
            "Episode reward 7 ==> -31601.85939689448\n",
            "Episode reward 8 ==> -31601.85939689448\n",
            "Episode reward 9 ==> -31601.85939689448\n"
          ]
        },
        {
          "name": "stderr",
          "output_type": "stream",
          "text": [
            "\r 16%|█▌        | 80/500 [00:38<06:06,  1.15it/s]"
          ]
        },
        {
          "name": "stdout",
          "output_type": "stream",
          "text": [
            "Episode reward 10 ==> -31601.85939689448\n",
            "avg_reward -31601.859396893626\n",
            "episode number is:  81\n"
          ]
        },
        {
          "name": "stderr",
          "output_type": "stream",
          "text": [
            " 16%|█▋        | 82/500 [00:39<03:45,  1.85it/s]"
          ]
        },
        {
          "name": "stdout",
          "output_type": "stream",
          "text": [
            "episode number is:  82\n",
            "episode number is:  83\n"
          ]
        },
        {
          "name": "stderr",
          "output_type": "stream",
          "text": [
            " 17%|█▋        | 84/500 [00:39<02:24,  2.89it/s]"
          ]
        },
        {
          "name": "stdout",
          "output_type": "stream",
          "text": [
            "episode number is:  84\n",
            "episode number is:  85\n"
          ]
        },
        {
          "name": "stderr",
          "output_type": "stream",
          "text": [
            "\r 17%|█▋        | 85/500 [00:40<04:33,  1.52it/s]"
          ]
        },
        {
          "name": "stdout",
          "output_type": "stream",
          "text": [
            "episode number is:  86\n"
          ]
        },
        {
          "name": "stderr",
          "output_type": "stream",
          "text": [
            "\r 17%|█▋        | 86/500 [00:42<06:00,  1.15it/s]"
          ]
        },
        {
          "name": "stdout",
          "output_type": "stream",
          "text": [
            "episode number is:  87\n"
          ]
        },
        {
          "name": "stderr",
          "output_type": "stream",
          "text": [
            "\r 17%|█▋        | 87/500 [00:43<07:03,  1.02s/it]"
          ]
        },
        {
          "name": "stdout",
          "output_type": "stream",
          "text": [
            "episode number is:  88\n"
          ]
        },
        {
          "name": "stderr",
          "output_type": "stream",
          "text": [
            "\r 18%|█▊        | 88/500 [00:44<07:38,  1.11s/it]"
          ]
        },
        {
          "name": "stdout",
          "output_type": "stream",
          "text": [
            "episode number is:  89\n"
          ]
        },
        {
          "name": "stderr",
          "output_type": "stream",
          "text": [
            "\r 18%|█▊        | 89/500 [00:46<08:47,  1.28s/it]"
          ]
        },
        {
          "name": "stdout",
          "output_type": "stream",
          "text": [
            "episode number is:  90\n",
            "Episode reward 1 ==> 251.42755617111277\n",
            "Episode reward 2 ==> 251.42755617111277\n",
            "Episode reward 3 ==> 251.42755617111277\n",
            "Episode reward 4 ==> 251.42755617111277\n",
            "Episode reward 5 ==> 251.42755617111277\n",
            "Episode reward 6 ==> 251.42755617111277\n",
            "Episode reward 7 ==> 251.42755617111277\n"
          ]
        },
        {
          "name": "stderr",
          "output_type": "stream",
          "text": [
            "\r 18%|█▊        | 90/500 [00:48<10:38,  1.56s/it]"
          ]
        },
        {
          "name": "stdout",
          "output_type": "stream",
          "text": [
            "Episode reward 8 ==> 251.42755617111277\n",
            "Episode reward 9 ==> 251.42755617111277\n",
            "Episode reward 10 ==> 251.42755617111277\n",
            "avg_reward 251.42755617111257\n",
            "episode number is:  91\n"
          ]
        },
        {
          "name": "stderr",
          "output_type": "stream",
          "text": [
            "\r 18%|█▊        | 91/500 [00:50<11:40,  1.71s/it]"
          ]
        },
        {
          "name": "stdout",
          "output_type": "stream",
          "text": [
            "episode number is:  92\n"
          ]
        },
        {
          "name": "stderr",
          "output_type": "stream",
          "text": [
            "\r 18%|█▊        | 92/500 [00:52<10:55,  1.61s/it]"
          ]
        },
        {
          "name": "stdout",
          "output_type": "stream",
          "text": [
            "episode number is:  93\n"
          ]
        },
        {
          "name": "stderr",
          "output_type": "stream",
          "text": [
            "\r 19%|█▊        | 93/500 [00:53<10:15,  1.51s/it]"
          ]
        },
        {
          "name": "stdout",
          "output_type": "stream",
          "text": [
            "episode number is:  94\n"
          ]
        },
        {
          "name": "stderr",
          "output_type": "stream",
          "text": [
            "\r 19%|█▉        | 94/500 [00:54<09:52,  1.46s/it]"
          ]
        },
        {
          "name": "stdout",
          "output_type": "stream",
          "text": [
            "episode number is:  95\n"
          ]
        },
        {
          "name": "stderr",
          "output_type": "stream",
          "text": [
            "\r 19%|█▉        | 95/500 [00:56<09:39,  1.43s/it]"
          ]
        },
        {
          "name": "stdout",
          "output_type": "stream",
          "text": [
            "episode number is:  96\n"
          ]
        },
        {
          "name": "stderr",
          "output_type": "stream",
          "text": [
            "\r 19%|█▉        | 96/500 [00:57<08:53,  1.32s/it]"
          ]
        },
        {
          "name": "stdout",
          "output_type": "stream",
          "text": [
            "episode number is:  97\n"
          ]
        },
        {
          "name": "stderr",
          "output_type": "stream",
          "text": [
            "\r 19%|█▉        | 97/500 [00:58<09:04,  1.35s/it]"
          ]
        },
        {
          "name": "stdout",
          "output_type": "stream",
          "text": [
            "episode number is:  98\n"
          ]
        },
        {
          "name": "stderr",
          "output_type": "stream",
          "text": [
            "\r 20%|█▉        | 98/500 [01:00<09:46,  1.46s/it]"
          ]
        },
        {
          "name": "stdout",
          "output_type": "stream",
          "text": [
            "episode number is:  99\n"
          ]
        },
        {
          "name": "stderr",
          "output_type": "stream",
          "text": [
            "\r 20%|█▉        | 99/500 [01:02<10:41,  1.60s/it]"
          ]
        },
        {
          "name": "stdout",
          "output_type": "stream",
          "text": [
            "episode number is:  100\n",
            "Episode reward 1 ==> 251.42755617111277\n",
            "Episode reward 2 ==> 251.42755617111277\n",
            "Episode reward 3 ==> 251.42755617111277\n",
            "Episode reward 4 ==> 251.42755617111277\n",
            "Episode reward 5 ==> 251.42755617111277\n",
            "Episode reward 6 ==> 251.42755617111277\n",
            "Episode reward 7 ==> 251.42755617111277\n",
            "Episode reward 8 ==> 251.42755617111277\n"
          ]
        },
        {
          "name": "stderr",
          "output_type": "stream",
          "text": [
            "\r 20%|██        | 100/500 [01:05<13:06,  1.97s/it]"
          ]
        },
        {
          "name": "stdout",
          "output_type": "stream",
          "text": [
            "Episode reward 9 ==> 251.42755617111277\n",
            "Episode reward 10 ==> 251.42755617111277\n",
            "avg_reward 251.42755617111257\n",
            "episode number is:  101\n"
          ]
        },
        {
          "name": "stderr",
          "output_type": "stream",
          "text": [
            "\r 20%|██        | 101/500 [01:07<12:53,  1.94s/it]"
          ]
        },
        {
          "name": "stdout",
          "output_type": "stream",
          "text": [
            "episode number is:  102\n"
          ]
        },
        {
          "name": "stderr",
          "output_type": "stream",
          "text": [
            "\r 20%|██        | 102/500 [01:08<12:02,  1.82s/it]"
          ]
        },
        {
          "name": "stdout",
          "output_type": "stream",
          "text": [
            "episode number is:  103\n"
          ]
        },
        {
          "name": "stderr",
          "output_type": "stream",
          "text": [
            "\r 21%|██        | 103/500 [01:10<11:21,  1.72s/it]"
          ]
        },
        {
          "name": "stdout",
          "output_type": "stream",
          "text": [
            "episode number is:  104\n"
          ]
        },
        {
          "name": "stderr",
          "output_type": "stream",
          "text": [
            "\r 21%|██        | 104/500 [01:11<10:50,  1.64s/it]"
          ]
        },
        {
          "name": "stdout",
          "output_type": "stream",
          "text": [
            "episode number is:  105\n"
          ]
        },
        {
          "name": "stderr",
          "output_type": "stream",
          "text": [
            "\r 21%|██        | 105/500 [01:13<10:32,  1.60s/it]"
          ]
        },
        {
          "name": "stdout",
          "output_type": "stream",
          "text": [
            "episode number is:  106\n"
          ]
        },
        {
          "name": "stderr",
          "output_type": "stream",
          "text": [
            "\r 21%|██        | 106/500 [01:14<09:40,  1.47s/it]"
          ]
        },
        {
          "name": "stdout",
          "output_type": "stream",
          "text": [
            "episode number is:  107\n"
          ]
        },
        {
          "name": "stderr",
          "output_type": "stream",
          "text": [
            "\r 21%|██▏       | 107/500 [01:15<09:48,  1.50s/it]"
          ]
        },
        {
          "name": "stdout",
          "output_type": "stream",
          "text": [
            "episode number is:  108\n"
          ]
        },
        {
          "name": "stderr",
          "output_type": "stream",
          "text": [
            "\r 22%|██▏       | 108/500 [01:18<11:57,  1.83s/it]"
          ]
        },
        {
          "name": "stdout",
          "output_type": "stream",
          "text": [
            "episode number is:  109\n"
          ]
        },
        {
          "name": "stderr",
          "output_type": "stream",
          "text": [
            "\r 22%|██▏       | 109/500 [01:20<12:33,  1.93s/it]"
          ]
        },
        {
          "name": "stdout",
          "output_type": "stream",
          "text": [
            "episode number is:  110\n",
            "Episode reward 1 ==> 251.42755617111277\n",
            "Episode reward 2 ==> 251.42755617111277\n",
            "Episode reward 3 ==> 251.42755617111277\n",
            "Episode reward 4 ==> 251.42755617111277\n",
            "Episode reward 5 ==> 251.42755617111277\n",
            "Episode reward 6 ==> 251.42755617111277\n",
            "Episode reward 7 ==> 251.42755617111277\n",
            "Episode reward 8 ==> 251.42755617111277\n",
            "Episode reward 9 ==> 251.42755617111277\n",
            "Episode reward 10 ==> 251.42755617111277\n",
            "avg_reward 251.42755617111257\n"
          ]
        },
        {
          "name": "stderr",
          "output_type": "stream",
          "text": [
            "\r 22%|██▏       | 110/500 [01:22<12:52,  1.98s/it]"
          ]
        },
        {
          "name": "stdout",
          "output_type": "stream",
          "text": [
            "episode number is:  111\n"
          ]
        },
        {
          "name": "stderr",
          "output_type": "stream",
          "text": [
            "\r 22%|██▏       | 111/500 [01:24<11:59,  1.85s/it]"
          ]
        },
        {
          "name": "stdout",
          "output_type": "stream",
          "text": [
            "episode number is:  112\n"
          ]
        },
        {
          "name": "stderr",
          "output_type": "stream",
          "text": [
            "\r 22%|██▏       | 112/500 [01:25<11:16,  1.74s/it]"
          ]
        },
        {
          "name": "stdout",
          "output_type": "stream",
          "text": [
            "episode number is:  113\n"
          ]
        },
        {
          "name": "stderr",
          "output_type": "stream",
          "text": [
            "\r 23%|██▎       | 113/500 [01:27<11:33,  1.79s/it]"
          ]
        },
        {
          "name": "stdout",
          "output_type": "stream",
          "text": [
            "episode number is:  114\n"
          ]
        },
        {
          "name": "stderr",
          "output_type": "stream",
          "text": [
            "\r 23%|██▎       | 114/500 [01:29<10:56,  1.70s/it]"
          ]
        },
        {
          "name": "stdout",
          "output_type": "stream",
          "text": [
            "episode number is:  115\n"
          ]
        },
        {
          "name": "stderr",
          "output_type": "stream",
          "text": [
            "\r 23%|██▎       | 115/500 [01:30<10:32,  1.64s/it]"
          ]
        },
        {
          "name": "stdout",
          "output_type": "stream",
          "text": [
            "episode number is:  116\n"
          ]
        },
        {
          "name": "stderr",
          "output_type": "stream",
          "text": [
            "\r 23%|██▎       | 116/500 [01:32<10:15,  1.60s/it]"
          ]
        },
        {
          "name": "stdout",
          "output_type": "stream",
          "text": [
            "episode number is:  117\n"
          ]
        },
        {
          "name": "stderr",
          "output_type": "stream",
          "text": [
            "\r 23%|██▎       | 117/500 [01:34<11:35,  1.82s/it]"
          ]
        },
        {
          "name": "stdout",
          "output_type": "stream",
          "text": [
            "episode number is:  118\n"
          ]
        },
        {
          "name": "stderr",
          "output_type": "stream",
          "text": [
            "\r 24%|██▎       | 118/500 [01:37<13:34,  2.13s/it]"
          ]
        },
        {
          "name": "stdout",
          "output_type": "stream",
          "text": [
            "episode number is:  119\n"
          ]
        },
        {
          "name": "stderr",
          "output_type": "stream",
          "text": [
            "\r 24%|██▍       | 119/500 [01:38<12:20,  1.94s/it]"
          ]
        },
        {
          "name": "stdout",
          "output_type": "stream",
          "text": [
            "episode number is:  120\n",
            "Episode reward 1 ==> 251.42755617111277\n",
            "Episode reward 2 ==> 251.42755617111277\n",
            "Episode reward 3 ==> 251.42755617111277\n",
            "Episode reward 4 ==> 251.42755617111277\n",
            "Episode reward 5 ==> 251.42755617111277\n",
            "Episode reward 6 ==> 251.42755617111277\n",
            "Episode reward 7 ==> 251.42755617111277\n",
            "Episode reward 8 ==> 251.42755617111277\n",
            "Episode reward 9 ==> 251.42755617111277\n",
            "Episode reward 10 ==> 251.42755617111277\n",
            "avg_reward 251.42755617111257\n"
          ]
        },
        {
          "name": "stderr",
          "output_type": "stream",
          "text": [
            "\r 24%|██▍       | 120/500 [01:40<12:28,  1.97s/it]"
          ]
        },
        {
          "name": "stdout",
          "output_type": "stream",
          "text": [
            "episode number is:  121\n"
          ]
        },
        {
          "name": "stderr",
          "output_type": "stream",
          "text": [
            "\r 24%|██▍       | 121/500 [01:42<11:43,  1.86s/it]"
          ]
        },
        {
          "name": "stdout",
          "output_type": "stream",
          "text": [
            "episode number is:  122\n"
          ]
        },
        {
          "name": "stderr",
          "output_type": "stream",
          "text": [
            "\r 24%|██▍       | 122/500 [01:43<10:58,  1.74s/it]"
          ]
        },
        {
          "name": "stdout",
          "output_type": "stream",
          "text": [
            "episode number is:  123\n"
          ]
        },
        {
          "name": "stderr",
          "output_type": "stream",
          "text": [
            "\r 25%|██▍       | 123/500 [01:45<10:24,  1.66s/it]"
          ]
        },
        {
          "name": "stdout",
          "output_type": "stream",
          "text": [
            "episode number is:  124\n"
          ]
        },
        {
          "name": "stderr",
          "output_type": "stream",
          "text": [
            "\r 25%|██▍       | 124/500 [01:47<10:36,  1.69s/it]"
          ]
        },
        {
          "name": "stdout",
          "output_type": "stream",
          "text": [
            "episode number is:  125\n"
          ]
        },
        {
          "name": "stderr",
          "output_type": "stream",
          "text": [
            "\r 25%|██▌       | 125/500 [01:49<11:33,  1.85s/it]"
          ]
        },
        {
          "name": "stdout",
          "output_type": "stream",
          "text": [
            "episode number is:  126\n"
          ]
        },
        {
          "name": "stderr",
          "output_type": "stream",
          "text": [
            "\r 25%|██▌       | 126/500 [01:51<11:17,  1.81s/it]"
          ]
        },
        {
          "name": "stdout",
          "output_type": "stream",
          "text": [
            "episode number is:  127\n"
          ]
        },
        {
          "name": "stderr",
          "output_type": "stream",
          "text": [
            "\r 25%|██▌       | 127/500 [01:52<11:00,  1.77s/it]"
          ]
        },
        {
          "name": "stdout",
          "output_type": "stream",
          "text": [
            "episode number is:  128\n"
          ]
        },
        {
          "name": "stderr",
          "output_type": "stream",
          "text": [
            "\r 26%|██▌       | 128/500 [01:54<11:01,  1.78s/it]"
          ]
        },
        {
          "name": "stdout",
          "output_type": "stream",
          "text": [
            "episode number is:  129\n"
          ]
        },
        {
          "name": "stderr",
          "output_type": "stream",
          "text": [
            "\r 26%|██▌       | 129/500 [01:56<10:30,  1.70s/it]"
          ]
        },
        {
          "name": "stdout",
          "output_type": "stream",
          "text": [
            "episode number is:  130\n",
            "Episode reward 1 ==> 251.42755617111277\n",
            "Episode reward 2 ==> 251.42755617111277\n",
            "Episode reward 3 ==> 251.42755617111277\n",
            "Episode reward 4 ==> 251.42755617111277\n",
            "Episode reward 5 ==> 251.42755617111277\n",
            "Episode reward 6 ==> 251.42755617111277\n"
          ]
        },
        {
          "name": "stderr",
          "output_type": "stream",
          "text": [
            "\r 26%|██▌       | 130/500 [01:58<11:00,  1.79s/it]"
          ]
        },
        {
          "name": "stdout",
          "output_type": "stream",
          "text": [
            "Episode reward 7 ==> 251.42755617111277\n",
            "Episode reward 8 ==> 251.42755617111277\n",
            "Episode reward 9 ==> 251.42755617111277\n",
            "Episode reward 10 ==> 251.42755617111277\n",
            "avg_reward 251.42755617111257\n",
            "episode number is:  131\n"
          ]
        },
        {
          "name": "stderr",
          "output_type": "stream",
          "text": [
            "\r 26%|██▌       | 131/500 [01:59<11:09,  1.82s/it]"
          ]
        },
        {
          "name": "stdout",
          "output_type": "stream",
          "text": [
            "episode number is:  132\n"
          ]
        },
        {
          "name": "stderr",
          "output_type": "stream",
          "text": [
            "\r 26%|██▋       | 132/500 [02:01<11:29,  1.87s/it]"
          ]
        },
        {
          "name": "stdout",
          "output_type": "stream",
          "text": [
            "episode number is:  133\n"
          ]
        },
        {
          "name": "stderr",
          "output_type": "stream",
          "text": [
            "\r 27%|██▋       | 133/500 [02:05<14:10,  2.32s/it]"
          ]
        },
        {
          "name": "stdout",
          "output_type": "stream",
          "text": [
            "episode number is:  134\n"
          ]
        },
        {
          "name": "stderr",
          "output_type": "stream",
          "text": [
            "\r 27%|██▋       | 134/500 [02:07<14:33,  2.39s/it]"
          ]
        },
        {
          "name": "stdout",
          "output_type": "stream",
          "text": [
            "episode number is:  135\n"
          ]
        },
        {
          "name": "stderr",
          "output_type": "stream",
          "text": [
            "\r 27%|██▋       | 135/500 [02:09<13:34,  2.23s/it]"
          ]
        },
        {
          "name": "stdout",
          "output_type": "stream",
          "text": [
            "episode number is:  136\n"
          ]
        },
        {
          "name": "stderr",
          "output_type": "stream",
          "text": [
            "\r 27%|██▋       | 136/500 [02:10<11:39,  1.92s/it]"
          ]
        },
        {
          "name": "stdout",
          "output_type": "stream",
          "text": [
            "episode number is:  137\n"
          ]
        },
        {
          "name": "stderr",
          "output_type": "stream",
          "text": [
            "\r 27%|██▋       | 137/500 [02:12<11:03,  1.83s/it]"
          ]
        },
        {
          "name": "stdout",
          "output_type": "stream",
          "text": [
            "episode number is:  138\n"
          ]
        },
        {
          "name": "stderr",
          "output_type": "stream",
          "text": [
            "\r 28%|██▊       | 138/500 [02:14<10:57,  1.82s/it]"
          ]
        },
        {
          "name": "stdout",
          "output_type": "stream",
          "text": [
            "episode number is:  139\n"
          ]
        },
        {
          "name": "stderr",
          "output_type": "stream",
          "text": [
            "\r 28%|██▊       | 139/500 [02:15<10:21,  1.72s/it]"
          ]
        },
        {
          "name": "stdout",
          "output_type": "stream",
          "text": [
            "episode number is:  140\n",
            "Episode reward 1 ==> 251.42755617111277\n",
            "Episode reward 2 ==> 251.42755617111277\n",
            "Episode reward 3 ==> 251.42755617111277\n",
            "Episode reward 4 ==> 251.42755617111277\n",
            "Episode reward 5 ==> 251.42755617111277\n",
            "Episode reward 6 ==> 251.42755617111277\n",
            "Episode reward 7 ==> 251.42755617111277\n",
            "Episode reward 8 ==> 251.42755617111277\n",
            "Episode reward 9 ==> 251.42755617111277\n",
            "Episode reward 10 ==> 251.42755617111277\n",
            "avg_reward 251.42755617111257\n"
          ]
        },
        {
          "name": "stderr",
          "output_type": "stream",
          "text": [
            "\r 28%|██▊       | 140/500 [02:17<10:54,  1.82s/it]"
          ]
        },
        {
          "name": "stdout",
          "output_type": "stream",
          "text": [
            "episode number is:  141\n"
          ]
        },
        {
          "name": "stderr",
          "output_type": "stream",
          "text": [
            "\r 28%|██▊       | 141/500 [02:19<10:54,  1.82s/it]"
          ]
        },
        {
          "name": "stdout",
          "output_type": "stream",
          "text": [
            "episode number is:  142\n"
          ]
        },
        {
          "name": "stderr",
          "output_type": "stream",
          "text": [
            "\r 28%|██▊       | 142/500 [02:21<11:30,  1.93s/it]"
          ]
        },
        {
          "name": "stdout",
          "output_type": "stream",
          "text": [
            "episode number is:  143\n"
          ]
        },
        {
          "name": "stderr",
          "output_type": "stream",
          "text": [
            "\r 29%|██▊       | 143/500 [02:24<11:51,  1.99s/it]"
          ]
        },
        {
          "name": "stdout",
          "output_type": "stream",
          "text": [
            "episode number is:  144\n"
          ]
        },
        {
          "name": "stderr",
          "output_type": "stream",
          "text": [
            "\r 29%|██▉       | 144/500 [02:25<11:04,  1.87s/it]"
          ]
        },
        {
          "name": "stdout",
          "output_type": "stream",
          "text": [
            "episode number is:  145\n"
          ]
        },
        {
          "name": "stderr",
          "output_type": "stream",
          "text": [
            "\r 29%|██▉       | 145/500 [02:27<10:25,  1.76s/it]"
          ]
        },
        {
          "name": "stdout",
          "output_type": "stream",
          "text": [
            "episode number is:  146\n"
          ]
        },
        {
          "name": "stderr",
          "output_type": "stream",
          "text": [
            "\r 29%|██▉       | 146/500 [02:28<09:20,  1.58s/it]"
          ]
        },
        {
          "name": "stdout",
          "output_type": "stream",
          "text": [
            "episode number is:  147\n"
          ]
        },
        {
          "name": "stderr",
          "output_type": "stream",
          "text": [
            "\r 29%|██▉       | 147/500 [02:29<09:21,  1.59s/it]"
          ]
        },
        {
          "name": "stdout",
          "output_type": "stream",
          "text": [
            "episode number is:  148\n"
          ]
        },
        {
          "name": "stderr",
          "output_type": "stream",
          "text": [
            "\r 30%|██▉       | 148/500 [02:31<09:44,  1.66s/it]"
          ]
        },
        {
          "name": "stdout",
          "output_type": "stream",
          "text": [
            "episode number is:  149\n"
          ]
        },
        {
          "name": "stderr",
          "output_type": "stream",
          "text": [
            "\r 30%|██▉       | 149/500 [02:33<09:25,  1.61s/it]"
          ]
        },
        {
          "name": "stdout",
          "output_type": "stream",
          "text": [
            "episode number is:  150\n",
            "Episode reward 1 ==> 251.42755617111277\n",
            "Episode reward 2 ==> 251.42755617111277\n",
            "Episode reward 3 ==> 251.42755617111277\n",
            "Episode reward 4 ==> 251.42755617111277\n",
            "Episode reward 5 ==> 251.42755617111277\n",
            "Episode reward 6 ==> 251.42755617111277\n",
            "Episode reward 7 ==> 251.42755617111277\n",
            "Episode reward 8 ==> 251.42755617111277\n"
          ]
        },
        {
          "name": "stderr",
          "output_type": "stream",
          "text": [
            "\r 30%|███       | 150/500 [02:35<10:44,  1.84s/it]"
          ]
        },
        {
          "name": "stdout",
          "output_type": "stream",
          "text": [
            "Episode reward 9 ==> 251.42755617111277\n",
            "Episode reward 10 ==> 251.42755617111277\n",
            "avg_reward 251.42755617111257\n",
            "episode number is:  151\n"
          ]
        },
        {
          "name": "stderr",
          "output_type": "stream",
          "text": [
            "\r 30%|███       | 151/500 [02:37<11:30,  1.98s/it]"
          ]
        },
        {
          "name": "stdout",
          "output_type": "stream",
          "text": [
            "episode number is:  152\n"
          ]
        },
        {
          "name": "stderr",
          "output_type": "stream",
          "text": [
            "\r 30%|███       | 152/500 [02:39<11:23,  1.96s/it]"
          ]
        },
        {
          "name": "stdout",
          "output_type": "stream",
          "text": [
            "episode number is:  153\n"
          ]
        },
        {
          "name": "stderr",
          "output_type": "stream",
          "text": [
            "\r 31%|███       | 153/500 [02:41<10:32,  1.82s/it]"
          ]
        },
        {
          "name": "stdout",
          "output_type": "stream",
          "text": [
            "episode number is:  154\n"
          ]
        },
        {
          "name": "stderr",
          "output_type": "stream",
          "text": [
            "\r 31%|███       | 154/500 [02:42<09:56,  1.72s/it]"
          ]
        },
        {
          "name": "stdout",
          "output_type": "stream",
          "text": [
            "episode number is:  155\n"
          ]
        },
        {
          "name": "stderr",
          "output_type": "stream",
          "text": [
            "\r 31%|███       | 155/500 [02:44<09:34,  1.66s/it]"
          ]
        },
        {
          "name": "stdout",
          "output_type": "stream",
          "text": [
            "episode number is:  156\n"
          ]
        },
        {
          "name": "stderr",
          "output_type": "stream",
          "text": [
            "\r 31%|███       | 156/500 [02:45<08:43,  1.52s/it]"
          ]
        },
        {
          "name": "stdout",
          "output_type": "stream",
          "text": [
            "episode number is:  157\n"
          ]
        },
        {
          "name": "stderr",
          "output_type": "stream",
          "text": [
            "\r 31%|███▏      | 157/500 [02:47<08:53,  1.56s/it]"
          ]
        },
        {
          "name": "stdout",
          "output_type": "stream",
          "text": [
            "episode number is:  158\n"
          ]
        },
        {
          "name": "stderr",
          "output_type": "stream",
          "text": [
            "\r 32%|███▏      | 158/500 [02:48<09:22,  1.64s/it]"
          ]
        },
        {
          "name": "stdout",
          "output_type": "stream",
          "text": [
            "episode number is:  159\n"
          ]
        },
        {
          "name": "stderr",
          "output_type": "stream",
          "text": [
            "\r 32%|███▏      | 159/500 [02:51<10:03,  1.77s/it]"
          ]
        },
        {
          "name": "stdout",
          "output_type": "stream",
          "text": [
            "episode number is:  160\n",
            "Episode reward 1 ==> 251.42755617111277\n",
            "Episode reward 2 ==> 251.42755617111277\n",
            "Episode reward 3 ==> 251.42755617111277\n",
            "Episode reward 4 ==> 251.42755617111277\n",
            "Episode reward 5 ==> 251.42755617111277\n",
            "Episode reward 6 ==> 251.42755617111277\n",
            "Episode reward 7 ==> 251.42755617111277\n",
            "Episode reward 8 ==> 251.42755617111277\n"
          ]
        },
        {
          "name": "stderr",
          "output_type": "stream",
          "text": [
            "\r 32%|███▏      | 160/500 [02:53<11:47,  2.08s/it]"
          ]
        },
        {
          "name": "stdout",
          "output_type": "stream",
          "text": [
            "Episode reward 9 ==> 251.42755617111277\n",
            "Episode reward 10 ==> 251.42755617111277\n",
            "avg_reward 251.42755617111257\n",
            "episode number is:  161\n"
          ]
        },
        {
          "name": "stderr",
          "output_type": "stream",
          "text": [
            "\r 32%|███▏      | 161/500 [02:55<11:16,  2.00s/it]"
          ]
        },
        {
          "name": "stdout",
          "output_type": "stream",
          "text": [
            "episode number is:  162\n"
          ]
        },
        {
          "name": "stderr",
          "output_type": "stream",
          "text": [
            "\r 32%|███▏      | 162/500 [02:57<10:26,  1.85s/it]"
          ]
        },
        {
          "name": "stdout",
          "output_type": "stream",
          "text": [
            "episode number is:  163\n"
          ]
        },
        {
          "name": "stderr",
          "output_type": "stream",
          "text": [
            "\r 33%|███▎      | 163/500 [02:58<09:48,  1.75s/it]"
          ]
        },
        {
          "name": "stdout",
          "output_type": "stream",
          "text": [
            "episode number is:  164\n"
          ]
        },
        {
          "name": "stderr",
          "output_type": "stream",
          "text": [
            "\r 33%|███▎      | 164/500 [03:00<09:23,  1.68s/it]"
          ]
        },
        {
          "name": "stdout",
          "output_type": "stream",
          "text": [
            "episode number is:  165\n"
          ]
        },
        {
          "name": "stderr",
          "output_type": "stream",
          "text": [
            "\r 33%|███▎      | 165/500 [03:01<09:05,  1.63s/it]"
          ]
        },
        {
          "name": "stdout",
          "output_type": "stream",
          "text": [
            "episode number is:  166\n"
          ]
        },
        {
          "name": "stderr",
          "output_type": "stream",
          "text": [
            "\r 33%|███▎      | 166/500 [03:02<08:18,  1.49s/it]"
          ]
        },
        {
          "name": "stdout",
          "output_type": "stream",
          "text": [
            "episode number is:  167\n"
          ]
        },
        {
          "name": "stderr",
          "output_type": "stream",
          "text": [
            "\r 33%|███▎      | 167/500 [03:04<08:31,  1.54s/it]"
          ]
        },
        {
          "name": "stdout",
          "output_type": "stream",
          "text": [
            "episode number is:  168\n"
          ]
        },
        {
          "name": "stderr",
          "output_type": "stream",
          "text": [
            "\r 34%|███▎      | 168/500 [03:07<10:17,  1.86s/it]"
          ]
        },
        {
          "name": "stdout",
          "output_type": "stream",
          "text": [
            "episode number is:  169\n"
          ]
        },
        {
          "name": "stderr",
          "output_type": "stream",
          "text": [
            "\r 34%|███▍      | 169/500 [03:09<10:47,  1.96s/it]"
          ]
        },
        {
          "name": "stdout",
          "output_type": "stream",
          "text": [
            "episode number is:  170\n",
            "Episode reward 1 ==> 251.42755617111277\n",
            "Episode reward 2 ==> 251.42755617111277\n",
            "Episode reward 3 ==> 251.42755617111277\n",
            "Episode reward 4 ==> 251.42755617111277\n",
            "Episode reward 5 ==> 251.42755617111277\n",
            "Episode reward 6 ==> 251.42755617111277\n",
            "Episode reward 7 ==> 251.42755617111277\n",
            "Episode reward 8 ==> 251.42755617111277\n",
            "Episode reward 9 ==> 251.42755617111277\n",
            "Episode reward 10 ==> 251.42755617111277\n",
            "avg_reward 251.42755617111257\n"
          ]
        },
        {
          "name": "stderr",
          "output_type": "stream",
          "text": [
            "\r 34%|███▍      | 170/500 [03:11<10:57,  1.99s/it]"
          ]
        },
        {
          "name": "stdout",
          "output_type": "stream",
          "text": [
            "episode number is:  171\n"
          ]
        },
        {
          "name": "stderr",
          "output_type": "stream",
          "text": [
            "\r 34%|███▍      | 171/500 [03:13<10:18,  1.88s/it]"
          ]
        },
        {
          "name": "stdout",
          "output_type": "stream",
          "text": [
            "episode number is:  172\n"
          ]
        },
        {
          "name": "stderr",
          "output_type": "stream",
          "text": [
            "\r 34%|███▍      | 172/500 [03:14<09:38,  1.76s/it]"
          ]
        },
        {
          "name": "stdout",
          "output_type": "stream",
          "text": [
            "episode number is:  173\n"
          ]
        },
        {
          "name": "stderr",
          "output_type": "stream",
          "text": [
            "\r 35%|███▍      | 173/500 [03:15<09:08,  1.68s/it]"
          ]
        },
        {
          "name": "stdout",
          "output_type": "stream",
          "text": [
            "episode number is:  174\n"
          ]
        },
        {
          "name": "stderr",
          "output_type": "stream",
          "text": [
            "\r 35%|███▍      | 174/500 [03:17<08:50,  1.63s/it]"
          ]
        },
        {
          "name": "stdout",
          "output_type": "stream",
          "text": [
            "episode number is:  175\n"
          ]
        },
        {
          "name": "stderr",
          "output_type": "stream",
          "text": [
            "\r 35%|███▌      | 175/500 [03:18<08:38,  1.59s/it]"
          ]
        },
        {
          "name": "stdout",
          "output_type": "stream",
          "text": [
            "episode number is:  176\n"
          ]
        },
        {
          "name": "stderr",
          "output_type": "stream",
          "text": [
            "\r 35%|███▌      | 176/500 [03:20<08:26,  1.56s/it]"
          ]
        },
        {
          "name": "stdout",
          "output_type": "stream",
          "text": [
            "episode number is:  177\n"
          ]
        },
        {
          "name": "stderr",
          "output_type": "stream",
          "text": [
            "\r 35%|███▌      | 177/500 [03:22<09:41,  1.80s/it]"
          ]
        },
        {
          "name": "stdout",
          "output_type": "stream",
          "text": [
            "episode number is:  178\n"
          ]
        },
        {
          "name": "stderr",
          "output_type": "stream",
          "text": [
            "\r 36%|███▌      | 178/500 [03:25<10:34,  1.97s/it]"
          ]
        },
        {
          "name": "stdout",
          "output_type": "stream",
          "text": [
            "episode number is:  179\n"
          ]
        },
        {
          "name": "stderr",
          "output_type": "stream",
          "text": [
            "\r 36%|███▌      | 179/500 [03:26<09:45,  1.82s/it]"
          ]
        },
        {
          "name": "stdout",
          "output_type": "stream",
          "text": [
            "episode number is:  180\n",
            "Episode reward 1 ==> 251.42755617111277\n",
            "Episode reward 2 ==> 251.42755617111277\n",
            "Episode reward 3 ==> 251.42755617111277\n",
            "Episode reward 4 ==> 251.42755617111277\n",
            "Episode reward 5 ==> 251.42755617111277\n",
            "Episode reward 6 ==> 251.42755617111277\n"
          ]
        },
        {
          "name": "stderr",
          "output_type": "stream",
          "text": [
            "\r 36%|███▌      | 180/500 [03:28<09:55,  1.86s/it]"
          ]
        },
        {
          "name": "stdout",
          "output_type": "stream",
          "text": [
            "Episode reward 7 ==> 251.42755617111277\n",
            "Episode reward 8 ==> 251.42755617111277\n",
            "Episode reward 9 ==> 251.42755617111277\n",
            "Episode reward 10 ==> 251.42755617111277\n",
            "avg_reward 251.42755617111257\n",
            "episode number is:  181\n"
          ]
        },
        {
          "name": "stderr",
          "output_type": "stream",
          "text": [
            "\r 36%|███▌      | 181/500 [03:30<09:28,  1.78s/it]"
          ]
        },
        {
          "name": "stdout",
          "output_type": "stream",
          "text": [
            "episode number is:  182\n"
          ]
        },
        {
          "name": "stderr",
          "output_type": "stream",
          "text": [
            "\r 36%|███▋      | 182/500 [03:31<08:59,  1.70s/it]"
          ]
        },
        {
          "name": "stdout",
          "output_type": "stream",
          "text": [
            "episode number is:  183\n"
          ]
        },
        {
          "name": "stderr",
          "output_type": "stream",
          "text": [
            "\r 37%|███▋      | 183/500 [03:33<08:41,  1.65s/it]"
          ]
        },
        {
          "name": "stdout",
          "output_type": "stream",
          "text": [
            "episode number is:  184\n"
          ]
        },
        {
          "name": "stderr",
          "output_type": "stream",
          "text": [
            "\r 37%|███▋      | 184/500 [03:34<08:35,  1.63s/it]"
          ]
        },
        {
          "name": "stdout",
          "output_type": "stream",
          "text": [
            "episode number is:  185\n"
          ]
        },
        {
          "name": "stderr",
          "output_type": "stream",
          "text": [
            "\r 37%|███▋      | 185/500 [03:37<09:28,  1.81s/it]"
          ]
        },
        {
          "name": "stdout",
          "output_type": "stream",
          "text": [
            "episode number is:  186\n"
          ]
        },
        {
          "name": "stderr",
          "output_type": "stream",
          "text": [
            "\r 37%|███▋      | 186/500 [03:38<09:19,  1.78s/it]"
          ]
        },
        {
          "name": "stdout",
          "output_type": "stream",
          "text": [
            "episode number is:  187\n"
          ]
        },
        {
          "name": "stderr",
          "output_type": "stream",
          "text": [
            "\r 37%|███▋      | 187/500 [03:40<09:27,  1.81s/it]"
          ]
        },
        {
          "name": "stdout",
          "output_type": "stream",
          "text": [
            "episode number is:  188\n"
          ]
        },
        {
          "name": "stderr",
          "output_type": "stream",
          "text": [
            "\r 38%|███▊      | 188/500 [03:42<09:25,  1.81s/it]"
          ]
        },
        {
          "name": "stdout",
          "output_type": "stream",
          "text": [
            "episode number is:  189\n"
          ]
        },
        {
          "name": "stderr",
          "output_type": "stream",
          "text": [
            "\r 38%|███▊      | 189/500 [03:43<08:54,  1.72s/it]"
          ]
        },
        {
          "name": "stdout",
          "output_type": "stream",
          "text": [
            "episode number is:  190\n",
            "Episode reward 1 ==> 251.42755617111277\n",
            "Episode reward 2 ==> 251.42755617111277\n",
            "Episode reward 3 ==> 251.42755617111277\n",
            "Episode reward 4 ==> 251.42755617111277\n",
            "Episode reward 5 ==> 251.42755617111277\n",
            "Episode reward 6 ==> 251.42755617111277\n"
          ]
        },
        {
          "name": "stderr",
          "output_type": "stream",
          "text": [
            "\r 38%|███▊      | 190/500 [03:45<09:15,  1.79s/it]"
          ]
        },
        {
          "name": "stdout",
          "output_type": "stream",
          "text": [
            "Episode reward 7 ==> 251.42755617111277\n",
            "Episode reward 8 ==> 251.42755617111277\n",
            "Episode reward 9 ==> 251.42755617111277\n",
            "Episode reward 10 ==> 251.42755617111277\n",
            "avg_reward 251.42755617111257\n",
            "episode number is:  191\n"
          ]
        },
        {
          "name": "stderr",
          "output_type": "stream",
          "text": [
            "\r 38%|███▊      | 191/500 [03:47<09:00,  1.75s/it]"
          ]
        },
        {
          "name": "stdout",
          "output_type": "stream",
          "text": [
            "episode number is:  192\n"
          ]
        },
        {
          "name": "stderr",
          "output_type": "stream",
          "text": [
            "\r 38%|███▊      | 192/500 [03:49<08:39,  1.69s/it]"
          ]
        },
        {
          "name": "stdout",
          "output_type": "stream",
          "text": [
            "episode number is:  193\n"
          ]
        },
        {
          "name": "stderr",
          "output_type": "stream",
          "text": [
            "\r 39%|███▊      | 193/500 [03:51<08:58,  1.76s/it]"
          ]
        },
        {
          "name": "stdout",
          "output_type": "stream",
          "text": [
            "episode number is:  194\n"
          ]
        },
        {
          "name": "stderr",
          "output_type": "stream",
          "text": [
            "\r 39%|███▉      | 194/500 [03:53<09:36,  1.89s/it]"
          ]
        },
        {
          "name": "stdout",
          "output_type": "stream",
          "text": [
            "episode number is:  195\n"
          ]
        },
        {
          "name": "stderr",
          "output_type": "stream",
          "text": [
            "\r 39%|███▉      | 195/500 [03:55<09:50,  1.93s/it]"
          ]
        },
        {
          "name": "stdout",
          "output_type": "stream",
          "text": [
            "episode number is:  196\n"
          ]
        },
        {
          "name": "stderr",
          "output_type": "stream",
          "text": [
            "\r 39%|███▉      | 196/500 [03:56<08:41,  1.72s/it]"
          ]
        },
        {
          "name": "stdout",
          "output_type": "stream",
          "text": [
            "episode number is:  197\n"
          ]
        },
        {
          "name": "stderr",
          "output_type": "stream",
          "text": [
            "\r 39%|███▉      | 197/500 [03:58<08:30,  1.68s/it]"
          ]
        },
        {
          "name": "stdout",
          "output_type": "stream",
          "text": [
            "episode number is:  198\n"
          ]
        },
        {
          "name": "stderr",
          "output_type": "stream",
          "text": [
            "\r 40%|███▉      | 198/500 [03:59<08:42,  1.73s/it]"
          ]
        },
        {
          "name": "stdout",
          "output_type": "stream",
          "text": [
            "episode number is:  199\n"
          ]
        },
        {
          "name": "stderr",
          "output_type": "stream",
          "text": [
            "\r 40%|███▉      | 199/500 [04:01<08:19,  1.66s/it]"
          ]
        },
        {
          "name": "stdout",
          "output_type": "stream",
          "text": [
            "episode number is:  200\n",
            "Episode reward 1 ==> 251.42755617111277\n",
            "Episode reward 2 ==> 251.42755617111277\n",
            "Episode reward 3 ==> 251.42755617111277\n",
            "Episode reward 4 ==> 251.42755617111277\n",
            "Episode reward 5 ==> 251.42755617111277\n",
            "Episode reward 6 ==> 251.42755617111277\n"
          ]
        },
        {
          "name": "stderr",
          "output_type": "stream",
          "text": [
            "\r 40%|████      | 200/500 [04:03<08:47,  1.76s/it]"
          ]
        },
        {
          "name": "stdout",
          "output_type": "stream",
          "text": [
            "Episode reward 7 ==> 251.42755617111277\n",
            "Episode reward 8 ==> 251.42755617111277\n",
            "Episode reward 9 ==> 251.42755617111277\n",
            "Episode reward 10 ==> 251.42755617111277\n",
            "avg_reward 251.42755617111257\n",
            "episode number is:  201\n"
          ]
        },
        {
          "name": "stderr",
          "output_type": "stream",
          "text": [
            "\r 40%|████      | 201/500 [04:05<08:43,  1.75s/it]"
          ]
        },
        {
          "name": "stdout",
          "output_type": "stream",
          "text": [
            "episode number is:  202\n"
          ]
        },
        {
          "name": "stderr",
          "output_type": "stream",
          "text": [
            "\r 40%|████      | 202/500 [04:07<09:21,  1.88s/it]"
          ]
        },
        {
          "name": "stdout",
          "output_type": "stream",
          "text": [
            "episode number is:  203\n"
          ]
        },
        {
          "name": "stderr",
          "output_type": "stream",
          "text": [
            "\r 41%|████      | 203/500 [04:09<09:41,  1.96s/it]"
          ]
        },
        {
          "name": "stdout",
          "output_type": "stream",
          "text": [
            "episode number is:  204\n"
          ]
        },
        {
          "name": "stderr",
          "output_type": "stream",
          "text": [
            "\r 41%|████      | 204/500 [04:11<09:14,  1.87s/it]"
          ]
        },
        {
          "name": "stdout",
          "output_type": "stream",
          "text": [
            "episode number is:  205\n"
          ]
        },
        {
          "name": "stderr",
          "output_type": "stream",
          "text": [
            "\r 41%|████      | 205/500 [04:12<08:41,  1.77s/it]"
          ]
        },
        {
          "name": "stdout",
          "output_type": "stream",
          "text": [
            "episode number is:  206\n"
          ]
        },
        {
          "name": "stderr",
          "output_type": "stream",
          "text": [
            "\r 41%|████      | 206/500 [04:13<07:49,  1.60s/it]"
          ]
        },
        {
          "name": "stdout",
          "output_type": "stream",
          "text": [
            "episode number is:  207\n"
          ]
        },
        {
          "name": "stderr",
          "output_type": "stream",
          "text": [
            "\r 41%|████▏     | 207/500 [04:15<07:49,  1.60s/it]"
          ]
        },
        {
          "name": "stdout",
          "output_type": "stream",
          "text": [
            "episode number is:  208\n"
          ]
        },
        {
          "name": "stderr",
          "output_type": "stream",
          "text": [
            "\r 42%|████▏     | 208/500 [04:17<08:06,  1.66s/it]"
          ]
        },
        {
          "name": "stdout",
          "output_type": "stream",
          "text": [
            "episode number is:  209\n"
          ]
        },
        {
          "name": "stderr",
          "output_type": "stream",
          "text": [
            "\r 42%|████▏     | 209/500 [04:18<07:54,  1.63s/it]"
          ]
        },
        {
          "name": "stdout",
          "output_type": "stream",
          "text": [
            "episode number is:  210\n",
            "Episode reward 1 ==> 251.42755617111277\n",
            "Episode reward 2 ==> 251.42755617111277\n",
            "Episode reward 3 ==> 251.42755617111277\n",
            "Episode reward 4 ==> 251.42755617111277\n",
            "Episode reward 5 ==> 251.42755617111277\n",
            "Episode reward 6 ==> 251.42755617111277\n",
            "Episode reward 7 ==> 251.42755617111277\n"
          ]
        },
        {
          "name": "stderr",
          "output_type": "stream",
          "text": [
            "\r 42%|████▏     | 210/500 [04:21<08:58,  1.86s/it]"
          ]
        },
        {
          "name": "stdout",
          "output_type": "stream",
          "text": [
            "Episode reward 8 ==> 251.42755617111277\n",
            "Episode reward 9 ==> 251.42755617111277\n",
            "Episode reward 10 ==> 251.42755617111277\n",
            "avg_reward 251.42755617111257\n",
            "episode number is:  211\n"
          ]
        },
        {
          "name": "stderr",
          "output_type": "stream",
          "text": [
            "\r 42%|████▏     | 211/500 [04:23<09:37,  2.00s/it]"
          ]
        },
        {
          "name": "stdout",
          "output_type": "stream",
          "text": [
            "episode number is:  212\n"
          ]
        },
        {
          "name": "stderr",
          "output_type": "stream",
          "text": [
            "\r 42%|████▏     | 212/500 [04:25<09:38,  2.01s/it]"
          ]
        },
        {
          "name": "stdout",
          "output_type": "stream",
          "text": [
            "episode number is:  213\n"
          ]
        },
        {
          "name": "stderr",
          "output_type": "stream",
          "text": [
            "\r 43%|████▎     | 213/500 [04:27<08:50,  1.85s/it]"
          ]
        },
        {
          "name": "stdout",
          "output_type": "stream",
          "text": [
            "episode number is:  214\n"
          ]
        },
        {
          "name": "stderr",
          "output_type": "stream",
          "text": [
            "\r 43%|████▎     | 214/500 [04:28<08:18,  1.74s/it]"
          ]
        },
        {
          "name": "stdout",
          "output_type": "stream",
          "text": [
            "episode number is:  215\n"
          ]
        },
        {
          "name": "stderr",
          "output_type": "stream",
          "text": [
            "\r 43%|████▎     | 215/500 [04:30<07:58,  1.68s/it]"
          ]
        },
        {
          "name": "stdout",
          "output_type": "stream",
          "text": [
            "episode number is:  216\n"
          ]
        },
        {
          "name": "stderr",
          "output_type": "stream",
          "text": [
            "\r 43%|████▎     | 216/500 [04:31<07:15,  1.53s/it]"
          ]
        },
        {
          "name": "stdout",
          "output_type": "stream",
          "text": [
            "episode number is:  217\n"
          ]
        },
        {
          "name": "stderr",
          "output_type": "stream",
          "text": [
            "\r 43%|████▎     | 217/500 [04:32<07:23,  1.57s/it]"
          ]
        },
        {
          "name": "stdout",
          "output_type": "stream",
          "text": [
            "episode number is:  218\n"
          ]
        },
        {
          "name": "stderr",
          "output_type": "stream",
          "text": [
            "\r 44%|████▎     | 218/500 [04:34<07:43,  1.64s/it]"
          ]
        },
        {
          "name": "stdout",
          "output_type": "stream",
          "text": [
            "episode number is:  219\n"
          ]
        },
        {
          "name": "stderr",
          "output_type": "stream",
          "text": [
            "\r 44%|████▍     | 219/500 [04:36<08:16,  1.77s/it]"
          ]
        },
        {
          "name": "stdout",
          "output_type": "stream",
          "text": [
            "episode number is:  220\n",
            "Episode reward 1 ==> 251.42755617111277\n",
            "Episode reward 2 ==> 251.42755617111277\n",
            "Episode reward 3 ==> 251.42755617111277\n",
            "Episode reward 4 ==> 251.42755617111277\n",
            "Episode reward 5 ==> 251.42755617111277\n",
            "Episode reward 6 ==> 251.42755617111277\n",
            "Episode reward 7 ==> 251.42755617111277\n",
            "Episode reward 8 ==> 251.42755617111277\n"
          ]
        },
        {
          "name": "stderr",
          "output_type": "stream",
          "text": [
            "\r 44%|████▍     | 220/500 [04:39<09:43,  2.08s/it]"
          ]
        },
        {
          "name": "stdout",
          "output_type": "stream",
          "text": [
            "Episode reward 9 ==> 251.42755617111277\n",
            "Episode reward 10 ==> 251.42755617111277\n",
            "avg_reward 251.42755617111257\n",
            "episode number is:  221\n"
          ]
        },
        {
          "name": "stderr",
          "output_type": "stream",
          "text": [
            "\r 44%|████▍     | 221/500 [04:41<09:18,  2.00s/it]"
          ]
        },
        {
          "name": "stdout",
          "output_type": "stream",
          "text": [
            "episode number is:  222\n"
          ]
        },
        {
          "name": "stderr",
          "output_type": "stream",
          "text": [
            "\r 44%|████▍     | 222/500 [04:42<08:36,  1.86s/it]"
          ]
        },
        {
          "name": "stdout",
          "output_type": "stream",
          "text": [
            "episode number is:  223\n"
          ]
        },
        {
          "name": "stderr",
          "output_type": "stream",
          "text": [
            "\r 45%|████▍     | 223/500 [04:44<08:03,  1.74s/it]"
          ]
        },
        {
          "name": "stdout",
          "output_type": "stream",
          "text": [
            "episode number is:  224\n"
          ]
        },
        {
          "name": "stderr",
          "output_type": "stream",
          "text": [
            "\r 45%|████▍     | 224/500 [04:45<07:41,  1.67s/it]"
          ]
        },
        {
          "name": "stdout",
          "output_type": "stream",
          "text": [
            "episode number is:  225\n"
          ]
        },
        {
          "name": "stderr",
          "output_type": "stream",
          "text": [
            "\r 45%|████▌     | 225/500 [04:47<07:27,  1.63s/it]"
          ]
        },
        {
          "name": "stdout",
          "output_type": "stream",
          "text": [
            "episode number is:  226\n"
          ]
        },
        {
          "name": "stderr",
          "output_type": "stream",
          "text": [
            "\r 45%|████▌     | 226/500 [04:48<06:51,  1.50s/it]"
          ]
        },
        {
          "name": "stdout",
          "output_type": "stream",
          "text": [
            "episode number is:  227\n"
          ]
        },
        {
          "name": "stderr",
          "output_type": "stream",
          "text": [
            "\r 45%|████▌     | 227/500 [04:50<07:04,  1.56s/it]"
          ]
        },
        {
          "name": "stdout",
          "output_type": "stream",
          "text": [
            "episode number is:  228\n"
          ]
        },
        {
          "name": "stderr",
          "output_type": "stream",
          "text": [
            "\r 46%|████▌     | 228/500 [04:53<08:30,  1.88s/it]"
          ]
        },
        {
          "name": "stdout",
          "output_type": "stream",
          "text": [
            "episode number is:  229\n"
          ]
        },
        {
          "name": "stderr",
          "output_type": "stream",
          "text": [
            "\r 46%|████▌     | 229/500 [04:55<08:58,  1.99s/it]"
          ]
        },
        {
          "name": "stdout",
          "output_type": "stream",
          "text": [
            "episode number is:  230\n",
            "Episode reward 1 ==> 251.42755617111277\n",
            "Episode reward 2 ==> 251.42755617111277\n",
            "Episode reward 3 ==> 251.42755617111277\n",
            "Episode reward 4 ==> 251.42755617111277\n",
            "Episode reward 5 ==> 251.42755617111277\n",
            "Episode reward 6 ==> 251.42755617111277\n",
            "Episode reward 7 ==> 251.42755617111277\n",
            "Episode reward 8 ==> 251.42755617111277\n",
            "Episode reward 9 ==> 251.42755617111277\n",
            "Episode reward 10 ==> 251.42755617111277\n",
            "avg_reward 251.42755617111257\n"
          ]
        },
        {
          "name": "stderr",
          "output_type": "stream",
          "text": [
            "\r 46%|████▌     | 230/500 [04:57<08:59,  2.00s/it]"
          ]
        },
        {
          "name": "stdout",
          "output_type": "stream",
          "text": [
            "episode number is:  231\n"
          ]
        },
        {
          "name": "stderr",
          "output_type": "stream",
          "text": [
            "\r 46%|████▌     | 231/500 [04:58<08:30,  1.90s/it]"
          ]
        },
        {
          "name": "stdout",
          "output_type": "stream",
          "text": [
            "episode number is:  232\n"
          ]
        },
        {
          "name": "stderr",
          "output_type": "stream",
          "text": [
            "\r 46%|████▋     | 232/500 [05:00<08:02,  1.80s/it]"
          ]
        },
        {
          "name": "stdout",
          "output_type": "stream",
          "text": [
            "episode number is:  233\n"
          ]
        },
        {
          "name": "stderr",
          "output_type": "stream",
          "text": [
            "\r 47%|████▋     | 233/500 [05:02<07:37,  1.71s/it]"
          ]
        },
        {
          "name": "stdout",
          "output_type": "stream",
          "text": [
            "episode number is:  234\n"
          ]
        },
        {
          "name": "stderr",
          "output_type": "stream",
          "text": [
            "\r 47%|████▋     | 234/500 [05:03<07:18,  1.65s/it]"
          ]
        },
        {
          "name": "stdout",
          "output_type": "stream",
          "text": [
            "episode number is:  235\n"
          ]
        },
        {
          "name": "stderr",
          "output_type": "stream",
          "text": [
            "\r 47%|████▋     | 235/500 [05:05<07:07,  1.61s/it]"
          ]
        },
        {
          "name": "stdout",
          "output_type": "stream",
          "text": [
            "episode number is:  236\n"
          ]
        },
        {
          "name": "stderr",
          "output_type": "stream",
          "text": [
            "\r 47%|████▋     | 236/500 [05:06<07:05,  1.61s/it]"
          ]
        },
        {
          "name": "stdout",
          "output_type": "stream",
          "text": [
            "episode number is:  237\n"
          ]
        },
        {
          "name": "stderr",
          "output_type": "stream",
          "text": [
            "\r 47%|████▋     | 237/500 [05:09<08:02,  1.84s/it]"
          ]
        },
        {
          "name": "stdout",
          "output_type": "stream",
          "text": [
            "episode number is:  238\n"
          ]
        },
        {
          "name": "stderr",
          "output_type": "stream",
          "text": [
            "\r 48%|████▊     | 238/500 [05:11<08:35,  1.97s/it]"
          ]
        },
        {
          "name": "stdout",
          "output_type": "stream",
          "text": [
            "episode number is:  239\n"
          ]
        },
        {
          "name": "stderr",
          "output_type": "stream",
          "text": [
            "\r 48%|████▊     | 239/500 [05:12<07:59,  1.84s/it]"
          ]
        },
        {
          "name": "stdout",
          "output_type": "stream",
          "text": [
            "episode number is:  240\n",
            "Episode reward 1 ==> 251.42755617111277\n",
            "Episode reward 2 ==> 251.42755617111277\n",
            "Episode reward 3 ==> 251.42755617111277\n",
            "Episode reward 4 ==> 251.42755617111277\n",
            "Episode reward 5 ==> 251.42755617111277\n",
            "Episode reward 6 ==> 251.42755617111277\n",
            "Episode reward 7 ==> 251.42755617111277\n",
            "Episode reward 8 ==> 251.42755617111277\n",
            "Episode reward 9 ==> 251.42755617111277\n",
            "Episode reward 10 ==> 251.42755617111277\n",
            "avg_reward 251.42755617111257\n"
          ]
        },
        {
          "name": "stderr",
          "output_type": "stream",
          "text": [
            "\r 48%|████▊     | 240/500 [05:14<08:11,  1.89s/it]"
          ]
        },
        {
          "name": "stdout",
          "output_type": "stream",
          "text": [
            "episode number is:  241\n"
          ]
        },
        {
          "name": "stderr",
          "output_type": "stream",
          "text": [
            "\r 48%|████▊     | 241/500 [05:16<07:48,  1.81s/it]"
          ]
        },
        {
          "name": "stdout",
          "output_type": "stream",
          "text": [
            "episode number is:  242\n"
          ]
        },
        {
          "name": "stderr",
          "output_type": "stream",
          "text": [
            "\r 48%|████▊     | 242/500 [05:18<07:28,  1.74s/it]"
          ]
        },
        {
          "name": "stdout",
          "output_type": "stream",
          "text": [
            "episode number is:  243\n"
          ]
        },
        {
          "name": "stderr",
          "output_type": "stream",
          "text": [
            "\r 49%|████▊     | 243/500 [05:19<07:06,  1.66s/it]"
          ]
        },
        {
          "name": "stdout",
          "output_type": "stream",
          "text": [
            "episode number is:  244\n"
          ]
        },
        {
          "name": "stderr",
          "output_type": "stream",
          "text": [
            "\r 49%|████▉     | 244/500 [05:21<07:16,  1.71s/it]"
          ]
        },
        {
          "name": "stdout",
          "output_type": "stream",
          "text": [
            "episode number is:  245\n"
          ]
        },
        {
          "name": "stderr",
          "output_type": "stream",
          "text": [
            "\r 49%|████▉     | 245/500 [05:23<07:53,  1.86s/it]"
          ]
        },
        {
          "name": "stdout",
          "output_type": "stream",
          "text": [
            "episode number is:  246\n"
          ]
        },
        {
          "name": "stderr",
          "output_type": "stream",
          "text": [
            "\r 49%|████▉     | 246/500 [05:25<07:45,  1.83s/it]"
          ]
        },
        {
          "name": "stdout",
          "output_type": "stream",
          "text": [
            "episode number is:  247\n"
          ]
        },
        {
          "name": "stderr",
          "output_type": "stream",
          "text": [
            "\r 49%|████▉     | 247/500 [05:27<07:35,  1.80s/it]"
          ]
        },
        {
          "name": "stdout",
          "output_type": "stream",
          "text": [
            "episode number is:  248\n"
          ]
        },
        {
          "name": "stderr",
          "output_type": "stream",
          "text": [
            "\r 50%|████▉     | 248/500 [05:28<07:37,  1.82s/it]"
          ]
        },
        {
          "name": "stdout",
          "output_type": "stream",
          "text": [
            "episode number is:  249\n"
          ]
        },
        {
          "name": "stderr",
          "output_type": "stream",
          "text": [
            "\r 50%|████▉     | 249/500 [05:30<07:15,  1.73s/it]"
          ]
        },
        {
          "name": "stdout",
          "output_type": "stream",
          "text": [
            "episode number is:  250\n",
            "Episode reward 1 ==> 251.42755617111277\n",
            "Episode reward 2 ==> 251.42755617111277\n",
            "Episode reward 3 ==> 251.42755617111277\n",
            "Episode reward 4 ==> 251.42755617111277\n",
            "Episode reward 5 ==> 251.42755617111277\n",
            "Episode reward 6 ==> 251.42755617111277\n",
            "Episode reward 7 ==> 251.42755617111277\n",
            "Episode reward 8 ==> 251.42755617111277\n",
            "Episode reward 9 ==> 251.42755617111277\n",
            "Episode reward 10 ==> 251.42755617111277\n",
            "avg_reward 251.42755617111257\n"
          ]
        },
        {
          "name": "stderr",
          "output_type": "stream",
          "text": [
            "\r 50%|█████     | 250/500 [05:32<07:34,  1.82s/it]"
          ]
        },
        {
          "name": "stdout",
          "output_type": "stream",
          "text": [
            "episode number is:  251\n"
          ]
        },
        {
          "name": "stderr",
          "output_type": "stream",
          "text": [
            "\r 50%|█████     | 251/500 [05:34<07:19,  1.77s/it]"
          ]
        },
        {
          "name": "stdout",
          "output_type": "stream",
          "text": [
            "episode number is:  252\n"
          ]
        },
        {
          "name": "stderr",
          "output_type": "stream",
          "text": [
            "\r 50%|█████     | 252/500 [05:35<07:00,  1.70s/it]"
          ]
        },
        {
          "name": "stdout",
          "output_type": "stream",
          "text": [
            "episode number is:  253\n"
          ]
        },
        {
          "name": "stderr",
          "output_type": "stream",
          "text": [
            "\r 51%|█████     | 253/500 [05:37<07:31,  1.83s/it]"
          ]
        },
        {
          "name": "stdout",
          "output_type": "stream",
          "text": [
            "episode number is:  254\n"
          ]
        },
        {
          "name": "stderr",
          "output_type": "stream",
          "text": [
            "\r 51%|█████     | 254/500 [05:39<08:00,  1.95s/it]"
          ]
        },
        {
          "name": "stdout",
          "output_type": "stream",
          "text": [
            "episode number is:  255\n"
          ]
        },
        {
          "name": "stderr",
          "output_type": "stream",
          "text": [
            "\r 51%|█████     | 255/500 [05:41<07:43,  1.89s/it]"
          ]
        },
        {
          "name": "stdout",
          "output_type": "stream",
          "text": [
            "episode number is:  256\n"
          ]
        },
        {
          "name": "stderr",
          "output_type": "stream",
          "text": [
            "\r 51%|█████     | 256/500 [05:42<06:51,  1.69s/it]"
          ]
        },
        {
          "name": "stdout",
          "output_type": "stream",
          "text": [
            "episode number is:  257\n"
          ]
        },
        {
          "name": "stderr",
          "output_type": "stream",
          "text": [
            "\r 51%|█████▏    | 257/500 [05:44<06:45,  1.67s/it]"
          ]
        },
        {
          "name": "stdout",
          "output_type": "stream",
          "text": [
            "episode number is:  258\n"
          ]
        },
        {
          "name": "stderr",
          "output_type": "stream",
          "text": [
            "\r 52%|█████▏    | 258/500 [05:46<06:55,  1.72s/it]"
          ]
        },
        {
          "name": "stdout",
          "output_type": "stream",
          "text": [
            "episode number is:  259\n"
          ]
        },
        {
          "name": "stderr",
          "output_type": "stream",
          "text": [
            "\r 52%|█████▏    | 259/500 [05:47<06:40,  1.66s/it]"
          ]
        },
        {
          "name": "stdout",
          "output_type": "stream",
          "text": [
            "episode number is:  260\n",
            "Episode reward 1 ==> 251.42755617111277\n",
            "Episode reward 2 ==> 251.42755617111277\n",
            "Episode reward 3 ==> 251.42755617111277\n",
            "Episode reward 4 ==> 251.42755617111277\n",
            "Episode reward 5 ==> 251.42755617111277\n",
            "Episode reward 6 ==> 251.42755617111277\n"
          ]
        },
        {
          "name": "stderr",
          "output_type": "stream",
          "text": [
            "\r 52%|█████▏    | 260/500 [05:49<07:04,  1.77s/it]"
          ]
        },
        {
          "name": "stdout",
          "output_type": "stream",
          "text": [
            "Episode reward 7 ==> 251.42755617111277\n",
            "Episode reward 8 ==> 251.42755617111277\n",
            "Episode reward 9 ==> 251.42755617111277\n",
            "Episode reward 10 ==> 251.42755617111277\n",
            "avg_reward 251.42755617111257\n",
            "episode number is:  261\n"
          ]
        },
        {
          "name": "stderr",
          "output_type": "stream",
          "text": [
            "\r 52%|█████▏    | 261/500 [05:51<07:20,  1.84s/it]"
          ]
        },
        {
          "name": "stdout",
          "output_type": "stream",
          "text": [
            "episode number is:  262\n"
          ]
        },
        {
          "name": "stderr",
          "output_type": "stream",
          "text": [
            "\r 52%|█████▏    | 262/500 [05:54<07:43,  1.95s/it]"
          ]
        },
        {
          "name": "stdout",
          "output_type": "stream",
          "text": [
            "episode number is:  263\n"
          ]
        },
        {
          "name": "stderr",
          "output_type": "stream",
          "text": [
            "\r 53%|█████▎    | 263/500 [05:56<07:46,  1.97s/it]"
          ]
        },
        {
          "name": "stdout",
          "output_type": "stream",
          "text": [
            "episode number is:  264\n"
          ]
        },
        {
          "name": "stderr",
          "output_type": "stream",
          "text": [
            "\r 53%|█████▎    | 264/500 [05:57<07:13,  1.84s/it]"
          ]
        },
        {
          "name": "stdout",
          "output_type": "stream",
          "text": [
            "episode number is:  265\n"
          ]
        },
        {
          "name": "stderr",
          "output_type": "stream",
          "text": [
            "\r 53%|█████▎    | 265/500 [05:59<06:50,  1.75s/it]"
          ]
        },
        {
          "name": "stdout",
          "output_type": "stream",
          "text": [
            "episode number is:  266\n"
          ]
        },
        {
          "name": "stderr",
          "output_type": "stream",
          "text": [
            "\r 53%|█████▎    | 266/500 [06:00<06:12,  1.59s/it]"
          ]
        },
        {
          "name": "stdout",
          "output_type": "stream",
          "text": [
            "episode number is:  267\n"
          ]
        },
        {
          "name": "stderr",
          "output_type": "stream",
          "text": [
            "\r 53%|█████▎    | 267/500 [06:02<06:12,  1.60s/it]"
          ]
        },
        {
          "name": "stdout",
          "output_type": "stream",
          "text": [
            "episode number is:  268\n"
          ]
        },
        {
          "name": "stderr",
          "output_type": "stream",
          "text": [
            "\r 54%|█████▎    | 268/500 [06:03<06:25,  1.66s/it]"
          ]
        },
        {
          "name": "stdout",
          "output_type": "stream",
          "text": [
            "episode number is:  269\n"
          ]
        },
        {
          "name": "stderr",
          "output_type": "stream",
          "text": [
            "\r 54%|█████▍    | 269/500 [06:05<06:13,  1.62s/it]"
          ]
        },
        {
          "name": "stdout",
          "output_type": "stream",
          "text": [
            "episode number is:  270\n",
            "Episode reward 1 ==> 251.42755617111277\n",
            "Episode reward 2 ==> 251.42755617111277\n",
            "Episode reward 3 ==> 251.42755617111277\n",
            "Episode reward 4 ==> 251.42755617111277\n",
            "Episode reward 5 ==> 251.42755617111277\n",
            "Episode reward 6 ==> 251.42755617111277\n",
            "Episode reward 7 ==> 251.42755617111277\n",
            "Episode reward 8 ==> 251.42755617111277\n"
          ]
        },
        {
          "name": "stderr",
          "output_type": "stream",
          "text": [
            "\r 54%|█████▍    | 270/500 [06:08<07:24,  1.93s/it]"
          ]
        },
        {
          "name": "stdout",
          "output_type": "stream",
          "text": [
            "Episode reward 9 ==> 251.42755617111277\n",
            "Episode reward 10 ==> 251.42755617111277\n",
            "avg_reward 251.42755617111257\n",
            "episode number is:  271\n"
          ]
        },
        {
          "name": "stderr",
          "output_type": "stream",
          "text": [
            "\r 54%|█████▍    | 271/500 [06:10<07:52,  2.06s/it]"
          ]
        },
        {
          "name": "stdout",
          "output_type": "stream",
          "text": [
            "episode number is:  272\n"
          ]
        },
        {
          "name": "stderr",
          "output_type": "stream",
          "text": [
            "\r 54%|█████▍    | 272/500 [06:12<07:22,  1.94s/it]"
          ]
        },
        {
          "name": "stdout",
          "output_type": "stream",
          "text": [
            "episode number is:  273\n"
          ]
        },
        {
          "name": "stderr",
          "output_type": "stream",
          "text": [
            "\r 55%|█████▍    | 273/500 [06:13<06:49,  1.80s/it]"
          ]
        },
        {
          "name": "stdout",
          "output_type": "stream",
          "text": [
            "episode number is:  274\n"
          ]
        },
        {
          "name": "stderr",
          "output_type": "stream",
          "text": [
            "\r 55%|█████▍    | 274/500 [06:15<06:29,  1.72s/it]"
          ]
        },
        {
          "name": "stdout",
          "output_type": "stream",
          "text": [
            "episode number is:  275\n"
          ]
        },
        {
          "name": "stderr",
          "output_type": "stream",
          "text": [
            "\r 55%|█████▌    | 275/500 [06:16<06:11,  1.65s/it]"
          ]
        },
        {
          "name": "stdout",
          "output_type": "stream",
          "text": [
            "episode number is:  276\n"
          ]
        },
        {
          "name": "stderr",
          "output_type": "stream",
          "text": [
            "\r 55%|█████▌    | 276/500 [06:17<05:39,  1.52s/it]"
          ]
        },
        {
          "name": "stdout",
          "output_type": "stream",
          "text": [
            "episode number is:  277\n"
          ]
        },
        {
          "name": "stderr",
          "output_type": "stream",
          "text": [
            "\r 55%|█████▌    | 277/500 [06:19<05:47,  1.56s/it]"
          ]
        },
        {
          "name": "stdout",
          "output_type": "stream",
          "text": [
            "episode number is:  278\n"
          ]
        },
        {
          "name": "stderr",
          "output_type": "stream",
          "text": [
            "\r 56%|█████▌    | 278/500 [06:21<06:13,  1.68s/it]"
          ]
        },
        {
          "name": "stdout",
          "output_type": "stream",
          "text": [
            "episode number is:  279\n"
          ]
        },
        {
          "name": "stderr",
          "output_type": "stream",
          "text": [
            "\r 56%|█████▌    | 279/500 [06:23<06:45,  1.84s/it]"
          ]
        },
        {
          "name": "stdout",
          "output_type": "stream",
          "text": [
            "episode number is:  280\n",
            "Episode reward 1 ==> 251.42755617111277\n",
            "Episode reward 2 ==> 251.42755617111277\n",
            "Episode reward 3 ==> 251.42755617111277\n",
            "Episode reward 4 ==> 251.42755617111277\n",
            "Episode reward 5 ==> 251.42755617111277\n",
            "Episode reward 6 ==> 251.42755617111277\n",
            "Episode reward 7 ==> 251.42755617111277\n",
            "Episode reward 8 ==> 251.42755617111277\n",
            "Episode reward 9 ==> 251.42755617111277\n",
            "Episode reward 10 ==> 251.42755617111277\n",
            "avg_reward 251.42755617111257\n"
          ]
        },
        {
          "name": "stderr",
          "output_type": "stream",
          "text": [
            "\r 56%|█████▌    | 280/500 [06:26<07:46,  2.12s/it]"
          ]
        },
        {
          "name": "stdout",
          "output_type": "stream",
          "text": [
            "episode number is:  281\n"
          ]
        },
        {
          "name": "stderr",
          "output_type": "stream",
          "text": [
            "\r 56%|█████▌    | 281/500 [06:28<07:10,  1.97s/it]"
          ]
        },
        {
          "name": "stdout",
          "output_type": "stream",
          "text": [
            "episode number is:  282\n"
          ]
        },
        {
          "name": "stderr",
          "output_type": "stream",
          "text": [
            "\r 56%|█████▋    | 282/500 [06:29<06:37,  1.82s/it]"
          ]
        },
        {
          "name": "stdout",
          "output_type": "stream",
          "text": [
            "episode number is:  283\n"
          ]
        },
        {
          "name": "stderr",
          "output_type": "stream",
          "text": [
            "\r 57%|█████▋    | 283/500 [06:31<06:15,  1.73s/it]"
          ]
        },
        {
          "name": "stdout",
          "output_type": "stream",
          "text": [
            "episode number is:  284\n"
          ]
        },
        {
          "name": "stderr",
          "output_type": "stream",
          "text": [
            "\r 57%|█████▋    | 284/500 [06:32<05:58,  1.66s/it]"
          ]
        },
        {
          "name": "stdout",
          "output_type": "stream",
          "text": [
            "episode number is:  285\n"
          ]
        },
        {
          "name": "stderr",
          "output_type": "stream",
          "text": [
            "\r 57%|█████▋    | 285/500 [06:34<05:49,  1.63s/it]"
          ]
        },
        {
          "name": "stdout",
          "output_type": "stream",
          "text": [
            "episode number is:  286\n"
          ]
        },
        {
          "name": "stderr",
          "output_type": "stream",
          "text": [
            "\r 57%|█████▋    | 286/500 [06:35<05:20,  1.50s/it]"
          ]
        },
        {
          "name": "stdout",
          "output_type": "stream",
          "text": [
            "episode number is:  287\n"
          ]
        },
        {
          "name": "stderr",
          "output_type": "stream",
          "text": [
            "\r 57%|█████▋    | 287/500 [06:37<05:50,  1.65s/it]"
          ]
        },
        {
          "name": "stdout",
          "output_type": "stream",
          "text": [
            "episode number is:  288\n"
          ]
        },
        {
          "name": "stderr",
          "output_type": "stream",
          "text": [
            "\r 58%|█████▊    | 288/500 [06:39<06:52,  1.94s/it]"
          ]
        },
        {
          "name": "stdout",
          "output_type": "stream",
          "text": [
            "episode number is:  289\n"
          ]
        },
        {
          "name": "stderr",
          "output_type": "stream",
          "text": [
            "\r 58%|█████▊    | 289/500 [06:41<06:50,  1.94s/it]"
          ]
        },
        {
          "name": "stdout",
          "output_type": "stream",
          "text": [
            "episode number is:  290\n",
            "Episode reward 1 ==> 251.42755617111277\n",
            "Episode reward 2 ==> 251.42755617111277\n",
            "Episode reward 3 ==> 251.42755617111277\n",
            "Episode reward 4 ==> 251.42755617111277\n",
            "Episode reward 5 ==> 251.42755617111277\n",
            "Episode reward 6 ==> 251.42755617111277\n",
            "Episode reward 7 ==> 251.42755617111277\n",
            "Episode reward 8 ==> 251.42755617111277\n",
            "Episode reward 9 ==> 251.42755617111277\n",
            "Episode reward 10 ==> 251.42755617111277\n",
            "avg_reward 251.42755617111257\n"
          ]
        },
        {
          "name": "stderr",
          "output_type": "stream",
          "text": [
            "\r 58%|█████▊    | 290/500 [06:43<06:51,  1.96s/it]"
          ]
        },
        {
          "name": "stdout",
          "output_type": "stream",
          "text": [
            "episode number is:  291\n"
          ]
        },
        {
          "name": "stderr",
          "output_type": "stream",
          "text": [
            "\r 58%|█████▊    | 291/500 [06:45<06:26,  1.85s/it]"
          ]
        },
        {
          "name": "stdout",
          "output_type": "stream",
          "text": [
            "episode number is:  292\n"
          ]
        },
        {
          "name": "stderr",
          "output_type": "stream",
          "text": [
            "\r 58%|█████▊    | 292/500 [06:46<06:05,  1.76s/it]"
          ]
        },
        {
          "name": "stdout",
          "output_type": "stream",
          "text": [
            "episode number is:  293\n"
          ]
        },
        {
          "name": "stderr",
          "output_type": "stream",
          "text": [
            "\r 59%|█████▊    | 293/500 [06:48<05:48,  1.68s/it]"
          ]
        },
        {
          "name": "stdout",
          "output_type": "stream",
          "text": [
            "episode number is:  294\n"
          ]
        },
        {
          "name": "stderr",
          "output_type": "stream",
          "text": [
            "\r 59%|█████▉    | 294/500 [06:50<05:37,  1.64s/it]"
          ]
        },
        {
          "name": "stdout",
          "output_type": "stream",
          "text": [
            "episode number is:  295\n"
          ]
        },
        {
          "name": "stderr",
          "output_type": "stream",
          "text": [
            "\r 59%|█████▉    | 295/500 [06:51<05:37,  1.64s/it]"
          ]
        },
        {
          "name": "stdout",
          "output_type": "stream",
          "text": [
            "episode number is:  296\n"
          ]
        },
        {
          "name": "stderr",
          "output_type": "stream",
          "text": [
            "\r 59%|█████▉    | 296/500 [06:53<05:41,  1.68s/it]"
          ]
        },
        {
          "name": "stdout",
          "output_type": "stream",
          "text": [
            "episode number is:  297\n"
          ]
        },
        {
          "name": "stderr",
          "output_type": "stream",
          "text": [
            "\r 59%|█████▉    | 297/500 [06:55<06:21,  1.88s/it]"
          ]
        },
        {
          "name": "stdout",
          "output_type": "stream",
          "text": [
            "episode number is:  298\n"
          ]
        },
        {
          "name": "stderr",
          "output_type": "stream",
          "text": [
            "\r 60%|█████▉    | 298/500 [06:57<06:27,  1.92s/it]"
          ]
        },
        {
          "name": "stdout",
          "output_type": "stream",
          "text": [
            "episode number is:  299\n"
          ]
        },
        {
          "name": "stderr",
          "output_type": "stream",
          "text": [
            "\r 60%|█████▉    | 299/500 [06:59<06:01,  1.80s/it]"
          ]
        },
        {
          "name": "stdout",
          "output_type": "stream",
          "text": [
            "episode number is:  300\n",
            "Episode reward 1 ==> 251.42755617111277\n",
            "Episode reward 2 ==> 251.42755617111277\n",
            "Episode reward 3 ==> 251.42755617111277\n",
            "Episode reward 4 ==> 251.42755617111277\n",
            "Episode reward 5 ==> 251.42755617111277\n",
            "Episode reward 6 ==> 251.42755617111277\n",
            "Episode reward 7 ==> 251.42755617111277\n",
            "Episode reward 8 ==> 251.42755617111277\n",
            "Episode reward 9 ==> 251.42755617111277\n",
            "Episode reward 10 ==> 251.42755617111277\n",
            "avg_reward 251.42755617111257\n"
          ]
        },
        {
          "name": "stderr",
          "output_type": "stream",
          "text": [
            "\r 60%|██████    | 300/500 [07:01<06:13,  1.87s/it]"
          ]
        },
        {
          "name": "stdout",
          "output_type": "stream",
          "text": [
            "episode number is:  301\n"
          ]
        },
        {
          "name": "stderr",
          "output_type": "stream",
          "text": [
            "\r 60%|██████    | 301/500 [07:02<05:56,  1.79s/it]"
          ]
        },
        {
          "name": "stdout",
          "output_type": "stream",
          "text": [
            "episode number is:  302\n"
          ]
        },
        {
          "name": "stderr",
          "output_type": "stream",
          "text": [
            "\r 60%|██████    | 302/500 [07:04<05:39,  1.71s/it]"
          ]
        },
        {
          "name": "stdout",
          "output_type": "stream",
          "text": [
            "episode number is:  303\n"
          ]
        },
        {
          "name": "stderr",
          "output_type": "stream",
          "text": [
            "\r 61%|██████    | 303/500 [07:05<05:25,  1.65s/it]"
          ]
        },
        {
          "name": "stdout",
          "output_type": "stream",
          "text": [
            "episode number is:  304\n"
          ]
        },
        {
          "name": "stderr",
          "output_type": "stream",
          "text": [
            "\r 61%|██████    | 304/500 [07:07<05:44,  1.76s/it]"
          ]
        },
        {
          "name": "stdout",
          "output_type": "stream",
          "text": [
            "episode number is:  305\n"
          ]
        },
        {
          "name": "stderr",
          "output_type": "stream",
          "text": [
            "\r 61%|██████    | 305/500 [07:10<06:10,  1.90s/it]"
          ]
        },
        {
          "name": "stdout",
          "output_type": "stream",
          "text": [
            "episode number is:  306\n"
          ]
        },
        {
          "name": "stderr",
          "output_type": "stream",
          "text": [
            "\r 61%|██████    | 306/500 [07:11<05:52,  1.82s/it]"
          ]
        },
        {
          "name": "stdout",
          "output_type": "stream",
          "text": [
            "episode number is:  307\n"
          ]
        },
        {
          "name": "stderr",
          "output_type": "stream",
          "text": [
            "\r 61%|██████▏   | 307/500 [07:13<05:39,  1.76s/it]"
          ]
        },
        {
          "name": "stdout",
          "output_type": "stream",
          "text": [
            "episode number is:  308\n"
          ]
        },
        {
          "name": "stderr",
          "output_type": "stream",
          "text": [
            "\r 62%|██████▏   | 308/500 [07:15<05:41,  1.78s/it]"
          ]
        },
        {
          "name": "stdout",
          "output_type": "stream",
          "text": [
            "episode number is:  309\n"
          ]
        },
        {
          "name": "stderr",
          "output_type": "stream",
          "text": [
            "\r 62%|██████▏   | 309/500 [07:16<05:24,  1.70s/it]"
          ]
        },
        {
          "name": "stdout",
          "output_type": "stream",
          "text": [
            "episode number is:  310\n",
            "Episode reward 1 ==> 251.42755617111277\n",
            "Episode reward 2 ==> 251.42755617111277\n",
            "Episode reward 3 ==> 251.42755617111277\n",
            "Episode reward 4 ==> 251.42755617111277\n",
            "Episode reward 5 ==> 251.42755617111277\n",
            "Episode reward 6 ==> 251.42755617111277\n",
            "Episode reward 7 ==> 251.42755617111277\n",
            "Episode reward 8 ==> 251.42755617111277\n",
            "Episode reward 9 ==> 251.42755617111277\n",
            "Episode reward 10 ==> 251.42755617111277\n",
            "avg_reward 251.42755617111257\n"
          ]
        },
        {
          "name": "stderr",
          "output_type": "stream",
          "text": [
            "\r 62%|██████▏   | 310/500 [07:18<05:41,  1.80s/it]"
          ]
        },
        {
          "name": "stdout",
          "output_type": "stream",
          "text": [
            "episode number is:  311\n"
          ]
        },
        {
          "name": "stderr",
          "output_type": "stream",
          "text": [
            "\r 62%|██████▏   | 311/500 [07:20<05:30,  1.75s/it]"
          ]
        },
        {
          "name": "stdout",
          "output_type": "stream",
          "text": [
            "episode number is:  312\n"
          ]
        },
        {
          "name": "stderr",
          "output_type": "stream",
          "text": [
            "\r 62%|██████▏   | 312/500 [07:22<05:24,  1.72s/it]"
          ]
        },
        {
          "name": "stdout",
          "output_type": "stream",
          "text": [
            "episode number is:  313\n"
          ]
        },
        {
          "name": "stderr",
          "output_type": "stream",
          "text": [
            "\r 63%|██████▎   | 313/500 [07:24<05:45,  1.85s/it]"
          ]
        },
        {
          "name": "stdout",
          "output_type": "stream",
          "text": [
            "episode number is:  314\n"
          ]
        },
        {
          "name": "stderr",
          "output_type": "stream",
          "text": [
            "\r 63%|██████▎   | 314/500 [07:26<06:05,  1.97s/it]"
          ]
        },
        {
          "name": "stdout",
          "output_type": "stream",
          "text": [
            "episode number is:  315\n"
          ]
        },
        {
          "name": "stderr",
          "output_type": "stream",
          "text": [
            "\r 63%|██████▎   | 315/500 [07:28<05:44,  1.86s/it]"
          ]
        },
        {
          "name": "stdout",
          "output_type": "stream",
          "text": [
            "episode number is:  316\n"
          ]
        },
        {
          "name": "stderr",
          "output_type": "stream",
          "text": [
            "\r 63%|██████▎   | 316/500 [07:29<05:05,  1.66s/it]"
          ]
        },
        {
          "name": "stdout",
          "output_type": "stream",
          "text": [
            "episode number is:  317\n"
          ]
        },
        {
          "name": "stderr",
          "output_type": "stream",
          "text": [
            "\r 63%|██████▎   | 317/500 [07:30<05:01,  1.65s/it]"
          ]
        },
        {
          "name": "stdout",
          "output_type": "stream",
          "text": [
            "episode number is:  318\n"
          ]
        },
        {
          "name": "stderr",
          "output_type": "stream",
          "text": [
            "\r 64%|██████▎   | 318/500 [07:32<05:08,  1.70s/it]"
          ]
        },
        {
          "name": "stdout",
          "output_type": "stream",
          "text": [
            "episode number is:  319\n"
          ]
        },
        {
          "name": "stderr",
          "output_type": "stream",
          "text": [
            "\r 64%|██████▍   | 319/500 [07:34<04:57,  1.65s/it]"
          ]
        },
        {
          "name": "stdout",
          "output_type": "stream",
          "text": [
            "episode number is:  320\n",
            "Episode reward 1 ==> 251.42755617111277\n",
            "Episode reward 2 ==> 251.42755617111277\n",
            "Episode reward 3 ==> 251.42755617111277\n",
            "Episode reward 4 ==> 251.42755617111277\n",
            "Episode reward 5 ==> 251.42755617111277\n",
            "Episode reward 6 ==> 251.42755617111277\n",
            "Episode reward 7 ==> 251.42755617111277\n",
            "Episode reward 8 ==> 251.42755617111277\n",
            "Episode reward 9 ==> 251.42755617111277\n",
            "Episode reward 10 ==> 251.42755617111277\n",
            "avg_reward 251.42755617111257\n"
          ]
        },
        {
          "name": "stderr",
          "output_type": "stream",
          "text": [
            "\r 64%|██████▍   | 320/500 [07:36<05:12,  1.74s/it]"
          ]
        },
        {
          "name": "stdout",
          "output_type": "stream",
          "text": [
            "episode number is:  321\n"
          ]
        },
        {
          "name": "stderr",
          "output_type": "stream",
          "text": [
            "\r 64%|██████▍   | 321/500 [07:38<05:30,  1.84s/it]"
          ]
        },
        {
          "name": "stdout",
          "output_type": "stream",
          "text": [
            "episode number is:  322\n"
          ]
        },
        {
          "name": "stderr",
          "output_type": "stream",
          "text": [
            "\r 64%|██████▍   | 322/500 [07:40<05:47,  1.95s/it]"
          ]
        },
        {
          "name": "stdout",
          "output_type": "stream",
          "text": [
            "episode number is:  323\n"
          ]
        },
        {
          "name": "stderr",
          "output_type": "stream",
          "text": [
            "\r 65%|██████▍   | 323/500 [07:42<05:44,  1.95s/it]"
          ]
        },
        {
          "name": "stdout",
          "output_type": "stream",
          "text": [
            "episode number is:  324\n"
          ]
        },
        {
          "name": "stderr",
          "output_type": "stream",
          "text": [
            "\r 65%|██████▍   | 324/500 [07:44<05:22,  1.83s/it]"
          ]
        },
        {
          "name": "stdout",
          "output_type": "stream",
          "text": [
            "episode number is:  325\n"
          ]
        },
        {
          "name": "stderr",
          "output_type": "stream",
          "text": [
            "\r 65%|██████▌   | 325/500 [07:45<05:04,  1.74s/it]"
          ]
        },
        {
          "name": "stdout",
          "output_type": "stream",
          "text": [
            "episode number is:  326\n"
          ]
        },
        {
          "name": "stderr",
          "output_type": "stream",
          "text": [
            "\r 65%|██████▌   | 326/500 [07:46<04:32,  1.57s/it]"
          ]
        },
        {
          "name": "stdout",
          "output_type": "stream",
          "text": [
            "episode number is:  327\n"
          ]
        },
        {
          "name": "stderr",
          "output_type": "stream",
          "text": [
            "\r 65%|██████▌   | 327/500 [07:48<04:34,  1.59s/it]"
          ]
        },
        {
          "name": "stdout",
          "output_type": "stream",
          "text": [
            "episode number is:  328\n"
          ]
        },
        {
          "name": "stderr",
          "output_type": "stream",
          "text": [
            "\r 66%|██████▌   | 328/500 [07:50<04:49,  1.68s/it]"
          ]
        },
        {
          "name": "stdout",
          "output_type": "stream",
          "text": [
            "episode number is:  329\n"
          ]
        },
        {
          "name": "stderr",
          "output_type": "stream",
          "text": [
            "\r 66%|██████▌   | 329/500 [07:51<04:38,  1.63s/it]"
          ]
        },
        {
          "name": "stdout",
          "output_type": "stream",
          "text": [
            "episode number is:  330\n",
            "Episode reward 1 ==> 251.42755617111277\n",
            "Episode reward 2 ==> 251.42755617111277\n",
            "Episode reward 3 ==> 251.42755617111277\n",
            "Episode reward 4 ==> 251.42755617111277\n",
            "Episode reward 5 ==> 251.42755617111277\n",
            "Episode reward 6 ==> 251.42755617111277\n",
            "Episode reward 7 ==> 251.42755617111277\n",
            "Episode reward 8 ==> 251.42755617111277"
          ]
        },
        {
          "name": "stderr",
          "output_type": "stream",
          "text": [
            "\r 66%|██████▌   | 330/500 [07:54<05:40,  2.00s/it]"
          ]
        },
        {
          "name": "stdout",
          "output_type": "stream",
          "text": [
            "\n",
            "Episode reward 9 ==> 251.42755617111277\n",
            "Episode reward 10 ==> 251.42755617111277\n",
            "avg_reward 251.42755617111257\n",
            "episode number is:  331\n"
          ]
        },
        {
          "name": "stderr",
          "output_type": "stream",
          "text": [
            "\r 66%|██████▌   | 331/500 [07:56<05:56,  2.11s/it]"
          ]
        },
        {
          "name": "stdout",
          "output_type": "stream",
          "text": [
            "episode number is:  332\n"
          ]
        },
        {
          "name": "stderr",
          "output_type": "stream",
          "text": [
            "\r 66%|██████▋   | 332/500 [07:58<05:24,  1.93s/it]"
          ]
        },
        {
          "name": "stdout",
          "output_type": "stream",
          "text": [
            "episode number is:  333\n"
          ]
        },
        {
          "name": "stderr",
          "output_type": "stream",
          "text": [
            "\r 67%|██████▋   | 333/500 [08:00<05:02,  1.81s/it]"
          ]
        },
        {
          "name": "stdout",
          "output_type": "stream",
          "text": [
            "episode number is:  334\n"
          ]
        },
        {
          "name": "stderr",
          "output_type": "stream",
          "text": [
            "\r 67%|██████▋   | 334/500 [08:01<04:46,  1.72s/it]"
          ]
        },
        {
          "name": "stdout",
          "output_type": "stream",
          "text": [
            "episode number is:  335\n"
          ]
        },
        {
          "name": "stderr",
          "output_type": "stream",
          "text": [
            "\r 67%|██████▋   | 335/500 [08:03<04:34,  1.67s/it]"
          ]
        },
        {
          "name": "stdout",
          "output_type": "stream",
          "text": [
            "episode number is:  336\n"
          ]
        },
        {
          "name": "stderr",
          "output_type": "stream",
          "text": [
            "\r 67%|██████▋   | 336/500 [08:04<04:11,  1.53s/it]"
          ]
        },
        {
          "name": "stdout",
          "output_type": "stream",
          "text": [
            "episode number is:  337\n"
          ]
        },
        {
          "name": "stderr",
          "output_type": "stream",
          "text": [
            "\r 67%|██████▋   | 337/500 [08:05<04:15,  1.57s/it]"
          ]
        },
        {
          "name": "stdout",
          "output_type": "stream",
          "text": [
            "episode number is:  338\n"
          ]
        },
        {
          "name": "stderr",
          "output_type": "stream",
          "text": [
            "\r 68%|██████▊   | 338/500 [08:08<04:47,  1.77s/it]"
          ]
        },
        {
          "name": "stdout",
          "output_type": "stream",
          "text": [
            "episode number is:  339\n"
          ]
        },
        {
          "name": "stderr",
          "output_type": "stream",
          "text": [
            "\r 68%|██████▊   | 339/500 [08:10<05:07,  1.91s/it]"
          ]
        },
        {
          "name": "stdout",
          "output_type": "stream",
          "text": [
            "episode number is:  340\n",
            "Episode reward 1 ==> 251.42755617111277\n",
            "Episode reward 2 ==> 251.42755617111277\n",
            "Episode reward 3 ==> 251.42755617111277\n",
            "Episode reward 4 ==> 251.42755617111277\n",
            "Episode reward 5 ==> 251.42755617111277\n",
            "Episode reward 6 ==> 251.42755617111277\n"
          ]
        },
        {
          "name": "stderr",
          "output_type": "stream",
          "text": [
            "\r 68%|██████▊   | 340/500 [08:12<05:35,  2.09s/it]"
          ]
        },
        {
          "name": "stdout",
          "output_type": "stream",
          "text": [
            "Episode reward 7 ==> 251.42755617111277\n",
            "Episode reward 8 ==> 251.42755617111277\n",
            "Episode reward 9 ==> 251.42755617111277\n",
            "Episode reward 10 ==> 251.42755617111277\n",
            "avg_reward 251.42755617111257\n",
            "episode number is:  341\n"
          ]
        },
        {
          "name": "stderr",
          "output_type": "stream",
          "text": [
            "\r 68%|██████▊   | 341/500 [08:14<05:10,  1.95s/it]"
          ]
        },
        {
          "name": "stdout",
          "output_type": "stream",
          "text": [
            "episode number is:  342\n"
          ]
        },
        {
          "name": "stderr",
          "output_type": "stream",
          "text": [
            "\r 68%|██████▊   | 342/500 [08:16<04:47,  1.82s/it]"
          ]
        },
        {
          "name": "stdout",
          "output_type": "stream",
          "text": [
            "episode number is:  343\n"
          ]
        },
        {
          "name": "stderr",
          "output_type": "stream",
          "text": [
            "\r 69%|██████▊   | 343/500 [08:17<04:30,  1.73s/it]"
          ]
        },
        {
          "name": "stdout",
          "output_type": "stream",
          "text": [
            "episode number is:  344\n"
          ]
        },
        {
          "name": "stderr",
          "output_type": "stream",
          "text": [
            "\r 69%|██████▉   | 344/500 [08:19<04:22,  1.68s/it]"
          ]
        },
        {
          "name": "stdout",
          "output_type": "stream",
          "text": [
            "episode number is:  345\n"
          ]
        },
        {
          "name": "stderr",
          "output_type": "stream",
          "text": [
            "\r 69%|██████▉   | 345/500 [08:20<04:13,  1.64s/it]"
          ]
        },
        {
          "name": "stdout",
          "output_type": "stream",
          "text": [
            "episode number is:  346\n"
          ]
        },
        {
          "name": "stderr",
          "output_type": "stream",
          "text": [
            "\r 69%|██████▉   | 346/500 [08:21<03:51,  1.50s/it]"
          ]
        },
        {
          "name": "stdout",
          "output_type": "stream",
          "text": [
            "episode number is:  347\n"
          ]
        },
        {
          "name": "stderr",
          "output_type": "stream",
          "text": [
            "\r 69%|██████▉   | 347/500 [08:24<04:25,  1.74s/it]"
          ]
        },
        {
          "name": "stdout",
          "output_type": "stream",
          "text": [
            "episode number is:  348\n"
          ]
        },
        {
          "name": "stderr",
          "output_type": "stream",
          "text": [
            "\r 70%|██████▉   | 348/500 [08:26<05:05,  2.01s/it]"
          ]
        },
        {
          "name": "stdout",
          "output_type": "stream",
          "text": [
            "episode number is:  349\n"
          ]
        },
        {
          "name": "stderr",
          "output_type": "stream",
          "text": [
            "\r 70%|██████▉   | 349/500 [08:28<04:49,  1.92s/it]"
          ]
        },
        {
          "name": "stdout",
          "output_type": "stream",
          "text": [
            "episode number is:  350\n",
            "Episode reward 1 ==> 251.42755617111277\n",
            "Episode reward 2 ==> 251.42755617111277\n",
            "Episode reward 3 ==> 251.42755617111277\n",
            "Episode reward 4 ==> 251.42755617111277\n",
            "Episode reward 5 ==> 251.42755617111277\n",
            "Episode reward 6 ==> 251.42755617111277\n"
          ]
        },
        {
          "name": "stderr",
          "output_type": "stream",
          "text": [
            "\r 70%|███████   | 350/500 [08:30<04:52,  1.95s/it]"
          ]
        },
        {
          "name": "stdout",
          "output_type": "stream",
          "text": [
            "Episode reward 7 ==> 251.42755617111277\n",
            "Episode reward 8 ==> 251.42755617111277\n",
            "Episode reward 9 ==> 251.42755617111277\n",
            "Episode reward 10 ==> 251.42755617111277\n",
            "avg_reward 251.42755617111257\n",
            "episode number is:  351\n"
          ]
        },
        {
          "name": "stderr",
          "output_type": "stream",
          "text": [
            "\r 70%|███████   | 351/500 [08:32<04:35,  1.85s/it]"
          ]
        },
        {
          "name": "stdout",
          "output_type": "stream",
          "text": [
            "episode number is:  352\n"
          ]
        },
        {
          "name": "stderr",
          "output_type": "stream",
          "text": [
            "\r 70%|███████   | 352/500 [08:33<04:20,  1.76s/it]"
          ]
        },
        {
          "name": "stdout",
          "output_type": "stream",
          "text": [
            "episode number is:  353\n"
          ]
        },
        {
          "name": "stderr",
          "output_type": "stream",
          "text": [
            "\r 71%|███████   | 353/500 [08:35<04:06,  1.68s/it]"
          ]
        },
        {
          "name": "stdout",
          "output_type": "stream",
          "text": [
            "episode number is:  354\n"
          ]
        },
        {
          "name": "stderr",
          "output_type": "stream",
          "text": [
            "\r 71%|███████   | 354/500 [08:36<03:58,  1.64s/it]"
          ]
        },
        {
          "name": "stdout",
          "output_type": "stream",
          "text": [
            "episode number is:  355\n"
          ]
        },
        {
          "name": "stderr",
          "output_type": "stream",
          "text": [
            "\r 71%|███████   | 355/500 [08:38<04:11,  1.74s/it]"
          ]
        },
        {
          "name": "stdout",
          "output_type": "stream",
          "text": [
            "episode number is:  356\n"
          ]
        },
        {
          "name": "stderr",
          "output_type": "stream",
          "text": [
            "\r 71%|███████   | 356/500 [08:40<04:10,  1.74s/it]"
          ]
        },
        {
          "name": "stdout",
          "output_type": "stream",
          "text": [
            "episode number is:  357\n"
          ]
        },
        {
          "name": "stderr",
          "output_type": "stream",
          "text": [
            "\r 71%|███████▏  | 357/500 [08:42<04:30,  1.89s/it]"
          ]
        },
        {
          "name": "stdout",
          "output_type": "stream",
          "text": [
            "episode number is:  358\n"
          ]
        },
        {
          "name": "stderr",
          "output_type": "stream",
          "text": [
            "\r 72%|███████▏  | 358/500 [08:44<04:26,  1.87s/it]"
          ]
        },
        {
          "name": "stdout",
          "output_type": "stream",
          "text": [
            "episode number is:  359\n"
          ]
        },
        {
          "name": "stderr",
          "output_type": "stream",
          "text": [
            "\r 72%|███████▏  | 359/500 [08:46<04:09,  1.77s/it]"
          ]
        },
        {
          "name": "stdout",
          "output_type": "stream",
          "text": [
            "episode number is:  360\n",
            "Episode reward 1 ==> 251.42755617111277\n",
            "Episode reward 2 ==> 251.42755617111277\n",
            "Episode reward 3 ==> 251.42755617111277\n",
            "Episode reward 4 ==> 251.42755617111277\n",
            "Episode reward 5 ==> 251.42755617111277\n",
            "Episode reward 6 ==> 251.42755617111277\n"
          ]
        },
        {
          "name": "stderr",
          "output_type": "stream",
          "text": [
            "\r 72%|███████▏  | 360/500 [08:48<04:18,  1.85s/it]"
          ]
        },
        {
          "name": "stdout",
          "output_type": "stream",
          "text": [
            "Episode reward 7 ==> 251.42755617111277\n",
            "Episode reward 8 ==> 251.42755617111277\n",
            "Episode reward 9 ==> 251.42755617111277\n",
            "Episode reward 10 ==> 251.42755617111277\n",
            "avg_reward 251.42755617111257\n",
            "episode number is:  361\n"
          ]
        },
        {
          "name": "stderr",
          "output_type": "stream",
          "text": [
            "\r 72%|███████▏  | 361/500 [08:49<04:08,  1.79s/it]"
          ]
        },
        {
          "name": "stdout",
          "output_type": "stream",
          "text": [
            "episode number is:  362\n"
          ]
        },
        {
          "name": "stderr",
          "output_type": "stream",
          "text": [
            "\r 72%|███████▏  | 362/500 [08:51<03:56,  1.71s/it]"
          ]
        },
        {
          "name": "stdout",
          "output_type": "stream",
          "text": [
            "episode number is:  363\n"
          ]
        },
        {
          "name": "stderr",
          "output_type": "stream",
          "text": [
            "\r 73%|███████▎  | 363/500 [08:52<03:53,  1.71s/it]"
          ]
        },
        {
          "name": "stdout",
          "output_type": "stream",
          "text": [
            "episode number is:  364\n"
          ]
        },
        {
          "name": "stderr",
          "output_type": "stream",
          "text": [
            "\r 73%|███████▎  | 364/500 [08:55<04:14,  1.87s/it]"
          ]
        },
        {
          "name": "stdout",
          "output_type": "stream",
          "text": [
            "episode number is:  365\n"
          ]
        },
        {
          "name": "stderr",
          "output_type": "stream",
          "text": [
            "\r 73%|███████▎  | 365/500 [08:57<04:29,  2.00s/it]"
          ]
        },
        {
          "name": "stdout",
          "output_type": "stream",
          "text": [
            "episode number is:  366\n"
          ]
        },
        {
          "name": "stderr",
          "output_type": "stream",
          "text": [
            "\r 73%|███████▎  | 366/500 [08:58<03:58,  1.78s/it]"
          ]
        },
        {
          "name": "stdout",
          "output_type": "stream",
          "text": [
            "episode number is:  367\n"
          ]
        },
        {
          "name": "stderr",
          "output_type": "stream",
          "text": [
            "\r 73%|███████▎  | 367/500 [09:00<03:51,  1.74s/it]"
          ]
        },
        {
          "name": "stdout",
          "output_type": "stream",
          "text": [
            "episode number is:  368\n"
          ]
        },
        {
          "name": "stderr",
          "output_type": "stream",
          "text": [
            "\r 74%|███████▎  | 368/500 [09:02<03:53,  1.77s/it]"
          ]
        },
        {
          "name": "stdout",
          "output_type": "stream",
          "text": [
            "episode number is:  369\n"
          ]
        },
        {
          "name": "stderr",
          "output_type": "stream",
          "text": [
            "\r 74%|███████▍  | 369/500 [09:03<03:42,  1.70s/it]"
          ]
        },
        {
          "name": "stdout",
          "output_type": "stream",
          "text": [
            "episode number is:  370\n",
            "Episode reward 1 ==> 251.42755617111277\n",
            "Episode reward 2 ==> 251.42755617111277\n",
            "Episode reward 3 ==> 251.42755617111277\n",
            "Episode reward 4 ==> 251.42755617111277\n",
            "Episode reward 5 ==> 251.42755617111277\n",
            "Episode reward 6 ==> 251.42755617111277\n",
            "Episode reward 7 ==> 251.42755617111277\n",
            "Episode reward 8 ==> 251.42755617111277\n",
            "Episode reward 9 ==> 251.42755617111277\n",
            "Episode reward 10 ==> 251.42755617111277\n",
            "avg_reward 251.42755617111257\n"
          ]
        },
        {
          "name": "stderr",
          "output_type": "stream",
          "text": [
            "\r 74%|███████▍  | 370/500 [09:05<03:54,  1.80s/it]"
          ]
        },
        {
          "name": "stdout",
          "output_type": "stream",
          "text": [
            "episode number is:  371\n"
          ]
        },
        {
          "name": "stderr",
          "output_type": "stream",
          "text": [
            "\r 74%|███████▍  | 371/500 [09:07<03:46,  1.76s/it]"
          ]
        },
        {
          "name": "stdout",
          "output_type": "stream",
          "text": [
            "episode number is:  372\n"
          ]
        },
        {
          "name": "stderr",
          "output_type": "stream",
          "text": [
            "\r 74%|███████▍  | 372/500 [09:09<04:01,  1.88s/it]"
          ]
        },
        {
          "name": "stdout",
          "output_type": "stream",
          "text": [
            "episode number is:  373\n"
          ]
        },
        {
          "name": "stderr",
          "output_type": "stream",
          "text": [
            "\r 75%|███████▍  | 373/500 [09:11<04:10,  1.97s/it]"
          ]
        },
        {
          "name": "stdout",
          "output_type": "stream",
          "text": [
            "episode number is:  374\n"
          ]
        },
        {
          "name": "stderr",
          "output_type": "stream",
          "text": [
            "\r 75%|███████▍  | 374/500 [09:13<04:04,  1.94s/it]"
          ]
        },
        {
          "name": "stdout",
          "output_type": "stream",
          "text": [
            "episode number is:  375\n"
          ]
        },
        {
          "name": "stderr",
          "output_type": "stream",
          "text": [
            "\r 75%|███████▌  | 375/500 [09:15<03:46,  1.81s/it]"
          ]
        },
        {
          "name": "stdout",
          "output_type": "stream",
          "text": [
            "episode number is:  376\n"
          ]
        },
        {
          "name": "stderr",
          "output_type": "stream",
          "text": [
            "\r 75%|███████▌  | 376/500 [09:16<03:22,  1.63s/it]"
          ]
        },
        {
          "name": "stdout",
          "output_type": "stream",
          "text": [
            "episode number is:  377\n"
          ]
        },
        {
          "name": "stderr",
          "output_type": "stream",
          "text": [
            "\r 75%|███████▌  | 377/500 [09:18<03:20,  1.63s/it]"
          ]
        },
        {
          "name": "stdout",
          "output_type": "stream",
          "text": [
            "episode number is:  378\n"
          ]
        },
        {
          "name": "stderr",
          "output_type": "stream",
          "text": [
            "\r 76%|███████▌  | 378/500 [09:19<03:27,  1.70s/it]"
          ]
        },
        {
          "name": "stdout",
          "output_type": "stream",
          "text": [
            "episode number is:  379\n"
          ]
        },
        {
          "name": "stderr",
          "output_type": "stream",
          "text": [
            "\r 76%|███████▌  | 379/500 [09:21<03:19,  1.65s/it]"
          ]
        },
        {
          "name": "stdout",
          "output_type": "stream",
          "text": [
            "episode number is:  380\n",
            "Episode reward 1 ==> 251.42755617111277\n",
            "Episode reward 2 ==> 251.42755617111277\n",
            "Episode reward 3 ==> 251.42755617111277\n",
            "Episode reward 4 ==> 251.42755617111277\n",
            "Episode reward 5 ==> 251.42755617111277\n",
            "Episode reward 6 ==> 251.42755617111277\n",
            "Episode reward 7 ==> 251.42755617111277\n",
            "Episode reward 8 ==> 251.42755617111277\n"
          ]
        },
        {
          "name": "stderr",
          "output_type": "stream",
          "text": [
            "\r 76%|███████▌  | 380/500 [09:23<03:40,  1.84s/it]"
          ]
        },
        {
          "name": "stdout",
          "output_type": "stream",
          "text": [
            "Episode reward 9 ==> 251.42755617111277\n",
            "Episode reward 10 ==> 251.42755617111277\n",
            "avg_reward 251.42755617111257\n",
            "episode number is:  381\n"
          ]
        },
        {
          "name": "stderr",
          "output_type": "stream",
          "text": [
            "\r 76%|███████▌  | 381/500 [09:26<03:56,  1.99s/it]"
          ]
        },
        {
          "name": "stdout",
          "output_type": "stream",
          "text": [
            "episode number is:  382\n"
          ]
        },
        {
          "name": "stderr",
          "output_type": "stream",
          "text": [
            "\r 76%|███████▋  | 382/500 [09:28<03:59,  2.03s/it]"
          ]
        },
        {
          "name": "stdout",
          "output_type": "stream",
          "text": [
            "episode number is:  383\n"
          ]
        },
        {
          "name": "stderr",
          "output_type": "stream",
          "text": [
            "\r 77%|███████▋  | 383/500 [09:29<03:40,  1.89s/it]"
          ]
        },
        {
          "name": "stdout",
          "output_type": "stream",
          "text": [
            "episode number is:  384\n"
          ]
        },
        {
          "name": "stderr",
          "output_type": "stream",
          "text": [
            "\r 77%|███████▋  | 384/500 [09:31<03:27,  1.79s/it]"
          ]
        },
        {
          "name": "stdout",
          "output_type": "stream",
          "text": [
            "episode number is:  385\n"
          ]
        },
        {
          "name": "stderr",
          "output_type": "stream",
          "text": [
            "\r 77%|███████▋  | 385/500 [09:32<03:17,  1.72s/it]"
          ]
        },
        {
          "name": "stdout",
          "output_type": "stream",
          "text": [
            "episode number is:  386\n"
          ]
        },
        {
          "name": "stderr",
          "output_type": "stream",
          "text": [
            "\r 77%|███████▋  | 386/500 [09:34<02:58,  1.56s/it]"
          ]
        },
        {
          "name": "stdout",
          "output_type": "stream",
          "text": [
            "episode number is:  387\n"
          ]
        },
        {
          "name": "stderr",
          "output_type": "stream",
          "text": [
            "\r 77%|███████▋  | 387/500 [09:35<02:58,  1.58s/it]"
          ]
        },
        {
          "name": "stdout",
          "output_type": "stream",
          "text": [
            "episode number is:  388\n"
          ]
        },
        {
          "name": "stderr",
          "output_type": "stream",
          "text": [
            "\r 78%|███████▊  | 388/500 [09:37<03:04,  1.65s/it]"
          ]
        },
        {
          "name": "stdout",
          "output_type": "stream",
          "text": [
            "episode number is:  389\n"
          ]
        },
        {
          "name": "stderr",
          "output_type": "stream",
          "text": [
            "\r 78%|███████▊  | 389/500 [09:39<03:16,  1.77s/it]"
          ]
        },
        {
          "name": "stdout",
          "output_type": "stream",
          "text": [
            "episode number is:  390\n",
            "Episode reward 1 ==> 251.42755617111277\n",
            "Episode reward 2 ==> 251.42755617111277\n",
            "Episode reward 3 ==> 251.42755617111277\n",
            "Episode reward 4 ==> 251.42755617111277\n",
            "Episode reward 5 ==> 251.42755617111277\n",
            "Episode reward 6 ==> 251.42755617111277\n",
            "Episode reward 7 ==> 251.42755617111277\n",
            "Episode reward 8 ==> 251.42755617111277\n"
          ]
        },
        {
          "name": "stderr",
          "output_type": "stream",
          "text": [
            "\r 78%|███████▊  | 390/500 [09:42<03:53,  2.13s/it]"
          ]
        },
        {
          "name": "stdout",
          "output_type": "stream",
          "text": [
            "Episode reward 9 ==> 251.42755617111277\n",
            "Episode reward 10 ==> 251.42755617111277\n",
            "avg_reward 251.42755617111257\n",
            "episode number is:  391\n"
          ]
        },
        {
          "name": "stderr",
          "output_type": "stream",
          "text": [
            "\r 78%|███████▊  | 391/500 [09:44<03:40,  2.02s/it]"
          ]
        },
        {
          "name": "stdout",
          "output_type": "stream",
          "text": [
            "episode number is:  392\n"
          ]
        },
        {
          "name": "stderr",
          "output_type": "stream",
          "text": [
            "\r 78%|███████▊  | 392/500 [09:45<03:22,  1.87s/it]"
          ]
        },
        {
          "name": "stdout",
          "output_type": "stream",
          "text": [
            "episode number is:  393\n"
          ]
        },
        {
          "name": "stderr",
          "output_type": "stream",
          "text": [
            "\r 79%|███████▊  | 393/500 [09:47<03:08,  1.76s/it]"
          ]
        },
        {
          "name": "stdout",
          "output_type": "stream",
          "text": [
            "episode number is:  394\n"
          ]
        },
        {
          "name": "stderr",
          "output_type": "stream",
          "text": [
            "\r 79%|███████▉  | 394/500 [09:48<03:00,  1.70s/it]"
          ]
        },
        {
          "name": "stdout",
          "output_type": "stream",
          "text": [
            "episode number is:  395\n"
          ]
        },
        {
          "name": "stderr",
          "output_type": "stream",
          "text": [
            "\r 79%|███████▉  | 395/500 [09:50<02:54,  1.66s/it]"
          ]
        },
        {
          "name": "stdout",
          "output_type": "stream",
          "text": [
            "episode number is:  396\n"
          ]
        },
        {
          "name": "stderr",
          "output_type": "stream",
          "text": [
            "\r 79%|███████▉  | 396/500 [09:51<02:38,  1.53s/it]"
          ]
        },
        {
          "name": "stdout",
          "output_type": "stream",
          "text": [
            "episode number is:  397\n"
          ]
        },
        {
          "name": "stderr",
          "output_type": "stream",
          "text": [
            "\r 79%|███████▉  | 397/500 [09:53<02:42,  1.58s/it]"
          ]
        },
        {
          "name": "stdout",
          "output_type": "stream",
          "text": [
            "episode number is:  398\n"
          ]
        },
        {
          "name": "stderr",
          "output_type": "stream",
          "text": [
            "\r 80%|███████▉  | 398/500 [09:56<03:14,  1.91s/it]"
          ]
        },
        {
          "name": "stdout",
          "output_type": "stream",
          "text": [
            "episode number is:  399\n"
          ]
        },
        {
          "name": "stderr",
          "output_type": "stream",
          "text": [
            "\r 80%|███████▉  | 399/500 [09:58<03:21,  2.00s/it]"
          ]
        },
        {
          "name": "stdout",
          "output_type": "stream",
          "text": [
            "episode number is:  400\n",
            "Episode reward 1 ==> 251.42755617111277\n",
            "Episode reward 2 ==> 251.42755617111277\n",
            "Episode reward 3 ==> 251.42755617111277\n",
            "Episode reward 4 ==> 251.42755617111277\n",
            "Episode reward 5 ==> 251.42755617111277\n",
            "Episode reward 6 ==> 251.42755617111277\n",
            "Episode reward 7 ==> 251.42755617111277\n",
            "Episode reward 8 ==> 251.42755617111277\n",
            "Episode reward 9 ==> 251.42755617111277\n",
            "Episode reward 10 ==> 251.42755617111277\n",
            "avg_reward 251.42755617111257\n"
          ]
        },
        {
          "name": "stderr",
          "output_type": "stream",
          "text": [
            "\r 80%|████████  | 400/500 [10:00<03:20,  2.01s/it]"
          ]
        },
        {
          "name": "stdout",
          "output_type": "stream",
          "text": [
            "episode number is:  401\n"
          ]
        },
        {
          "name": "stderr",
          "output_type": "stream",
          "text": [
            "\r 80%|████████  | 401/500 [10:01<03:06,  1.88s/it]"
          ]
        },
        {
          "name": "stdout",
          "output_type": "stream",
          "text": [
            "episode number is:  402\n"
          ]
        },
        {
          "name": "stderr",
          "output_type": "stream",
          "text": [
            "\r 80%|████████  | 402/500 [10:03<02:55,  1.79s/it]"
          ]
        },
        {
          "name": "stdout",
          "output_type": "stream",
          "text": [
            "episode number is:  403\n"
          ]
        },
        {
          "name": "stderr",
          "output_type": "stream",
          "text": [
            "\r 81%|████████  | 403/500 [10:04<02:44,  1.70s/it]"
          ]
        },
        {
          "name": "stdout",
          "output_type": "stream",
          "text": [
            "episode number is:  404\n"
          ]
        },
        {
          "name": "stderr",
          "output_type": "stream",
          "text": [
            "\r 81%|████████  | 404/500 [10:06<02:38,  1.66s/it]"
          ]
        },
        {
          "name": "stdout",
          "output_type": "stream",
          "text": [
            "episode number is:  405\n"
          ]
        },
        {
          "name": "stderr",
          "output_type": "stream",
          "text": [
            "\r 81%|████████  | 405/500 [10:08<02:33,  1.62s/it]"
          ]
        },
        {
          "name": "stdout",
          "output_type": "stream",
          "text": [
            "episode number is:  406\n"
          ]
        },
        {
          "name": "stderr",
          "output_type": "stream",
          "text": [
            "\r 81%|████████  | 406/500 [10:09<02:34,  1.64s/it]"
          ]
        },
        {
          "name": "stdout",
          "output_type": "stream",
          "text": [
            "episode number is:  407\n"
          ]
        },
        {
          "name": "stderr",
          "output_type": "stream",
          "text": [
            "\r 81%|████████▏ | 407/500 [10:12<02:53,  1.87s/it]"
          ]
        },
        {
          "name": "stdout",
          "output_type": "stream",
          "text": [
            "episode number is:  408\n"
          ]
        },
        {
          "name": "stderr",
          "output_type": "stream",
          "text": [
            "\r 82%|████████▏ | 408/500 [10:14<03:02,  1.98s/it]"
          ]
        },
        {
          "name": "stdout",
          "output_type": "stream",
          "text": [
            "episode number is:  409\n"
          ]
        },
        {
          "name": "stderr",
          "output_type": "stream",
          "text": [
            "\r 82%|████████▏ | 409/500 [10:15<02:47,  1.84s/it]"
          ]
        },
        {
          "name": "stdout",
          "output_type": "stream",
          "text": [
            "episode number is:  410\n",
            "Episode reward 1 ==> 251.42755617111277\n",
            "Episode reward 2 ==> 251.42755617111277\n",
            "Episode reward 3 ==> 251.42755617111277\n",
            "Episode reward 4 ==> 251.42755617111277\n",
            "Episode reward 5 ==> 251.42755617111277\n",
            "Episode reward 6 ==> 251.42755617111277\n",
            "Episode reward 7 ==> 251.42755617111277\n",
            "Episode reward 8 ==> 251.42755617111277\n",
            "Episode reward 9 ==> 251.42755617111277\n",
            "Episode reward 10 ==> 251.42755617111277\n",
            "avg_reward 251.42755617111257\n"
          ]
        },
        {
          "name": "stderr",
          "output_type": "stream",
          "text": [
            "\r 82%|████████▏ | 410/500 [10:17<02:50,  1.89s/it]"
          ]
        },
        {
          "name": "stdout",
          "output_type": "stream",
          "text": [
            "episode number is:  411\n"
          ]
        },
        {
          "name": "stderr",
          "output_type": "stream",
          "text": [
            "\r 82%|████████▏ | 411/500 [10:19<02:42,  1.82s/it]"
          ]
        },
        {
          "name": "stdout",
          "output_type": "stream",
          "text": [
            "episode number is:  412\n"
          ]
        },
        {
          "name": "stderr",
          "output_type": "stream",
          "text": [
            "\r 82%|████████▏ | 412/500 [10:21<02:32,  1.74s/it]"
          ]
        },
        {
          "name": "stdout",
          "output_type": "stream",
          "text": [
            "episode number is:  413\n"
          ]
        },
        {
          "name": "stderr",
          "output_type": "stream",
          "text": [
            "\r 83%|████████▎ | 413/500 [10:22<02:24,  1.66s/it]"
          ]
        },
        {
          "name": "stdout",
          "output_type": "stream",
          "text": [
            "episode number is:  414\n"
          ]
        },
        {
          "name": "stderr",
          "output_type": "stream",
          "text": [
            "\r 83%|████████▎ | 414/500 [10:24<02:28,  1.73s/it]"
          ]
        },
        {
          "name": "stdout",
          "output_type": "stream",
          "text": [
            "episode number is:  415\n"
          ]
        },
        {
          "name": "stderr",
          "output_type": "stream",
          "text": [
            "\r 83%|████████▎ | 415/500 [10:26<02:39,  1.88s/it]"
          ]
        },
        {
          "name": "stdout",
          "output_type": "stream",
          "text": [
            "episode number is:  416\n"
          ]
        },
        {
          "name": "stderr",
          "output_type": "stream",
          "text": [
            "\r 83%|████████▎ | 416/500 [10:28<02:35,  1.85s/it]"
          ]
        },
        {
          "name": "stdout",
          "output_type": "stream",
          "text": [
            "episode number is:  417\n"
          ]
        },
        {
          "name": "stderr",
          "output_type": "stream",
          "text": [
            "\r 83%|████████▎ | 417/500 [10:30<02:29,  1.80s/it]"
          ]
        },
        {
          "name": "stdout",
          "output_type": "stream",
          "text": [
            "episode number is:  418\n"
          ]
        },
        {
          "name": "stderr",
          "output_type": "stream",
          "text": [
            "\r 84%|████████▎ | 418/500 [10:31<02:28,  1.81s/it]"
          ]
        },
        {
          "name": "stdout",
          "output_type": "stream",
          "text": [
            "episode number is:  419\n"
          ]
        },
        {
          "name": "stderr",
          "output_type": "stream",
          "text": [
            "\r 84%|████████▍ | 419/500 [10:33<02:19,  1.72s/it]"
          ]
        },
        {
          "name": "stdout",
          "output_type": "stream",
          "text": [
            "episode number is:  420\n",
            "Episode reward 1 ==> 251.42755617111277\n",
            "Episode reward 2 ==> 251.42755617111277\n",
            "Episode reward 3 ==> 251.42755617111277\n",
            "Episode reward 4 ==> 251.42755617111277\n",
            "Episode reward 5 ==> 251.42755617111277\n",
            "Episode reward 6 ==> 251.42755617111277\n",
            "Episode reward 7 ==> 251.42755617111277\n",
            "Episode reward 8 ==> 251.42755617111277\n",
            "Episode reward 9 ==> 251.42755617111277\n",
            "Episode reward 10 ==> 251.42755617111277\n",
            "avg_reward 251.42755617111257\n"
          ]
        },
        {
          "name": "stderr",
          "output_type": "stream",
          "text": [
            "\r 84%|████████▍ | 420/500 [10:35<02:24,  1.81s/it]"
          ]
        },
        {
          "name": "stdout",
          "output_type": "stream",
          "text": [
            "episode number is:  421\n"
          ]
        },
        {
          "name": "stderr",
          "output_type": "stream",
          "text": [
            "\r 84%|████████▍ | 421/500 [10:37<02:18,  1.76s/it]"
          ]
        },
        {
          "name": "stdout",
          "output_type": "stream",
          "text": [
            "episode number is:  422\n"
          ]
        },
        {
          "name": "stderr",
          "output_type": "stream",
          "text": [
            "\r 84%|████████▍ | 422/500 [10:38<02:14,  1.72s/it]"
          ]
        },
        {
          "name": "stdout",
          "output_type": "stream",
          "text": [
            "episode number is:  423\n"
          ]
        },
        {
          "name": "stderr",
          "output_type": "stream",
          "text": [
            "\r 85%|████████▍ | 423/500 [10:40<02:22,  1.85s/it]"
          ]
        },
        {
          "name": "stdout",
          "output_type": "stream",
          "text": [
            "episode number is:  424\n"
          ]
        },
        {
          "name": "stderr",
          "output_type": "stream",
          "text": [
            "\r 85%|████████▍ | 424/500 [10:43<02:29,  1.96s/it]"
          ]
        },
        {
          "name": "stdout",
          "output_type": "stream",
          "text": [
            "episode number is:  425\n"
          ]
        },
        {
          "name": "stderr",
          "output_type": "stream",
          "text": [
            "\r 85%|████████▌ | 425/500 [10:44<02:21,  1.89s/it]"
          ]
        },
        {
          "name": "stdout",
          "output_type": "stream",
          "text": [
            "episode number is:  426\n"
          ]
        },
        {
          "name": "stderr",
          "output_type": "stream",
          "text": [
            "\r 85%|████████▌ | 426/500 [10:46<02:04,  1.68s/it]"
          ]
        },
        {
          "name": "stdout",
          "output_type": "stream",
          "text": [
            "episode number is:  427\n"
          ]
        },
        {
          "name": "stderr",
          "output_type": "stream",
          "text": [
            "\r 85%|████████▌ | 427/500 [10:47<02:01,  1.66s/it]"
          ]
        },
        {
          "name": "stdout",
          "output_type": "stream",
          "text": [
            "episode number is:  428\n"
          ]
        },
        {
          "name": "stderr",
          "output_type": "stream",
          "text": [
            "\r 86%|████████▌ | 428/500 [10:49<02:04,  1.72s/it]"
          ]
        },
        {
          "name": "stdout",
          "output_type": "stream",
          "text": [
            "episode number is:  429\n"
          ]
        },
        {
          "name": "stderr",
          "output_type": "stream",
          "text": [
            "\r 86%|████████▌ | 429/500 [10:51<01:58,  1.68s/it]"
          ]
        },
        {
          "name": "stdout",
          "output_type": "stream",
          "text": [
            "episode number is:  430\n",
            "Episode reward 1 ==> 251.42755617111277\n",
            "Episode reward 2 ==> 251.42755617111277\n",
            "Episode reward 3 ==> 251.42755617111277\n",
            "Episode reward 4 ==> 251.42755617111277\n",
            "Episode reward 5 ==> 251.42755617111277\n",
            "Episode reward 6 ==> 251.42755617111277\n",
            "Episode reward 7 ==> 251.42755617111277\n",
            "Episode reward 8 ==> 251.42755617111277\n",
            "Episode reward 9 ==> 251.42755617111277\n",
            "Episode reward 10 ==> 251.42755617111277\n",
            "avg_reward 251.42755617111257\n"
          ]
        },
        {
          "name": "stderr",
          "output_type": "stream",
          "text": [
            "\r 86%|████████▌ | 430/500 [10:53<02:03,  1.77s/it]"
          ]
        },
        {
          "name": "stdout",
          "output_type": "stream",
          "text": [
            "episode number is:  431\n"
          ]
        },
        {
          "name": "stderr",
          "output_type": "stream",
          "text": [
            "\r 86%|████████▌ | 431/500 [10:55<02:10,  1.89s/it]"
          ]
        },
        {
          "name": "stdout",
          "output_type": "stream",
          "text": [
            "episode number is:  432\n"
          ]
        },
        {
          "name": "stderr",
          "output_type": "stream",
          "text": [
            "\r 86%|████████▋ | 432/500 [10:57<02:15,  1.99s/it]"
          ]
        },
        {
          "name": "stdout",
          "output_type": "stream",
          "text": [
            "episode number is:  433\n"
          ]
        },
        {
          "name": "stderr",
          "output_type": "stream",
          "text": [
            "\r 87%|████████▋ | 433/500 [10:59<02:11,  1.97s/it]"
          ]
        },
        {
          "name": "stdout",
          "output_type": "stream",
          "text": [
            "episode number is:  434\n"
          ]
        },
        {
          "name": "stderr",
          "output_type": "stream",
          "text": [
            "\r 87%|████████▋ | 434/500 [11:00<02:01,  1.84s/it]"
          ]
        },
        {
          "name": "stdout",
          "output_type": "stream",
          "text": [
            "episode number is:  435\n"
          ]
        },
        {
          "name": "stderr",
          "output_type": "stream",
          "text": [
            "\r 87%|████████▋ | 435/500 [11:02<01:54,  1.75s/it]"
          ]
        },
        {
          "name": "stdout",
          "output_type": "stream",
          "text": [
            "episode number is:  436\n"
          ]
        },
        {
          "name": "stderr",
          "output_type": "stream",
          "text": [
            "\r 87%|████████▋ | 436/500 [11:03<01:41,  1.59s/it]"
          ]
        },
        {
          "name": "stdout",
          "output_type": "stream",
          "text": [
            "episode number is:  437\n"
          ]
        },
        {
          "name": "stderr",
          "output_type": "stream",
          "text": [
            "\r 87%|████████▋ | 437/500 [11:05<01:40,  1.60s/it]"
          ]
        },
        {
          "name": "stdout",
          "output_type": "stream",
          "text": [
            "episode number is:  438\n"
          ]
        },
        {
          "name": "stderr",
          "output_type": "stream",
          "text": [
            "\r 88%|████████▊ | 438/500 [11:07<01:43,  1.67s/it]"
          ]
        },
        {
          "name": "stdout",
          "output_type": "stream",
          "text": [
            "episode number is:  439\n"
          ]
        },
        {
          "name": "stderr",
          "output_type": "stream",
          "text": [
            "\r 88%|████████▊ | 439/500 [11:08<01:40,  1.64s/it]"
          ]
        },
        {
          "name": "stdout",
          "output_type": "stream",
          "text": [
            "episode number is:  440\n",
            "Episode reward 1 ==> 251.42755617111277\n",
            "Episode reward 2 ==> 251.42755617111277\n",
            "Episode reward 3 ==> 251.42755617111277\n",
            "Episode reward 4 ==> 251.42755617111277\n",
            "Episode reward 5 ==> 251.42755617111277\n",
            "Episode reward 6 ==> 251.42755617111277\n",
            "Episode reward 7 ==> 251.42755617111277\n",
            "Episode reward 8 ==> 251.42755617111277\n"
          ]
        },
        {
          "name": "stderr",
          "output_type": "stream",
          "text": [
            "\r 88%|████████▊ | 440/500 [11:11<01:59,  2.00s/it]"
          ]
        },
        {
          "name": "stdout",
          "output_type": "stream",
          "text": [
            "Episode reward 9 ==> 251.42755617111277\n",
            "Episode reward 10 ==> 251.42755617111277\n",
            "avg_reward 251.42755617111257\n",
            "episode number is:  441\n"
          ]
        },
        {
          "name": "stderr",
          "output_type": "stream",
          "text": [
            "\r 88%|████████▊ | 441/500 [11:13<02:04,  2.10s/it]"
          ]
        },
        {
          "name": "stdout",
          "output_type": "stream",
          "text": [
            "episode number is:  442\n"
          ]
        },
        {
          "name": "stderr",
          "output_type": "stream",
          "text": [
            "\r 88%|████████▊ | 442/500 [11:15<01:52,  1.93s/it]"
          ]
        },
        {
          "name": "stdout",
          "output_type": "stream",
          "text": [
            "episode number is:  443\n"
          ]
        },
        {
          "name": "stderr",
          "output_type": "stream",
          "text": [
            "\r 89%|████████▊ | 443/500 [11:16<01:42,  1.80s/it]"
          ]
        },
        {
          "name": "stdout",
          "output_type": "stream",
          "text": [
            "episode number is:  444\n"
          ]
        },
        {
          "name": "stderr",
          "output_type": "stream",
          "text": [
            "\r 89%|████████▉ | 444/500 [11:18<01:36,  1.72s/it]"
          ]
        },
        {
          "name": "stdout",
          "output_type": "stream",
          "text": [
            "episode number is:  445\n"
          ]
        },
        {
          "name": "stderr",
          "output_type": "stream",
          "text": [
            "\r 89%|████████▉ | 445/500 [11:20<01:31,  1.67s/it]"
          ]
        },
        {
          "name": "stdout",
          "output_type": "stream",
          "text": [
            "episode number is:  446\n"
          ]
        },
        {
          "name": "stderr",
          "output_type": "stream",
          "text": [
            "\r 89%|████████▉ | 446/500 [11:21<01:23,  1.54s/it]"
          ]
        },
        {
          "name": "stdout",
          "output_type": "stream",
          "text": [
            "episode number is:  447\n"
          ]
        },
        {
          "name": "stderr",
          "output_type": "stream",
          "text": [
            "\r 89%|████████▉ | 447/500 [11:22<01:23,  1.57s/it]"
          ]
        },
        {
          "name": "stdout",
          "output_type": "stream",
          "text": [
            "episode number is:  448\n"
          ]
        },
        {
          "name": "stderr",
          "output_type": "stream",
          "text": [
            "\r 90%|████████▉ | 448/500 [11:25<01:32,  1.79s/it]"
          ]
        },
        {
          "name": "stdout",
          "output_type": "stream",
          "text": [
            "episode number is:  449\n"
          ]
        },
        {
          "name": "stderr",
          "output_type": "stream",
          "text": [
            "\r 90%|████████▉ | 449/500 [11:27<01:37,  1.91s/it]"
          ]
        },
        {
          "name": "stdout",
          "output_type": "stream",
          "text": [
            "episode number is:  450\n",
            "Episode reward 1 ==> 251.42755617111277\n",
            "Episode reward 2 ==> 251.42755617111277\n",
            "Episode reward 3 ==> 251.42755617111277\n",
            "Episode reward 4 ==> 251.42755617111277\n",
            "Episode reward 5 ==> 251.42755617111277\n",
            "Episode reward 6 ==> 251.42755617111277\n"
          ]
        },
        {
          "name": "stderr",
          "output_type": "stream",
          "text": [
            "\r 90%|█████████ | 450/500 [11:29<01:44,  2.09s/it]"
          ]
        },
        {
          "name": "stdout",
          "output_type": "stream",
          "text": [
            "Episode reward 7 ==> 251.42755617111277\n",
            "Episode reward 8 ==> 251.42755617111277\n",
            "Episode reward 9 ==> 251.42755617111277\n",
            "Episode reward 10 ==> 251.42755617111277\n",
            "avg_reward 251.42755617111257\n",
            "episode number is:  451\n"
          ]
        },
        {
          "name": "stderr",
          "output_type": "stream",
          "text": [
            "\r 90%|█████████ | 451/500 [11:31<01:35,  1.96s/it]"
          ]
        },
        {
          "name": "stdout",
          "output_type": "stream",
          "text": [
            "episode number is:  452\n"
          ]
        },
        {
          "name": "stderr",
          "output_type": "stream",
          "text": [
            "\r 90%|█████████ | 452/500 [11:33<01:27,  1.83s/it]"
          ]
        },
        {
          "name": "stdout",
          "output_type": "stream",
          "text": [
            "episode number is:  453\n"
          ]
        },
        {
          "name": "stderr",
          "output_type": "stream",
          "text": [
            "\r 91%|█████████ | 453/500 [11:34<01:21,  1.72s/it]"
          ]
        },
        {
          "name": "stdout",
          "output_type": "stream",
          "text": [
            "episode number is:  454\n"
          ]
        },
        {
          "name": "stderr",
          "output_type": "stream",
          "text": [
            "\r 91%|█████████ | 454/500 [11:36<01:16,  1.67s/it]"
          ]
        },
        {
          "name": "stdout",
          "output_type": "stream",
          "text": [
            "episode number is:  455\n"
          ]
        },
        {
          "name": "stderr",
          "output_type": "stream",
          "text": [
            "\r 91%|█████████ | 455/500 [11:37<01:13,  1.63s/it]"
          ]
        },
        {
          "name": "stdout",
          "output_type": "stream",
          "text": [
            "episode number is:  456\n"
          ]
        },
        {
          "name": "stderr",
          "output_type": "stream",
          "text": [
            "\r 91%|█████████ | 456/500 [11:38<01:05,  1.50s/it]"
          ]
        },
        {
          "name": "stdout",
          "output_type": "stream",
          "text": [
            "episode number is:  457\n"
          ]
        },
        {
          "name": "stderr",
          "output_type": "stream",
          "text": [
            "\r 91%|█████████▏| 457/500 [11:41<01:14,  1.74s/it]"
          ]
        },
        {
          "name": "stdout",
          "output_type": "stream",
          "text": [
            "episode number is:  458\n"
          ]
        },
        {
          "name": "stderr",
          "output_type": "stream",
          "text": [
            "\r 92%|█████████▏| 458/500 [11:43<01:25,  2.03s/it]"
          ]
        },
        {
          "name": "stdout",
          "output_type": "stream",
          "text": [
            "episode number is:  459\n"
          ]
        },
        {
          "name": "stderr",
          "output_type": "stream",
          "text": [
            "\r 92%|█████████▏| 459/500 [11:45<01:18,  1.91s/it]"
          ]
        },
        {
          "name": "stdout",
          "output_type": "stream",
          "text": [
            "episode number is:  460\n",
            "Episode reward 1 ==> 251.42755617111277\n",
            "Episode reward 2 ==> 251.42755617111277\n",
            "Episode reward 3 ==> 251.42755617111277\n",
            "Episode reward 4 ==> 251.42755617111277\n",
            "Episode reward 5 ==> 251.42755617111277\n",
            "Episode reward 6 ==> 251.42755617111277\n"
          ]
        },
        {
          "name": "stderr",
          "output_type": "stream",
          "text": [
            "\r 92%|█████████▏| 460/500 [11:47<01:17,  1.93s/it]"
          ]
        },
        {
          "name": "stdout",
          "output_type": "stream",
          "text": [
            "Episode reward 7 ==> 251.42755617111277\n",
            "Episode reward 8 ==> 251.42755617111277\n",
            "Episode reward 9 ==> 251.42755617111277\n",
            "Episode reward 10 ==> 251.42755617111277\n",
            "avg_reward 251.42755617111257\n",
            "episode number is:  461\n"
          ]
        },
        {
          "name": "stderr",
          "output_type": "stream",
          "text": [
            "\r 92%|█████████▏| 461/500 [11:49<01:11,  1.84s/it]"
          ]
        },
        {
          "name": "stdout",
          "output_type": "stream",
          "text": [
            "episode number is:  462\n"
          ]
        },
        {
          "name": "stderr",
          "output_type": "stream",
          "text": [
            "\r 92%|█████████▏| 462/500 [11:50<01:06,  1.75s/it]"
          ]
        },
        {
          "name": "stdout",
          "output_type": "stream",
          "text": [
            "episode number is:  463\n"
          ]
        },
        {
          "name": "stderr",
          "output_type": "stream",
          "text": [
            "\r 93%|█████████▎| 463/500 [11:52<01:01,  1.67s/it]"
          ]
        },
        {
          "name": "stdout",
          "output_type": "stream",
          "text": [
            "episode number is:  464\n"
          ]
        },
        {
          "name": "stderr",
          "output_type": "stream",
          "text": [
            "\r 93%|█████████▎| 464/500 [11:53<00:58,  1.62s/it]"
          ]
        },
        {
          "name": "stdout",
          "output_type": "stream",
          "text": [
            "episode number is:  465\n"
          ]
        },
        {
          "name": "stderr",
          "output_type": "stream",
          "text": [
            "\r 93%|█████████▎| 465/500 [11:55<01:01,  1.76s/it]"
          ]
        },
        {
          "name": "stdout",
          "output_type": "stream",
          "text": [
            "episode number is:  466\n"
          ]
        },
        {
          "name": "stderr",
          "output_type": "stream",
          "text": [
            "\r 93%|█████████▎| 466/500 [11:57<00:59,  1.76s/it]"
          ]
        },
        {
          "name": "stdout",
          "output_type": "stream",
          "text": [
            "episode number is:  467\n"
          ]
        },
        {
          "name": "stderr",
          "output_type": "stream",
          "text": [
            "\r 93%|█████████▎| 467/500 [11:59<01:02,  1.90s/it]"
          ]
        },
        {
          "name": "stdout",
          "output_type": "stream",
          "text": [
            "episode number is:  468\n"
          ]
        },
        {
          "name": "stderr",
          "output_type": "stream",
          "text": [
            "\r 94%|█████████▎| 468/500 [12:01<01:00,  1.88s/it]"
          ]
        },
        {
          "name": "stdout",
          "output_type": "stream",
          "text": [
            "episode number is:  469\n"
          ]
        },
        {
          "name": "stderr",
          "output_type": "stream",
          "text": [
            "\r 94%|█████████▍| 469/500 [12:03<00:55,  1.78s/it]"
          ]
        },
        {
          "name": "stdout",
          "output_type": "stream",
          "text": [
            "episode number is:  470\n",
            "Episode reward 1 ==> 251.42755617111277\n",
            "Episode reward 2 ==> 251.42755617111277\n",
            "Episode reward 3 ==> 251.42755617111277\n",
            "Episode reward 4 ==> 251.42755617111277\n",
            "Episode reward 5 ==> 251.42755617111277\n",
            "Episode reward 6 ==> 251.42755617111277\n",
            "Episode reward 7 ==> 251.42755617111277\n",
            "Episode reward 8 ==> 251.42755617111277\n",
            "Episode reward 9 ==> 251.42755617111277\n",
            "Episode reward 10 ==> 251.42755617111277\n",
            "avg_reward 251.42755617111257\n"
          ]
        },
        {
          "name": "stderr",
          "output_type": "stream",
          "text": [
            "\r 94%|█████████▍| 470/500 [12:05<00:55,  1.84s/it]"
          ]
        },
        {
          "name": "stdout",
          "output_type": "stream",
          "text": [
            "episode number is:  471\n"
          ]
        },
        {
          "name": "stderr",
          "output_type": "stream",
          "text": [
            "\r 94%|█████████▍| 471/500 [12:06<00:51,  1.77s/it]"
          ]
        },
        {
          "name": "stdout",
          "output_type": "stream",
          "text": [
            "episode number is:  472\n"
          ]
        },
        {
          "name": "stderr",
          "output_type": "stream",
          "text": [
            "\r 94%|█████████▍| 472/500 [12:08<00:47,  1.71s/it]"
          ]
        },
        {
          "name": "stdout",
          "output_type": "stream",
          "text": [
            "episode number is:  473\n"
          ]
        },
        {
          "name": "stderr",
          "output_type": "stream",
          "text": [
            "\r 95%|█████████▍| 473/500 [12:10<00:49,  1.85s/it]"
          ]
        },
        {
          "name": "stdout",
          "output_type": "stream",
          "text": [
            "episode number is:  474\n"
          ]
        },
        {
          "name": "stderr",
          "output_type": "stream",
          "text": [
            "\r 95%|█████████▍| 474/500 [12:13<00:56,  2.18s/it]"
          ]
        },
        {
          "name": "stdout",
          "output_type": "stream",
          "text": [
            "episode number is:  475\n"
          ]
        },
        {
          "name": "stderr",
          "output_type": "stream",
          "text": [
            "\r 95%|█████████▌| 475/500 [12:16<01:04,  2.58s/it]"
          ]
        },
        {
          "name": "stdout",
          "output_type": "stream",
          "text": [
            "episode number is:  476\n"
          ]
        },
        {
          "name": "stderr",
          "output_type": "stream",
          "text": [
            "\r 95%|█████████▌| 476/500 [12:18<00:54,  2.26s/it]"
          ]
        },
        {
          "name": "stdout",
          "output_type": "stream",
          "text": [
            "episode number is:  477\n"
          ]
        },
        {
          "name": "stderr",
          "output_type": "stream",
          "text": [
            "\r 95%|█████████▌| 477/500 [12:20<00:47,  2.07s/it]"
          ]
        },
        {
          "name": "stdout",
          "output_type": "stream",
          "text": [
            "episode number is:  478\n"
          ]
        },
        {
          "name": "stderr",
          "output_type": "stream",
          "text": [
            "\r 96%|█████████▌| 478/500 [12:21<00:44,  2.01s/it]"
          ]
        },
        {
          "name": "stdout",
          "output_type": "stream",
          "text": [
            "episode number is:  479\n"
          ]
        },
        {
          "name": "stderr",
          "output_type": "stream",
          "text": [
            "\r 96%|█████████▌| 479/500 [12:23<00:39,  1.87s/it]"
          ]
        },
        {
          "name": "stdout",
          "output_type": "stream",
          "text": [
            "episode number is:  480\n",
            "Episode reward 1 ==> 251.42755617111277\n",
            "Episode reward 2 ==> 251.42755617111277\n",
            "Episode reward 3 ==> 251.42755617111277\n",
            "Episode reward 4 ==> 251.42755617111277\n",
            "Episode reward 5 ==> 251.42755617111277\n",
            "Episode reward 6 ==> 251.42755617111277\n"
          ]
        },
        {
          "name": "stderr",
          "output_type": "stream",
          "text": [
            "\r 96%|█████████▌| 480/500 [12:25<00:38,  1.91s/it]"
          ]
        },
        {
          "name": "stdout",
          "output_type": "stream",
          "text": [
            "Episode reward 7 ==> 251.42755617111277\n",
            "Episode reward 8 ==> 251.42755617111277\n",
            "Episode reward 9 ==> 251.42755617111277\n",
            "Episode reward 10 ==> 251.42755617111277\n",
            "avg_reward 251.42755617111257\n",
            "episode number is:  481\n"
          ]
        },
        {
          "name": "stderr",
          "output_type": "stream",
          "text": [
            "\r 96%|█████████▌| 481/500 [12:27<00:35,  1.89s/it]"
          ]
        },
        {
          "name": "stdout",
          "output_type": "stream",
          "text": [
            "episode number is:  482\n"
          ]
        },
        {
          "name": "stderr",
          "output_type": "stream",
          "text": [
            "\r 96%|█████████▋| 482/500 [12:29<00:35,  2.00s/it]"
          ]
        },
        {
          "name": "stdout",
          "output_type": "stream",
          "text": [
            "episode number is:  483\n"
          ]
        },
        {
          "name": "stderr",
          "output_type": "stream",
          "text": [
            "\r 97%|█████████▋| 483/500 [12:31<00:35,  2.07s/it]"
          ]
        },
        {
          "name": "stdout",
          "output_type": "stream",
          "text": [
            "episode number is:  484\n"
          ]
        },
        {
          "name": "stderr",
          "output_type": "stream",
          "text": [
            "\r 97%|█████████▋| 484/500 [12:33<00:30,  1.91s/it]"
          ]
        },
        {
          "name": "stdout",
          "output_type": "stream",
          "text": [
            "episode number is:  485\n"
          ]
        },
        {
          "name": "stderr",
          "output_type": "stream",
          "text": [
            "\r 97%|█████████▋| 485/500 [12:34<00:27,  1.80s/it]"
          ]
        },
        {
          "name": "stdout",
          "output_type": "stream",
          "text": [
            "episode number is:  486\n"
          ]
        },
        {
          "name": "stderr",
          "output_type": "stream",
          "text": [
            "\r 97%|█████████▋| 486/500 [12:36<00:22,  1.62s/it]"
          ]
        },
        {
          "name": "stdout",
          "output_type": "stream",
          "text": [
            "episode number is:  487\n"
          ]
        },
        {
          "name": "stderr",
          "output_type": "stream",
          "text": [
            "\r 97%|█████████▋| 487/500 [12:37<00:21,  1.63s/it]"
          ]
        },
        {
          "name": "stdout",
          "output_type": "stream",
          "text": [
            "episode number is:  488\n"
          ]
        },
        {
          "name": "stderr",
          "output_type": "stream",
          "text": [
            "\r 98%|█████████▊| 488/500 [12:39<00:20,  1.69s/it]"
          ]
        },
        {
          "name": "stdout",
          "output_type": "stream",
          "text": [
            "episode number is:  489\n"
          ]
        },
        {
          "name": "stderr",
          "output_type": "stream",
          "text": [
            "\r 98%|█████████▊| 489/500 [12:41<00:18,  1.64s/it]"
          ]
        },
        {
          "name": "stdout",
          "output_type": "stream",
          "text": [
            "episode number is:  490\n",
            "Episode reward 1 ==> 251.42755617111277\n",
            "Episode reward 2 ==> 251.42755617111277\n",
            "Episode reward 3 ==> 251.42755617111277\n",
            "Episode reward 4 ==> 251.42755617111277\n",
            "Episode reward 5 ==> 251.42755617111277\n",
            "Episode reward 6 ==> 251.42755617111277\n",
            "Episode reward 7 ==> 251.42755617111277\n",
            "Episode reward 8 ==> 251.42755617111277\n",
            "Episode reward 9 ==> 251.42755617111277\n",
            "Episode reward 10 ==> 251.42755617111277\n",
            "avg_reward 251.42755617111257\n"
          ]
        },
        {
          "name": "stderr",
          "output_type": "stream",
          "text": [
            "\r 98%|█████████▊| 490/500 [12:43<00:19,  1.94s/it]"
          ]
        },
        {
          "name": "stdout",
          "output_type": "stream",
          "text": [
            "episode number is:  491\n"
          ]
        },
        {
          "name": "stderr",
          "output_type": "stream",
          "text": [
            "\r 98%|█████████▊| 491/500 [12:46<00:18,  2.06s/it]"
          ]
        },
        {
          "name": "stdout",
          "output_type": "stream",
          "text": [
            "episode number is:  492\n"
          ]
        },
        {
          "name": "stderr",
          "output_type": "stream",
          "text": [
            "\r 98%|█████████▊| 492/500 [12:47<00:15,  2.00s/it]"
          ]
        },
        {
          "name": "stdout",
          "output_type": "stream",
          "text": [
            "episode number is:  493\n"
          ]
        },
        {
          "name": "stderr",
          "output_type": "stream",
          "text": [
            "\r 99%|█████████▊| 493/500 [12:49<00:12,  1.85s/it]"
          ]
        },
        {
          "name": "stdout",
          "output_type": "stream",
          "text": [
            "episode number is:  494\n"
          ]
        },
        {
          "name": "stderr",
          "output_type": "stream",
          "text": [
            "\r 99%|█████████▉| 494/500 [12:50<00:10,  1.75s/it]"
          ]
        },
        {
          "name": "stdout",
          "output_type": "stream",
          "text": [
            "episode number is:  495\n"
          ]
        },
        {
          "name": "stderr",
          "output_type": "stream",
          "text": [
            "\r 99%|█████████▉| 495/500 [12:52<00:08,  1.70s/it]"
          ]
        },
        {
          "name": "stdout",
          "output_type": "stream",
          "text": [
            "episode number is:  496\n"
          ]
        },
        {
          "name": "stderr",
          "output_type": "stream",
          "text": [
            "\r 99%|█████████▉| 496/500 [12:53<00:06,  1.56s/it]"
          ]
        },
        {
          "name": "stdout",
          "output_type": "stream",
          "text": [
            "episode number is:  497\n"
          ]
        },
        {
          "name": "stderr",
          "output_type": "stream",
          "text": [
            "\r 99%|█████████▉| 497/500 [12:55<00:04,  1.58s/it]"
          ]
        },
        {
          "name": "stdout",
          "output_type": "stream",
          "text": [
            "episode number is:  498\n"
          ]
        },
        {
          "name": "stderr",
          "output_type": "stream",
          "text": [
            "\r100%|█████████▉| 498/500 [12:57<00:03,  1.69s/it]"
          ]
        },
        {
          "name": "stdout",
          "output_type": "stream",
          "text": [
            "episode number is:  499\n"
          ]
        },
        {
          "name": "stderr",
          "output_type": "stream",
          "text": [
            "\r100%|█████████▉| 499/500 [12:59<00:01,  1.86s/it]"
          ]
        },
        {
          "name": "stdout",
          "output_type": "stream",
          "text": [
            "episode number is:  500\n",
            "Episode reward 1 ==> 251.42755617111277\n",
            "Episode reward 2 ==> 251.42755617111277\n",
            "Episode reward 3 ==> 251.42755617111277\n",
            "Episode reward 4 ==> 251.42755617111277\n",
            "Episode reward 5 ==> 251.42755617111277\n",
            "Episode reward 6 ==> 251.42755617111277\n",
            "Episode reward 7 ==> 251.42755617111277\n",
            "Episode reward 8 ==> 251.42755617111277\n",
            "Episode reward 9 ==> 251.42755617111277\n"
          ]
        },
        {
          "name": "stderr",
          "output_type": "stream",
          "text": [
            "100%|██████████| 500/500 [13:02<00:00,  1.56s/it]"
          ]
        },
        {
          "name": "stdout",
          "output_type": "stream",
          "text": [
            "Episode reward 10 ==> 251.42755617111277\n",
            "avg_reward 251.42755617111257\n"
          ]
        },
        {
          "name": "stderr",
          "output_type": "stream",
          "text": [
            "\n"
          ]
        },
        {
          "data": {
            "text/plain": [
              "[<matplotlib.lines.Line2D at 0x7fbcd2998650>]"
            ]
          },
          "execution_count": 19,
          "metadata": {},
          "output_type": "execute_result"
        },
        {
          "data": {
            "image/png": "[encoded data removed]",
            "text/plain": [
              "<Figure size 1600x1000 with 1 Axes>"
            ]
          },
          "metadata": {},
          "output_type": "display_data"
        }
      ],
      "source": [
        "# from train import Trainer\n",
        "from matplotlib import pyplot as plt\n",
        "# import gym\n",
        "from gym.envs.registration import register\n",
        "gym.register(\n",
        "    id='PointParticle-v0',\n",
        "    entry_point=PointParticleEnv,   # or \"__main__:PointParticleEnv\"\n",
        "    max_episode_steps=300    # ← choose a sensible episode length\n",
        ")\n",
        "\n",
        "\n",
        "env_name='PointParticle-v0'\n",
        "trainer = Trainer(config_file=f'./configs/{env_name}.json',enable_logging=True)\n",
        "episode_rewards, evaluations = trainer.train()\n",
        "\n",
        "plt.figure(figsize=(16, 10))\n",
        "plt.plot(episode_rewards)\n",
        "\n",
        "#     ce0d0200dfea200450b86c341468e0ae12cf0570"
      ]
    },
    {
      "cell_type": "code",
      "execution_count": null,
      "metadata": {
        "colab": {
          "base_uri": "https://localhost:8080/",
          "height": 564
        },
        "id": "mHnOgd3FQ51l",
        "outputId": "fe212b04-1e0b-47bc-d652-a479679e125f"
      },
      "outputs": [
        {
          "data": {
            "image/png": "[encoded data removed]",
            "text/plain": [
              "<Figure size 1000x600 with 1 Axes>"
            ]
          },
          "metadata": {},
          "output_type": "display_data"
        }
      ],
      "source": [
        "import pandas as pd\n",
        "import matplotlib.pyplot as plt\n",
        "\n",
        "# ---- 1. Load data ----\n",
        "# Adjust the path if your csv1.csv lives in a subfolder\n",
        "df = pd.read_csv('csv1.csv')\n",
        "\n",
        "# ---- 2. Extract series ----\n",
        "episodes = df['episode'][:]\n",
        "rewards = df['episode_reward']\n",
        "goal_mask = df['goal_reached'] == 1\n",
        "\n",
        "# ---- 3. Plot ----\n",
        "plt.figure(figsize=(10, 6))\n",
        "plt.plot(episodes, rewards, label='Episode Reward', linewidth=1.5)\n",
        "\n",
        "# ---- 4. Decorations ----\n",
        "plt.title('Reward per Episode')\n",
        "plt.xlabel('Episode')\n",
        "plt.ylabel('Total Reward')\n",
        "plt.legend()\n",
        "plt.grid(alpha=0.3)\n",
        "\n",
        "# ---- 5. Show or save ----\n",
        "# To display interactively:\n",
        "plt.show()\n",
        "\n"
      ]
    },
    {
      "cell_type": "code",
      "execution_count": null,
      "metadata": {
        "colab": {
          "base_uri": "https://localhost:8080/",
          "height": 521
        },
        "id": "ShB7H5ssTlwZ",
        "outputId": "0994a9ad-a42b-466e-b40d-79ae5f3d30da"
      },
      "outputs": [
        {
          "data": {
            "image/png": "[encoded data removed]",
            "text/plain": [
              "<Figure size 600x600 with 1 Axes>"
            ]
          },
          "metadata": {},
          "output_type": "display_data"
        }
      ],
      "source": [
        "from visualize import plot_episode_path\n",
        "plot_episode_path('/content/drive/MyDrive/Projects/rl/DDPG-Pytorch/14_18_jun19/csv2.csv', episode_number=700)"
      ]
    },
    {
      "cell_type": "code",
      "execution_count": null,
      "metadata": {
        "id": "aiVne1yCZtpg"
      },
      "outputs": [],
      "source": []
    }
  ],
  "metadata": {
    "colab": {
      "provenance": []
    },
    "kernelspec": {
      "display_name": "Python 3",
      "name": "python3"
    },
    "language_info": {
      "name": "python"
    }
  },
  "nbformat": 4,
  "nbformat_minor": 0
}
