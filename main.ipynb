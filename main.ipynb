{
  "cells": [
    {
      "cell_type": "code",
      "execution_count": 17,
      "metadata": {
        "colab": {
          "base_uri": "https://localhost:8080/"
        },
        "id": "lh2_7_33icVA",
        "outputId": "d1794589-5eb2-436c-cb11-551b3ab9ec1e"
      },
      "outputs": [
        {
          "output_type": "stream",
          "name": "stdout",
          "text": [
            "Requirement already satisfied: numpy<2 in /usr/local/lib/python3.11/dist-packages (1.26.4)\n"
          ]
        }
      ],
      "source": [
        "!pip install --upgrade \"numpy<2\"\n"
      ]
    },
    {
      "cell_type": "code",
      "execution_count": 18,
      "metadata": {
        "colab": {
          "base_uri": "https://localhost:8080/"
        },
        "id": "CwY3IzxOiny8",
        "outputId": "f2ad6f0e-5061-4e64-81cd-df25a4f220fa"
      },
      "outputs": [
        {
          "output_type": "stream",
          "name": "stdout",
          "text": [
            "/content/drive/My Drive/Projects/rl/DDPG-Pytorch\n"
          ]
        }
      ],
      "source": [
        "!pwd"
      ]
    },
    {
      "cell_type": "code",
      "execution_count": 19,
      "metadata": {
        "colab": {
          "base_uri": "https://localhost:8080/"
        },
        "id": "G_Xcm5BbiuTX",
        "outputId": "d6eca2f3-251f-49e7-dd63-29e545459736"
      },
      "outputs": [
        {
          "output_type": "stream",
          "name": "stdout",
          "text": [
            "\u001b[0m\u001b[01;34mconfigs\u001b[0m/  LICENSE  main.py  \u001b[01;34mpretrained_models\u001b[0m/  \u001b[01;34msrc\u001b[0m/  test.py  train.py  \u001b[01;34mwandb\u001b[0m/\n"
          ]
        }
      ],
      "source": [
        "ls"
      ]
    },
    {
      "cell_type": "code",
      "execution_count": 3,
      "metadata": {
        "colab": {
          "base_uri": "https://localhost:8080/"
        },
        "id": "2BAmwWWiOmbm",
        "outputId": "cb4e9420-714d-4f64-ba8c-b63198b931dd"
      },
      "outputs": [
        {
          "output_type": "stream",
          "name": "stdout",
          "text": [
            "/content/drive/MyDrive/Projects/rl\n"
          ]
        }
      ],
      "source": [
        "cd drive/MyDrive/Projects/rl"
      ]
    },
    {
      "cell_type": "code",
      "execution_count": 4,
      "metadata": {
        "id": "MfDENPSPTvQe"
      },
      "outputs": [],
      "source": [
        "# !git clone https://github.com/sainijagjit/DDPG-Pytorch.git"
      ]
    },
    {
      "cell_type": "code",
      "execution_count": 5,
      "metadata": {
        "colab": {
          "base_uri": "https://localhost:8080/"
        },
        "id": "_uKTnSpeUNvw",
        "outputId": "384d5e9f-808a-4499-b241-195830924621"
      },
      "outputs": [
        {
          "output_type": "stream",
          "name": "stdout",
          "text": [
            "/content/drive/MyDrive/Projects/rl/DDPG-Pytorch\n"
          ]
        }
      ],
      "source": [
        "cd DDPG-Pytorch/"
      ]
    },
    {
      "cell_type": "code",
      "execution_count": 20,
      "metadata": {
        "colab": {
          "base_uri": "https://localhost:8080/"
        },
        "id": "6-T5PxjAffrY",
        "outputId": "4f064ca9-7260-4adc-8445-59214e26edf9"
      },
      "outputs": [
        {
          "output_type": "stream",
          "name": "stdout",
          "text": [
            "Requirement already satisfied: gym==0.26.2 in /usr/local/lib/python3.11/dist-packages (0.26.2)\n",
            "Requirement already satisfied: numpy>=1.18.0 in /usr/local/lib/python3.11/dist-packages (from gym==0.26.2) (1.26.4)\n",
            "Requirement already satisfied: cloudpickle>=1.2.0 in /usr/local/lib/python3.11/dist-packages (from gym==0.26.2) (3.1.1)\n",
            "Requirement already satisfied: gym_notices>=0.0.4 in /usr/local/lib/python3.11/dist-packages (from gym==0.26.2) (0.0.8)\n"
          ]
        }
      ],
      "source": [
        "# !apt-get install -y swig\n",
        "!pip install gym==0.26.2"
      ]
    },
    {
      "cell_type": "code",
      "execution_count": 26,
      "metadata": {
        "id": "pYmMTHQXVGE_"
      },
      "outputs": [],
      "source": [
        "# point_particle_env.py\n",
        "import  gym\n",
        "from typing import Optional\n",
        "import numpy as np\n",
        "# import gym\n",
        "from gym import spaces\n",
        "from gym.utils import seeding\n",
        "import pygame\n",
        "from pygame import gfxdraw\n",
        "\n",
        "class PointParticleEnv(gym.Env):\n",
        "    \"\"\"\n",
        "    Continuous 2D navigation with interior obstacles and boundary walls.\n",
        "    - State: [x, y, heading] (plus flattened obstacles if obs=True)\n",
        "    - Action: heading angle in degrees [action_min, action_max]\n",
        "    - Reward:\n",
        "        * +goal_reward on reaching the goal\n",
        "        * -obstacle_penalty if bumping an obstacle\n",
        "        * -wall_penalty     if pushing against a boundary\n",
        "        * otherwise = -distance_to_goal\n",
        "    - Episode ends (terminated) on goal; truncated on time-limit.\n",
        "    \"\"\"\n",
        "    metadata = {'render.modes': ['human', 'rgb_array']}\n",
        "\n",
        "    def __init__(self,\n",
        "                 size=(50, 50),\n",
        "                 goal=None,\n",
        "                 exploring_starts: bool=False,\n",
        "                 obs: bool=False,\n",
        "                 action_range=(0, 180),\n",
        "                 max_episode_steps: int = 500,\n",
        "                 obstacle_penalty: float = 50.0,\n",
        "                 wall_penalty: float = 100.0,\n",
        "                 goal_reward: float = 500.0,\n",
        "                 render_mode=False):\n",
        "        super().__init__()\n",
        "        # —— seeding for reproducibility\n",
        "        self.seed()\n",
        "\n",
        "        # —— env parameters\n",
        "        self.size = np.array(size, dtype=np.float32)\n",
        "        self.speed = 5.0\n",
        "        self.goal = np.array([45.0, 45.0], dtype=np.float32) \\\n",
        "                    if goal is None else np.array(goal, dtype=np.float32)\n",
        "        self.exploring_starts = exploring_starts\n",
        "        self.obs = obs\n",
        "        self.action_min, self.action_max = action_range\n",
        "\n",
        "        # —— penalties & rewards\n",
        "        self.obstacle_penalty = obstacle_penalty\n",
        "        self.wall_penalty     = wall_penalty\n",
        "        self.goal_reward      = goal_reward\n",
        "\n",
        "        # —— time‐limit bookkeeping\n",
        "        self.max_episode_steps = max_episode_steps\n",
        "        self.current_step      = 0\n",
        "\n",
        "        # —— action & observation spaces\n",
        "        self.action_space = spaces.Box(\n",
        "            low  = np.array([self.action_min], dtype=np.float32),\n",
        "            high = np.array([self.action_max], dtype=np.float32),\n",
        "            dtype=np.float32\n",
        "        )\n",
        "\n",
        "        # define some interior rectangular obstacles (x1,y1,x2,y2)\n",
        "        self.obstacles = [\n",
        "            (12, 12, 25, 15),\n",
        "            (25, 25, 27, 37)\n",
        "        ]\n",
        "\n",
        "        # observation space: [x, y, heading] + obstacles if obs=True\n",
        "        if self.obs:\n",
        "            obs_low  = np.zeros(4 * len(self.obstacles), dtype=np.float32)\n",
        "            obs_high = np.concatenate((self.size, [360])).astype(np.float32)\n",
        "            self.observation_space = spaces.Box(\n",
        "                low  = np.concatenate(([0, 0, 0], obs_low)),\n",
        "                high = np.concatenate((obs_high, obs_low + self.size[0])),\n",
        "                dtype=np.float32\n",
        "            )\n",
        "        else:\n",
        "            self.observation_space = spaces.Box(\n",
        "                low  = np.array([0, 0, 0], dtype=np.float32),\n",
        "                high = np.array([*self.size, 360], dtype=np.float32),\n",
        "                dtype=np.float32\n",
        "            )\n",
        "\n",
        "        # internal\n",
        "        self.state  = None\n",
        "        self.screen = None\n",
        "\n",
        "    def seed(self, seed: Optional[int]=None):\n",
        "        \"\"\"Gym-style seeding.\"\"\"\n",
        "        self.np_random, seed = seeding.np_random(seed)\n",
        "        return [seed]\n",
        "\n",
        "    def reset(self, *, seed: Optional[int]=None, options=None):\n",
        "        \"\"\"Reset environment; return (obs, info).\"\"\"\n",
        "        if seed is not None:\n",
        "            self.seed(seed)\n",
        "        self.current_step = 0\n",
        "\n",
        "        if self.exploring_starts:\n",
        "            x       = self.np_random.uniform(0, self.size[0])\n",
        "            y       = self.np_random.uniform(0, self.size[1])\n",
        "            heading = self.np_random.uniform(self.action_min, self.action_max)\n",
        "        else:\n",
        "            x, y, heading = 10.0, 10.0, 0.0\n",
        "\n",
        "        if self.obs:\n",
        "            flat_obs   = np.array(self.obstacles).flatten().astype(np.float32)\n",
        "            self.state  = np.concatenate(([x, y, heading], flat_obs))\n",
        "        else:\n",
        "            self.state  = np.array([x, y, heading], dtype=np.float32)\n",
        "\n",
        "        return self.state, {}\n",
        "\n",
        "    def is_collision(self, x: float, y: float) -> bool:\n",
        "        \"\"\"Check interior obstacles only.\"\"\"\n",
        "        for x1, y1, x2, y2 in self.obstacles:\n",
        "            if x1 <= x <= x2 and y1 <= y <= y2:\n",
        "                return True\n",
        "        return False\n",
        "\n",
        "\n",
        "    def _line_intersects_rectangle(self, x0, y0, x1, y1, rect):\n",
        "            xmin, ymin, xmax, ymax = rect\n",
        "            # Handle zero-movement case\n",
        "            if x0 == x1 and y0 == y1:\n",
        "                return (xmin <= x0 <= xmax) and (ymin <= y0 <= ymax)\n",
        "\n",
        "            dx, dy = x1 - x0, y1 - y0\n",
        "            p = [-dx, dx, -dy, dy]\n",
        "            q = [x0 - xmin, xmax - x0, y0 - ymin, ymax - y0]\n",
        "            t0, t1 = 0.0, 1.0\n",
        "\n",
        "            for i in range(4):\n",
        "                if abs(p[i]) < 1e-10:  # Parallel to edge\n",
        "                    if q[i] < 0: return False\n",
        "                else:\n",
        "                    t = q[i] / p[i]\n",
        "                    if p[i] < 0:\n",
        "                        if t > t1: return False\n",
        "                        if t > t0: t0 = t\n",
        "                    else:\n",
        "                        if t < t0: return False\n",
        "                        if t < t1: t1 = t\n",
        "\n",
        "            return t0 <= t1 and t0 <= 1 and t1 >= 0\n",
        "\n",
        "    def step(self, action):\n",
        "        \"\"\"Apply action, return (next_state, reward, terminated, truncated, info).\"\"\"\n",
        "        self.current_step += 1\n",
        "        result = self._simulate_step(self.state, action)\n",
        "        new_state, base_reward, terminated, hit_obstacle, hit_wall, info = result\n",
        "\n",
        "        reward = base_reward\n",
        "        if hit_obstacle:\n",
        "            reward -= self.obstacle_penalty\n",
        "        if hit_wall:\n",
        "            reward -= self.wall_penalty\n",
        "        if terminated:\n",
        "            reward += self.goal_reward\n",
        "\n",
        "        # truncation on time-limit\n",
        "        truncated = (self.current_step >= self.max_episode_steps)\n",
        "        # update state\n",
        "        self.state = new_state\n",
        "\n",
        "        return new_state, reward, terminated, truncated,info\n",
        "\n",
        "    def _simulate_step(self, state, action):\n",
        "        \"\"\"Compute next_state, base_reward, terminated (no penalties here).\"\"\"\n",
        "        pos = state[:2]\n",
        "        current_heading = state[2]\n",
        "        alpha = 0.3\n",
        "        # Convert action to relative heading change\n",
        "        delta_heading = float(action[0])\n",
        "        new_heading = ((1-alpha)*current_heading + alpha*delta_heading) % 360  # Keep in [0,360)\n",
        "        dx = self.speed * np.cos(np.radians(new_heading))\n",
        "        dy = self.speed * np.sin(np.radians(new_heading))\n",
        "        new_x, new_y = pos[0] + dx, pos[1] + dy\n",
        "\n",
        "        # Continuous obstacle collision check\n",
        "        hit_obstacle = any(\n",
        "            self._line_intersects_rectangle(pos[0], pos[1], new_x, new_y, obs)\n",
        "            for obs in self.obstacles\n",
        "        )\n",
        "\n",
        "        # Wall collision (endpoint only - walls are convex)\n",
        "        hit_wall = not (0 <= new_x <= self.size[0] and 0 <= new_y <= self.size[1])\n",
        "\n",
        "        # Roll back position on collision\n",
        "        if hit_obstacle or hit_wall:\n",
        "\n",
        "            new_x, new_y = pos[0], pos[1]\n",
        "\n",
        "        # clip to exact bounds\n",
        "        new_x = np.clip(new_x, 0, self.size[0])\n",
        "        new_y = np.clip(new_y, 0, self.size[1])\n",
        "\n",
        "        if self.obs:\n",
        "            obs_data  = state[3:]\n",
        "            new_state = np.concatenate(([new_x, new_y, new_heading], obs_data))\n",
        "        else:\n",
        "            new_state = np.array([new_x, new_y, new_heading], dtype=np.float32)\n",
        "\n",
        "        # base reward = negative distance to goal\n",
        "        distance   = np.linalg.norm(new_state[:2] - self.goal)\n",
        "        base_reward = -distance\n",
        "\n",
        "        # termination when close to goal\n",
        "        terminated = (distance < 5.0)\n",
        "\n",
        "        return new_state, base_reward, terminated, hit_obstacle, hit_wall, {}\n",
        "\n",
        "    def render(self, mode='human'):\n",
        "        \"\"\"Draw agent, goal, obstacles, and walls.\"\"\"\n",
        "        screen_size = 600\n",
        "        scale = screen_size / max(self.size)\n",
        "\n",
        "        if self.screen is None:\n",
        "            pygame.init()\n",
        "            self.screen = pygame.Surface((screen_size, screen_size))\n",
        "\n",
        "        surf = pygame.Surface((screen_size, screen_size))\n",
        "        surf.fill((22, 36, 71))  # background\n",
        "\n",
        "        # draw boundary walls (as gray frame)\n",
        "        wall_thick = 5\n",
        "        pygame.draw.rect(surf, (100,100,100), (0, 0, screen_size, wall_thick))  # top\n",
        "        pygame.draw.rect(surf, (100,100,100), (0, 0, wall_thick, screen_size))  # left\n",
        "        pygame.draw.rect(surf, (100,100,100), (0, screen_size-wall_thick, screen_size, wall_thick))  # bottom\n",
        "        pygame.draw.rect(surf, (100,100,100), (screen_size-wall_thick, 0, wall_thick, screen_size))  # right\n",
        "\n",
        "        # draw goal\n",
        "        gx = int(self.goal[0] * scale)\n",
        "        gy = screen_size - int(self.goal[1] * scale)\n",
        "        gfxdraw.filled_circle(surf, gx, gy, int(scale*2), (40,199,172))\n",
        "\n",
        "        # draw obstacles\n",
        "        for x1, y1, x2, y2 in self.obstacles:\n",
        "            rx = int(x1*scale)\n",
        "            ry = screen_size - int(y2*scale)\n",
        "            w  = int((x2-x1)*scale)\n",
        "            h  = int((y2-y1)*scale)\n",
        "            pygame.draw.rect(surf, (128,128,128), (rx, ry, w, h))\n",
        "\n",
        "        # draw agent\n",
        "        ax = int(self.state[0]*scale)\n",
        "        ay = screen_size - int(self.state[1]*scale)\n",
        "        gfxdraw.filled_circle(surf, ax, ay, int(scale*1), (228,63,90))\n",
        "        # heading line\n",
        "        end_x = ax + int(10*np.cos(np.radians(self.state[2])))\n",
        "        end_y = ay - int(10*np.sin(np.radians(self.state[2])))\n",
        "        pygame.draw.line(surf, (255,255,255), (ax,ay), (end_x,end_y), 2)\n",
        "\n",
        "        canvas = pygame.transform.flip(surf, False, True)\n",
        "        self.screen.blit(canvas, (0,0))\n",
        "\n",
        "        if mode=='human':\n",
        "            pygame.display.flip()\n",
        "            return None\n",
        "        elif mode=='rgb_array':\n",
        "            arr = pygame.surfarray.pixels3d(self.screen)\n",
        "            return np.transpose(arr, (1,0,2)).astype(np.uint8)\n",
        "        else:\n",
        "            raise ValueError(f\"Render mode {mode} not supported\")\n",
        "\n",
        "    def close(self):\n",
        "        \"\"\"Shutdown pygame.\"\"\"\n",
        "        if self.screen is not None:\n",
        "            pygame.display.quit()\n",
        "            pygame.quit()\n",
        "            self.screen = None\n"
      ]
    },
    {
      "cell_type": "code",
      "execution_count": 23,
      "metadata": {
        "colab": {
          "base_uri": "https://localhost:8080/",
          "height": 1000
        },
        "id": "YCb48-rXVUIS",
        "outputId": "cf0dd8dc-f422-4b1d-cbb4-4791bbbe0561",
        "collapsed": true
      },
      "outputs": [
        {
          "output_type": "execute_result",
          "data": {
            "text/plain": [
              "<IPython.core.display.HTML object>"
            ],
            "text/html": [
              "<video width=\"600\" height=\"600\" controls autoplay loop>\n",
              "  <source type=\"video/mp4\" src=\"data:video/mp4;base64,AAAAIGZ0eXBNNFYgAAACAE00ViBpc29taXNvMmF2YzEAAAAIZnJlZQAAJbBtZGF0AAACrgYF//+q\n",
              "3EXpvebZSLeWLNgg2SPu73gyNjQgLSBjb3JlIDE2MyByMzA2MCA1ZGI2YWE2IC0gSC4yNjQvTVBF\n",
              "Ry00IEFWQyBjb2RlYyAtIENvcHlsZWZ0IDIwMDMtMjAyMSAtIGh0dHA6Ly93d3cudmlkZW9sYW4u\n",
              "b3JnL3gyNjQuaHRtbCAtIG9wdGlvbnM6IGNhYmFjPTEgcmVmPTMgZGVibG9jaz0xOjA6MCBhbmFs\n",
              "eXNlPTB4MzoweDExMyBtZT1oZXggc3VibWU9NyBwc3k9MSBwc3lfcmQ9MS4wMDowLjAwIG1peGVk\n",
              "X3JlZj0xIG1lX3JhbmdlPTE2IGNocm9tYV9tZT0xIHRyZWxsaXM9MSA4eDhkY3Q9MSBjcW09MCBk\n",
              "ZWFkem9uZT0yMSwxMSBmYXN0X3Bza2lwPTEgY2hyb21hX3FwX29mZnNldD0tMiB0aHJlYWRzPTMg\n",
              "bG9va2FoZWFkX3RocmVhZHM9MSBzbGljZWRfdGhyZWFkcz0wIG5yPTAgZGVjaW1hdGU9MSBpbnRl\n",
              "cmxhY2VkPTAgYmx1cmF5X2NvbXBhdD0wIGNvbnN0cmFpbmVkX2ludHJhPTAgYmZyYW1lcz0zIGJf\n",
              "cHlyYW1pZD0yIGJfYWRhcHQ9MSBiX2JpYXM9MCBkaXJlY3Q9MSB3ZWlnaHRiPTEgb3Blbl9nb3A9\n",
              "MCB3ZWlnaHRwPTIga2V5aW50PTI1MCBrZXlpbnRfbWluPTEwIHNjZW5lY3V0PTQwIGludHJhX3Jl\n",
              "ZnJlc2g9MCByY19sb29rYWhlYWQ9NDAgcmM9Y3JmIG1idHJlZT0xIGNyZj0yMy4wIHFjb21wPTAu\n",
              "NjAgcXBtaW49MCBxcG1heD02OSBxcHN0ZXA9NCBpcF9yYXRpbz0xLjQwIGFxPTE6MS4wMACAAAAE\n",
              "7WWIhAAR//73iB8yy2n5OtdyEeetLq0fUO5GcV6kvf4gAAADAAADAAIceCvyHWMDfpugAAA1oAac\n",
              "OeT/4M0/8QDOttXYB27Mw9J9mvlUiCU5ySI2SzjfT9sOPojj7Kgits/PMcxN/d+glLBL7AC/eyUz\n",
              "SyzwoENNO9C/LuvtZjDQayXjFzU1szYo1o6wYDEcJ0vi9iUPrnA7V71AAAAU5z+vdkukYGqv7Z2T\n",
              "H0L/UldC890ZiKYZze+wOn8YY0LaRlD6gC0Q4SrqRszOM3sYNPHiNvPU+qGFOmMxJj/JTud34N6k\n",
              "8376SMsz8dpiRAYotb44r/+a6VllDu4YBwXxeXHbXmeBjLNaHimlVkncW/oiigWRTbqdvWt5pbAo\n",
              "iwCVQPEfV/AJAJEGra9+dq4hY7NLwknaQNyhvfyv1SQFI9dV8c49+pXbybK7vHrhuravBX32ZRae\n",
              "AyuBf4aBCqxQ7ibIbv1H1knrUdfnnJZKHYdpZNzI/U+Y1YZn91yajfPJJNtHukwYCgjnR72bK2z9\n",
              "qnyegDeQtQc5A4E35EFhKceyF30AGtBGu5YOmEKJ21BtSXZcRb9FeSL6o7cVifbnlI8mFwP1+JlV\n",
              "GRTAXiaLG7MEITgLNyF1uRCVHA0rS43PlFO5MUx/fJgmXB+VUzyEnK+o7h6XGT1KMMCPGyXMa5ba\n",
              "knEWt/ZB5s8r3M+6WlC090C2OcjhznsnfQQwo5iC+uVFW9+vQ2tnJM6t2f0aDL3MYdywK7RnpSQT\n",
              "JNcimq+UI9Y5BJrPtvopRW03FGkSVTpAthFWMssG8mnPasN2LPvPTTi3Q9pOSxn6jbYtBl9kbx5S\n",
              "AMrIeoV0GICeQAD+UWKYfbaOdZ/APSokMciB0kGgOe+veIBCUuFna1h3nQUFP3uWPH+KsP0ZDOrz\n",
              "aGRLa4rxH4B2h+2lzCkBLeEvVAc7AUDMwngIlokvzkxS5yRL4LRJeMV7rpG/WKq8ftU7fsHhnWUU\n",
              "suFev5au9GHmK1lvoz8E+fi9q4PljXcOpLyOYZw5WO05nk/jobU+AQA9GMGq1vHT9e4f5+fTItiu\n",
              "81cTWqFO7PmRy27xmLpMYARpJTJnA5IolDj57jIfOInDo1uLfp/O2lc1Xz8NIPAc0W3sKBUSIzc9\n",
              "0rbda6xX+WMMVVBJBS2ScykgNQa2qD9BLYCHMcGkIFErhaz4xALANRT+d+al05hqh43GtMONMl3H\n",
              "n7Pd+oEn5usEbzEyl97h8QH/gqmneCowQJEB4M6R3O/BMBO5Fsso/FEV0BLYvRxO6nGLyGEy9JWM\n",
              "6n9458cERQReHjChRm7fiSSS8xhezoFPxWTmVyzDC0r8gOTY1cbYfGgREw4K8t/pYAGRZhIcDeYr\n",
              "IE5CGVyLim/ywGgCK8FVZCRB9wReeDF43WbJAAuqDGQoNv5zhtTza1jx383b17n5tOygrWOBjMmL\n",
              "ftFq/4fN6a3vMV03W0V8hsx/pZDAj8s4cwFMaYze6DX0CgPicR1An/fPg9lqDILgm97EEmNKJmdB\n",
              "1vRUpjCJi9U/UxpcZ+EM+vMAADqXg48L9CTOhs3Alrtpk+tsOKmx84jCx3DBa4Lm7rle+ow/ZFU1\n",
              "gLO0FW8IYzNImFPcMbujAn4koAsDardt3vRGpA/nO1MhL6n2myb1/r3kydeseX0e19aYICxe+cNA\n",
              "AGAAAAMAAdkAAADnQZokbEEf/rUqgAJDbamGj1j+Piyt6Zg6m9AEG33A+KQGAA0JTW1SI7wDMXpt\n",
              "8RfhkozGZzjUPY0EUXckvq8TXHIFFjDTtOb5vY3JoNjUaONPWJ4qgkyzBbgcQMgRCJkZ1bn9ehjN\n",
              "e7fc8Fj5KAL1w9VECB9jig0nZEVuO9xcHJII16PAPcISpv2BLBigpGWmUewwU138qKBKc9MD6Wqh\n",
              "vNLk9b90/Wlm2TqqCJxBz1g/K1LMiV8l5GBtpPn80K8hOck0NmNfQ72Q3oqi2huvDgUROT7OZT41\n",
              "HpBhJUdWf2Ea3aVdJm9AAAAAv0GeQniHfwAIw5P5krEGoziOu0KqQbTpS8wfYOwAnWsaq0V1azLu\n",
              "KO0F3NrnU7RaRH4wun5i9sGE90qP1TCWl82+R2iFCniWONgXKst5SHoZIVhpPERceA0o/LBz8hJK\n",
              "Vcnt+yShe+y/13o+V5j6RFOEOApLN1M33EQqiaFAOY7a15i0Vy4zxsFb67Uvm8j7d2dv14afMsaM\n",
              "6TxAu+bbVOIDtu3JxXCFyxlI46Wm9/j/tKPbhi12p37g3MEYPBdxAAAAvQGeYXRDfwAMj1fceFDA\n",
              "M9t/tLyD8NtOr4ANxRk2hTt3g1f2D1kAWDb/dIeb0wiy6PvP7UgcTYsDXTzIaMg7zn/hRt4fGtjK\n",
              "pUe7CKTvT/7wrtlR8AyubywSkkfmCp4HJMGr6ZV/Rj9AqYUMNJ+RlPsCU4irD+Em86RzH8uM805S\n",
              "UsN+suhcv+eo0P07L328mC6M5lEzAAhmvt4qkPDy8J6krJniV6LGwaiJwe7g/E9l4Vo9G/gASXeM\n",
              "KxRXwAAAAK8BnmNqQ38AAAMC/F2AxDuIMteixETww8xH5LgBNXnyE2jPv8/tc7UfB/Pr+J23WYbH\n",
              "VgsgZ6oNkcXnlcmp7vkMAgu/J/9SuSyxiDNEx4vCoJADfIQALug4yNEQfUmGuLZudiJeZK+F3Hdz\n",
              "bUzM1REyPF1WKyaIvfjQAFqF0h178RsYLucTd6IV64vC2NiaSqVHCoeVZdRb6Z89HYqlMQEIIhZZ\n",
              "FblthHWi0lUpAAG1AAABI0GaaEmoQWiZTAgj//61KoAAAAMAAgP2bmXvLMcfDZYDdbX+V2K5swDW\n",
              "I1m0X3KqR54IicHhmJ6f/H9O4VEwWBBKvab897n4CHGUR0p8626rlo51w1hPXtEBXq7z/M7742cy\n",
              "AFFhWnnRZfvJAz/3RcopuBmzrLrBRk53gp6NWksAjF9RJ1b3drhPfpGyDALSIlW/r1xlWOld5naP\n",
              "wMW2lbPYcO/VVPREfmGIuhjLtZ9rDMUbGLLuv4fBjGfq9kriYjPS2e56u7NnTP9dBYV4oRJdIrl1\n",
              "c5SFj0UQtFP9ZH8yj2yN6o/8tLr9Xz7D2IBH4U+7kmxJltuuL5U23grW7Cr+5wgCSVc6a3b9pDfr\n",
              "lerzbcDDZpBvLvggN03fmxSmCFndxQAAANJBnoZFESw7/wAAAwIRSodcEdYNSCrE979T/Uzbu5QA\n",
              "mZD1h+XBzXDPHLcnBw3shyQbmCz3m5Lx0X0lrtLvyfnyEquL6vBxzxRY6SDjKGk9qw3DfrbEPXMM\n",
              "RPthtCaFx45+bFb0Pc08epE8qwG79I1/Cv3YR2d2UJXDUy4RciOLQ0iMEXd+6TlmpQ7SUWKgaVwd\n",
              "wpDW/6Cozyzo/tu/TYRu/htyX6rDo6lZuRyNB1mzZxv2AH0eJbHjoRhJpAdcEmpi1I47gVZoloIO\n",
              "EVtGNUHBoCsAAAC8AZ6ldEN/AAADAvvV9uCOsmpHZcJsdq4fwqJx2wsAE5IRmjlCWplkBY2QHsYf\n",
              "CfGCl+8tl3o22vsKtKKqmsRKj3Dl8ZaAVL10ewlsEhVOTefYITbgTDQ3oeVrAQvev6v3nVprXlqT\n",
              "4fXneDPClQ6C/C6OxSP2sWmjjo73Z2cmJggRrRw87RNavHY/yapTkuVUW2p5n8G/A7B2amCVA9UA\n",
              "C4B3s//2GBJpVnSnRf9lGwzALZvX2a2F14huB/kAAAC0AZ6nakN/AAADAvxdgEAAxWwZwFVVA2Xp\n",
              "X4PcifwAcI/EqdQrnpISgJI0mM8lS2mwi7BH+XI2mFHOesmsOxVknE94r51whfp/33jSCeURse9l\n",
              "s8dpwnrW85/dtMOXOfIRW9QzfVclWnCulBZCoMdC1DWuXbSfbySNYyA6Uc5Jwdak6+13yDy347gz\n",
              "OXTf9CvzlUjymiqdo89uTyiy788/qIXcilV2qOkoFCIr+R3B41NI4cRgAAAAN0GarEmoQWyZTAgj\n",
              "//61KoAAAAMAAAMAASDmG/EAGj1WFKisyoRc6AqN/vaEHRRVi2pqK81ezegAAAAtQZ7KRRUsO/8A\n",
              "AAMCEUqHXAAACkSLoAP6QxKCKPjr7KQFXOY0XbkzES7ZTSLfAAAAFgGe6XRDfwAAAwL71fbgAABR\n",
              "45HfbvgAAAAsAZ7rakN/AAADAvxdgEAAADcGzfc4AQNpugNQ0Y1lNtHGrFFr1a/1Jbs5u+AAAABF\n",
              "QZrwSahBbJlMCCP//rUqgAAAAwAAAwABKR+28wAto/lJzFj9GRgPBEz4doDTbVTdHTJjhxDqisuq\n",
              "+2e9R8cdGzbaccRPAAAAMUGfDkUVLDv/AAADAhFKh1wAABoPemk/H2vEADrIyZ//opZJJhKO2dbS\n",
              "Yxqu2Ybk6oEAAAApAZ8tdEN/AAADAvvV9uAAAFGmxCWfABq7hI9+igosfoZ1LZKaKMdYW+EAAAAY\n",
              "AZ8vakN/AAADAvxdgEAAAJA7+7cjACnVAAAAQ0GbNEmoQWyZTAgj//61KoAAAAMAAAMAAShGOoYA\n",
              "RlemTO8sJFyf69nWeGoY5UplHg7Yp58ujfj1uie3lYvHpsVY4icAAAAYQZ9SRRUsO/8AAAMCEUqH\n",
              "XAAACjjIQvazAAAAKQGfcXRDfwAAAwL71fbgAABRtjcWfABq7hI9+igosfqVdR7F9Wwh2O+AAAAA\n",
              "MAGfc2pDfwAAAwL8XYBAAAA30YyADaqx5DZk6RX2qZ4Uj2UytKMbPB5T6fwGeOLWYAAAACZBm3hJ\n",
              "qEFsmUwII//+tSqAAAADAAADAAEwbcQAGk8KMNkajP1WWQAAADBBn5ZFFSw7/wAAAwIRSodcAAAK\n",
              "RIugBLV0AjhjRcWLFQ3/UunimY866akzO3ys3fAAAAAjAZ+1dEN/AAADAvvV9uAAAFHHQOsNAAf3\n",
              "JzWBiDbr5oO7HfEAAAAjAZ+3akN/AAADAvxdgEAAADelXhAoYAM3USofDWItYQ3rC30AAAAsQZu8\n",
              "SahBbJlMCCP//rUqgAAAAwAAAwABKD5fOAL8+xpv6gw0SDLR4q+OInAAAAAuQZ/aRRUsO/8AAAMC\n",
              "EUqHXAAAChnf6jQAS0pnetpmImYuDGFr6B4LD0WzchObvwAAACEBn/l0Q38AAAMC+9X24AAAUaQw\n",
              "zhAAiD3Ye0ihjBS+2swAAAAWAZ/7akN/AAADAvxdgEAAADelXv/bvwAAADBBm+BJqEFsmUwII//+\n",
              "tSqAAAADAAADAAEg5hvxABJ0vg8hMLQX/+mW1FSrlVZyl4EAAAAZQZ4eRRUsO/8AAAMCEUqHXAAA\n",
              "CjsJ7B7d8AAAABYBnj10Q38AAAMC+9X24AAAUcdDd474AAAAIAGeP2pDfwAAAwL8XYBAAAA3XmwN\n",
              "RdnUMAGjww+9Swt9AAAAMkGaJEmoQWyZTAgj//61KoAAAAMAAAMAASCskXGQAW/qfutj54QjZjQb\n",
              "4VPbrFUfXKXgAAAAGUGeQkUVLDv/AAADAhFKh1wAAAo7Cewe3fEAAAAgAZ5hdEN/AAADAvvV9uAA\n",
              "AFGG9AyPV0MAGjww+9Swt8AAAAAlAZ5jakN/AAADAvxdgEAAADfRjIANqpG5QyVzdiGuqBLfdZzd\n",
              "8QAAAE9BmmhJqEFsmUwII//+tSqAAAADAAADAAMBDKC6YQDar8z7Zmke85BhXSqatYWzicVBi8xC\n",
              "sUbzOVP0JAAw1BZMjnkMU/oP6fDGcaBzOsUxAAAAK0GehkUVLDv/AAADAhFKh1wAAAnsp0ce4AIO\n",
              "jrQqHsFOnYBN3fC44xkZefEAAAAjAZ6ldEN/AAADAvvV9uAAAE6MT+TsAGide9PmBU79WaI95psA\n",
              "AAAtAZ6nakN/AAADAvxdgEAAAJBB70ACda0IrZmGl7RSiWl9sjudDyYPbnKjd5fAAAAAOkGarEmo\n",
              "QWyZTAgj//61KoAAAAMAAAMAAwFJPOil22hoAR4qsSjcZlyRCEGXZPqb1jei20/Vqw6Bv6YAAAAX\n",
              "QZ7KRRUsO/8AAAMCEUqHXAAACfMKvs8AAAAWAZ7pdEN/AAADAvvV9uAAANMDmkLq8wAAACQBnutq\n",
              "Q38AAAMC/F2AQAAANkb43uWADRSNk3fLMD0plX/x9ngAAAA2QZrwSahBbJlMCCP//rUqgAAAAwAA\n",
              "AwABIPpIbFAAsQTxi/s2NFGEApdhTg4/ZLLGyypTOUvBAAAAF0GfDkUVLDv/AAADAhFKh1wAAAnw\n",
              "zc01AAAAIAGfLXRDfwAAAwL71fbgAABR2W3SYoYANE5yuuxdWFvhAAAAIgGfL2pDfwAAAwL8XYBA\n",
              "AAA2n7lgA0UGI0+RTKdZ5DVlj58AAAAeQZs0SahBbJlMCCP//rUqgAAAAwAAAwABIEXKLlLwAAAA\n",
              "JkGfUkUVLDv/AAADAhFKh1wAAAo3FsUAE7AQNUrkPdeNScr3+7HfAAAAJwGfcXRDfwAAAwL71fbg\n",
              "AABRo+KAgARB5W6koAC2cVzBF7BW3gzd8AAAABYBn3NqQ38AAAMC/F2AQAAAN5sWN+O+AAAAI0Gb\n",
              "eEmoQWyZTAgj//61KoAAAAMAAAMAASBGxjxQAk7I1t3BAAAANUGflkUVLDv/AAADAhFKh1wAAAns\n",
              "pImr7AAJhCFi2WpLBiRESdLaE7+LH14zVBQY2X2mmTs8AAAAFQGftXRDfwAAAwL71fbgAABPl2va\n",
              "aQAAABUBn7dqQ38AAAMC/F2AQAAANmVsZukAAAAkQZu8SahBbJlMCCP//rUqgAAAAwAAAwABIDyl\n",
              "wAlP3eVP72b0AAAAF0Gf2kUVLDv/AAADAhFKh1wAAAnz1X2fAAAAFAGf+XRDfwAAAwL71fbgAAAD\n",
              "AMWAAAAAFQGf+2pDfwAAAwL8XYBAAAA2ZWxm6QAAAC9Bm+BJqEFsmUwII//+tSqAAAADAAADAAEg\n",
              "+5oJgAH+AzV5ew+i2zOfrW2cbblLwQAAABdBnh5FFSw7/wAAAwIRSodcAAAJ8wq+zwAAABUBnj10\n",
              "Q38AAAMC+9X24AAAT6OvaaAAAAAVAZ4/akN/AAADAvxdgEAAADZbK9nhAAAAO0GaJEmoQWyZTAgj\n",
              "//61KoAAAAMAAAMAATBtxAAOLD2MzCcDt+HXHjeqdw4gkoQjN5xFYmOKkfThsiMsAAAAF0GeQkUV\n",
              "LDv/AAADAhFKh1wAAAnzCr7PAAAAIwGeYXRDfwAAAwL71fbgAABOoSJf+AA/t9N0E8gBuxnUnLs8\n",
              "AAAAJAGeY2pDfwAAAwL8XYBAAAA2FCB0rT+AA/fPPVFoRz4A3IYTdQAAAEFBmmhJqEFsmUwII//+\n",
              "tSqAAAADAAADAAEocdQwAsP0rLDMxCjy6LT2Ufgrnhks5uTU8NE6Aui4cxK1w2I0/Y4icQAAACxB\n",
              "noZFFSw7/wAAAwIRSodcAAAKO9JMOW1yADyg5P411J1CGK6jLPVhriMd8QAAABUBnqV0Q38AAAMC\n",
              "+9X24AAAT4dr2eEAAAAjAZ6nakN/AAADAvxdgEAAADesNQLGrXAAf25rlfkD9O4ObvgAAAA5QZqs\n",
              "SahBbJlMCCP//rUqgAAAAwAAAwABKEXHorH0NACP219lHA1yPio97QaRXJMCjy0pmR2e2OInAAAA\n",
              "KUGeykUVLDv/AAADAhFKh1wAAAoZNAugAvrzQ/W7U+X7MaGb27CtoW+BAAAAFgGe6XRDfwAAAwL7\n",
              "1fbgAABR12FRIt8AAAAgAZ7rakN/AAADAvxdgEAAADea9i0gNAAfw9i+TO+c3fAAAABHQZrwSahB\n",
              "bJlMCCP//rUqgAAAAwAAAwABIPh7dxQAFyeLtT6zFSW5OXHxMHd6MbbUMrmSj+z+bLzclbF9ayiC\n",
              "9SczWXb85S8AAAAlQZ8ORRUsO/8AAAMCEUqHXAAACdw+jVmLYALdFN8Uhq/DCzDN0QAAAB8Bny10\n",
              "Q38AAAMC+9X24AAAT/9ywAZswH+WobZCY+zxAAAAIwGfL2pDfwAAAwL8XYBAAAA2Rvje5YANbjy0\n",
              "yuAVQHY9QzdAAAAAOkGbNEmoQWyZTAgj//61KoAAAAMAAAMAASCc7XjIAR8GcUApaZXSmESPd2mt\n",
              "NEmS3xvyr+ZS/HDnKXgAAAAoQZ9SRRUsO/8AAAMCEUqHXAAACf/3uACT1AtM8Grtl7JQN1b/AfzT\n",
              "QQAAAB4Bn3F0Q38AAAMC+9X24AAATqE3rlgAzVBRj92x8+AAAAAjAZ9zakN/AAADAvxdgEAAADZD\n",
              "MCbywAa3HlplcAqgOx6hm6AAAAA6QZt4SahBbJlMCCP//rUqgAAAAwAAAwABIPjSfGQAjxU8GGWi\n",
              "cMfuXMmuelKrm0VSGJYgec4n5dj3+QAAACdBn5ZFFSw7/wAAAwIRSodcAAAJ//e4ALUBcnqhAET/\n",
              "mHJJvAw800AAAAAqAZ+1dEN/AAADAvvV9uAAAE6gXEwgAgaNTmECdy+hPiDHX7OVbMYDQWmhAAAA\n",
              "FQGft2pDfwAAAwL8XYBAAAA2ZWxm6QAAADxBm7xJqEFsmUwII//+tSqAAAADAAADAAEg5hvxABo7\n",
              "ePqCX4LaE5feZTVyF4PTbChTaxbb7pU/G9OcpeAAAAAXQZ/aRRUsO/8AAAMCEUqHXAAACfPVfZ8A\n",
              "AAAjAZ/5dEN/AAADAvvV9uAAAE+eVTsAGidiO+n6De+xMFjxaaAAAAAjAZ/7akN/AAADAvxdgEAA\n",
              "ADZBdQSdgAzZYZxE94Mg1x9yaaEAAAA1QZvgSahBbJlMCCP//rUqgAAAAwAAAwABIO+D8QAa4UFl\n",
              "kwd8txRlxl6ww5z+narVphauUvEAAAAnQZ4eRRUsO/8AAAMCEUqHXAAACeugJvLYAM2pmgej1ZvW\n",
              "gi+zeZm6AAAAHgGePXRDfwAAAwL71fbgAABOjNH5YAM0b8q8EMfPgAAAABUBnj9qQ38AAAMC/F2A\n",
              "QAAANlsr2eEAAAAtQZokSahBbJlMCCP//rUqgAAAAwAAAwABIEArFAA0sXeMxTCqli++U4d1cpeA\n",
              "AAAAIkGeQkUVLDv/AAADAhFKh1wAAAnf9bLxleABvuBs7s5Y+fEAAAArAZ5hdEN/AAADAvvV9uAA\n",
              "AFIm2QAbVWPLcxylrTavJGQeufIYN8QswrC3wAAAACIBnmNqQ38AAAMC/F2AQAAANkb43uWADX7Z\n",
              "VGiVk451Tx8/AAAANkGaaEmoQWyZTAgj//61KoAAAAMAAAMAASD7meMgBH4Jxvan/c/Iju2NF2y+\n",
              "ylSTu7W2mzlLwQAAAC5BnoZFFSw7/wAAAwIRSodcAAAJ68ne9+ACsDaUluGmJy+am1Jdb1U0+fR8\n",
              "cWmhAAAAFQGepXRDfwAAAwL71fbgAABPh2vZ4QAAACMBnqdqQ38AAAMC/F2AQAAANkF1BJ2ADXPH\n",
              "SS+1cJmpkXOzwAAAADdBmqxJqEFsmUwII//+tSqAAAADAAADAAEg+5njIASRhooQbogaoWzMWUhk\n",
              "XwUEnxEcHaTauUvAAAAAKEGeykUVLDv/AAADAhFKh1wAAAnroCby2ADxpn/Sc1bfMQSMZMnLHz8A\n",
              "AAAfAZ7pdEN/AAADAvvV9uAAAE8O2bgflgA2qy5QCWg8+AAAACcBnutqQ38AAAMC/F2AQAAANkFv\n",
              "9TCACBpFKnDOQA3YzaZdXXMXm6AAAAAeQZrwSahBbJlMCCP//rUqgAAAAwAAAwABIEXKLlLxAAAA\n",
              "F0GfDkUVLDv/AAADAhFKh1wAAAnz1X2fAAAAKgGfLXRDfwAAAwL71fbgAABPdFnq2ADRIUVfurZq\n",
              "34Dk98FlJmt3tY5aaQAAABUBny9qQ38AAAMC/F2AQAAANmVsZugAAAA7QZs0SahBbJlMCCP//rUq\n",
              "gAAAAwAAAwABIJvtmxQALDgbnD9dHLm5elwcfR4KaRdfiETr1MfUCy2Pf4AAAAAXQZ9SRRUsO/8A\n",
              "AAMCEUqHXAAACfPVfZ8AAAAiAZ9xdEN/AAADAvvV9uAAAE+V5P8AB/Iw1Z4RWvQZQDhm6AAAACIB\n",
              "n3NqQ38AAAMC/F2AQAAANf5wA6p2ADNXlM97v4cS1QzdAAAAUkGbeEmoQWyZTAgj//61KoAAAAMA\n",
              "AAMAAwG0MGAJ8/gR/5vHnPM2lvjdEwYjjw+E/M0mh3Z3K6CpMkc3mxPFQPCi1fGdSmuZq5KKGFWL\n",
              "RAuPyNEAAAAaQZ+WRRUsO/8AAAMCEUqHXAAAGlvUtrDwQiwAAAAnAZ+1dEN/AAADAvvV9uAAANLb\n",
              "K/frQAgkw4lq8gPm8ywFewn6CurhAAAALAGft2pDfwAAAwL8XYBAAACQavCCIEhNABq7k7ZJNdfM\n",
              "F3joA+3R92QAY8nVAAAAIkGbvEmoQWyZTAgj//61KoAAAAMAAAMAAwFJPQUf9FxgfoIAAAAzQZ/a\n",
              "RRUsO/8AAAMCEUqHXAAAGmMGnP2lCgAgZhpkxAD89PBvP/25bqjVqk7yu1ysxXVxAAAAIgGf+XRD\n",
              "fwAAAwL71fbgAADTA6EujmAARAAgZ9lekS/14RYAAAAjAZ/7akN/AAADAvxdgEAAADebAm4aAA/k\n",
              "Yas8IrXoMoB2FvkAAAA6QZvgSahBbJlMCCP//rUqgAAAAwAAAwABKP+Z6AA+N7ac6OatMEfGq0Iz\n",
              "AMg7+iLhagov7662ujiJwQAAABlBnh5FFSw7/wAAAwIRSodcAAAKO9O3ntZgAAAALwGePXRDfwAA\n",
              "AwL71fbgAABPdW0emEAD+3NTwY3yP+TjTAV5BtOxxZfX+OuoWXz4AAAAFgGeP2pDfwAAAwL8XYBA\n",
              "AAA3pV7/278AAABNQZokSahBbJlMCCP//rUqgAAAAwAAAwADAbQwYAc9/ddkLKa3ma7vbcwlgxHH\n",
              "h8J+ZR1wST3hKy8WY3XyqGkOt7CjwXBB7CRRm6MfkaAAAAAaQZ5CRRUsO/8AAAMCEUqHXAAAGlvU\n",
              "trDwQi0AAAAWAZ5hdEN/AAADAvvV9uAAAFHjkd9u+AAAABQBnmNqQ38AAAMC/F2AQAAAAwCFgQAA\n",
              "AEdBmmhJqEFsmUwII//+tSqAAAADAAADAAEoadrzgA1cg3ZurznzgsTRSzstTa7YvrVZquzH6+Z5\n",
              "w8Q0V4WoqsZSlv/quDg/BwAAAC5BnoZFFSw7/wAAAwIRSodcAAAaXr/S3Cs0AE7V+VkyN0BtrMSU\n",
              "4nu1hbZdhuEXAAAAKwGepXRDfwAAAwL71fbgAADQkHCxBIf8Gm3gA2JOrh+MgvAD7sTD0B+pE6sA\n",
              "AAAWAZ6nakN/AAADAvxdgEAAADelXv/bvgAAACBBmqxJqEFsmUwII//+tSqAAAADAAADAAEoRcR6\n",
              "CRxE4AAAADFBnspFFSw7/wAAAwIRSodcAAAaYMNOlF7QAf0Xid3+/4esbJXMQHSybbhsIEWqFOqB\n",
              "AAAAGQGe6XRDfwAAAwL71fbgAABRu6yZXIokW+AAAAAYAZ7rakN/AAADAvxdgEAAAJA7+7cjACnV\n",
              "AAAAS0Ga8EmoQWyZTAgh//6qVQAAAwAAAwAAAwJRdVsMAE7eIODuZGuLx+s+Gl7wH7ruONnUf7nO\n",
              "Z4AZeOeBwaWzZ4gaDfI2w1OhnGhE4QAAACtBnw5FFSw7/wAAAwIRSodcAAAaYMNNxDrTL6ADykS1\n",
              "wQlAqgwPCSIs1TRZAAAAKwGfLXRDfwAAAwL71fbgAABRxxk46bF1wAZuvzAR8qXz7osAKTVW0Abg\n",
              "3fEAAAAhAZ8vakN/AAADAvxdgEAAADX+b5y/ywAaKS3N03+4/QzdAAAANEGbNEmoQWyZTAh3//6p\n",
              "lgAAAwAAAwAACMhexTrkAEj38iZm9vW/Ui2h/GpM3jaEUsPKthsAAAAwQZ9SRRUsO/8AAAMCEUqH\n",
              "XAAAGmDDTcZeGaAB2ln41UcQ+fjEduHOvhRUGRBrWdXBAAAAJwGfcXRDfwAAAwL71fbgAABRtc3v\n",
              "qGADRAiAmAUKmRO0KLqU6rm74AAAACkBn3NqQ38AAAMC/F2AQAAAkDv7b9zPzQAbJhofzT/yJh+O\n",
              "KiGnDxXVwAAAACxBm3VJqEFsmUwIb//+p4QAAAMAAAMAABHcL8JcAGtTT5JLzCLG8dXyBB+7uQAA\n",
              "Cjxtb292AAAAbG12aGQAAAAAAAAAAAAAAAAAAAPoAAA6mAABAAABAAAAAAAAAAAAAAAAAQAAAAAA\n",
              "AAAAAAAAAAAAAAEAAAAAAAAAAAAAAAAAAEAAAAAAAAAAAAAAAAAAAAAAAAAAAAAAAAAAAAAAAAAC\n",
              "AAAJZnRyYWsAAABcdGtoZAAAAAMAAAAAAAAAAAAAAAEAAAAAAAA6mAAAAAAAAAAAAAAAAAAAAAAA\n",
              "AQAAAAAAAAAAAAAAAAAAAAEAAAAAAAAAAAAAAAAAAEAAAAACWAAAAlgAAAAAACRlZHRzAAAAHGVs\n",
              "c3QAAAAAAAAAAQAAOpgAAAgAAAEAAAAACN5tZGlhAAAAIG1kaGQAAAAAAAAAAAAAAAAAACgAAAJY\n",
              "AFXEAAAAAAAtaGRscgAAAAAAAAAAdmlkZQAAAAAAAAAAAAAAAFZpZGVvSGFuZGxlcgAAAAiJbWlu\n",
              "ZgAAABR2bWhkAAAAAQAAAAAAAAAAAAAAJGRpbmYAAAAcZHJlZgAAAAAAAAABAAAADHVybCAAAAAB\n",
              "AAAISXN0YmwAAAC5c3RzZAAAAAAAAAABAAAAqWF2YzEAAAAAAAAAAQAAAAAAAAAAAAAAAAAAAAAC\n",
              "WAJYAEgAAABIAAAAAAAAAAEAAAAAAAAAAAAAAAAAAAAAAAAAAAAAAAAAAAAAAAAAAAAY//8AAAA3\n",
              "YXZjQwFkABb/4QAaZ2QAFqzZQJgTeWWEAAADAAQAAAMAUDxYtlgBAAZo6+PLIsD9+PgAAAAAHHV1\n",
              "aWRraEDyXyRPxbo5pRvPAyPzAAAAAAAAABhzdHRzAAAAAAAAAAEAAACWAAAEAAAAABRzdHNzAAAA\n",
              "AAAAAAEAAAABAAAEwGN0dHMAAAAAAAAAlgAAAAEAAAgAAAAAAQAAFAAAAAABAAAIAAAAAAEAAAAA\n",
              "AAAAAQAABAAAAAABAAAUAAAAAAEAAAgAAAAAAQAAAAAAAAABAAAEAAAAAAEAABQAAAAAAQAACAAA\n",
              "AAABAAAAAAAAAAEAAAQAAAAAAQAAFAAAAAABAAAIAAAAAAEAAAAAAAAAAQAABAAAAAABAAAUAAAA\n",
              "AAEAAAgAAAAAAQAAAAAAAAABAAAEAAAAAAEAABQAAAAAAQAACAAAAAABAAAAAAAAAAEAAAQAAAAA\n",
              "AQAAFAAAAAABAAAIAAAAAAEAAAAAAAAAAQAABAAAAAABAAAUAAAAAAEAAAgAAAAAAQAAAAAAAAAB\n",
              "AAAEAAAAAAEAABQAAAAAAQAACAAAAAABAAAAAAAAAAEAAAQAAAAAAQAAFAAAAAABAAAIAAAAAAEA\n",
              "AAAAAAAAAQAABAAAAAABAAAUAAAAAAEAAAgAAAAAAQAAAAAAAAABAAAEAAAAAAEAABQAAAAAAQAA\n",
              "CAAAAAABAAAAAAAAAAEAAAQAAAAAAQAAFAAAAAABAAAIAAAAAAEAAAAAAAAAAQAABAAAAAABAAAU\n",
              "AAAAAAEAAAgAAAAAAQAAAAAAAAABAAAEAAAAAAEAABQAAAAAAQAACAAAAAABAAAAAAAAAAEAAAQA\n",
              "AAAAAQAAFAAAAAABAAAIAAAAAAEAAAAAAAAAAQAABAAAAAABAAAUAAAAAAEAAAgAAAAAAQAAAAAA\n",
              "AAABAAAEAAAAAAEAABQAAAAAAQAACAAAAAABAAAAAAAAAAEAAAQAAAAAAQAAFAAAAAABAAAIAAAA\n",
              "AAEAAAAAAAAAAQAABAAAAAABAAAUAAAAAAEAAAgAAAAAAQAAAAAAAAABAAAEAAAAAAEAABQAAAAA\n",
              "AQAACAAAAAABAAAAAAAAAAEAAAQAAAAAAQAAFAAAAAABAAAIAAAAAAEAAAAAAAAAAQAABAAAAAAB\n",
              "AAAUAAAAAAEAAAgAAAAAAQAAAAAAAAABAAAEAAAAAAEAABQAAAAAAQAACAAAAAABAAAAAAAAAAEA\n",
              "AAQAAAAAAQAAFAAAAAABAAAIAAAAAAEAAAAAAAAAAQAABAAAAAABAAAUAAAAAAEAAAgAAAAAAQAA\n",
              "AAAAAAABAAAEAAAAAAEAABQAAAAAAQAACAAAAAABAAAAAAAAAAEAAAQAAAAAAQAAFAAAAAABAAAI\n",
              "AAAAAAEAAAAAAAAAAQAABAAAAAABAAAUAAAAAAEAAAgAAAAAAQAAAAAAAAABAAAEAAAAAAEAABQA\n",
              "AAAAAQAACAAAAAABAAAAAAAAAAEAAAQAAAAAAQAAFAAAAAABAAAIAAAAAAEAAAAAAAAAAQAABAAA\n",
              "AAABAAAUAAAAAAEAAAgAAAAAAQAAAAAAAAABAAAEAAAAAAEAABQAAAAAAQAACAAAAAABAAAAAAAA\n",
              "AAEAAAQAAAAAAQAAFAAAAAABAAAIAAAAAAEAAAAAAAAAAQAABAAAAAABAAAUAAAAAAEAAAgAAAAA\n",
              "AQAAAAAAAAABAAAEAAAAAAEAABQAAAAAAQAACAAAAAABAAAAAAAAAAEAAAQAAAAAAQAAFAAAAAAB\n",
              "AAAIAAAAAAEAAAAAAAAAAQAABAAAAAABAAAIAAAAABxzdHNjAAAAAAAAAAEAAAABAAAAlgAAAAEA\n",
              "AAJsc3RzegAAAAAAAAAAAAAAlgAAB6MAAADrAAAAwwAAAMEAAACzAAABJwAAANYAAADAAAAAuAAA\n",
              "ADsAAAAxAAAAGgAAADAAAABJAAAANQAAAC0AAAAcAAAARwAAABwAAAAtAAAANAAAACoAAAA0AAAA\n",
              "JwAAACcAAAAwAAAAMgAAACUAAAAaAAAANAAAAB0AAAAaAAAAJAAAADYAAAAdAAAAJAAAACkAAABT\n",
              "AAAALwAAACcAAAAxAAAAPgAAABsAAAAaAAAAKAAAADoAAAAbAAAAJAAAACYAAAAiAAAAKgAAACsA\n",
              "AAAaAAAAJwAAADkAAAAZAAAAGQAAACgAAAAbAAAAGAAAABkAAAAzAAAAGwAAABkAAAAZAAAAPwAA\n",
              "ABsAAAAnAAAAKAAAAEUAAAAwAAAAGQAAACcAAAA9AAAALQAAABoAAAAkAAAASwAAACkAAAAjAAAA\n",
              "JwAAAD4AAAAsAAAAIgAAACcAAAA+AAAAKwAAAC4AAAAZAAAAQAAAABsAAAAnAAAAJwAAADkAAAAr\n",
              "AAAAIgAAABkAAAAxAAAAJgAAAC8AAAAmAAAAOgAAADIAAAAZAAAAJwAAADsAAAAsAAAAIwAAACsA\n",
              "AAAiAAAAGwAAAC4AAAAZAAAAPwAAABsAAAAmAAAAJgAAAFYAAAAeAAAAKwAAADAAAAAmAAAANwAA\n",
              "ACYAAAAnAAAAPgAAAB0AAAAzAAAAGgAAAFEAAAAeAAAAGgAAABgAAABLAAAAMgAAAC8AAAAaAAAA\n",
              "JAAAADUAAAAdAAAAHAAAAE8AAAAvAAAALwAAACUAAAA4AAAANAAAACsAAAAtAAAAMAAAABRzdGNv\n",
              "AAAAAAAAAAEAAAAwAAAAYnVkdGEAAABabWV0YQAAAAAAAAAhaGRscgAAAAAAAAAAbWRpcmFwcGwA\n",
              "AAAAAAAAAAAAAAAtaWxzdAAAACWpdG9vAAAAHWRhdGEAAAABAAAAAExhdmY1OC43Ni4xMDA=\n",
              "\">\n",
              "  Your browser does not support the video tag.\n",
              "</video>"
            ]
          },
          "metadata": {},
          "execution_count": 23
        },
        {
          "output_type": "display_data",
          "data": {
            "text/plain": [
              "<Figure size 600x600 with 1 Axes>"
            ],
            "image/png": "[encoded data removed]"
          },
          "metadata": {}
        }
      ],
      "source": [
        "# Create environment with obstacles in state\n",
        "env = PointParticleEnv()\n",
        "import numpy as np\n",
        "import matplotlib.pyplot as plt\n",
        "from matplotlib import animation\n",
        "from IPython.display import HTML\n",
        "\n",
        "def run_random_agent_animation(env, steps=500):\n",
        "    frames = []\n",
        "    state = env.reset()\n",
        "    for _ in range(steps):\n",
        "        # Sample a random action from the continuous action space\n",
        "        action = env.action_space.sample()\n",
        "        state, reward, done,_,info = env.step(action)\n",
        "        frame = env.render(mode='rgb_array')\n",
        "        frames.append(frame)\n",
        "        if done:\n",
        "            break\n",
        "    return frames\n",
        "\n",
        "# Create environment instance (with obstacles and continuous actions)\n",
        "env = PointParticleEnv(obs=True)\n",
        "\n",
        "# Run the agent for 50 random steps and collect frames\n",
        "frames = run_random_agent_animation(env, steps=150)\n",
        "\n",
        "# Create animation using matplotlib\n",
        "fig, ax = plt.subplots(figsize=(6, 6))\n",
        "ax.axis('off')\n",
        "im = ax.imshow(frames[0])\n",
        "\n",
        "def update(frame):\n",
        "    im.set_data(frame)\n",
        "    return [im]\n",
        "\n",
        "anim = animation.FuncAnimation(fig, update, frames=frames, interval=100, blit=True)\n",
        "\n",
        "# Display animation as HTML video (for Jupyter notebooks)\n",
        "HTML(anim.to_html5_video())\n",
        "\n"
      ]
    },
    {
      "cell_type": "code",
      "execution_count": 27,
      "metadata": {
        "id": "ujBgisU_UWuE"
      },
      "outputs": [],
      "source": [
        "import os\n",
        "import wandb\n",
        "# import gym\n",
        "import json\n",
        "import torch\n",
        "import numpy as np\n",
        "from tqdm import tqdm\n",
        "from src.utils import *\n",
        "from src.memory import *\n",
        "from src.agents import *\n",
        "\n",
        "os.environ['WANDB_API_KEY'] = ''\n",
        "class Trainer:\n",
        "\n",
        "    def __init__(self, config_file, enable_logging=True):\n",
        "        self.enable_logging = enable_logging\n",
        "        self.config = Trainer.parse_config(config_file)\n",
        "        self.env =  gym.make(self.config['env_name'])\n",
        "        self.env = apply_seed(self.env,self.config['seed'])\n",
        "        self.state_dimension = self.env.observation_space.shape[0]\n",
        "        print(\"state\",self.state_dimension)\n",
        "        self.action_dimension = self.env.action_space.shape[0]\n",
        "        print(\"action\",self.action_dimension)\n",
        "        self.max_action = float(self.env.action_space.high[0])\n",
        "        self.device = torch.device('cuda:0' if torch.cuda.is_available() else 'cpu')\n",
        "        self.agent = DDPGAgent(\n",
        "            state_dim=self.state_dimension, action_dim=self.action_dimension,\n",
        "            max_action=self.max_action, device=self.device,\n",
        "            discount=self.config['discount'], tau=self.config['tau']\n",
        "        )\n",
        "        self.save_file_name = f\"DDPG_{self.config['env_name']}_{self.config['seed']}\"\n",
        "        self.memory = ReplayBuffer()\n",
        "        if self.enable_logging:\n",
        "            wandb.init(project=\"ddpg\", config=self.config)\n",
        "        try:\n",
        "            os.mkdir('./pretrained_models')\n",
        "        except Exception as e:\n",
        "            pass\n",
        "\n",
        "    @staticmethod\n",
        "    def parse_config(json_file):\n",
        "        with open(json_file, 'r') as f:\n",
        "            configs = json.load(f)\n",
        "        return configs\n",
        "\n",
        "    def train(self):\n",
        "        # pull out your new config entries:\n",
        "        num_episodes     = 500\n",
        "        max_episode_steps = int(self.config.get('max_episode_steps', self.env._max_episode_steps))\n",
        "\n",
        "        ts = 0                                 # global time-step counter\n",
        "        episode_rewards = []\n",
        "        evaluations     = []\n",
        "\n",
        "        for ep in tqdm(range(1, num_episodes + 1)):\n",
        "            print(\"episode number is: \",ep)\n",
        "            state, info = self.env.reset()\n",
        "            episode_reward, episode_timesteps = 0, 0\n",
        "            done = False\n",
        "\n",
        "            # run one episode (stop if env says done OR if we hit max_episode_steps)\n",
        "            while not done and episode_timesteps < max_episode_steps:\n",
        "                # print(\"episode_timesteps: \",episode_timesteps)\n",
        "                episode_timesteps += 1\n",
        "                ts += 1\n",
        "\n",
        "                # select action\n",
        "                if ts < self.config['start_time_step']:\n",
        "                    action = self.env.action_space.sample()\n",
        "                else:\n",
        "                    action = (\n",
        "                        self.agent.select_action(np.array(state))\n",
        "                        + np.random.normal(0, self.max_action * self.config['expl_noise'], size=self.action_dimension)\n",
        "                    ).clip(-self.max_action, self.max_action)\n",
        "\n",
        "                # step the env\n",
        "                next_state, reward, done, trunc ,info = self.env.step(action)\n",
        "\n",
        "                # push into replay, using 0‐mask if we ended because of time-limit\n",
        "                time_limit_reached = (episode_timesteps >= max_episode_steps)\n",
        "                mask = float(done) if not time_limit_reached else 0.0\n",
        "                self.memory.push(state, action, reward, next_state, mask)\n",
        "\n",
        "                state = next_state\n",
        "                episode_reward += reward\n",
        "\n",
        "                # train after warm-up\n",
        "                if ts >= self.config['start_time_step']:\n",
        "                    self.agent.train(self.memory, self.config['batch_size'])\n",
        "\n",
        "            # end of this episode: logging + reset counters\n",
        "            if self.enable_logging:\n",
        "                wandb.log({'Episode': ep,\n",
        "                          'Episode Reward': episode_reward,\n",
        "                          'Episode Length': episode_timesteps,\n",
        "                          'Global Step': ts})\n",
        "\n",
        "            episode_rewards.append(episode_reward)\n",
        "\n",
        "            # every 100 episodes, evaluate+checkpoint\n",
        "            if ep % 10 == 0:\n",
        "                eval_score = evaluate_policy(\n",
        "                    self.agent,\n",
        "                    self.config['env_name'],\n",
        "                    self.config['seed'],\n",
        "                    enable_logging=self.enable_logging,\n",
        "                    wandb=wandb\n",
        "                )\n",
        "                evaluations.append(eval_score)\n",
        "                self.agent.save_checkpoint(f\"./pretrained_models/{self.save_file_name}\")\n",
        "\n",
        "        wandb.finish()\n",
        "        return episode_rewards, evaluations\n",
        "\n",
        "\n",
        "    def evaluate(self):\n",
        "        self.agent.load_checkpoint(f\"./pretrained_models/DDPG_{self.config['env_name']}_{self.config['seed']}\")\n",
        "        evaluate_policy(self.agent, self.config['env_name'], self.config['seed'],render=True)"
      ]
    },
    {
      "cell_type": "code",
      "execution_count": 28,
      "metadata": {
        "colab": {
          "base_uri": "https://localhost:8080/",
          "height": 1000
        },
        "id": "TgpYB1mYVzyT",
        "outputId": "3fa950dd-a6da-46d0-945a-e02a00c5f6c8"
      },
      "outputs": [
        {
          "output_type": "stream",
          "name": "stdout",
          "text": [
            "state 3\n",
            "action 1\n"
          ]
        },
        {
          "output_type": "stream",
          "name": "stderr",
          "text": [
            "/usr/local/lib/python3.11/dist-packages/gym/envs/registration.py:498: UserWarning: \u001b[33mWARN: Overriding environment PointParticle-v0 already in registry.\u001b[0m\n",
            "  logger.warn(f\"Overriding environment {new_spec.id} already in registry.\")\n"
          ]
        },
        {
          "output_type": "display_data",
          "data": {
            "text/plain": [
              "<IPython.core.display.HTML object>"
            ],
            "text/html": [
              "Finishing previous runs because reinit is set to 'default'."
            ]
          },
          "metadata": {}
        },
        {
          "output_type": "display_data",
          "data": {
            "text/plain": [
              "<IPython.core.display.HTML object>"
            ],
            "text/html": []
          },
          "metadata": {}
        },
        {
          "output_type": "display_data",
          "data": {
            "text/plain": [
              "<IPython.core.display.HTML object>"
            ],
            "text/html": [
              "<br>    <style><br>        .wandb-row {<br>            display: flex;<br>            flex-direction: row;<br>            flex-wrap: wrap;<br>            justify-content: flex-start;<br>            width: 100%;<br>        }<br>        .wandb-col {<br>            display: flex;<br>            flex-direction: column;<br>            flex-basis: 100%;<br>            flex: 1;<br>            padding: 10px;<br>        }<br>    </style><br><div class=\"wandb-row\"><div class=\"wandb-col\"><h3>Run history:</h3><br/><table class=\"wandb\"><tr><td>Episode</td><td>▁▁▁▁▂▂▂▂▂▂▃▃▃▄▄▄▄▄▅▅▅▅▅▅▅▆▆▆▆▆▇▇▇▇▇▇▇███</td></tr><tr><td>Episode Length</td><td>████████████████████████████████████▃▁▁▁</td></tr><tr><td>Episode Reward</td><td>▁▂▂▂▁▃▁▃▂▂▂▂▁▁▁▂▂▃▁▁▁▁▃▂▁▁▁▃▃▁▂▁▁▁▁█████</td></tr><tr><td>Global Step</td><td>▁▁▁▂▂▂▂▂▃▃▃▃▄▄▄▄▄▅▅▅▅▅▆▆▆▆▇▇▇▇▇▇████████</td></tr><tr><td>Test Episode Reward</td><td>▁▁▁▁▁▁▁▁█</td></tr></table><br/></div><div class=\"wandb-col\"><h3>Run summary:</h3><br/><table class=\"wandb\"><tr><td>Episode</td><td>92</td></tr><tr><td>Episode Length</td><td>50</td></tr><tr><td>Episode Reward</td><td>-1167.70689</td></tr><tr><td>Global Step</td><td>25450</td></tr><tr><td>Test Episode Reward</td><td>-1135.98792</td></tr></table><br/></div></div>"
            ]
          },
          "metadata": {}
        },
        {
          "output_type": "display_data",
          "data": {
            "text/plain": [
              "<IPython.core.display.HTML object>"
            ],
            "text/html": [
              " View run <strong style=\"color:#cdcd00\">playful-frog-37</strong> at: <a href='https://wandb.ai/voldigoadanos53-aligarh-muslim-university/ddpg/runs/j59jkfsd' target=\"_blank\">https://wandb.ai/voldigoadanos53-aligarh-muslim-university/ddpg/runs/j59jkfsd</a><br> View project at: <a href='https://wandb.ai/voldigoadanos53-aligarh-muslim-university/ddpg' target=\"_blank\">https://wandb.ai/voldigoadanos53-aligarh-muslim-university/ddpg</a><br>Synced 5 W&B file(s), 0 media file(s), 0 artifact file(s) and 0 other file(s)"
            ]
          },
          "metadata": {}
        },
        {
          "output_type": "display_data",
          "data": {
            "text/plain": [
              "<IPython.core.display.HTML object>"
            ],
            "text/html": [
              "Find logs at: <code>./wandb/run-20250618_192102-j59jkfsd/logs</code>"
            ]
          },
          "metadata": {}
        },
        {
          "output_type": "display_data",
          "data": {
            "text/plain": [
              "<IPython.core.display.HTML object>"
            ],
            "text/html": [
              "Tracking run with wandb version 0.20.1"
            ]
          },
          "metadata": {}
        },
        {
          "output_type": "display_data",
          "data": {
            "text/plain": [
              "<IPython.core.display.HTML object>"
            ],
            "text/html": [
              "Run data is saved locally in <code>/content/drive/MyDrive/Projects/rl/DDPG-Pytorch/wandb/run-20250618_192217-kb5gi47h</code>"
            ]
          },
          "metadata": {}
        },
        {
          "output_type": "display_data",
          "data": {
            "text/plain": [
              "<IPython.core.display.HTML object>"
            ],
            "text/html": [
              "Syncing run <strong><a href='https://wandb.ai/voldigoadanos53-aligarh-muslim-university/ddpg/runs/kb5gi47h' target=\"_blank\">electric-valley-38</a></strong> to <a href='https://wandb.ai/voldigoadanos53-aligarh-muslim-university/ddpg' target=\"_blank\">Weights & Biases</a> (<a href='https://wandb.me/developer-guide' target=\"_blank\">docs</a>)<br>"
            ]
          },
          "metadata": {}
        },
        {
          "output_type": "display_data",
          "data": {
            "text/plain": [
              "<IPython.core.display.HTML object>"
            ],
            "text/html": [
              " View project at <a href='https://wandb.ai/voldigoadanos53-aligarh-muslim-university/ddpg' target=\"_blank\">https://wandb.ai/voldigoadanos53-aligarh-muslim-university/ddpg</a>"
            ]
          },
          "metadata": {}
        },
        {
          "output_type": "display_data",
          "data": {
            "text/plain": [
              "<IPython.core.display.HTML object>"
            ],
            "text/html": [
              " View run at <a href='https://wandb.ai/voldigoadanos53-aligarh-muslim-university/ddpg/runs/kb5gi47h' target=\"_blank\">https://wandb.ai/voldigoadanos53-aligarh-muslim-university/ddpg/runs/kb5gi47h</a>"
            ]
          },
          "metadata": {}
        },
        {
          "output_type": "stream",
          "name": "stderr",
          "text": [
            "  0%|          | 0/500 [00:00<?, ?it/s]/usr/local/lib/python3.11/dist-packages/gym/utils/passive_env_checker.py:233: DeprecationWarning: `np.bool8` is a deprecated alias for `np.bool_`.  (Deprecated NumPy 1.24)\n",
            "  if not isinstance(terminated, (bool, np.bool8)):\n",
            "  1%|          | 3/500 [00:00<00:24, 20.60it/s]"
          ]
        },
        {
          "output_type": "stream",
          "name": "stdout",
          "text": [
            "episode number is:  1\n",
            "episode number is:  2\n",
            "episode number is:  3\n",
            "episode number is:  4\n",
            "episode number is:  5\n"
          ]
        },
        {
          "output_type": "stream",
          "name": "stderr",
          "text": [
            "  2%|▏         | 8/500 [00:00<00:24, 19.74it/s]"
          ]
        },
        {
          "output_type": "stream",
          "name": "stdout",
          "text": [
            "episode number is:  6\n",
            "episode number is:  7\n",
            "episode number is:  8\n",
            "episode number is:  9\n",
            "episode number is:  10\n",
            "Episode reward 1 ==> -27460.587657928467\n",
            "Episode reward 2 ==> -27460.587657928467\n",
            "Episode reward 3 ==> -27460.587657928467\n",
            "Episode reward 4 ==> -27460.587657928467\n",
            "Episode reward 5 ==> -27460.587657928467\n",
            "Episode reward 6 ==> -27460.587657928467\n",
            "Episode reward 7 ==> -27460.587657928467\n",
            "Episode reward 8 ==> -27460.587657928467\n",
            "Episode reward 9 ==> -27460.587657928467\n"
          ]
        },
        {
          "output_type": "stream",
          "name": "stderr",
          "text": [
            "  2%|▏         | 12/500 [00:02<01:57,  4.15it/s]"
          ]
        },
        {
          "output_type": "stream",
          "name": "stdout",
          "text": [
            "Episode reward 10 ==> -27460.587657928467\n",
            "episode number is:  11\n",
            "episode number is:  12\n",
            "episode number is:  13\n"
          ]
        },
        {
          "output_type": "stream",
          "name": "stderr",
          "text": [
            "  3%|▎         | 17/500 [00:02<01:01,  7.88it/s]"
          ]
        },
        {
          "output_type": "stream",
          "name": "stdout",
          "text": [
            "episode number is:  14\n",
            "episode number is:  15\n",
            "episode number is:  16\n",
            "episode number is:  17\n",
            "episode number is:  18\n",
            "episode number is:  19\n",
            "episode number is:  20\n",
            "Episode reward 1 ==> -27460.587657928467\n",
            "Episode reward 2 ==> -27460.587657928467\n",
            "Episode reward 3 ==> -27460.587657928467\n",
            "Episode reward 4 ==> -27460.587657928467\n",
            "Episode reward 5 ==> -27460.587657928467\n",
            "Episode reward 6 ==> -27460.587657928467\n",
            "Episode reward 7 ==> -27460.587657928467\n",
            "Episode reward 8 ==> -27460.587657928467\n",
            "Episode reward 9 ==> -27460.587657928467\n",
            "Episode reward 10 ==> -27460.587657928467\n"
          ]
        },
        {
          "output_type": "stream",
          "name": "stderr",
          "text": [
            "  5%|▍         | 23/500 [00:04<01:43,  4.61it/s]"
          ]
        },
        {
          "output_type": "stream",
          "name": "stdout",
          "text": [
            "episode number is:  21\n",
            "episode number is:  22\n",
            "episode number is:  23\n",
            "episode number is:  24\n",
            "episode number is:  25\n"
          ]
        },
        {
          "output_type": "stream",
          "name": "stderr",
          "text": [
            "  6%|▌         | 28/500 [00:04<01:03,  7.43it/s]"
          ]
        },
        {
          "output_type": "stream",
          "name": "stdout",
          "text": [
            "episode number is:  26\n",
            "episode number is:  27\n",
            "episode number is:  28\n",
            "episode number is:  29\n",
            "episode number is:  30\n",
            "Episode reward 1 ==> -27460.587657928467\n",
            "Episode reward 2 ==> -27460.587657928467\n",
            "Episode reward 3 ==> -27460.587657928467\n",
            "Episode reward 4 ==> -27460.587657928467\n",
            "Episode reward 5 ==> -27460.587657928467\n",
            "Episode reward 6 ==> -27460.587657928467\n",
            "Episode reward 7 ==> -27460.587657928467\n",
            "Episode reward 8 ==> -27460.587657928467\n",
            "Episode reward 9 ==> -27460.587657928467\n",
            "Episode reward 10 ==> -27460.587657928467\n"
          ]
        },
        {
          "output_type": "stream",
          "name": "stderr",
          "text": [
            "  7%|▋         | 33/500 [00:06<01:45,  4.41it/s]"
          ]
        },
        {
          "output_type": "stream",
          "name": "stdout",
          "text": [
            "episode number is:  31\n",
            "episode number is:  32\n",
            "episode number is:  33\n",
            "episode number is:  34\n",
            "episode number is:  35\n"
          ]
        },
        {
          "output_type": "stream",
          "name": "stderr",
          "text": [
            "  8%|▊         | 38/500 [00:06<01:02,  7.40it/s]"
          ]
        },
        {
          "output_type": "stream",
          "name": "stdout",
          "text": [
            "episode number is:  36\n",
            "episode number is:  37\n",
            "episode number is:  38\n",
            "episode number is:  39\n",
            "episode number is:  40\n",
            "Episode reward 1 ==> -27460.587657928467\n",
            "Episode reward 2 ==> -27460.587657928467\n",
            "Episode reward 3 ==> -27460.587657928467\n",
            "Episode reward 4 ==> -27460.587657928467\n",
            "Episode reward 5 ==> -27460.587657928467\n",
            "Episode reward 6 ==> -27460.587657928467\n",
            "Episode reward 7 ==> -27460.587657928467\n",
            "Episode reward 8 ==> -27460.587657928467\n"
          ]
        },
        {
          "output_type": "stream",
          "name": "stderr",
          "text": [
            "\r  8%|▊         | 40/500 [00:08<02:27,  3.12it/s]"
          ]
        },
        {
          "output_type": "stream",
          "name": "stdout",
          "text": [
            "Episode reward 9 ==> -27460.587657928467\n",
            "Episode reward 10 ==> -27460.587657928467\n",
            "episode number is:  41\n"
          ]
        },
        {
          "output_type": "stream",
          "name": "stderr",
          "text": [
            "\r  8%|▊         | 42/500 [00:08<01:55,  3.96it/s]"
          ]
        },
        {
          "output_type": "stream",
          "name": "stdout",
          "text": [
            "episode number is:  42\n",
            "episode number is:  43\n",
            "episode number is:  44\n"
          ]
        },
        {
          "output_type": "stream",
          "name": "stderr",
          "text": [
            "  9%|▉         | 46/500 [00:09<01:18,  5.82it/s]"
          ]
        },
        {
          "output_type": "stream",
          "name": "stdout",
          "text": [
            "episode number is:  45\n",
            "episode number is:  46\n",
            "episode number is:  47\n"
          ]
        },
        {
          "output_type": "stream",
          "name": "stderr",
          "text": [
            "\r 10%|▉         | 48/500 [00:09<01:06,  6.84it/s]"
          ]
        },
        {
          "output_type": "stream",
          "name": "stdout",
          "text": [
            "episode number is:  48\n",
            "episode number is:  49\n",
            "episode number is:  50\n",
            "Episode reward 1 ==> -27460.587657928467\n",
            "Episode reward 2 ==> -27460.587657928467\n",
            "Episode reward 3 ==> -27460.587657928467\n",
            "Episode reward 4 ==> -27460.587657928467\n",
            "Episode reward 5 ==> -27460.587657928467\n",
            "Episode reward 6 ==> -27460.587657928467\n",
            "Episode reward 7 ==> -27460.587657928467\n",
            "Episode reward 8 ==> -27460.587657928467\n",
            "Episode reward 9 ==> -27460.587657928467\n"
          ]
        },
        {
          "output_type": "stream",
          "name": "stderr",
          "text": [
            "\r 10%|█         | 50/500 [00:11<03:28,  2.16it/s]"
          ]
        },
        {
          "output_type": "stream",
          "name": "stdout",
          "text": [
            "Episode reward 10 ==> -27460.587657928467\n",
            "episode number is:  51\n",
            "episode number is:  52\n"
          ]
        },
        {
          "output_type": "stream",
          "name": "stderr",
          "text": [
            " 11%|█         | 54/500 [00:12<01:58,  3.76it/s]"
          ]
        },
        {
          "output_type": "stream",
          "name": "stdout",
          "text": [
            "episode number is:  53\n",
            "episode number is:  54\n",
            "episode number is:  55\n"
          ]
        },
        {
          "output_type": "stream",
          "name": "stderr",
          "text": [
            "\r 11%|█         | 56/500 [00:12<01:32,  4.81it/s]"
          ]
        },
        {
          "output_type": "stream",
          "name": "stdout",
          "text": [
            "episode number is:  56\n",
            "episode number is:  57\n",
            "episode number is:  58\n"
          ]
        },
        {
          "output_type": "stream",
          "name": "stderr",
          "text": [
            "\r 12%|█▏        | 58/500 [00:12<01:16,  5.78it/s]"
          ]
        },
        {
          "output_type": "stream",
          "name": "stdout",
          "text": [
            "episode number is:  59\n",
            "episode number is:  60\n",
            "Episode reward 1 ==> -27460.587657928467\n",
            "Episode reward 2 ==> -27460.587657928467\n",
            "Episode reward 3 ==> -27460.587657928467\n",
            "Episode reward 4 ==> -27460.587657928467\n",
            "Episode reward 5 ==> -27460.587657928467\n",
            "Episode reward 6 ==> -27460.587657928467\n",
            "Episode reward 7 ==> -27460.587657928467\n",
            "Episode reward 8 ==> -27460.587657928467\n",
            "Episode reward 9 ==> -27460.587657928467\n"
          ]
        },
        {
          "output_type": "stream",
          "name": "stderr",
          "text": [
            " 13%|█▎        | 63/500 [00:14<02:08,  3.41it/s]"
          ]
        },
        {
          "output_type": "stream",
          "name": "stdout",
          "text": [
            "Episode reward 10 ==> -27460.587657928467\n",
            "episode number is:  61\n",
            "episode number is:  62\n",
            "episode number is:  63\n",
            "episode number is:  64\n"
          ]
        },
        {
          "output_type": "stream",
          "name": "stderr",
          "text": [
            " 14%|█▎        | 68/500 [00:14<01:11,  6.01it/s]"
          ]
        },
        {
          "output_type": "stream",
          "name": "stdout",
          "text": [
            "episode number is:  65\n",
            "episode number is:  66\n",
            "episode number is:  67\n",
            "episode number is:  68\n",
            "episode number is:  69\n",
            "episode number is:  70\n",
            "Episode reward 1 ==> -27460.587657928467\n",
            "Episode reward 2 ==> -27460.587657928467\n",
            "Episode reward 3 ==> -27460.587657928467\n",
            "Episode reward 4 ==> -27460.587657928467\n",
            "Episode reward 5 ==> -27460.587657928467\n",
            "Episode reward 6 ==> -27460.587657928467\n",
            "Episode reward 7 ==> -27460.587657928467\n",
            "Episode reward 8 ==> -27460.587657928467\n",
            "Episode reward 9 ==> -27460.587657928467\n"
          ]
        },
        {
          "output_type": "stream",
          "name": "stderr",
          "text": [
            " 15%|█▍        | 73/500 [00:16<01:44,  4.08it/s]"
          ]
        },
        {
          "output_type": "stream",
          "name": "stdout",
          "text": [
            "Episode reward 10 ==> -27460.587657928467\n",
            "episode number is:  71\n",
            "episode number is:  72\n",
            "episode number is:  73\n",
            "episode number is:  74\n"
          ]
        },
        {
          "output_type": "stream",
          "name": "stderr",
          "text": [
            " 16%|█▌        | 78/500 [00:17<01:00,  7.02it/s]"
          ]
        },
        {
          "output_type": "stream",
          "name": "stdout",
          "text": [
            "episode number is:  75\n",
            "episode number is:  76\n",
            "episode number is:  77\n",
            "episode number is:  78\n",
            "episode number is:  79\n",
            "episode number is:  80\n",
            "Episode reward 1 ==> -27460.587657928467\n",
            "Episode reward 2 ==> -27460.587657928467\n",
            "Episode reward 3 ==> -27460.587657928467\n",
            "Episode reward 4 ==> -27460.587657928467\n",
            "Episode reward 5 ==> -27460.587657928467\n",
            "Episode reward 6 ==> -27460.587657928467\n",
            "Episode reward 7 ==> -27460.587657928467\n",
            "Episode reward 8 ==> -27460.587657928467\n",
            "Episode reward 9 ==> -27460.587657928467\n"
          ]
        },
        {
          "output_type": "stream",
          "name": "stderr",
          "text": [
            " 17%|█▋        | 83/500 [00:19<01:37,  4.28it/s]"
          ]
        },
        {
          "output_type": "stream",
          "name": "stdout",
          "text": [
            "Episode reward 10 ==> -27460.587657928467\n",
            "episode number is:  81\n",
            "episode number is:  82\n",
            "episode number is:  83\n",
            "episode number is:  84\n",
            "episode number is:  85\n"
          ]
        },
        {
          "output_type": "stream",
          "name": "stderr",
          "text": [
            "\r 17%|█▋        | 85/500 [00:21<03:26,  2.01it/s]"
          ]
        },
        {
          "output_type": "stream",
          "name": "stdout",
          "text": [
            "episode number is:  86\n",
            "episode number is:  87\n"
          ]
        },
        {
          "output_type": "stream",
          "name": "stderr",
          "text": [
            "\r 17%|█▋        | 87/500 [00:25<05:54,  1.16it/s]"
          ]
        },
        {
          "output_type": "stream",
          "name": "stdout",
          "text": [
            "episode number is:  88\n"
          ]
        },
        {
          "output_type": "stream",
          "name": "stderr",
          "text": [
            "\r 18%|█▊        | 88/500 [00:27<07:03,  1.03s/it]"
          ]
        },
        {
          "output_type": "stream",
          "name": "stdout",
          "text": [
            "episode number is:  89\n"
          ]
        },
        {
          "output_type": "stream",
          "name": "stderr",
          "text": [
            "\r 18%|█▊        | 89/500 [00:28<07:47,  1.14s/it]"
          ]
        },
        {
          "output_type": "stream",
          "name": "stdout",
          "text": [
            "episode number is:  90\n",
            "Episode reward 1 ==> -1185.987919807434\n",
            "Episode reward 2 ==> -1185.987919807434\n",
            "Episode reward 3 ==> -1185.987919807434\n",
            "Episode reward 4 ==> -1185.987919807434\n",
            "Episode reward 5 ==> -1185.987919807434\n",
            "Episode reward 6 ==> -1185.987919807434\n"
          ]
        },
        {
          "output_type": "stream",
          "name": "stderr",
          "text": [
            "\r 18%|█▊        | 90/500 [00:30<08:25,  1.23s/it]"
          ]
        },
        {
          "output_type": "stream",
          "name": "stdout",
          "text": [
            "Episode reward 7 ==> -1185.987919807434\n",
            "Episode reward 8 ==> -1185.987919807434\n",
            "Episode reward 9 ==> -1185.987919807434\n",
            "Episode reward 10 ==> -1185.987919807434\n",
            "episode number is:  91\n"
          ]
        },
        {
          "output_type": "stream",
          "name": "stderr",
          "text": [
            "\r 18%|█▊        | 91/500 [00:31<08:28,  1.24s/it]"
          ]
        },
        {
          "output_type": "stream",
          "name": "stdout",
          "text": [
            "episode number is:  92\n"
          ]
        },
        {
          "output_type": "stream",
          "name": "stderr",
          "text": [
            "\r 18%|█▊        | 92/500 [00:32<08:21,  1.23s/it]"
          ]
        },
        {
          "output_type": "stream",
          "name": "stdout",
          "text": [
            "episode number is:  93\n"
          ]
        },
        {
          "output_type": "stream",
          "name": "stderr",
          "text": [
            "\r 19%|█▊        | 93/500 [00:34<08:14,  1.22s/it]"
          ]
        },
        {
          "output_type": "stream",
          "name": "stdout",
          "text": [
            "episode number is:  94\n"
          ]
        },
        {
          "output_type": "stream",
          "name": "stderr",
          "text": [
            "\r 19%|█▉        | 94/500 [00:35<08:13,  1.22s/it]"
          ]
        },
        {
          "output_type": "stream",
          "name": "stdout",
          "text": [
            "episode number is:  95\n"
          ]
        },
        {
          "output_type": "stream",
          "name": "stderr",
          "text": [
            "\r 19%|█▉        | 95/500 [00:36<08:17,  1.23s/it]"
          ]
        },
        {
          "output_type": "stream",
          "name": "stdout",
          "text": [
            "episode number is:  96\n"
          ]
        },
        {
          "output_type": "stream",
          "name": "stderr",
          "text": [
            "\r 19%|█▉        | 96/500 [00:37<07:46,  1.16s/it]"
          ]
        },
        {
          "output_type": "stream",
          "name": "stdout",
          "text": [
            "episode number is:  97\n"
          ]
        },
        {
          "output_type": "stream",
          "name": "stderr",
          "text": [
            "\r 19%|█▉        | 97/500 [00:39<08:50,  1.32s/it]"
          ]
        },
        {
          "output_type": "stream",
          "name": "stdout",
          "text": [
            "episode number is:  98\n"
          ]
        },
        {
          "output_type": "stream",
          "name": "stderr",
          "text": [
            "\r 20%|█▉        | 98/500 [00:41<10:53,  1.63s/it]"
          ]
        },
        {
          "output_type": "stream",
          "name": "stdout",
          "text": [
            "episode number is:  99\n"
          ]
        },
        {
          "output_type": "stream",
          "name": "stderr",
          "text": [
            "\r 20%|█▉        | 99/500 [00:43<11:14,  1.68s/it]"
          ]
        },
        {
          "output_type": "stream",
          "name": "stdout",
          "text": [
            "episode number is:  100\n",
            "Episode reward 1 ==> -1185.987919807434\n",
            "Episode reward 2 ==> -1185.987919807434\n",
            "Episode reward 3 ==> -1185.987919807434\n",
            "Episode reward 4 ==> -1185.987919807434\n",
            "Episode reward 5 ==> -1185.987919807434\n",
            "Episode reward 6 ==> -1185.987919807434\n",
            "Episode reward 7 ==> -1185.987919807434\n"
          ]
        },
        {
          "output_type": "stream",
          "name": "stderr",
          "text": [
            "\r 20%|██        | 100/500 [00:45<11:27,  1.72s/it]"
          ]
        },
        {
          "output_type": "stream",
          "name": "stdout",
          "text": [
            "Episode reward 8 ==> -1185.987919807434\n",
            "Episode reward 9 ==> -1185.987919807434\n",
            "Episode reward 10 ==> -1185.987919807434\n",
            "episode number is:  101\n"
          ]
        },
        {
          "output_type": "stream",
          "name": "stderr",
          "text": [
            "\r 20%|██        | 101/500 [00:46<10:57,  1.65s/it]"
          ]
        },
        {
          "output_type": "stream",
          "name": "stdout",
          "text": [
            "episode number is:  102\n"
          ]
        },
        {
          "output_type": "stream",
          "name": "stderr",
          "text": [
            "\r 20%|██        | 102/500 [00:48<10:21,  1.56s/it]"
          ]
        },
        {
          "output_type": "stream",
          "name": "stdout",
          "text": [
            "episode number is:  103\n"
          ]
        },
        {
          "output_type": "stream",
          "name": "stderr",
          "text": [
            "\r 21%|██        | 103/500 [00:49<09:56,  1.50s/it]"
          ]
        },
        {
          "output_type": "stream",
          "name": "stdout",
          "text": [
            "episode number is:  104\n"
          ]
        },
        {
          "output_type": "stream",
          "name": "stderr",
          "text": [
            "\r 21%|██        | 104/500 [00:50<09:37,  1.46s/it]"
          ]
        },
        {
          "output_type": "stream",
          "name": "stdout",
          "text": [
            "episode number is:  105\n"
          ]
        },
        {
          "output_type": "stream",
          "name": "stderr",
          "text": [
            "\r 21%|██        | 105/500 [00:52<09:16,  1.41s/it]"
          ]
        },
        {
          "output_type": "stream",
          "name": "stdout",
          "text": [
            "episode number is:  106\n"
          ]
        },
        {
          "output_type": "stream",
          "name": "stderr",
          "text": [
            "\r 21%|██        | 106/500 [00:53<08:48,  1.34s/it]"
          ]
        },
        {
          "output_type": "stream",
          "name": "stdout",
          "text": [
            "episode number is:  107\n"
          ]
        },
        {
          "output_type": "stream",
          "name": "stderr",
          "text": [
            "\r 21%|██▏       | 107/500 [00:55<10:11,  1.56s/it]"
          ]
        },
        {
          "output_type": "stream",
          "name": "stdout",
          "text": [
            "episode number is:  108\n"
          ]
        },
        {
          "output_type": "stream",
          "name": "stderr",
          "text": [
            "\r 22%|██▏       | 108/500 [00:57<11:36,  1.78s/it]"
          ]
        },
        {
          "output_type": "stream",
          "name": "stdout",
          "text": [
            "episode number is:  109\n"
          ]
        },
        {
          "output_type": "stream",
          "name": "stderr",
          "text": [
            "\r 22%|██▏       | 109/500 [00:59<10:40,  1.64s/it]"
          ]
        },
        {
          "output_type": "stream",
          "name": "stdout",
          "text": [
            "episode number is:  110\n",
            "Episode reward 1 ==> -1185.987919807434\n",
            "Episode reward 2 ==> -1185.987919807434\n",
            "Episode reward 3 ==> -1185.987919807434\n",
            "Episode reward 4 ==> -1185.987919807434\n",
            "Episode reward 5 ==> -1185.987919807434\n",
            "Episode reward 6 ==> -1185.987919807434\n",
            "Episode reward 7 ==> -1185.987919807434\n"
          ]
        },
        {
          "output_type": "stream",
          "name": "stderr",
          "text": [
            "\r 22%|██▏       | 110/500 [01:00<10:45,  1.65s/it]"
          ]
        },
        {
          "output_type": "stream",
          "name": "stdout",
          "text": [
            "Episode reward 8 ==> -1185.987919807434\n",
            "Episode reward 9 ==> -1185.987919807434\n",
            "Episode reward 10 ==> -1185.987919807434\n",
            "episode number is:  111\n"
          ]
        },
        {
          "output_type": "stream",
          "name": "stderr",
          "text": [
            "\r 22%|██▏       | 111/500 [01:02<10:18,  1.59s/it]"
          ]
        },
        {
          "output_type": "stream",
          "name": "stdout",
          "text": [
            "episode number is:  112\n"
          ]
        },
        {
          "output_type": "stream",
          "name": "stderr",
          "text": [
            "\r 22%|██▏       | 112/500 [01:03<09:45,  1.51s/it]"
          ]
        },
        {
          "output_type": "stream",
          "name": "stdout",
          "text": [
            "episode number is:  113\n"
          ]
        },
        {
          "output_type": "stream",
          "name": "stderr",
          "text": [
            "\r 23%|██▎       | 113/500 [01:04<09:19,  1.45s/it]"
          ]
        },
        {
          "output_type": "stream",
          "name": "stdout",
          "text": [
            "episode number is:  114\n"
          ]
        },
        {
          "output_type": "stream",
          "name": "stderr",
          "text": [
            "\r 23%|██▎       | 114/500 [01:06<09:06,  1.42s/it]"
          ]
        },
        {
          "output_type": "stream",
          "name": "stdout",
          "text": [
            "episode number is:  115\n"
          ]
        },
        {
          "output_type": "stream",
          "name": "stderr",
          "text": [
            "\r 23%|██▎       | 115/500 [01:07<08:54,  1.39s/it]"
          ]
        },
        {
          "output_type": "stream",
          "name": "stdout",
          "text": [
            "episode number is:  116\n"
          ]
        },
        {
          "output_type": "stream",
          "name": "stderr",
          "text": [
            "\r 23%|██▎       | 116/500 [01:08<08:59,  1.40s/it]"
          ]
        },
        {
          "output_type": "stream",
          "name": "stdout",
          "text": [
            "episode number is:  117\n"
          ]
        },
        {
          "output_type": "stream",
          "name": "stderr",
          "text": [
            "\r 23%|██▎       | 117/500 [01:10<10:13,  1.60s/it]"
          ]
        },
        {
          "output_type": "stream",
          "name": "stdout",
          "text": [
            "episode number is:  118\n"
          ]
        },
        {
          "output_type": "stream",
          "name": "stderr",
          "text": [
            "\r 24%|██▎       | 118/500 [01:12<10:59,  1.73s/it]"
          ]
        },
        {
          "output_type": "stream",
          "name": "stdout",
          "text": [
            "episode number is:  119\n"
          ]
        },
        {
          "output_type": "stream",
          "name": "stderr",
          "text": [
            "\r 24%|██▍       | 119/500 [01:14<10:10,  1.60s/it]"
          ]
        },
        {
          "output_type": "stream",
          "name": "stdout",
          "text": [
            "episode number is:  120\n",
            "Episode reward 1 ==> -1185.987919807434\n",
            "Episode reward 2 ==> -1185.987919807434\n",
            "Episode reward 3 ==> -1185.987919807434\n",
            "Episode reward 4 ==> -1185.987919807434\n",
            "Episode reward 5 ==> -1185.987919807434\n",
            "Episode reward 6 ==> -1185.987919807434\n",
            "Episode reward 7 ==> -1185.987919807434\n"
          ]
        },
        {
          "output_type": "stream",
          "name": "stderr",
          "text": [
            "\r 24%|██▍       | 120/500 [01:15<10:18,  1.63s/it]"
          ]
        },
        {
          "output_type": "stream",
          "name": "stdout",
          "text": [
            "Episode reward 8 ==> -1185.987919807434\n",
            "Episode reward 9 ==> -1185.987919807434\n",
            "Episode reward 10 ==> -1185.987919807434\n",
            "episode number is:  121\n"
          ]
        },
        {
          "output_type": "stream",
          "name": "stderr",
          "text": [
            "\r 24%|██▍       | 121/500 [01:17<09:49,  1.56s/it]"
          ]
        },
        {
          "output_type": "stream",
          "name": "stdout",
          "text": [
            "episode number is:  122\n"
          ]
        },
        {
          "output_type": "stream",
          "name": "stderr",
          "text": [
            "\r 24%|██▍       | 122/500 [01:18<09:24,  1.49s/it]"
          ]
        },
        {
          "output_type": "stream",
          "name": "stdout",
          "text": [
            "episode number is:  123\n"
          ]
        },
        {
          "output_type": "stream",
          "name": "stderr",
          "text": [
            "\r 25%|██▍       | 123/500 [01:19<09:01,  1.44s/it]"
          ]
        },
        {
          "output_type": "stream",
          "name": "stdout",
          "text": [
            "episode number is:  124\n"
          ]
        },
        {
          "output_type": "stream",
          "name": "stderr",
          "text": [
            "\r 25%|██▍       | 124/500 [01:21<08:45,  1.40s/it]"
          ]
        },
        {
          "output_type": "stream",
          "name": "stdout",
          "text": [
            "episode number is:  125\n"
          ]
        },
        {
          "output_type": "stream",
          "name": "stderr",
          "text": [
            "\r 25%|██▌       | 125/500 [01:22<08:53,  1.42s/it]"
          ]
        },
        {
          "output_type": "stream",
          "name": "stdout",
          "text": [
            "episode number is:  126\n"
          ]
        },
        {
          "output_type": "stream",
          "name": "stderr",
          "text": [
            "\r 25%|██▌       | 126/500 [01:24<09:02,  1.45s/it]"
          ]
        },
        {
          "output_type": "stream",
          "name": "stdout",
          "text": [
            "episode number is:  127\n"
          ]
        },
        {
          "output_type": "stream",
          "name": "stderr",
          "text": [
            "\r 25%|██▌       | 127/500 [01:26<10:08,  1.63s/it]"
          ]
        },
        {
          "output_type": "stream",
          "name": "stdout",
          "text": [
            "episode number is:  128\n"
          ]
        },
        {
          "output_type": "stream",
          "name": "stderr",
          "text": [
            "\r 26%|██▌       | 128/500 [01:28<10:17,  1.66s/it]"
          ]
        },
        {
          "output_type": "stream",
          "name": "stdout",
          "text": [
            "episode number is:  129\n"
          ]
        },
        {
          "output_type": "stream",
          "name": "stderr",
          "text": [
            "\r 26%|██▌       | 129/500 [01:29<09:37,  1.56s/it]"
          ]
        },
        {
          "output_type": "stream",
          "name": "stdout",
          "text": [
            "episode number is:  130\n",
            "Episode reward 1 ==> -1185.987919807434\n",
            "Episode reward 2 ==> -1185.987919807434\n",
            "Episode reward 3 ==> -1185.987919807434\n",
            "Episode reward 4 ==> -1185.987919807434\n",
            "Episode reward 5 ==> -1185.987919807434\n",
            "Episode reward 6 ==> -1185.987919807434\n",
            "Episode reward 7 ==> -1185.987919807434\n"
          ]
        },
        {
          "output_type": "stream",
          "name": "stderr",
          "text": [
            "\r 26%|██▌       | 130/500 [01:31<09:50,  1.60s/it]"
          ]
        },
        {
          "output_type": "stream",
          "name": "stdout",
          "text": [
            "Episode reward 8 ==> -1185.987919807434\n",
            "Episode reward 9 ==> -1185.987919807434\n",
            "Episode reward 10 ==> -1185.987919807434\n",
            "episode number is:  131\n"
          ]
        },
        {
          "output_type": "stream",
          "name": "stderr",
          "text": [
            "\r 26%|██▌       | 131/500 [01:32<09:27,  1.54s/it]"
          ]
        },
        {
          "output_type": "stream",
          "name": "stdout",
          "text": [
            "episode number is:  132\n"
          ]
        },
        {
          "output_type": "stream",
          "name": "stderr",
          "text": [
            "\r 26%|██▋       | 132/500 [01:33<09:03,  1.48s/it]"
          ]
        },
        {
          "output_type": "stream",
          "name": "stdout",
          "text": [
            "episode number is:  133\n"
          ]
        },
        {
          "output_type": "stream",
          "name": "stderr",
          "text": [
            "\r 27%|██▋       | 133/500 [01:35<08:42,  1.42s/it]"
          ]
        },
        {
          "output_type": "stream",
          "name": "stdout",
          "text": [
            "episode number is:  134\n"
          ]
        },
        {
          "output_type": "stream",
          "name": "stderr",
          "text": [
            "\r 27%|██▋       | 134/500 [01:36<08:29,  1.39s/it]"
          ]
        },
        {
          "output_type": "stream",
          "name": "stdout",
          "text": [
            "episode number is:  135\n"
          ]
        },
        {
          "output_type": "stream",
          "name": "stderr",
          "text": [
            "\r 27%|██▋       | 135/500 [01:38<09:10,  1.51s/it]"
          ]
        },
        {
          "output_type": "stream",
          "name": "stdout",
          "text": [
            "episode number is:  136\n"
          ]
        },
        {
          "output_type": "stream",
          "name": "stderr",
          "text": [
            "\r 27%|██▋       | 136/500 [01:39<09:07,  1.50s/it]"
          ]
        },
        {
          "output_type": "stream",
          "name": "stdout",
          "text": [
            "episode number is:  137\n"
          ]
        },
        {
          "output_type": "stream",
          "name": "stderr",
          "text": [
            "\r 27%|██▋       | 137/500 [01:41<09:56,  1.64s/it]"
          ]
        },
        {
          "output_type": "stream",
          "name": "stdout",
          "text": [
            "episode number is:  138\n"
          ]
        },
        {
          "output_type": "stream",
          "name": "stderr",
          "text": [
            "\r 28%|██▊       | 138/500 [01:43<09:51,  1.63s/it]"
          ]
        },
        {
          "output_type": "stream",
          "name": "stdout",
          "text": [
            "episode number is:  139\n"
          ]
        },
        {
          "output_type": "stream",
          "name": "stderr",
          "text": [
            "\r 28%|██▊       | 139/500 [01:44<09:17,  1.54s/it]"
          ]
        },
        {
          "output_type": "stream",
          "name": "stdout",
          "text": [
            "episode number is:  140\n",
            "Episode reward 1 ==> -1185.987919807434\n",
            "Episode reward 2 ==> -1185.987919807434\n",
            "Episode reward 3 ==> -1185.987919807434\n",
            "Episode reward 4 ==> -1185.987919807434\n",
            "Episode reward 5 ==> -1185.987919807434\n",
            "Episode reward 6 ==> -1185.987919807434\n",
            "Episode reward 7 ==> -1185.987919807434\n"
          ]
        },
        {
          "output_type": "stream",
          "name": "stderr",
          "text": [
            "\r 28%|██▊       | 140/500 [01:46<09:38,  1.61s/it]"
          ]
        },
        {
          "output_type": "stream",
          "name": "stdout",
          "text": [
            "Episode reward 8 ==> -1185.987919807434\n",
            "Episode reward 9 ==> -1185.987919807434\n",
            "Episode reward 10 ==> -1185.987919807434\n",
            "episode number is:  141\n"
          ]
        },
        {
          "output_type": "stream",
          "name": "stderr",
          "text": [
            "\r 28%|██▊       | 141/500 [01:47<09:14,  1.55s/it]"
          ]
        },
        {
          "output_type": "stream",
          "name": "stdout",
          "text": [
            "episode number is:  142\n"
          ]
        },
        {
          "output_type": "stream",
          "name": "stderr",
          "text": [
            "\r 28%|██▊       | 142/500 [01:49<08:57,  1.50s/it]"
          ]
        },
        {
          "output_type": "stream",
          "name": "stdout",
          "text": [
            "episode number is:  143\n"
          ]
        },
        {
          "output_type": "stream",
          "name": "stderr",
          "text": [
            "\r 29%|██▊       | 143/500 [01:50<08:34,  1.44s/it]"
          ]
        },
        {
          "output_type": "stream",
          "name": "stdout",
          "text": [
            "episode number is:  144\n"
          ]
        },
        {
          "output_type": "stream",
          "name": "stderr",
          "text": [
            "\r 29%|██▉       | 144/500 [01:51<08:37,  1.45s/it]"
          ]
        },
        {
          "output_type": "stream",
          "name": "stdout",
          "text": [
            "episode number is:  145\n"
          ]
        },
        {
          "output_type": "stream",
          "name": "stderr",
          "text": [
            "\r 29%|██▉       | 145/500 [01:53<09:30,  1.61s/it]"
          ]
        },
        {
          "output_type": "stream",
          "name": "stdout",
          "text": [
            "episode number is:  146\n"
          ]
        },
        {
          "output_type": "stream",
          "name": "stderr",
          "text": [
            "\r 29%|██▉       | 146/500 [01:55<09:20,  1.58s/it]"
          ]
        },
        {
          "output_type": "stream",
          "name": "stdout",
          "text": [
            "episode number is:  147\n"
          ]
        },
        {
          "output_type": "stream",
          "name": "stderr",
          "text": [
            "\r 29%|██▉       | 147/500 [01:57<09:21,  1.59s/it]"
          ]
        },
        {
          "output_type": "stream",
          "name": "stdout",
          "text": [
            "episode number is:  148\n"
          ]
        },
        {
          "output_type": "stream",
          "name": "stderr",
          "text": [
            "\r 30%|██▉       | 148/500 [01:58<09:20,  1.59s/it]"
          ]
        },
        {
          "output_type": "stream",
          "name": "stdout",
          "text": [
            "episode number is:  149\n"
          ]
        },
        {
          "output_type": "stream",
          "name": "stderr",
          "text": [
            "\r 30%|██▉       | 149/500 [01:59<08:53,  1.52s/it]"
          ]
        },
        {
          "output_type": "stream",
          "name": "stdout",
          "text": [
            "episode number is:  150\n",
            "Episode reward 1 ==> -1185.987919807434\n",
            "Episode reward 2 ==> -1185.987919807434\n",
            "Episode reward 3 ==> -1185.987919807434\n",
            "Episode reward 4 ==> -1185.987919807434\n",
            "Episode reward 5 ==> -1185.987919807434\n",
            "Episode reward 6 ==> -1185.987919807434\n",
            "Episode reward 7 ==> -1185.987919807434\n"
          ]
        },
        {
          "output_type": "stream",
          "name": "stderr",
          "text": [
            "\r 30%|███       | 150/500 [02:01<09:13,  1.58s/it]"
          ]
        },
        {
          "output_type": "stream",
          "name": "stdout",
          "text": [
            "Episode reward 8 ==> -1185.987919807434\n",
            "Episode reward 9 ==> -1185.987919807434\n",
            "Episode reward 10 ==> -1185.987919807434\n",
            "episode number is:  151\n"
          ]
        },
        {
          "output_type": "stream",
          "name": "stderr",
          "text": [
            "\r 30%|███       | 151/500 [02:03<08:53,  1.53s/it]"
          ]
        },
        {
          "output_type": "stream",
          "name": "stdout",
          "text": [
            "episode number is:  152\n"
          ]
        },
        {
          "output_type": "stream",
          "name": "stderr",
          "text": [
            "\r 30%|███       | 152/500 [02:04<08:33,  1.47s/it]"
          ]
        },
        {
          "output_type": "stream",
          "name": "stdout",
          "text": [
            "episode number is:  153\n"
          ]
        },
        {
          "output_type": "stream",
          "name": "stderr",
          "text": [
            "\r 31%|███       | 153/500 [02:05<08:12,  1.42s/it]"
          ]
        },
        {
          "output_type": "stream",
          "name": "stdout",
          "text": [
            "episode number is:  154\n"
          ]
        },
        {
          "output_type": "stream",
          "name": "stderr",
          "text": [
            "\r 31%|███       | 154/500 [02:07<08:49,  1.53s/it]"
          ]
        },
        {
          "output_type": "stream",
          "name": "stdout",
          "text": [
            "episode number is:  155\n"
          ]
        },
        {
          "output_type": "stream",
          "name": "stderr",
          "text": [
            "\r 31%|███       | 155/500 [02:09<09:30,  1.65s/it]"
          ]
        },
        {
          "output_type": "stream",
          "name": "stdout",
          "text": [
            "episode number is:  156\n"
          ]
        },
        {
          "output_type": "stream",
          "name": "stderr",
          "text": [
            "\r 31%|███       | 156/500 [02:10<09:06,  1.59s/it]"
          ]
        },
        {
          "output_type": "stream",
          "name": "stdout",
          "text": [
            "episode number is:  157\n"
          ]
        },
        {
          "output_type": "stream",
          "name": "stderr",
          "text": [
            "\r 31%|███▏      | 157/500 [02:12<08:42,  1.52s/it]"
          ]
        },
        {
          "output_type": "stream",
          "name": "stdout",
          "text": [
            "episode number is:  158\n"
          ]
        },
        {
          "output_type": "stream",
          "name": "stderr",
          "text": [
            "\r 32%|███▏      | 158/500 [02:13<08:43,  1.53s/it]"
          ]
        },
        {
          "output_type": "stream",
          "name": "stdout",
          "text": [
            "episode number is:  159\n"
          ]
        },
        {
          "output_type": "stream",
          "name": "stderr",
          "text": [
            "\r 32%|███▏      | 159/500 [02:15<08:17,  1.46s/it]"
          ]
        },
        {
          "output_type": "stream",
          "name": "stdout",
          "text": [
            "episode number is:  160\n",
            "Episode reward 1 ==> -1185.987919807434\n",
            "Episode reward 2 ==> -1185.987919807434\n",
            "Episode reward 3 ==> -1185.987919807434\n",
            "Episode reward 4 ==> -1185.987919807434\n",
            "Episode reward 5 ==> -1185.987919807434\n",
            "Episode reward 6 ==> -1185.987919807434\n",
            "Episode reward 7 ==> -1185.987919807434\n"
          ]
        },
        {
          "output_type": "stream",
          "name": "stderr",
          "text": [
            "\r 32%|███▏      | 160/500 [02:16<08:37,  1.52s/it]"
          ]
        },
        {
          "output_type": "stream",
          "name": "stdout",
          "text": [
            "Episode reward 8 ==> -1185.987919807434\n",
            "Episode reward 9 ==> -1185.987919807434\n",
            "Episode reward 10 ==> -1185.987919807434\n",
            "episode number is:  161\n"
          ]
        },
        {
          "output_type": "stream",
          "name": "stderr",
          "text": [
            "\r 32%|███▏      | 161/500 [02:18<08:20,  1.48s/it]"
          ]
        },
        {
          "output_type": "stream",
          "name": "stdout",
          "text": [
            "episode number is:  162\n"
          ]
        },
        {
          "output_type": "stream",
          "name": "stderr",
          "text": [
            "\r 32%|███▏      | 162/500 [02:19<08:04,  1.43s/it]"
          ]
        },
        {
          "output_type": "stream",
          "name": "stdout",
          "text": [
            "episode number is:  163\n"
          ]
        },
        {
          "output_type": "stream",
          "name": "stderr",
          "text": [
            "\r 33%|███▎      | 163/500 [02:20<07:53,  1.41s/it]"
          ]
        },
        {
          "output_type": "stream",
          "name": "stdout",
          "text": [
            "episode number is:  164\n"
          ]
        },
        {
          "output_type": "stream",
          "name": "stderr",
          "text": [
            "\r 33%|███▎      | 164/500 [02:22<08:42,  1.56s/it]"
          ]
        },
        {
          "output_type": "stream",
          "name": "stdout",
          "text": [
            "episode number is:  165\n"
          ]
        },
        {
          "output_type": "stream",
          "name": "stderr",
          "text": [
            "\r 33%|███▎      | 165/500 [02:24<09:20,  1.67s/it]"
          ]
        },
        {
          "output_type": "stream",
          "name": "stdout",
          "text": [
            "episode number is:  166\n"
          ]
        },
        {
          "output_type": "stream",
          "name": "stderr",
          "text": [
            "\r 33%|███▎      | 166/500 [02:25<08:35,  1.54s/it]"
          ]
        },
        {
          "output_type": "stream",
          "name": "stdout",
          "text": [
            "episode number is:  167\n"
          ]
        },
        {
          "output_type": "stream",
          "name": "stderr",
          "text": [
            "\r 33%|███▎      | 167/500 [02:27<08:18,  1.50s/it]"
          ]
        },
        {
          "output_type": "stream",
          "name": "stdout",
          "text": [
            "episode number is:  168\n"
          ]
        },
        {
          "output_type": "stream",
          "name": "stderr",
          "text": [
            "\r 34%|███▎      | 168/500 [02:28<08:24,  1.52s/it]"
          ]
        },
        {
          "output_type": "stream",
          "name": "stdout",
          "text": [
            "episode number is:  169\n"
          ]
        },
        {
          "output_type": "stream",
          "name": "stderr",
          "text": [
            "\r 34%|███▍      | 169/500 [02:30<08:04,  1.46s/it]"
          ]
        },
        {
          "output_type": "stream",
          "name": "stdout",
          "text": [
            "episode number is:  170\n",
            "Episode reward 1 ==> -1185.987919807434\n",
            "Episode reward 2 ==> -1185.987919807434\n",
            "Episode reward 3 ==> -1185.987919807434\n",
            "Episode reward 4 ==> -1185.987919807434\n",
            "Episode reward 5 ==> -1185.987919807434\n",
            "Episode reward 6 ==> -1185.987919807434\n",
            "Episode reward 7 ==> -1185.987919807434\n"
          ]
        },
        {
          "output_type": "stream",
          "name": "stderr",
          "text": [
            "\r 34%|███▍      | 170/500 [02:31<08:25,  1.53s/it]"
          ]
        },
        {
          "output_type": "stream",
          "name": "stdout",
          "text": [
            "Episode reward 8 ==> -1185.987919807434\n",
            "Episode reward 9 ==> -1185.987919807434\n",
            "Episode reward 10 ==> -1185.987919807434\n",
            "episode number is:  171\n"
          ]
        },
        {
          "output_type": "stream",
          "name": "stderr",
          "text": [
            "\r 34%|███▍      | 171/500 [02:33<08:10,  1.49s/it]"
          ]
        },
        {
          "output_type": "stream",
          "name": "stdout",
          "text": [
            "episode number is:  172\n"
          ]
        },
        {
          "output_type": "stream",
          "name": "stderr",
          "text": [
            "\r 34%|███▍      | 172/500 [02:34<07:53,  1.44s/it]"
          ]
        },
        {
          "output_type": "stream",
          "name": "stdout",
          "text": [
            "episode number is:  173\n"
          ]
        },
        {
          "output_type": "stream",
          "name": "stderr",
          "text": [
            "\r 35%|███▍      | 173/500 [02:36<08:04,  1.48s/it]"
          ]
        },
        {
          "output_type": "stream",
          "name": "stdout",
          "text": [
            "episode number is:  174\n"
          ]
        },
        {
          "output_type": "stream",
          "name": "stderr",
          "text": [
            "\r 35%|███▍      | 174/500 [02:38<08:45,  1.61s/it]"
          ]
        },
        {
          "output_type": "stream",
          "name": "stdout",
          "text": [
            "episode number is:  175\n"
          ]
        },
        {
          "output_type": "stream",
          "name": "stderr",
          "text": [
            "\r 35%|███▌      | 175/500 [02:40<09:13,  1.70s/it]"
          ]
        },
        {
          "output_type": "stream",
          "name": "stdout",
          "text": [
            "episode number is:  176\n"
          ]
        },
        {
          "output_type": "stream",
          "name": "stderr",
          "text": [
            "\r 35%|███▌      | 176/500 [02:41<08:04,  1.50s/it]"
          ]
        },
        {
          "output_type": "stream",
          "name": "stdout",
          "text": [
            "episode number is:  177\n"
          ]
        },
        {
          "output_type": "stream",
          "name": "stderr",
          "text": [
            "\r 35%|███▌      | 177/500 [02:42<07:51,  1.46s/it]"
          ]
        },
        {
          "output_type": "stream",
          "name": "stdout",
          "text": [
            "episode number is:  178\n"
          ]
        },
        {
          "output_type": "stream",
          "name": "stderr",
          "text": [
            "\r 36%|███▌      | 178/500 [02:44<08:01,  1.49s/it]"
          ]
        },
        {
          "output_type": "stream",
          "name": "stdout",
          "text": [
            "episode number is:  179\n"
          ]
        },
        {
          "output_type": "stream",
          "name": "stderr",
          "text": [
            "\r 36%|███▌      | 179/500 [02:45<07:41,  1.44s/it]"
          ]
        },
        {
          "output_type": "stream",
          "name": "stdout",
          "text": [
            "episode number is:  180\n",
            "Episode reward 1 ==> -1185.987919807434\n",
            "Episode reward 2 ==> -1185.987919807434\n",
            "Episode reward 3 ==> -1185.987919807434\n",
            "Episode reward 4 ==> -1185.987919807434\n",
            "Episode reward 5 ==> -1185.987919807434\n",
            "Episode reward 6 ==> -1185.987919807434\n",
            "Episode reward 7 ==> -1185.987919807434\n"
          ]
        },
        {
          "output_type": "stream",
          "name": "stderr",
          "text": [
            "\r 36%|███▌      | 180/500 [02:47<08:05,  1.52s/it]"
          ]
        },
        {
          "output_type": "stream",
          "name": "stdout",
          "text": [
            "Episode reward 8 ==> -1185.987919807434\n",
            "Episode reward 9 ==> -1185.987919807434\n",
            "Episode reward 10 ==> -1185.987919807434\n",
            "episode number is:  181\n"
          ]
        },
        {
          "output_type": "stream",
          "name": "stderr",
          "text": [
            "\r 36%|███▌      | 181/500 [02:48<07:50,  1.48s/it]"
          ]
        },
        {
          "output_type": "stream",
          "name": "stdout",
          "text": [
            "episode number is:  182\n"
          ]
        },
        {
          "output_type": "stream",
          "name": "stderr",
          "text": [
            "\r 36%|███▋      | 182/500 [02:49<07:34,  1.43s/it]"
          ]
        },
        {
          "output_type": "stream",
          "name": "stdout",
          "text": [
            "episode number is:  183\n"
          ]
        },
        {
          "output_type": "stream",
          "name": "stderr",
          "text": [
            "\r 37%|███▋      | 183/500 [02:51<08:04,  1.53s/it]"
          ]
        },
        {
          "output_type": "stream",
          "name": "stdout",
          "text": [
            "episode number is:  184\n"
          ]
        },
        {
          "output_type": "stream",
          "name": "stderr",
          "text": [
            "\r 37%|███▋      | 184/500 [02:53<08:41,  1.65s/it]"
          ]
        },
        {
          "output_type": "stream",
          "name": "stdout",
          "text": [
            "episode number is:  185\n"
          ]
        },
        {
          "output_type": "stream",
          "name": "stderr",
          "text": [
            "\r 37%|███▋      | 185/500 [02:55<08:40,  1.65s/it]"
          ]
        },
        {
          "output_type": "stream",
          "name": "stdout",
          "text": [
            "episode number is:  186\n"
          ]
        },
        {
          "output_type": "stream",
          "name": "stderr",
          "text": [
            "\r 37%|███▋      | 186/500 [02:56<07:40,  1.47s/it]"
          ]
        },
        {
          "output_type": "stream",
          "name": "stdout",
          "text": [
            "episode number is:  187\n"
          ]
        },
        {
          "output_type": "stream",
          "name": "stderr",
          "text": [
            "\r 37%|███▋      | 187/500 [02:57<07:29,  1.44s/it]"
          ]
        },
        {
          "output_type": "stream",
          "name": "stdout",
          "text": [
            "episode number is:  188\n"
          ]
        },
        {
          "output_type": "stream",
          "name": "stderr",
          "text": [
            "\r 38%|███▊      | 188/500 [02:59<07:40,  1.48s/it]"
          ]
        },
        {
          "output_type": "stream",
          "name": "stdout",
          "text": [
            "episode number is:  189\n"
          ]
        },
        {
          "output_type": "stream",
          "name": "stderr",
          "text": [
            "\r 38%|███▊      | 189/500 [03:00<07:23,  1.43s/it]"
          ]
        },
        {
          "output_type": "stream",
          "name": "stdout",
          "text": [
            "episode number is:  190\n",
            "Episode reward 1 ==> -1185.987919807434\n",
            "Episode reward 2 ==> -1185.987919807434\n",
            "Episode reward 3 ==> -1185.987919807434\n",
            "Episode reward 4 ==> -1185.987919807434\n",
            "Episode reward 5 ==> -1185.987919807434\n",
            "Episode reward 6 ==> -1185.987919807434\n"
          ]
        },
        {
          "output_type": "stream",
          "name": "stderr",
          "text": [
            "\r 38%|███▊      | 190/500 [03:02<07:48,  1.51s/it]"
          ]
        },
        {
          "output_type": "stream",
          "name": "stdout",
          "text": [
            "Episode reward 7 ==> -1185.987919807434\n",
            "Episode reward 8 ==> -1185.987919807434\n",
            "Episode reward 9 ==> -1185.987919807434\n",
            "Episode reward 10 ==> -1185.987919807434\n",
            "episode number is:  191\n"
          ]
        },
        {
          "output_type": "stream",
          "name": "stderr",
          "text": [
            "\r 38%|███▊      | 191/500 [03:03<07:35,  1.47s/it]"
          ]
        },
        {
          "output_type": "stream",
          "name": "stdout",
          "text": [
            "episode number is:  192\n"
          ]
        },
        {
          "output_type": "stream",
          "name": "stderr",
          "text": [
            "\r 38%|███▊      | 192/500 [03:04<07:35,  1.48s/it]"
          ]
        },
        {
          "output_type": "stream",
          "name": "stdout",
          "text": [
            "episode number is:  193\n"
          ]
        },
        {
          "output_type": "stream",
          "name": "stderr",
          "text": [
            "\r 39%|███▊      | 193/500 [03:06<08:14,  1.61s/it]"
          ]
        },
        {
          "output_type": "stream",
          "name": "stdout",
          "text": [
            "episode number is:  194\n"
          ]
        },
        {
          "output_type": "stream",
          "name": "stderr",
          "text": [
            "\r 39%|███▉      | 194/500 [03:08<08:47,  1.73s/it]"
          ]
        },
        {
          "output_type": "stream",
          "name": "stdout",
          "text": [
            "episode number is:  195\n"
          ]
        },
        {
          "output_type": "stream",
          "name": "stderr",
          "text": [
            "\r 39%|███▉      | 195/500 [03:10<08:16,  1.63s/it]"
          ]
        },
        {
          "output_type": "stream",
          "name": "stdout",
          "text": [
            "episode number is:  196\n"
          ]
        },
        {
          "output_type": "stream",
          "name": "stderr",
          "text": [
            "\r 39%|███▉      | 196/500 [03:11<07:19,  1.45s/it]"
          ]
        },
        {
          "output_type": "stream",
          "name": "stdout",
          "text": [
            "episode number is:  197\n"
          ]
        },
        {
          "output_type": "stream",
          "name": "stderr",
          "text": [
            "\r 39%|███▉      | 197/500 [03:12<07:11,  1.43s/it]"
          ]
        },
        {
          "output_type": "stream",
          "name": "stdout",
          "text": [
            "episode number is:  198\n"
          ]
        },
        {
          "output_type": "stream",
          "name": "stderr",
          "text": [
            "\r 40%|███▉      | 198/500 [03:14<07:23,  1.47s/it]"
          ]
        },
        {
          "output_type": "stream",
          "name": "stdout",
          "text": [
            "episode number is:  199\n"
          ]
        },
        {
          "output_type": "stream",
          "name": "stderr",
          "text": [
            "\r 40%|███▉      | 199/500 [03:15<07:07,  1.42s/it]"
          ]
        },
        {
          "output_type": "stream",
          "name": "stdout",
          "text": [
            "episode number is:  200\n",
            "Episode reward 1 ==> -1185.987919807434\n",
            "Episode reward 2 ==> -1185.987919807434\n",
            "Episode reward 3 ==> -1185.987919807434\n",
            "Episode reward 4 ==> -1185.987919807434\n",
            "Episode reward 5 ==> -1185.987919807434\n",
            "Episode reward 6 ==> -1185.987919807434\n",
            "Episode reward 7 ==> -1185.987919807434\n"
          ]
        },
        {
          "output_type": "stream",
          "name": "stderr",
          "text": [
            "\r 40%|████      | 200/500 [03:17<07:29,  1.50s/it]"
          ]
        },
        {
          "output_type": "stream",
          "name": "stdout",
          "text": [
            "Episode reward 8 ==> -1185.987919807434\n",
            "Episode reward 9 ==> -1185.987919807434\n",
            "Episode reward 10 ==> -1185.987919807434\n",
            "episode number is:  201\n"
          ]
        },
        {
          "output_type": "stream",
          "name": "stderr",
          "text": [
            "\r 40%|████      | 201/500 [03:18<07:19,  1.47s/it]"
          ]
        },
        {
          "output_type": "stream",
          "name": "stdout",
          "text": [
            "episode number is:  202\n"
          ]
        },
        {
          "output_type": "stream",
          "name": "stderr",
          "text": [
            "\r 40%|████      | 202/500 [03:20<07:43,  1.55s/it]"
          ]
        },
        {
          "output_type": "stream",
          "name": "stdout",
          "text": [
            "episode number is:  203\n"
          ]
        },
        {
          "output_type": "stream",
          "name": "stderr",
          "text": [
            "\r 41%|████      | 203/500 [03:22<08:15,  1.67s/it]"
          ]
        },
        {
          "output_type": "stream",
          "name": "stdout",
          "text": [
            "episode number is:  204\n"
          ]
        },
        {
          "output_type": "stream",
          "name": "stderr",
          "text": [
            "\r 41%|████      | 204/500 [03:24<08:24,  1.71s/it]"
          ]
        },
        {
          "output_type": "stream",
          "name": "stdout",
          "text": [
            "episode number is:  205\n"
          ]
        },
        {
          "output_type": "stream",
          "name": "stderr",
          "text": [
            "\r 41%|████      | 205/500 [03:25<07:49,  1.59s/it]"
          ]
        },
        {
          "output_type": "stream",
          "name": "stdout",
          "text": [
            "episode number is:  206\n"
          ]
        },
        {
          "output_type": "stream",
          "name": "stderr",
          "text": [
            "\r 41%|████      | 206/500 [03:26<06:58,  1.42s/it]"
          ]
        },
        {
          "output_type": "stream",
          "name": "stdout",
          "text": [
            "episode number is:  207\n"
          ]
        },
        {
          "output_type": "stream",
          "name": "stderr",
          "text": [
            "\r 41%|████▏     | 207/500 [03:27<06:53,  1.41s/it]"
          ]
        },
        {
          "output_type": "stream",
          "name": "stdout",
          "text": [
            "episode number is:  208\n"
          ]
        },
        {
          "output_type": "stream",
          "name": "stderr",
          "text": [
            "\r 42%|████▏     | 208/500 [03:29<07:07,  1.47s/it]"
          ]
        },
        {
          "output_type": "stream",
          "name": "stdout",
          "text": [
            "episode number is:  209\n"
          ]
        },
        {
          "output_type": "stream",
          "name": "stderr",
          "text": [
            "\r 42%|████▏     | 209/500 [03:30<06:52,  1.42s/it]"
          ]
        },
        {
          "output_type": "stream",
          "name": "stdout",
          "text": [
            "episode number is:  210\n",
            "Episode reward 1 ==> -1185.987919807434\n",
            "Episode reward 2 ==> -1185.987919807434\n",
            "Episode reward 3 ==> -1185.987919807434\n",
            "Episode reward 4 ==> -1185.987919807434\n",
            "Episode reward 5 ==> -1185.987919807434\n",
            "Episode reward 6 ==> -1185.987919807434\n",
            "Episode reward 7 ==> -1185.987919807434\n",
            "Episode reward 8 ==> -1185.987919807434\n",
            "Episode reward 9 ==> -1185.987919807434\n",
            "Episode reward 10 ==> -1185.987919807434\n"
          ]
        },
        {
          "output_type": "stream",
          "name": "stderr",
          "text": [
            "\r 42%|████▏     | 210/500 [03:32<07:28,  1.55s/it]"
          ]
        },
        {
          "output_type": "stream",
          "name": "stdout",
          "text": [
            "episode number is:  211\n"
          ]
        },
        {
          "output_type": "stream",
          "name": "stderr",
          "text": [
            "\r 42%|████▏     | 211/500 [03:34<07:43,  1.60s/it]"
          ]
        },
        {
          "output_type": "stream",
          "name": "stdout",
          "text": [
            "episode number is:  212\n"
          ]
        },
        {
          "output_type": "stream",
          "name": "stderr",
          "text": [
            "\r 42%|████▏     | 212/500 [03:36<08:29,  1.77s/it]"
          ]
        },
        {
          "output_type": "stream",
          "name": "stdout",
          "text": [
            "episode number is:  213\n"
          ]
        },
        {
          "output_type": "stream",
          "name": "stderr",
          "text": [
            "\r 43%|████▎     | 213/500 [03:38<08:42,  1.82s/it]"
          ]
        },
        {
          "output_type": "stream",
          "name": "stdout",
          "text": [
            "episode number is:  214\n"
          ]
        },
        {
          "output_type": "stream",
          "name": "stderr",
          "text": [
            "\r 43%|████▎     | 214/500 [03:39<08:00,  1.68s/it]"
          ]
        },
        {
          "output_type": "stream",
          "name": "stdout",
          "text": [
            "episode number is:  215\n"
          ]
        },
        {
          "output_type": "stream",
          "name": "stderr",
          "text": [
            "\r 43%|████▎     | 215/500 [03:41<07:26,  1.57s/it]"
          ]
        },
        {
          "output_type": "stream",
          "name": "stdout",
          "text": [
            "episode number is:  216\n"
          ]
        },
        {
          "output_type": "stream",
          "name": "stderr",
          "text": [
            "\r 43%|████▎     | 216/500 [03:42<06:37,  1.40s/it]"
          ]
        },
        {
          "output_type": "stream",
          "name": "stdout",
          "text": [
            "episode number is:  217\n"
          ]
        },
        {
          "output_type": "stream",
          "name": "stderr",
          "text": [
            "\r 43%|████▎     | 217/500 [03:43<06:35,  1.40s/it]"
          ]
        },
        {
          "output_type": "stream",
          "name": "stdout",
          "text": [
            "episode number is:  218\n"
          ]
        },
        {
          "output_type": "stream",
          "name": "stderr",
          "text": [
            "\r 44%|████▎     | 218/500 [03:45<06:50,  1.46s/it]"
          ]
        },
        {
          "output_type": "stream",
          "name": "stdout",
          "text": [
            "episode number is:  219\n"
          ]
        },
        {
          "output_type": "stream",
          "name": "stderr",
          "text": [
            "\r 44%|████▍     | 219/500 [03:46<06:38,  1.42s/it]"
          ]
        },
        {
          "output_type": "stream",
          "name": "stdout",
          "text": [
            "episode number is:  220\n",
            "Episode reward 1 ==> -1185.987919807434\n",
            "Episode reward 2 ==> -1185.987919807434\n",
            "Episode reward 3 ==> -1185.987919807434\n",
            "Episode reward 4 ==> -1185.987919807434\n",
            "Episode reward 5 ==> -1185.987919807434\n",
            "Episode reward 6 ==> -1185.987919807434\n",
            "Episode reward 7 ==> -1185.987919807434\n"
          ]
        },
        {
          "output_type": "stream",
          "name": "stderr",
          "text": [
            "\r 44%|████▍     | 220/500 [03:48<07:00,  1.50s/it]"
          ]
        },
        {
          "output_type": "stream",
          "name": "stdout",
          "text": [
            "Episode reward 8 ==> -1185.987919807434\n",
            "Episode reward 9 ==> -1185.987919807434\n",
            "Episode reward 10 ==> -1185.987919807434\n",
            "episode number is:  221\n"
          ]
        },
        {
          "output_type": "stream",
          "name": "stderr",
          "text": [
            "\r 44%|████▍     | 221/500 [03:49<07:31,  1.62s/it]"
          ]
        },
        {
          "output_type": "stream",
          "name": "stdout",
          "text": [
            "episode number is:  222\n"
          ]
        },
        {
          "output_type": "stream",
          "name": "stderr",
          "text": [
            "\r 44%|████▍     | 222/500 [03:51<07:54,  1.71s/it]"
          ]
        },
        {
          "output_type": "stream",
          "name": "stdout",
          "text": [
            "episode number is:  223\n"
          ]
        },
        {
          "output_type": "stream",
          "name": "stderr",
          "text": [
            "\r 45%|████▍     | 223/500 [03:53<07:54,  1.71s/it]"
          ]
        },
        {
          "output_type": "stream",
          "name": "stdout",
          "text": [
            "episode number is:  224\n"
          ]
        },
        {
          "output_type": "stream",
          "name": "stderr",
          "text": [
            "\r 45%|████▍     | 224/500 [03:54<07:20,  1.60s/it]"
          ]
        },
        {
          "output_type": "stream",
          "name": "stdout",
          "text": [
            "episode number is:  225\n"
          ]
        },
        {
          "output_type": "stream",
          "name": "stderr",
          "text": [
            "\r 45%|████▌     | 225/500 [03:56<06:56,  1.51s/it]"
          ]
        },
        {
          "output_type": "stream",
          "name": "stdout",
          "text": [
            "episode number is:  226\n"
          ]
        },
        {
          "output_type": "stream",
          "name": "stderr",
          "text": [
            "\r 45%|████▌     | 226/500 [03:57<06:17,  1.38s/it]"
          ]
        },
        {
          "output_type": "stream",
          "name": "stdout",
          "text": [
            "episode number is:  227\n"
          ]
        },
        {
          "output_type": "stream",
          "name": "stderr",
          "text": [
            "\r 45%|████▌     | 227/500 [03:58<06:20,  1.39s/it]"
          ]
        },
        {
          "output_type": "stream",
          "name": "stdout",
          "text": [
            "episode number is:  228\n"
          ]
        },
        {
          "output_type": "stream",
          "name": "stderr",
          "text": [
            "\r 46%|████▌     | 228/500 [04:00<06:36,  1.46s/it]"
          ]
        },
        {
          "output_type": "stream",
          "name": "stdout",
          "text": [
            "episode number is:  229\n"
          ]
        },
        {
          "output_type": "stream",
          "name": "stderr",
          "text": [
            "\r 46%|████▌     | 229/500 [04:01<06:24,  1.42s/it]"
          ]
        },
        {
          "output_type": "stream",
          "name": "stdout",
          "text": [
            "episode number is:  230\n",
            "Episode reward 1 ==> -1185.987919807434\n",
            "Episode reward 2 ==> -1185.987919807434\n",
            "Episode reward 3 ==> -1185.987919807434\n",
            "Episode reward 4 ==> -1185.987919807434\n",
            "Episode reward 5 ==> -1185.987919807434\n",
            "Episode reward 6 ==> -1185.987919807434\n",
            "Episode reward 7 ==> -1185.987919807434\n",
            "Episode reward 8 ==> -1185.987919807434\n",
            "Episode reward 9 ==> -1185.987919807434\n"
          ]
        },
        {
          "output_type": "stream",
          "name": "stderr",
          "text": [
            "\r 46%|████▌     | 230/500 [04:03<06:59,  1.56s/it]"
          ]
        },
        {
          "output_type": "stream",
          "name": "stdout",
          "text": [
            "Episode reward 10 ==> -1185.987919807434\n",
            "episode number is:  231\n"
          ]
        },
        {
          "output_type": "stream",
          "name": "stderr",
          "text": [
            "\r 46%|████▌     | 231/500 [04:05<07:42,  1.72s/it]"
          ]
        },
        {
          "output_type": "stream",
          "name": "stdout",
          "text": [
            "episode number is:  232\n"
          ]
        },
        {
          "output_type": "stream",
          "name": "stderr",
          "text": [
            "\r 46%|████▋     | 232/500 [04:07<08:00,  1.79s/it]"
          ]
        },
        {
          "output_type": "stream",
          "name": "stdout",
          "text": [
            "episode number is:  233\n"
          ]
        },
        {
          "output_type": "stream",
          "name": "stderr",
          "text": [
            "\r 47%|████▋     | 233/500 [04:08<07:22,  1.66s/it]"
          ]
        },
        {
          "output_type": "stream",
          "name": "stdout",
          "text": [
            "episode number is:  234\n"
          ]
        },
        {
          "output_type": "stream",
          "name": "stderr",
          "text": [
            "\r 47%|████▋     | 234/500 [04:10<06:55,  1.56s/it]"
          ]
        },
        {
          "output_type": "stream",
          "name": "stdout",
          "text": [
            "episode number is:  235\n"
          ]
        },
        {
          "output_type": "stream",
          "name": "stderr",
          "text": [
            "\r 47%|████▋     | 235/500 [04:11<06:34,  1.49s/it]"
          ]
        },
        {
          "output_type": "stream",
          "name": "stdout",
          "text": [
            "episode number is:  236\n"
          ]
        },
        {
          "output_type": "stream",
          "name": "stderr",
          "text": [
            "\r 47%|████▋     | 236/500 [04:12<05:57,  1.36s/it]"
          ]
        },
        {
          "output_type": "stream",
          "name": "stdout",
          "text": [
            "episode number is:  237\n"
          ]
        },
        {
          "output_type": "stream",
          "name": "stderr",
          "text": [
            "\r 47%|████▋     | 237/500 [04:14<06:02,  1.38s/it]"
          ]
        },
        {
          "output_type": "stream",
          "name": "stdout",
          "text": [
            "episode number is:  238\n"
          ]
        },
        {
          "output_type": "stream",
          "name": "stderr",
          "text": [
            "\r 48%|████▊     | 238/500 [04:15<06:19,  1.45s/it]"
          ]
        },
        {
          "output_type": "stream",
          "name": "stdout",
          "text": [
            "episode number is:  239\n"
          ]
        },
        {
          "output_type": "stream",
          "name": "stderr",
          "text": [
            "\r 48%|████▊     | 239/500 [04:17<06:11,  1.42s/it]"
          ]
        },
        {
          "output_type": "stream",
          "name": "stdout",
          "text": [
            "episode number is:  240\n",
            "Episode reward 1 ==> -1185.987919807434\n",
            "Episode reward 2 ==> -1185.987919807434\n",
            "Episode reward 3 ==> -1185.987919807434\n",
            "Episode reward 4 ==> -1185.987919807434\n",
            "Episode reward 5 ==> -1185.987919807434\n",
            "Episode reward 6 ==> -1185.987919807434\n",
            "Episode reward 7 ==> -1185.987919807434\n",
            "Episode reward 8 ==> -1185.987919807434\n"
          ]
        },
        {
          "output_type": "stream",
          "name": "stderr",
          "text": [
            "\r 48%|████▊     | 240/500 [04:19<07:18,  1.69s/it]"
          ]
        },
        {
          "output_type": "stream",
          "name": "stdout",
          "text": [
            "Episode reward 9 ==> -1185.987919807434\n",
            "Episode reward 10 ==> -1185.987919807434\n",
            "episode number is:  241\n"
          ]
        },
        {
          "output_type": "stream",
          "name": "stderr",
          "text": [
            "\r 48%|████▊     | 241/500 [04:21<07:48,  1.81s/it]"
          ]
        },
        {
          "output_type": "stream",
          "name": "stdout",
          "text": [
            "episode number is:  242\n"
          ]
        },
        {
          "output_type": "stream",
          "name": "stderr",
          "text": [
            "\r 48%|████▊     | 242/500 [04:23<07:33,  1.76s/it]"
          ]
        },
        {
          "output_type": "stream",
          "name": "stdout",
          "text": [
            "episode number is:  243\n"
          ]
        },
        {
          "output_type": "stream",
          "name": "stderr",
          "text": [
            "\r 49%|████▊     | 243/500 [04:24<06:56,  1.62s/it]"
          ]
        },
        {
          "output_type": "stream",
          "name": "stdout",
          "text": [
            "episode number is:  244\n"
          ]
        },
        {
          "output_type": "stream",
          "name": "stderr",
          "text": [
            "\r 49%|████▉     | 244/500 [04:25<06:31,  1.53s/it]"
          ]
        },
        {
          "output_type": "stream",
          "name": "stdout",
          "text": [
            "episode number is:  245\n"
          ]
        },
        {
          "output_type": "stream",
          "name": "stderr",
          "text": [
            "\r 49%|████▉     | 245/500 [04:27<06:14,  1.47s/it]"
          ]
        },
        {
          "output_type": "stream",
          "name": "stdout",
          "text": [
            "episode number is:  246\n"
          ]
        },
        {
          "output_type": "stream",
          "name": "stderr",
          "text": [
            "\r 49%|████▉     | 246/500 [04:28<05:40,  1.34s/it]"
          ]
        },
        {
          "output_type": "stream",
          "name": "stdout",
          "text": [
            "episode number is:  247\n"
          ]
        },
        {
          "output_type": "stream",
          "name": "stderr",
          "text": [
            "\r 49%|████▉     | 247/500 [04:29<05:46,  1.37s/it]"
          ]
        },
        {
          "output_type": "stream",
          "name": "stdout",
          "text": [
            "episode number is:  248\n"
          ]
        },
        {
          "output_type": "stream",
          "name": "stderr",
          "text": [
            "\r 50%|████▉     | 248/500 [04:31<06:03,  1.44s/it]"
          ]
        },
        {
          "output_type": "stream",
          "name": "stdout",
          "text": [
            "episode number is:  249\n"
          ]
        },
        {
          "output_type": "stream",
          "name": "stderr",
          "text": [
            "\r 50%|████▉     | 249/500 [04:32<05:58,  1.43s/it]"
          ]
        },
        {
          "output_type": "stream",
          "name": "stdout",
          "text": [
            "episode number is:  250\n",
            "Episode reward 1 ==> -1185.987919807434\n",
            "Episode reward 2 ==> -1185.987919807434\n",
            "Episode reward 3 ==> -1185.987919807434\n",
            "Episode reward 4 ==> -1185.987919807434\n",
            "Episode reward 5 ==> -1185.987919807434\n",
            "Episode reward 6 ==> -1185.987919807434\n",
            "Episode reward 7 ==> -1185.987919807434\n",
            "Episode reward 8 ==> -1185.987919807434\n",
            "Episode reward 9 ==> -1185.987919807434\n",
            "Episode reward 10 ==> -1185.987919807434\n"
          ]
        },
        {
          "output_type": "stream",
          "name": "stderr",
          "text": [
            "\r 50%|█████     | 250/500 [04:35<07:18,  1.75s/it]"
          ]
        },
        {
          "output_type": "stream",
          "name": "stdout",
          "text": [
            "episode number is:  251\n"
          ]
        },
        {
          "output_type": "stream",
          "name": "stderr",
          "text": [
            "\r 50%|█████     | 251/500 [04:37<07:40,  1.85s/it]"
          ]
        },
        {
          "output_type": "stream",
          "name": "stdout",
          "text": [
            "episode number is:  252\n"
          ]
        },
        {
          "output_type": "stream",
          "name": "stderr",
          "text": [
            "\r 50%|█████     | 252/500 [04:38<07:00,  1.70s/it]"
          ]
        },
        {
          "output_type": "stream",
          "name": "stdout",
          "text": [
            "episode number is:  253\n"
          ]
        },
        {
          "output_type": "stream",
          "name": "stderr",
          "text": [
            "\r 51%|█████     | 253/500 [04:39<06:29,  1.58s/it]"
          ]
        },
        {
          "output_type": "stream",
          "name": "stdout",
          "text": [
            "episode number is:  254\n"
          ]
        },
        {
          "output_type": "stream",
          "name": "stderr",
          "text": [
            "\r 51%|█████     | 254/500 [04:41<06:11,  1.51s/it]"
          ]
        },
        {
          "output_type": "stream",
          "name": "stdout",
          "text": [
            "episode number is:  255\n"
          ]
        },
        {
          "output_type": "stream",
          "name": "stderr",
          "text": [
            "\r 51%|█████     | 255/500 [04:42<05:55,  1.45s/it]"
          ]
        },
        {
          "output_type": "stream",
          "name": "stdout",
          "text": [
            "episode number is:  256\n"
          ]
        },
        {
          "output_type": "stream",
          "name": "stderr",
          "text": [
            "\r 51%|█████     | 256/500 [04:43<05:26,  1.34s/it]"
          ]
        },
        {
          "output_type": "stream",
          "name": "stdout",
          "text": [
            "episode number is:  257\n"
          ]
        },
        {
          "output_type": "stream",
          "name": "stderr",
          "text": [
            "\r 51%|█████▏    | 257/500 [04:44<05:30,  1.36s/it]"
          ]
        },
        {
          "output_type": "stream",
          "name": "stdout",
          "text": [
            "episode number is:  258\n"
          ]
        },
        {
          "output_type": "stream",
          "name": "stderr",
          "text": [
            "\r 52%|█████▏    | 258/500 [04:46<05:49,  1.44s/it]"
          ]
        },
        {
          "output_type": "stream",
          "name": "stdout",
          "text": [
            "episode number is:  259\n"
          ]
        },
        {
          "output_type": "stream",
          "name": "stderr",
          "text": [
            "\r 52%|█████▏    | 259/500 [04:48<06:07,  1.53s/it]"
          ]
        },
        {
          "output_type": "stream",
          "name": "stdout",
          "text": [
            "episode number is:  260\n",
            "Episode reward 1 ==> -1185.987919807434\n",
            "Episode reward 2 ==> -1185.987919807434\n",
            "Episode reward 3 ==> -1185.987919807434\n",
            "Episode reward 4 ==> -1185.987919807434\n",
            "Episode reward 5 ==> -1185.987919807434\n",
            "Episode reward 6 ==> -1185.987919807434\n",
            "Episode reward 7 ==> -1185.987919807434\n",
            "Episode reward 8 ==> -1185.987919807434\n",
            "Episode reward 9 ==> -1185.987919807434\n",
            "Episode reward 10 ==> -1185.987919807434\n"
          ]
        },
        {
          "output_type": "stream",
          "name": "stderr",
          "text": [
            "\r 52%|█████▏    | 260/500 [04:50<07:15,  1.82s/it]"
          ]
        },
        {
          "output_type": "stream",
          "name": "stdout",
          "text": [
            "episode number is:  261\n"
          ]
        },
        {
          "output_type": "stream",
          "name": "stderr",
          "text": [
            "\r 52%|█████▏    | 261/500 [04:52<07:08,  1.79s/it]"
          ]
        },
        {
          "output_type": "stream",
          "name": "stdout",
          "text": [
            "episode number is:  262\n"
          ]
        },
        {
          "output_type": "stream",
          "name": "stderr",
          "text": [
            "\r 52%|█████▏    | 262/500 [04:53<06:34,  1.66s/it]"
          ]
        },
        {
          "output_type": "stream",
          "name": "stdout",
          "text": [
            "episode number is:  263\n"
          ]
        },
        {
          "output_type": "stream",
          "name": "stderr",
          "text": [
            "\r 53%|█████▎    | 263/500 [04:55<06:08,  1.55s/it]"
          ]
        },
        {
          "output_type": "stream",
          "name": "stdout",
          "text": [
            "episode number is:  264\n"
          ]
        },
        {
          "output_type": "stream",
          "name": "stderr",
          "text": [
            "\r 53%|█████▎    | 264/500 [04:56<05:52,  1.49s/it]"
          ]
        },
        {
          "output_type": "stream",
          "name": "stdout",
          "text": [
            "episode number is:  265\n"
          ]
        },
        {
          "output_type": "stream",
          "name": "stderr",
          "text": [
            "\r 53%|█████▎    | 265/500 [04:57<05:40,  1.45s/it]"
          ]
        },
        {
          "output_type": "stream",
          "name": "stdout",
          "text": [
            "episode number is:  266\n"
          ]
        },
        {
          "output_type": "stream",
          "name": "stderr",
          "text": [
            "\r 53%|█████▎    | 266/500 [04:58<05:11,  1.33s/it]"
          ]
        },
        {
          "output_type": "stream",
          "name": "stdout",
          "text": [
            "episode number is:  267\n"
          ]
        },
        {
          "output_type": "stream",
          "name": "stderr",
          "text": [
            "\r 53%|█████▎    | 267/500 [05:00<05:16,  1.36s/it]"
          ]
        },
        {
          "output_type": "stream",
          "name": "stdout",
          "text": [
            "episode number is:  268\n"
          ]
        },
        {
          "output_type": "stream",
          "name": "stderr",
          "text": [
            "\r 54%|█████▎    | 268/500 [05:02<05:38,  1.46s/it]"
          ]
        },
        {
          "output_type": "stream",
          "name": "stdout",
          "text": [
            "episode number is:  269\n"
          ]
        },
        {
          "output_type": "stream",
          "name": "stderr",
          "text": [
            "\r 54%|█████▍    | 269/500 [05:04<06:11,  1.61s/it]"
          ]
        },
        {
          "output_type": "stream",
          "name": "stdout",
          "text": [
            "episode number is:  270\n",
            "Episode reward 1 ==> -1185.987919807434\n",
            "Episode reward 2 ==> -1185.987919807434\n",
            "Episode reward 3 ==> -1185.987919807434\n",
            "Episode reward 4 ==> -1185.987919807434\n",
            "Episode reward 5 ==> -1185.987919807434\n",
            "Episode reward 6 ==> -1185.987919807434\n",
            "Episode reward 7 ==> -1185.987919807434\n",
            "Episode reward 8 ==> -1185.987919807434\n"
          ]
        },
        {
          "output_type": "stream",
          "name": "stderr",
          "text": [
            "\r 54%|█████▍    | 270/500 [05:06<07:15,  1.89s/it]"
          ]
        },
        {
          "output_type": "stream",
          "name": "stdout",
          "text": [
            "Episode reward 9 ==> -1185.987919807434\n",
            "Episode reward 10 ==> -1185.987919807434\n",
            "episode number is:  271\n"
          ]
        },
        {
          "output_type": "stream",
          "name": "stderr",
          "text": [
            "\r 54%|█████▍    | 271/500 [05:07<06:41,  1.75s/it]"
          ]
        },
        {
          "output_type": "stream",
          "name": "stdout",
          "text": [
            "episode number is:  272\n"
          ]
        },
        {
          "output_type": "stream",
          "name": "stderr",
          "text": [
            "\r 54%|█████▍    | 272/500 [05:09<06:10,  1.63s/it]"
          ]
        },
        {
          "output_type": "stream",
          "name": "stdout",
          "text": [
            "episode number is:  273\n"
          ]
        },
        {
          "output_type": "stream",
          "name": "stderr",
          "text": [
            "\r 55%|█████▍    | 273/500 [05:10<05:48,  1.53s/it]"
          ]
        },
        {
          "output_type": "stream",
          "name": "stdout",
          "text": [
            "episode number is:  274\n"
          ]
        },
        {
          "output_type": "stream",
          "name": "stderr",
          "text": [
            "\r 55%|█████▍    | 274/500 [05:11<05:32,  1.47s/it]"
          ]
        },
        {
          "output_type": "stream",
          "name": "stdout",
          "text": [
            "episode number is:  275\n"
          ]
        },
        {
          "output_type": "stream",
          "name": "stderr",
          "text": [
            "\r 55%|█████▌    | 275/500 [05:13<05:21,  1.43s/it]"
          ]
        },
        {
          "output_type": "stream",
          "name": "stdout",
          "text": [
            "episode number is:  276\n"
          ]
        },
        {
          "output_type": "stream",
          "name": "stderr",
          "text": [
            "\r 55%|█████▌    | 276/500 [05:14<04:54,  1.32s/it]"
          ]
        },
        {
          "output_type": "stream",
          "name": "stdout",
          "text": [
            "episode number is:  277\n"
          ]
        },
        {
          "output_type": "stream",
          "name": "stderr",
          "text": [
            "\r 55%|█████▌    | 277/500 [05:15<05:01,  1.35s/it]"
          ]
        },
        {
          "output_type": "stream",
          "name": "stdout",
          "text": [
            "episode number is:  278\n"
          ]
        },
        {
          "output_type": "stream",
          "name": "stderr",
          "text": [
            "\r 56%|█████▌    | 278/500 [05:17<05:44,  1.55s/it]"
          ]
        },
        {
          "output_type": "stream",
          "name": "stdout",
          "text": [
            "episode number is:  279\n"
          ]
        },
        {
          "output_type": "stream",
          "name": "stderr",
          "text": [
            "\r 56%|█████▌    | 279/500 [05:19<06:11,  1.68s/it]"
          ]
        },
        {
          "output_type": "stream",
          "name": "stdout",
          "text": [
            "episode number is:  280\n",
            "Episode reward 1 ==> -1185.987919807434\n",
            "Episode reward 2 ==> -1185.987919807434\n",
            "Episode reward 3 ==> -1185.987919807434\n",
            "Episode reward 4 ==> -1185.987919807434\n",
            "Episode reward 5 ==> -1185.987919807434\n",
            "Episode reward 6 ==> -1185.987919807434\n",
            "Episode reward 7 ==> -1185.987919807434\n"
          ]
        },
        {
          "output_type": "stream",
          "name": "stderr",
          "text": [
            "\r 56%|█████▌    | 280/500 [05:21<06:41,  1.82s/it]"
          ]
        },
        {
          "output_type": "stream",
          "name": "stdout",
          "text": [
            "Episode reward 8 ==> -1185.987919807434\n",
            "Episode reward 9 ==> -1185.987919807434\n",
            "Episode reward 10 ==> -1185.987919807434\n",
            "episode number is:  281\n"
          ]
        },
        {
          "output_type": "stream",
          "name": "stderr",
          "text": [
            "\r 56%|█████▌    | 281/500 [05:23<06:13,  1.71s/it]"
          ]
        },
        {
          "output_type": "stream",
          "name": "stdout",
          "text": [
            "episode number is:  282\n"
          ]
        },
        {
          "output_type": "stream",
          "name": "stderr",
          "text": [
            "\r 56%|█████▋    | 282/500 [05:24<05:56,  1.64s/it]"
          ]
        },
        {
          "output_type": "stream",
          "name": "stdout",
          "text": [
            "episode number is:  283\n"
          ]
        },
        {
          "output_type": "stream",
          "name": "stderr",
          "text": [
            "\r 57%|█████▋    | 283/500 [05:26<05:32,  1.53s/it]"
          ]
        },
        {
          "output_type": "stream",
          "name": "stdout",
          "text": [
            "episode number is:  284\n"
          ]
        },
        {
          "output_type": "stream",
          "name": "stderr",
          "text": [
            "\r 57%|█████▋    | 284/500 [05:27<05:18,  1.48s/it]"
          ]
        },
        {
          "output_type": "stream",
          "name": "stdout",
          "text": [
            "episode number is:  285\n"
          ]
        },
        {
          "output_type": "stream",
          "name": "stderr",
          "text": [
            "\r 57%|█████▋    | 285/500 [05:28<05:08,  1.43s/it]"
          ]
        },
        {
          "output_type": "stream",
          "name": "stdout",
          "text": [
            "episode number is:  286\n"
          ]
        },
        {
          "output_type": "stream",
          "name": "stderr",
          "text": [
            "\r 57%|█████▋    | 286/500 [05:29<04:43,  1.32s/it]"
          ]
        },
        {
          "output_type": "stream",
          "name": "stdout",
          "text": [
            "episode number is:  287\n"
          ]
        },
        {
          "output_type": "stream",
          "name": "stderr",
          "text": [
            "\r 57%|█████▋    | 287/500 [05:31<04:56,  1.39s/it]"
          ]
        },
        {
          "output_type": "stream",
          "name": "stdout",
          "text": [
            "episode number is:  288\n"
          ]
        },
        {
          "output_type": "stream",
          "name": "stderr",
          "text": [
            "\r 58%|█████▊    | 288/500 [05:33<05:58,  1.69s/it]"
          ]
        },
        {
          "output_type": "stream",
          "name": "stdout",
          "text": [
            "episode number is:  289\n"
          ]
        },
        {
          "output_type": "stream",
          "name": "stderr",
          "text": [
            "\r 58%|█████▊    | 289/500 [05:35<06:18,  1.79s/it]"
          ]
        },
        {
          "output_type": "stream",
          "name": "stdout",
          "text": [
            "episode number is:  290\n",
            "Episode reward 1 ==> -1185.987919807434\n",
            "Episode reward 2 ==> -1185.987919807434\n",
            "Episode reward 3 ==> -1185.987919807434\n",
            "Episode reward 4 ==> -1185.987919807434\n",
            "Episode reward 5 ==> -1185.987919807434\n",
            "Episode reward 6 ==> -1185.987919807434\n",
            "Episode reward 7 ==> -1185.987919807434\n"
          ]
        },
        {
          "output_type": "stream",
          "name": "stderr",
          "text": [
            "\r 58%|█████▊    | 290/500 [05:37<06:15,  1.79s/it]"
          ]
        },
        {
          "output_type": "stream",
          "name": "stdout",
          "text": [
            "Episode reward 8 ==> -1185.987919807434\n",
            "Episode reward 9 ==> -1185.987919807434\n",
            "Episode reward 10 ==> -1185.987919807434\n",
            "episode number is:  291\n"
          ]
        },
        {
          "output_type": "stream",
          "name": "stderr",
          "text": [
            "\r 58%|█████▊    | 291/500 [05:39<05:52,  1.68s/it]"
          ]
        },
        {
          "output_type": "stream",
          "name": "stdout",
          "text": [
            "episode number is:  292\n"
          ]
        },
        {
          "output_type": "stream",
          "name": "stderr",
          "text": [
            "\r 58%|█████▊    | 292/500 [05:40<05:30,  1.59s/it]"
          ]
        },
        {
          "output_type": "stream",
          "name": "stdout",
          "text": [
            "episode number is:  293\n"
          ]
        },
        {
          "output_type": "stream",
          "name": "stderr",
          "text": [
            "\r 59%|█████▊    | 293/500 [05:41<05:11,  1.51s/it]"
          ]
        },
        {
          "output_type": "stream",
          "name": "stdout",
          "text": [
            "episode number is:  294\n"
          ]
        },
        {
          "output_type": "stream",
          "name": "stderr",
          "text": [
            "\r 59%|█████▉    | 294/500 [05:43<05:00,  1.46s/it]"
          ]
        },
        {
          "output_type": "stream",
          "name": "stdout",
          "text": [
            "episode number is:  295\n"
          ]
        },
        {
          "output_type": "stream",
          "name": "stderr",
          "text": [
            "\r 59%|█████▉    | 295/500 [05:44<04:52,  1.43s/it]"
          ]
        },
        {
          "output_type": "stream",
          "name": "stdout",
          "text": [
            "episode number is:  296\n"
          ]
        },
        {
          "output_type": "stream",
          "name": "stderr",
          "text": [
            "\r 59%|█████▉    | 296/500 [05:45<04:27,  1.31s/it]"
          ]
        },
        {
          "output_type": "stream",
          "name": "stdout",
          "text": [
            "episode number is:  297\n"
          ]
        },
        {
          "output_type": "stream",
          "name": "stderr",
          "text": [
            "\r 59%|█████▉    | 297/500 [05:47<05:06,  1.51s/it]"
          ]
        },
        {
          "output_type": "stream",
          "name": "stdout",
          "text": [
            "episode number is:  298\n"
          ]
        },
        {
          "output_type": "stream",
          "name": "stderr",
          "text": [
            "\r 60%|█████▉    | 298/500 [05:49<05:56,  1.77s/it]"
          ]
        },
        {
          "output_type": "stream",
          "name": "stdout",
          "text": [
            "episode number is:  299\n"
          ]
        },
        {
          "output_type": "stream",
          "name": "stderr",
          "text": [
            "\r 60%|█████▉    | 299/500 [05:51<05:43,  1.71s/it]"
          ]
        },
        {
          "output_type": "stream",
          "name": "stdout",
          "text": [
            "episode number is:  300\n",
            "Episode reward 1 ==> -1185.987919807434\n",
            "Episode reward 2 ==> -1185.987919807434\n",
            "Episode reward 3 ==> -1185.987919807434\n",
            "Episode reward 4 ==> -1185.987919807434\n",
            "Episode reward 5 ==> -1185.987919807434\n",
            "Episode reward 6 ==> -1185.987919807434\n",
            "Episode reward 7 ==> -1185.987919807434\n"
          ]
        },
        {
          "output_type": "stream",
          "name": "stderr",
          "text": [
            "\r 60%|██████    | 300/500 [05:53<05:42,  1.71s/it]"
          ]
        },
        {
          "output_type": "stream",
          "name": "stdout",
          "text": [
            "Episode reward 8 ==> -1185.987919807434\n",
            "Episode reward 9 ==> -1185.987919807434\n",
            "Episode reward 10 ==> -1185.987919807434\n",
            "episode number is:  301\n"
          ]
        },
        {
          "output_type": "stream",
          "name": "stderr",
          "text": [
            "\r 60%|██████    | 301/500 [05:54<05:21,  1.62s/it]"
          ]
        },
        {
          "output_type": "stream",
          "name": "stdout",
          "text": [
            "episode number is:  302\n"
          ]
        },
        {
          "output_type": "stream",
          "name": "stderr",
          "text": [
            "\r 60%|██████    | 302/500 [05:55<05:03,  1.53s/it]"
          ]
        },
        {
          "output_type": "stream",
          "name": "stdout",
          "text": [
            "episode number is:  303\n"
          ]
        },
        {
          "output_type": "stream",
          "name": "stderr",
          "text": [
            "\r 61%|██████    | 303/500 [05:57<04:47,  1.46s/it]"
          ]
        },
        {
          "output_type": "stream",
          "name": "stdout",
          "text": [
            "episode number is:  304\n"
          ]
        },
        {
          "output_type": "stream",
          "name": "stderr",
          "text": [
            "\r 61%|██████    | 304/500 [05:58<04:38,  1.42s/it]"
          ]
        },
        {
          "output_type": "stream",
          "name": "stdout",
          "text": [
            "episode number is:  305\n"
          ]
        },
        {
          "output_type": "stream",
          "name": "stderr",
          "text": [
            "\r 61%|██████    | 305/500 [05:59<04:33,  1.40s/it]"
          ]
        },
        {
          "output_type": "stream",
          "name": "stdout",
          "text": [
            "episode number is:  306\n"
          ]
        },
        {
          "output_type": "stream",
          "name": "stderr",
          "text": [
            "\r 61%|██████    | 306/500 [06:01<04:18,  1.33s/it]"
          ]
        },
        {
          "output_type": "stream",
          "name": "stdout",
          "text": [
            "episode number is:  307\n"
          ]
        },
        {
          "output_type": "stream",
          "name": "stderr",
          "text": [
            "\r 61%|██████▏   | 307/500 [06:03<04:59,  1.55s/it]"
          ]
        },
        {
          "output_type": "stream",
          "name": "stdout",
          "text": [
            "episode number is:  308\n"
          ]
        },
        {
          "output_type": "stream",
          "name": "stderr",
          "text": [
            "\r 62%|██████▏   | 308/500 [06:05<05:43,  1.79s/it]"
          ]
        },
        {
          "output_type": "stream",
          "name": "stdout",
          "text": [
            "episode number is:  309\n"
          ]
        },
        {
          "output_type": "stream",
          "name": "stderr",
          "text": [
            "\r 62%|██████▏   | 309/500 [06:06<05:15,  1.65s/it]"
          ]
        },
        {
          "output_type": "stream",
          "name": "stdout",
          "text": [
            "episode number is:  310\n",
            "Episode reward 1 ==> -1185.987919807434\n",
            "Episode reward 2 ==> -1185.987919807434\n",
            "Episode reward 3 ==> -1185.987919807434\n",
            "Episode reward 4 ==> -1185.987919807434\n",
            "Episode reward 5 ==> -1185.987919807434\n",
            "Episode reward 6 ==> -1185.987919807434\n",
            "Episode reward 7 ==> -1185.987919807434\n"
          ]
        },
        {
          "output_type": "stream",
          "name": "stderr",
          "text": [
            "\r 62%|██████▏   | 310/500 [06:08<05:19,  1.68s/it]"
          ]
        },
        {
          "output_type": "stream",
          "name": "stdout",
          "text": [
            "Episode reward 8 ==> -1185.987919807434\n",
            "Episode reward 9 ==> -1185.987919807434\n",
            "Episode reward 10 ==> -1185.987919807434\n",
            "episode number is:  311\n"
          ]
        },
        {
          "output_type": "stream",
          "name": "stderr",
          "text": [
            "\r 62%|██████▏   | 311/500 [06:09<05:02,  1.60s/it]"
          ]
        },
        {
          "output_type": "stream",
          "name": "stdout",
          "text": [
            "episode number is:  312\n"
          ]
        },
        {
          "output_type": "stream",
          "name": "stderr",
          "text": [
            "\r 62%|██████▏   | 312/500 [06:11<04:45,  1.52s/it]"
          ]
        },
        {
          "output_type": "stream",
          "name": "stdout",
          "text": [
            "episode number is:  313\n"
          ]
        },
        {
          "output_type": "stream",
          "name": "stderr",
          "text": [
            "\r 63%|██████▎   | 313/500 [06:12<04:33,  1.46s/it]"
          ]
        },
        {
          "output_type": "stream",
          "name": "stdout",
          "text": [
            "episode number is:  314\n"
          ]
        },
        {
          "output_type": "stream",
          "name": "stderr",
          "text": [
            "\r 63%|██████▎   | 314/500 [06:13<04:25,  1.43s/it]"
          ]
        },
        {
          "output_type": "stream",
          "name": "stdout",
          "text": [
            "episode number is:  315\n"
          ]
        },
        {
          "output_type": "stream",
          "name": "stderr",
          "text": [
            "\r 63%|██████▎   | 315/500 [06:15<04:19,  1.40s/it]"
          ]
        },
        {
          "output_type": "stream",
          "name": "stdout",
          "text": [
            "episode number is:  316\n"
          ]
        },
        {
          "output_type": "stream",
          "name": "stderr",
          "text": [
            "\r 63%|██████▎   | 316/500 [06:16<04:25,  1.44s/it]"
          ]
        },
        {
          "output_type": "stream",
          "name": "stdout",
          "text": [
            "episode number is:  317\n"
          ]
        },
        {
          "output_type": "stream",
          "name": "stderr",
          "text": [
            "\r 63%|██████▎   | 317/500 [06:18<05:00,  1.64s/it]"
          ]
        },
        {
          "output_type": "stream",
          "name": "stdout",
          "text": [
            "episode number is:  318\n"
          ]
        },
        {
          "output_type": "stream",
          "name": "stderr",
          "text": [
            "\r 64%|██████▎   | 318/500 [06:20<05:18,  1.75s/it]"
          ]
        },
        {
          "output_type": "stream",
          "name": "stdout",
          "text": [
            "episode number is:  319\n"
          ]
        },
        {
          "output_type": "stream",
          "name": "stderr",
          "text": [
            "\r 64%|██████▍   | 319/500 [06:22<04:54,  1.63s/it]"
          ]
        },
        {
          "output_type": "stream",
          "name": "stdout",
          "text": [
            "episode number is:  320\n",
            "Episode reward 1 ==> -1185.987919807434\n",
            "Episode reward 2 ==> -1185.987919807434\n",
            "Episode reward 3 ==> -1185.987919807434\n",
            "Episode reward 4 ==> -1185.987919807434\n",
            "Episode reward 5 ==> -1185.987919807434\n",
            "Episode reward 6 ==> -1185.987919807434\n",
            "Episode reward 7 ==> -1185.987919807434\n"
          ]
        },
        {
          "output_type": "stream",
          "name": "stderr",
          "text": [
            "\r 64%|██████▍   | 320/500 [06:23<04:57,  1.65s/it]"
          ]
        },
        {
          "output_type": "stream",
          "name": "stdout",
          "text": [
            "Episode reward 8 ==> -1185.987919807434\n",
            "Episode reward 9 ==> -1185.987919807434\n",
            "Episode reward 10 ==> -1185.987919807434\n",
            "episode number is:  321\n"
          ]
        },
        {
          "output_type": "stream",
          "name": "stderr",
          "text": [
            "\r 64%|██████▍   | 321/500 [06:25<04:42,  1.58s/it]"
          ]
        },
        {
          "output_type": "stream",
          "name": "stdout",
          "text": [
            "episode number is:  322\n"
          ]
        },
        {
          "output_type": "stream",
          "name": "stderr",
          "text": [
            "\r 64%|██████▍   | 322/500 [06:26<04:27,  1.50s/it]"
          ]
        },
        {
          "output_type": "stream",
          "name": "stdout",
          "text": [
            "episode number is:  323\n"
          ]
        },
        {
          "output_type": "stream",
          "name": "stderr",
          "text": [
            "\r 65%|██████▍   | 323/500 [06:27<04:16,  1.45s/it]"
          ]
        },
        {
          "output_type": "stream",
          "name": "stdout",
          "text": [
            "episode number is:  324\n"
          ]
        },
        {
          "output_type": "stream",
          "name": "stderr",
          "text": [
            "\r 65%|██████▍   | 324/500 [06:29<04:09,  1.42s/it]"
          ]
        },
        {
          "output_type": "stream",
          "name": "stdout",
          "text": [
            "episode number is:  325\n"
          ]
        },
        {
          "output_type": "stream",
          "name": "stderr",
          "text": [
            "\r 65%|██████▌   | 325/500 [06:30<04:20,  1.49s/it]"
          ]
        },
        {
          "output_type": "stream",
          "name": "stdout",
          "text": [
            "episode number is:  326\n"
          ]
        },
        {
          "output_type": "stream",
          "name": "stderr",
          "text": [
            "\r 65%|██████▌   | 326/500 [06:32<04:21,  1.50s/it]"
          ]
        },
        {
          "output_type": "stream",
          "name": "stdout",
          "text": [
            "episode number is:  327\n"
          ]
        },
        {
          "output_type": "stream",
          "name": "stderr",
          "text": [
            "\r 65%|██████▌   | 327/500 [06:34<04:51,  1.69s/it]"
          ]
        },
        {
          "output_type": "stream",
          "name": "stdout",
          "text": [
            "episode number is:  328\n"
          ]
        },
        {
          "output_type": "stream",
          "name": "stderr",
          "text": [
            "\r 66%|██████▌   | 328/500 [06:36<04:48,  1.68s/it]"
          ]
        },
        {
          "output_type": "stream",
          "name": "stdout",
          "text": [
            "episode number is:  329\n"
          ]
        },
        {
          "output_type": "stream",
          "name": "stderr",
          "text": [
            "\r 66%|██████▌   | 329/500 [06:37<04:29,  1.58s/it]"
          ]
        },
        {
          "output_type": "stream",
          "name": "stdout",
          "text": [
            "episode number is:  330\n",
            "Episode reward 1 ==> -1185.987919807434\n",
            "Episode reward 2 ==> -1185.987919807434\n",
            "Episode reward 3 ==> -1185.987919807434\n",
            "Episode reward 4 ==> -1185.987919807434\n",
            "Episode reward 5 ==> -1185.987919807434\n",
            "Episode reward 6 ==> -1185.987919807434\n",
            "Episode reward 7 ==> -1185.987919807434\n"
          ]
        },
        {
          "output_type": "stream",
          "name": "stderr",
          "text": [
            "\r 66%|██████▌   | 330/500 [06:39<04:36,  1.62s/it]"
          ]
        },
        {
          "output_type": "stream",
          "name": "stdout",
          "text": [
            "Episode reward 8 ==> -1185.987919807434\n",
            "Episode reward 9 ==> -1185.987919807434\n",
            "Episode reward 10 ==> -1185.987919807434\n",
            "episode number is:  331\n"
          ]
        },
        {
          "output_type": "stream",
          "name": "stderr",
          "text": [
            "\r 66%|██████▌   | 331/500 [06:40<04:24,  1.56s/it]"
          ]
        },
        {
          "output_type": "stream",
          "name": "stdout",
          "text": [
            "episode number is:  332\n"
          ]
        },
        {
          "output_type": "stream",
          "name": "stderr",
          "text": [
            "\r 66%|██████▋   | 332/500 [06:42<04:11,  1.50s/it]"
          ]
        },
        {
          "output_type": "stream",
          "name": "stdout",
          "text": [
            "episode number is:  333\n"
          ]
        },
        {
          "output_type": "stream",
          "name": "stderr",
          "text": [
            "\r 67%|██████▋   | 333/500 [06:43<04:01,  1.44s/it]"
          ]
        },
        {
          "output_type": "stream",
          "name": "stdout",
          "text": [
            "episode number is:  334\n"
          ]
        },
        {
          "output_type": "stream",
          "name": "stderr",
          "text": [
            "\r 67%|██████▋   | 334/500 [06:44<03:58,  1.44s/it]"
          ]
        },
        {
          "output_type": "stream",
          "name": "stdout",
          "text": [
            "episode number is:  335\n"
          ]
        },
        {
          "output_type": "stream",
          "name": "stderr",
          "text": [
            "\r 67%|██████▋   | 335/500 [06:46<04:24,  1.61s/it]"
          ]
        },
        {
          "output_type": "stream",
          "name": "stdout",
          "text": [
            "episode number is:  336\n"
          ]
        },
        {
          "output_type": "stream",
          "name": "stderr",
          "text": [
            "\r 67%|██████▋   | 336/500 [06:48<04:22,  1.60s/it]"
          ]
        },
        {
          "output_type": "stream",
          "name": "stdout",
          "text": [
            "episode number is:  337\n"
          ]
        },
        {
          "output_type": "stream",
          "name": "stderr",
          "text": [
            "\r 67%|██████▋   | 337/500 [06:50<04:29,  1.65s/it]"
          ]
        },
        {
          "output_type": "stream",
          "name": "stdout",
          "text": [
            "episode number is:  338\n"
          ]
        },
        {
          "output_type": "stream",
          "name": "stderr",
          "text": [
            "\r 68%|██████▊   | 338/500 [06:51<04:25,  1.64s/it]"
          ]
        },
        {
          "output_type": "stream",
          "name": "stdout",
          "text": [
            "episode number is:  339\n"
          ]
        },
        {
          "output_type": "stream",
          "name": "stderr",
          "text": [
            "\r 68%|██████▊   | 339/500 [06:53<04:10,  1.55s/it]"
          ]
        },
        {
          "output_type": "stream",
          "name": "stdout",
          "text": [
            "episode number is:  340\n",
            "Episode reward 1 ==> -1185.987919807434\n",
            "Episode reward 2 ==> -1185.987919807434\n",
            "Episode reward 3 ==> -1185.987919807434\n",
            "Episode reward 4 ==> -1185.987919807434\n",
            "Episode reward 5 ==> -1185.987919807434\n",
            "Episode reward 6 ==> -1185.987919807434\n"
          ]
        },
        {
          "output_type": "stream",
          "name": "stderr",
          "text": [
            "\r 68%|██████▊   | 340/500 [06:54<04:17,  1.61s/it]"
          ]
        },
        {
          "output_type": "stream",
          "name": "stdout",
          "text": [
            "Episode reward 7 ==> -1185.987919807434\n",
            "Episode reward 8 ==> -1185.987919807434\n",
            "Episode reward 9 ==> -1185.987919807434\n",
            "Episode reward 10 ==> -1185.987919807434\n",
            "episode number is:  341\n"
          ]
        },
        {
          "output_type": "stream",
          "name": "stderr",
          "text": [
            "\r 68%|██████▊   | 341/500 [06:56<04:06,  1.55s/it]"
          ]
        },
        {
          "output_type": "stream",
          "name": "stdout",
          "text": [
            "episode number is:  342\n"
          ]
        },
        {
          "output_type": "stream",
          "name": "stderr",
          "text": [
            "\r 68%|██████▊   | 342/500 [06:57<03:55,  1.49s/it]"
          ]
        },
        {
          "output_type": "stream",
          "name": "stdout",
          "text": [
            "episode number is:  343\n"
          ]
        },
        {
          "output_type": "stream",
          "name": "stderr",
          "text": [
            "\r 69%|██████▊   | 343/500 [06:59<03:46,  1.44s/it]"
          ]
        },
        {
          "output_type": "stream",
          "name": "stdout",
          "text": [
            "episode number is:  344\n"
          ]
        },
        {
          "output_type": "stream",
          "name": "stderr",
          "text": [
            "\r 69%|██████▉   | 344/500 [07:00<04:04,  1.57s/it]"
          ]
        },
        {
          "output_type": "stream",
          "name": "stdout",
          "text": [
            "episode number is:  345\n"
          ]
        },
        {
          "output_type": "stream",
          "name": "stderr",
          "text": [
            "\r 69%|██████▉   | 345/500 [07:02<04:21,  1.68s/it]"
          ]
        },
        {
          "output_type": "stream",
          "name": "stdout",
          "text": [
            "episode number is:  346\n"
          ]
        },
        {
          "output_type": "stream",
          "name": "stderr",
          "text": [
            "\r 69%|██████▉   | 346/500 [07:04<04:05,  1.60s/it]"
          ]
        },
        {
          "output_type": "stream",
          "name": "stdout",
          "text": [
            "episode number is:  347\n"
          ]
        },
        {
          "output_type": "stream",
          "name": "stderr",
          "text": [
            "\r 69%|██████▉   | 347/500 [07:05<03:57,  1.55s/it]"
          ]
        },
        {
          "output_type": "stream",
          "name": "stdout",
          "text": [
            "episode number is:  348\n"
          ]
        },
        {
          "output_type": "stream",
          "name": "stderr",
          "text": [
            "\r 70%|██████▉   | 348/500 [07:07<03:58,  1.57s/it]"
          ]
        },
        {
          "output_type": "stream",
          "name": "stdout",
          "text": [
            "episode number is:  349\n"
          ]
        },
        {
          "output_type": "stream",
          "name": "stderr",
          "text": [
            "\r 70%|██████▉   | 349/500 [07:08<03:46,  1.50s/it]"
          ]
        },
        {
          "output_type": "stream",
          "name": "stdout",
          "text": [
            "episode number is:  350\n",
            "Episode reward 1 ==> -1185.987919807434\n",
            "Episode reward 2 ==> -1185.987919807434\n",
            "Episode reward 3 ==> -1185.987919807434\n",
            "Episode reward 4 ==> -1185.987919807434\n",
            "Episode reward 5 ==> -1185.987919807434\n",
            "Episode reward 6 ==> -1185.987919807434\n",
            "Episode reward 7 ==> -1185.987919807434\n"
          ]
        },
        {
          "output_type": "stream",
          "name": "stderr",
          "text": [
            "\r 70%|███████   | 350/500 [07:10<03:53,  1.56s/it]"
          ]
        },
        {
          "output_type": "stream",
          "name": "stdout",
          "text": [
            "Episode reward 8 ==> -1185.987919807434\n",
            "Episode reward 9 ==> -1185.987919807434\n",
            "Episode reward 10 ==> -1185.987919807434\n",
            "episode number is:  351\n"
          ]
        },
        {
          "output_type": "stream",
          "name": "stderr",
          "text": [
            "\r 70%|███████   | 351/500 [07:11<03:46,  1.52s/it]"
          ]
        },
        {
          "output_type": "stream",
          "name": "stdout",
          "text": [
            "episode number is:  352\n"
          ]
        },
        {
          "output_type": "stream",
          "name": "stderr",
          "text": [
            "\r 70%|███████   | 352/500 [07:13<03:37,  1.47s/it]"
          ]
        },
        {
          "output_type": "stream",
          "name": "stdout",
          "text": [
            "episode number is:  353\n"
          ]
        },
        {
          "output_type": "stream",
          "name": "stderr",
          "text": [
            "\r 71%|███████   | 353/500 [07:14<03:42,  1.52s/it]"
          ]
        },
        {
          "output_type": "stream",
          "name": "stdout",
          "text": [
            "episode number is:  354\n"
          ]
        },
        {
          "output_type": "stream",
          "name": "stderr",
          "text": [
            "\r 71%|███████   | 354/500 [07:16<04:02,  1.66s/it]"
          ]
        },
        {
          "output_type": "stream",
          "name": "stdout",
          "text": [
            "episode number is:  355\n"
          ]
        },
        {
          "output_type": "stream",
          "name": "stderr",
          "text": [
            "\r 71%|███████   | 355/500 [07:18<04:11,  1.74s/it]"
          ]
        },
        {
          "output_type": "stream",
          "name": "stdout",
          "text": [
            "episode number is:  356\n"
          ]
        },
        {
          "output_type": "stream",
          "name": "stderr",
          "text": [
            "\r 71%|███████   | 356/500 [07:19<03:42,  1.55s/it]"
          ]
        },
        {
          "output_type": "stream",
          "name": "stdout",
          "text": [
            "episode number is:  357\n"
          ]
        },
        {
          "output_type": "stream",
          "name": "stderr",
          "text": [
            "\r 71%|███████▏  | 357/500 [07:21<03:38,  1.53s/it]"
          ]
        },
        {
          "output_type": "stream",
          "name": "stdout",
          "text": [
            "episode number is:  358\n"
          ]
        },
        {
          "output_type": "stream",
          "name": "stderr",
          "text": [
            "\r 72%|███████▏  | 358/500 [07:22<03:39,  1.55s/it]"
          ]
        },
        {
          "output_type": "stream",
          "name": "stdout",
          "text": [
            "episode number is:  359\n"
          ]
        },
        {
          "output_type": "stream",
          "name": "stderr",
          "text": [
            "\r 72%|███████▏  | 359/500 [07:24<03:29,  1.48s/it]"
          ]
        },
        {
          "output_type": "stream",
          "name": "stdout",
          "text": [
            "episode number is:  360\n",
            "Episode reward 1 ==> -1185.987919807434\n",
            "Episode reward 2 ==> -1185.987919807434\n",
            "Episode reward 3 ==> -1185.987919807434\n",
            "Episode reward 4 ==> -1185.987919807434\n",
            "Episode reward 5 ==> -1185.987919807434\n",
            "Episode reward 6 ==> -1185.987919807434\n",
            "Episode reward 7 ==> -1185.987919807434\n"
          ]
        },
        {
          "output_type": "stream",
          "name": "stderr",
          "text": [
            "\r 72%|███████▏  | 360/500 [07:25<03:38,  1.56s/it]"
          ]
        },
        {
          "output_type": "stream",
          "name": "stdout",
          "text": [
            "Episode reward 8 ==> -1185.987919807434\n",
            "Episode reward 9 ==> -1185.987919807434\n",
            "Episode reward 10 ==> -1185.987919807434\n",
            "episode number is:  361\n"
          ]
        },
        {
          "output_type": "stream",
          "name": "stderr",
          "text": [
            "\r 72%|███████▏  | 361/500 [07:27<03:30,  1.51s/it]"
          ]
        },
        {
          "output_type": "stream",
          "name": "stdout",
          "text": [
            "episode number is:  362\n"
          ]
        },
        {
          "output_type": "stream",
          "name": "stderr",
          "text": [
            "\r 72%|███████▏  | 362/500 [07:28<03:26,  1.50s/it]"
          ]
        },
        {
          "output_type": "stream",
          "name": "stdout",
          "text": [
            "episode number is:  363\n"
          ]
        },
        {
          "output_type": "stream",
          "name": "stderr",
          "text": [
            "\r 73%|███████▎  | 363/500 [07:30<03:42,  1.62s/it]"
          ]
        },
        {
          "output_type": "stream",
          "name": "stdout",
          "text": [
            "episode number is:  364\n"
          ]
        },
        {
          "output_type": "stream",
          "name": "stderr",
          "text": [
            "\r 73%|███████▎  | 364/500 [07:32<03:53,  1.72s/it]"
          ]
        },
        {
          "output_type": "stream",
          "name": "stdout",
          "text": [
            "episode number is:  365\n"
          ]
        },
        {
          "output_type": "stream",
          "name": "stderr",
          "text": [
            "\r 73%|███████▎  | 365/500 [07:34<03:41,  1.64s/it]"
          ]
        },
        {
          "output_type": "stream",
          "name": "stdout",
          "text": [
            "episode number is:  366\n"
          ]
        },
        {
          "output_type": "stream",
          "name": "stderr",
          "text": [
            "\r 73%|███████▎  | 366/500 [07:35<03:15,  1.46s/it]"
          ]
        },
        {
          "output_type": "stream",
          "name": "stdout",
          "text": [
            "episode number is:  367\n"
          ]
        },
        {
          "output_type": "stream",
          "name": "stderr",
          "text": [
            "\r 73%|███████▎  | 367/500 [07:36<03:11,  1.44s/it]"
          ]
        },
        {
          "output_type": "stream",
          "name": "stdout",
          "text": [
            "episode number is:  368\n"
          ]
        },
        {
          "output_type": "stream",
          "name": "stderr",
          "text": [
            "\r 74%|███████▎  | 368/500 [07:38<03:15,  1.48s/it]"
          ]
        },
        {
          "output_type": "stream",
          "name": "stdout",
          "text": [
            "episode number is:  369\n"
          ]
        },
        {
          "output_type": "stream",
          "name": "stderr",
          "text": [
            "\r 74%|███████▍  | 369/500 [07:39<03:07,  1.43s/it]"
          ]
        },
        {
          "output_type": "stream",
          "name": "stdout",
          "text": [
            "episode number is:  370\n",
            "Episode reward 1 ==> -1185.987919807434\n",
            "Episode reward 2 ==> -1185.987919807434\n",
            "Episode reward 3 ==> -1185.987919807434\n",
            "Episode reward 4 ==> -1185.987919807434\n",
            "Episode reward 5 ==> -1185.987919807434\n",
            "Episode reward 6 ==> -1185.987919807434\n",
            "Episode reward 7 ==> -1185.987919807434\n"
          ]
        },
        {
          "output_type": "stream",
          "name": "stderr",
          "text": [
            "\r 74%|███████▍  | 370/500 [07:41<03:16,  1.51s/it]"
          ]
        },
        {
          "output_type": "stream",
          "name": "stdout",
          "text": [
            "Episode reward 8 ==> -1185.987919807434\n",
            "Episode reward 9 ==> -1185.987919807434\n",
            "Episode reward 10 ==> -1185.987919807434\n",
            "episode number is:  371\n"
          ]
        },
        {
          "output_type": "stream",
          "name": "stderr",
          "text": [
            "\r 74%|███████▍  | 371/500 [07:42<03:12,  1.49s/it]"
          ]
        },
        {
          "output_type": "stream",
          "name": "stdout",
          "text": [
            "episode number is:  372\n"
          ]
        },
        {
          "output_type": "stream",
          "name": "stderr",
          "text": [
            "\r 74%|███████▍  | 372/500 [07:44<03:19,  1.56s/it]"
          ]
        },
        {
          "output_type": "stream",
          "name": "stdout",
          "text": [
            "episode number is:  373\n"
          ]
        },
        {
          "output_type": "stream",
          "name": "stderr",
          "text": [
            "\r 75%|███████▍  | 373/500 [07:46<03:30,  1.66s/it]"
          ]
        },
        {
          "output_type": "stream",
          "name": "stdout",
          "text": [
            "episode number is:  374\n"
          ]
        },
        {
          "output_type": "stream",
          "name": "stderr",
          "text": [
            "\r 75%|███████▍  | 374/500 [07:47<03:34,  1.70s/it]"
          ]
        },
        {
          "output_type": "stream",
          "name": "stdout",
          "text": [
            "episode number is:  375\n"
          ]
        },
        {
          "output_type": "stream",
          "name": "stderr",
          "text": [
            "\r 75%|███████▌  | 375/500 [07:49<03:19,  1.60s/it]"
          ]
        },
        {
          "output_type": "stream",
          "name": "stdout",
          "text": [
            "episode number is:  376\n"
          ]
        },
        {
          "output_type": "stream",
          "name": "stderr",
          "text": [
            "\r 75%|███████▌  | 376/500 [07:50<02:58,  1.44s/it]"
          ]
        },
        {
          "output_type": "stream",
          "name": "stdout",
          "text": [
            "episode number is:  377\n"
          ]
        },
        {
          "output_type": "stream",
          "name": "stderr",
          "text": [
            "\r 75%|███████▌  | 377/500 [07:51<02:55,  1.43s/it]"
          ]
        },
        {
          "output_type": "stream",
          "name": "stdout",
          "text": [
            "episode number is:  378\n"
          ]
        },
        {
          "output_type": "stream",
          "name": "stderr",
          "text": [
            "\r 76%|███████▌  | 378/500 [07:53<02:59,  1.47s/it]"
          ]
        },
        {
          "output_type": "stream",
          "name": "stdout",
          "text": [
            "episode number is:  379\n"
          ]
        },
        {
          "output_type": "stream",
          "name": "stderr",
          "text": [
            "\r 76%|███████▌  | 379/500 [07:54<02:52,  1.42s/it]"
          ]
        },
        {
          "output_type": "stream",
          "name": "stdout",
          "text": [
            "episode number is:  380\n",
            "Episode reward 1 ==> -1185.987919807434\n",
            "Episode reward 2 ==> -1185.987919807434\n",
            "Episode reward 3 ==> -1185.987919807434\n",
            "Episode reward 4 ==> -1185.987919807434\n",
            "Episode reward 5 ==> -1185.987919807434\n",
            "Episode reward 6 ==> -1185.987919807434\n",
            "Episode reward 7 ==> -1185.987919807434\n"
          ]
        },
        {
          "output_type": "stream",
          "name": "stderr",
          "text": [
            "\r 76%|███████▌  | 380/500 [07:56<03:00,  1.51s/it]"
          ]
        },
        {
          "output_type": "stream",
          "name": "stdout",
          "text": [
            "Episode reward 8 ==> -1185.987919807434\n",
            "Episode reward 9 ==> -1185.987919807434\n",
            "Episode reward 10 ==> -1185.987919807434\n",
            "episode number is:  381\n"
          ]
        },
        {
          "output_type": "stream",
          "name": "stderr",
          "text": [
            "\r 76%|███████▌  | 381/500 [07:57<02:56,  1.48s/it]"
          ]
        },
        {
          "output_type": "stream",
          "name": "stdout",
          "text": [
            "episode number is:  382\n"
          ]
        },
        {
          "output_type": "stream",
          "name": "stderr",
          "text": [
            "\r 76%|███████▋  | 382/500 [07:59<03:11,  1.62s/it]"
          ]
        },
        {
          "output_type": "stream",
          "name": "stdout",
          "text": [
            "episode number is:  383\n"
          ]
        },
        {
          "output_type": "stream",
          "name": "stderr",
          "text": [
            "\r 77%|███████▋  | 383/500 [08:01<03:20,  1.71s/it]"
          ]
        },
        {
          "output_type": "stream",
          "name": "stdout",
          "text": [
            "episode number is:  384\n"
          ]
        },
        {
          "output_type": "stream",
          "name": "stderr",
          "text": [
            "\r 77%|███████▋  | 384/500 [08:03<03:11,  1.65s/it]"
          ]
        },
        {
          "output_type": "stream",
          "name": "stdout",
          "text": [
            "episode number is:  385\n"
          ]
        },
        {
          "output_type": "stream",
          "name": "stderr",
          "text": [
            "\r 77%|███████▋  | 385/500 [08:04<02:59,  1.56s/it]"
          ]
        },
        {
          "output_type": "stream",
          "name": "stdout",
          "text": [
            "episode number is:  386\n"
          ]
        },
        {
          "output_type": "stream",
          "name": "stderr",
          "text": [
            "\r 77%|███████▋  | 386/500 [08:05<02:40,  1.41s/it]"
          ]
        },
        {
          "output_type": "stream",
          "name": "stdout",
          "text": [
            "episode number is:  387\n"
          ]
        },
        {
          "output_type": "stream",
          "name": "stderr",
          "text": [
            "\r 77%|███████▋  | 387/500 [08:06<02:39,  1.41s/it]"
          ]
        },
        {
          "output_type": "stream",
          "name": "stdout",
          "text": [
            "episode number is:  388\n"
          ]
        },
        {
          "output_type": "stream",
          "name": "stderr",
          "text": [
            "\r 78%|███████▊  | 388/500 [08:08<02:43,  1.46s/it]"
          ]
        },
        {
          "output_type": "stream",
          "name": "stdout",
          "text": [
            "episode number is:  389\n"
          ]
        },
        {
          "output_type": "stream",
          "name": "stderr",
          "text": [
            "\r 78%|███████▊  | 389/500 [08:09<02:38,  1.42s/it]"
          ]
        },
        {
          "output_type": "stream",
          "name": "stdout",
          "text": [
            "episode number is:  390\n",
            "Episode reward 1 ==> -1185.987919807434\n",
            "Episode reward 2 ==> -1185.987919807434\n",
            "Episode reward 3 ==> -1185.987919807434\n",
            "Episode reward 4 ==> -1185.987919807434\n",
            "Episode reward 5 ==> -1185.987919807434\n",
            "Episode reward 6 ==> -1185.987919807434\n",
            "Episode reward 7 ==> -1185.987919807434\n"
          ]
        },
        {
          "output_type": "stream",
          "name": "stderr",
          "text": [
            "\r 78%|███████▊  | 390/500 [08:11<02:45,  1.50s/it]"
          ]
        },
        {
          "output_type": "stream",
          "name": "stdout",
          "text": [
            "Episode reward 8 ==> -1185.987919807434\n",
            "Episode reward 9 ==> -1185.987919807434\n",
            "Episode reward 10 ==> -1185.987919807434\n",
            "episode number is:  391\n"
          ]
        },
        {
          "output_type": "stream",
          "name": "stderr",
          "text": [
            "\r 78%|███████▊  | 391/500 [08:13<02:53,  1.59s/it]"
          ]
        },
        {
          "output_type": "stream",
          "name": "stdout",
          "text": [
            "episode number is:  392\n"
          ]
        },
        {
          "output_type": "stream",
          "name": "stderr",
          "text": [
            "\r 78%|███████▊  | 392/500 [08:16<03:35,  1.99s/it]"
          ]
        },
        {
          "output_type": "stream",
          "name": "stdout",
          "text": [
            "episode number is:  393\n"
          ]
        },
        {
          "output_type": "stream",
          "name": "stderr",
          "text": [
            "\r 79%|███████▊  | 393/500 [08:18<03:41,  2.07s/it]"
          ]
        },
        {
          "output_type": "stream",
          "name": "stdout",
          "text": [
            "episode number is:  394\n"
          ]
        },
        {
          "output_type": "stream",
          "name": "stderr",
          "text": [
            "\r 79%|███████▉  | 394/500 [08:20<03:36,  2.04s/it]"
          ]
        },
        {
          "output_type": "stream",
          "name": "stdout",
          "text": [
            "episode number is:  395\n"
          ]
        },
        {
          "output_type": "stream",
          "name": "stderr",
          "text": [
            "\r 79%|███████▉  | 395/500 [08:22<03:25,  1.96s/it]"
          ]
        },
        {
          "output_type": "stream",
          "name": "stdout",
          "text": [
            "episode number is:  396\n"
          ]
        },
        {
          "output_type": "stream",
          "name": "stderr",
          "text": [
            "\r 79%|███████▉  | 396/500 [08:23<03:05,  1.78s/it]"
          ]
        },
        {
          "output_type": "stream",
          "name": "stdout",
          "text": [
            "episode number is:  397\n"
          ]
        },
        {
          "output_type": "stream",
          "name": "stderr",
          "text": [
            "\r 79%|███████▉  | 397/500 [08:25<02:53,  1.68s/it]"
          ]
        },
        {
          "output_type": "stream",
          "name": "stdout",
          "text": [
            "episode number is:  398\n"
          ]
        },
        {
          "output_type": "stream",
          "name": "stderr",
          "text": [
            "\r 80%|███████▉  | 398/500 [08:26<02:49,  1.66s/it]"
          ]
        },
        {
          "output_type": "stream",
          "name": "stdout",
          "text": [
            "episode number is:  399\n"
          ]
        },
        {
          "output_type": "stream",
          "name": "stderr",
          "text": [
            "\r 80%|███████▉  | 399/500 [08:28<02:38,  1.57s/it]"
          ]
        },
        {
          "output_type": "stream",
          "name": "stdout",
          "text": [
            "episode number is:  400\n",
            "Episode reward 1 ==> -1185.987919807434\n",
            "Episode reward 2 ==> -1185.987919807434\n",
            "Episode reward 3 ==> -1185.987919807434\n",
            "Episode reward 4 ==> -1185.987919807434\n",
            "Episode reward 5 ==> -1185.987919807434\n",
            "Episode reward 6 ==> -1185.987919807434\n",
            "Episode reward 7 ==> -1185.987919807434\n",
            "Episode reward 8 ==> -1185.987919807434\n",
            "Episode reward 9 ==> -1185.987919807434\n"
          ]
        },
        {
          "output_type": "stream",
          "name": "stderr",
          "text": [
            "\r 80%|████████  | 400/500 [08:29<02:45,  1.66s/it]"
          ]
        },
        {
          "output_type": "stream",
          "name": "stdout",
          "text": [
            "Episode reward 10 ==> -1185.987919807434\n",
            "episode number is:  401\n"
          ]
        },
        {
          "output_type": "stream",
          "name": "stderr",
          "text": [
            "\r 80%|████████  | 401/500 [08:32<02:56,  1.78s/it]"
          ]
        },
        {
          "output_type": "stream",
          "name": "stdout",
          "text": [
            "episode number is:  402\n"
          ]
        },
        {
          "output_type": "stream",
          "name": "stderr",
          "text": [
            "\r 80%|████████  | 402/500 [08:33<03:00,  1.84s/it]"
          ]
        },
        {
          "output_type": "stream",
          "name": "stdout",
          "text": [
            "episode number is:  403\n"
          ]
        },
        {
          "output_type": "stream",
          "name": "stderr",
          "text": [
            "\r 81%|████████  | 403/500 [08:35<02:46,  1.72s/it]"
          ]
        },
        {
          "output_type": "stream",
          "name": "stdout",
          "text": [
            "episode number is:  404\n"
          ]
        },
        {
          "output_type": "stream",
          "name": "stderr",
          "text": [
            "\r 81%|████████  | 404/500 [08:36<02:34,  1.61s/it]"
          ]
        },
        {
          "output_type": "stream",
          "name": "stdout",
          "text": [
            "episode number is:  405\n"
          ]
        },
        {
          "output_type": "stream",
          "name": "stderr",
          "text": [
            "\r 81%|████████  | 405/500 [08:38<02:25,  1.53s/it]"
          ]
        },
        {
          "output_type": "stream",
          "name": "stdout",
          "text": [
            "episode number is:  406\n"
          ]
        },
        {
          "output_type": "stream",
          "name": "stderr",
          "text": [
            "\r 81%|████████  | 406/500 [08:39<02:10,  1.39s/it]"
          ]
        },
        {
          "output_type": "stream",
          "name": "stdout",
          "text": [
            "episode number is:  407\n"
          ]
        },
        {
          "output_type": "stream",
          "name": "stderr",
          "text": [
            "\r 81%|████████▏ | 407/500 [08:40<02:09,  1.40s/it]"
          ]
        },
        {
          "output_type": "stream",
          "name": "stdout",
          "text": [
            "episode number is:  408\n"
          ]
        },
        {
          "output_type": "stream",
          "name": "stderr",
          "text": [
            "\r 82%|████████▏ | 408/500 [08:42<02:14,  1.46s/it]"
          ]
        },
        {
          "output_type": "stream",
          "name": "stdout",
          "text": [
            "episode number is:  409\n"
          ]
        },
        {
          "output_type": "stream",
          "name": "stderr",
          "text": [
            "\r 82%|████████▏ | 409/500 [08:43<02:09,  1.42s/it]"
          ]
        },
        {
          "output_type": "stream",
          "name": "stdout",
          "text": [
            "episode number is:  410\n",
            "Episode reward 1 ==> -1185.987919807434\n",
            "Episode reward 2 ==> -1185.987919807434\n",
            "Episode reward 3 ==> -1185.987919807434\n",
            "Episode reward 4 ==> -1185.987919807434\n",
            "Episode reward 5 ==> -1185.987919807434\n",
            "Episode reward 6 ==> -1185.987919807434\n",
            "Episode reward 7 ==> -1185.987919807434\n",
            "Episode reward 8 ==> -1185.987919807434\n",
            "Episode reward 9 ==> -1185.987919807434\n",
            "Episode reward 10 ==> -1185.987919807434\n"
          ]
        },
        {
          "output_type": "stream",
          "name": "stderr",
          "text": [
            "\r 82%|████████▏ | 410/500 [08:45<02:27,  1.64s/it]"
          ]
        },
        {
          "output_type": "stream",
          "name": "stdout",
          "text": [
            "episode number is:  411\n"
          ]
        },
        {
          "output_type": "stream",
          "name": "stderr",
          "text": [
            "\r 82%|████████▏ | 411/500 [08:47<02:38,  1.78s/it]"
          ]
        },
        {
          "output_type": "stream",
          "name": "stdout",
          "text": [
            "episode number is:  412\n"
          ]
        },
        {
          "output_type": "stream",
          "name": "stderr",
          "text": [
            "\r 82%|████████▏ | 412/500 [08:49<02:36,  1.77s/it]"
          ]
        },
        {
          "output_type": "stream",
          "name": "stdout",
          "text": [
            "episode number is:  413\n"
          ]
        },
        {
          "output_type": "stream",
          "name": "stderr",
          "text": [
            "\r 83%|████████▎ | 413/500 [08:50<02:23,  1.65s/it]"
          ]
        },
        {
          "output_type": "stream",
          "name": "stdout",
          "text": [
            "episode number is:  414\n"
          ]
        },
        {
          "output_type": "stream",
          "name": "stderr",
          "text": [
            "\r 83%|████████▎ | 414/500 [08:52<02:13,  1.56s/it]"
          ]
        },
        {
          "output_type": "stream",
          "name": "stdout",
          "text": [
            "episode number is:  415\n"
          ]
        },
        {
          "output_type": "stream",
          "name": "stderr",
          "text": [
            "\r 83%|████████▎ | 415/500 [08:53<02:07,  1.50s/it]"
          ]
        },
        {
          "output_type": "stream",
          "name": "stdout",
          "text": [
            "episode number is:  416\n"
          ]
        },
        {
          "output_type": "stream",
          "name": "stderr",
          "text": [
            "\r 83%|████████▎ | 416/500 [08:54<01:55,  1.37s/it]"
          ]
        },
        {
          "output_type": "stream",
          "name": "stdout",
          "text": [
            "episode number is:  417\n"
          ]
        },
        {
          "output_type": "stream",
          "name": "stderr",
          "text": [
            "\r 83%|████████▎ | 417/500 [08:56<01:55,  1.39s/it]"
          ]
        },
        {
          "output_type": "stream",
          "name": "stdout",
          "text": [
            "episode number is:  418\n"
          ]
        },
        {
          "output_type": "stream",
          "name": "stderr",
          "text": [
            "\r 84%|████████▎ | 418/500 [08:57<01:59,  1.46s/it]"
          ]
        },
        {
          "output_type": "stream",
          "name": "stdout",
          "text": [
            "episode number is:  419\n"
          ]
        },
        {
          "output_type": "stream",
          "name": "stderr",
          "text": [
            "\r 84%|████████▍ | 419/500 [08:59<01:55,  1.43s/it]"
          ]
        },
        {
          "output_type": "stream",
          "name": "stdout",
          "text": [
            "episode number is:  420\n",
            "Episode reward 1 ==> -1185.987919807434\n",
            "Episode reward 2 ==> -1185.987919807434\n",
            "Episode reward 3 ==> -1185.987919807434\n",
            "Episode reward 4 ==> -1185.987919807434\n",
            "Episode reward 5 ==> -1185.987919807434\n",
            "Episode reward 6 ==> -1185.987919807434\n",
            "Episode reward 7 ==> -1185.987919807434\n",
            "Episode reward 8 ==> -1185.987919807434\n",
            "Episode reward 9 ==> -1185.987919807434\n",
            "Episode reward 10 ==> -1185.987919807434\n"
          ]
        },
        {
          "output_type": "stream",
          "name": "stderr",
          "text": [
            "\r 84%|████████▍ | 420/500 [09:01<02:20,  1.76s/it]"
          ]
        },
        {
          "output_type": "stream",
          "name": "stdout",
          "text": [
            "episode number is:  421\n"
          ]
        },
        {
          "output_type": "stream",
          "name": "stderr",
          "text": [
            "\r 84%|████████▍ | 421/500 [09:03<02:26,  1.86s/it]"
          ]
        },
        {
          "output_type": "stream",
          "name": "stdout",
          "text": [
            "episode number is:  422\n"
          ]
        },
        {
          "output_type": "stream",
          "name": "stderr",
          "text": [
            "\r 84%|████████▍ | 422/500 [09:05<02:13,  1.71s/it]"
          ]
        },
        {
          "output_type": "stream",
          "name": "stdout",
          "text": [
            "episode number is:  423\n"
          ]
        },
        {
          "output_type": "stream",
          "name": "stderr",
          "text": [
            "\r 85%|████████▍ | 423/500 [09:06<02:03,  1.60s/it]"
          ]
        },
        {
          "output_type": "stream",
          "name": "stdout",
          "text": [
            "episode number is:  424\n"
          ]
        },
        {
          "output_type": "stream",
          "name": "stderr",
          "text": [
            "\r 85%|████████▍ | 424/500 [09:07<01:55,  1.52s/it]"
          ]
        },
        {
          "output_type": "stream",
          "name": "stdout",
          "text": [
            "episode number is:  425\n"
          ]
        },
        {
          "output_type": "stream",
          "name": "stderr",
          "text": [
            "\r 85%|████████▌ | 425/500 [09:09<01:49,  1.46s/it]"
          ]
        },
        {
          "output_type": "stream",
          "name": "stdout",
          "text": [
            "episode number is:  426\n"
          ]
        },
        {
          "output_type": "stream",
          "name": "stderr",
          "text": [
            "\r 85%|████████▌ | 426/500 [09:10<01:39,  1.34s/it]"
          ]
        },
        {
          "output_type": "stream",
          "name": "stdout",
          "text": [
            "episode number is:  427\n"
          ]
        },
        {
          "output_type": "stream",
          "name": "stderr",
          "text": [
            "\r 85%|████████▌ | 427/500 [09:11<01:40,  1.37s/it]"
          ]
        },
        {
          "output_type": "stream",
          "name": "stdout",
          "text": [
            "episode number is:  428\n"
          ]
        },
        {
          "output_type": "stream",
          "name": "stderr",
          "text": [
            "\r 86%|████████▌ | 428/500 [09:13<01:43,  1.44s/it]"
          ]
        },
        {
          "output_type": "stream",
          "name": "stdout",
          "text": [
            "episode number is:  429\n"
          ]
        },
        {
          "output_type": "stream",
          "name": "stderr",
          "text": [
            "\r 86%|████████▌ | 429/500 [09:14<01:48,  1.53s/it]"
          ]
        },
        {
          "output_type": "stream",
          "name": "stdout",
          "text": [
            "episode number is:  430\n",
            "Episode reward 1 ==> -1185.987919807434\n",
            "Episode reward 2 ==> -1185.987919807434\n",
            "Episode reward 3 ==> -1185.987919807434\n",
            "Episode reward 4 ==> -1185.987919807434\n",
            "Episode reward 5 ==> -1185.987919807434\n",
            "Episode reward 6 ==> -1185.987919807434\n",
            "Episode reward 7 ==> -1185.987919807434\n",
            "Episode reward 8 ==> -1185.987919807434\n",
            "Episode reward 9 ==> -1185.987919807434\n",
            "Episode reward 10 ==> -1185.987919807434\n"
          ]
        },
        {
          "output_type": "stream",
          "name": "stderr",
          "text": [
            "\r 86%|████████▌ | 430/500 [09:17<02:07,  1.82s/it]"
          ]
        },
        {
          "output_type": "stream",
          "name": "stdout",
          "text": [
            "episode number is:  431\n"
          ]
        },
        {
          "output_type": "stream",
          "name": "stderr",
          "text": [
            "\r 86%|████████▌ | 431/500 [09:19<02:03,  1.79s/it]"
          ]
        },
        {
          "output_type": "stream",
          "name": "stdout",
          "text": [
            "episode number is:  432\n"
          ]
        },
        {
          "output_type": "stream",
          "name": "stderr",
          "text": [
            "\r 86%|████████▋ | 432/500 [09:20<01:53,  1.67s/it]"
          ]
        },
        {
          "output_type": "stream",
          "name": "stdout",
          "text": [
            "episode number is:  433\n"
          ]
        },
        {
          "output_type": "stream",
          "name": "stderr",
          "text": [
            "\r 87%|████████▋ | 433/500 [09:21<01:44,  1.55s/it]"
          ]
        },
        {
          "output_type": "stream",
          "name": "stdout",
          "text": [
            "episode number is:  434\n"
          ]
        },
        {
          "output_type": "stream",
          "name": "stderr",
          "text": [
            "\r 87%|████████▋ | 434/500 [09:23<01:38,  1.50s/it]"
          ]
        },
        {
          "output_type": "stream",
          "name": "stdout",
          "text": [
            "episode number is:  435\n"
          ]
        },
        {
          "output_type": "stream",
          "name": "stderr",
          "text": [
            "\r 87%|████████▋ | 435/500 [09:24<01:34,  1.46s/it]"
          ]
        },
        {
          "output_type": "stream",
          "name": "stdout",
          "text": [
            "episode number is:  436\n"
          ]
        },
        {
          "output_type": "stream",
          "name": "stderr",
          "text": [
            "\r 87%|████████▋ | 436/500 [09:25<01:25,  1.34s/it]"
          ]
        },
        {
          "output_type": "stream",
          "name": "stdout",
          "text": [
            "episode number is:  437\n"
          ]
        },
        {
          "output_type": "stream",
          "name": "stderr",
          "text": [
            "\r 87%|████████▋ | 437/500 [09:27<01:26,  1.37s/it]"
          ]
        },
        {
          "output_type": "stream",
          "name": "stdout",
          "text": [
            "episode number is:  438\n"
          ]
        },
        {
          "output_type": "stream",
          "name": "stderr",
          "text": [
            "\r 88%|████████▊ | 438/500 [09:28<01:32,  1.48s/it]"
          ]
        },
        {
          "output_type": "stream",
          "name": "stdout",
          "text": [
            "episode number is:  439\n"
          ]
        },
        {
          "output_type": "stream",
          "name": "stderr",
          "text": [
            "\r 88%|████████▊ | 439/500 [09:30<01:39,  1.63s/it]"
          ]
        },
        {
          "output_type": "stream",
          "name": "stdout",
          "text": [
            "episode number is:  440\n",
            "Episode reward 1 ==> -1185.987919807434\n",
            "Episode reward 2 ==> -1185.987919807434\n",
            "Episode reward 3 ==> -1185.987919807434\n",
            "Episode reward 4 ==> -1185.987919807434\n",
            "Episode reward 5 ==> -1185.987919807434\n"
          ]
        },
        {
          "output_type": "stream",
          "name": "stderr",
          "text": [
            "\r 88%|████████▊ | 440/500 [09:33<01:52,  1.87s/it]"
          ]
        },
        {
          "output_type": "stream",
          "name": "stdout",
          "text": [
            "Episode reward 6 ==> -1185.987919807434\n",
            "Episode reward 7 ==> -1185.987919807434\n",
            "Episode reward 8 ==> -1185.987919807434\n",
            "Episode reward 9 ==> -1185.987919807434\n",
            "Episode reward 10 ==> -1185.987919807434\n",
            "episode number is:  441\n"
          ]
        },
        {
          "output_type": "stream",
          "name": "stderr",
          "text": [
            "\r 88%|████████▊ | 441/500 [09:34<01:42,  1.75s/it]"
          ]
        },
        {
          "output_type": "stream",
          "name": "stdout",
          "text": [
            "episode number is:  442\n"
          ]
        },
        {
          "output_type": "stream",
          "name": "stderr",
          "text": [
            "\r 88%|████████▊ | 442/500 [09:36<01:34,  1.63s/it]"
          ]
        },
        {
          "output_type": "stream",
          "name": "stdout",
          "text": [
            "episode number is:  443\n"
          ]
        },
        {
          "output_type": "stream",
          "name": "stderr",
          "text": [
            "\r 89%|████████▊ | 443/500 [09:37<01:27,  1.54s/it]"
          ]
        },
        {
          "output_type": "stream",
          "name": "stdout",
          "text": [
            "episode number is:  444\n"
          ]
        },
        {
          "output_type": "stream",
          "name": "stderr",
          "text": [
            "\r 89%|████████▉ | 444/500 [09:38<01:23,  1.49s/it]"
          ]
        },
        {
          "output_type": "stream",
          "name": "stdout",
          "text": [
            "episode number is:  445\n"
          ]
        },
        {
          "output_type": "stream",
          "name": "stderr",
          "text": [
            "\r 89%|████████▉ | 445/500 [09:40<01:19,  1.45s/it]"
          ]
        },
        {
          "output_type": "stream",
          "name": "stdout",
          "text": [
            "episode number is:  446\n"
          ]
        },
        {
          "output_type": "stream",
          "name": "stderr",
          "text": [
            "\r 89%|████████▉ | 446/500 [09:41<01:11,  1.33s/it]"
          ]
        },
        {
          "output_type": "stream",
          "name": "stdout",
          "text": [
            "episode number is:  447\n"
          ]
        },
        {
          "output_type": "stream",
          "name": "stderr",
          "text": [
            "\r 89%|████████▉ | 447/500 [09:42<01:12,  1.36s/it]"
          ]
        },
        {
          "output_type": "stream",
          "name": "stdout",
          "text": [
            "episode number is:  448\n"
          ]
        },
        {
          "output_type": "stream",
          "name": "stderr",
          "text": [
            "\r 90%|████████▉ | 448/500 [09:44<01:23,  1.61s/it]"
          ]
        },
        {
          "output_type": "stream",
          "name": "stdout",
          "text": [
            "episode number is:  449\n"
          ]
        },
        {
          "output_type": "stream",
          "name": "stderr",
          "text": [
            "\r 90%|████████▉ | 449/500 [09:46<01:28,  1.73s/it]"
          ]
        },
        {
          "output_type": "stream",
          "name": "stdout",
          "text": [
            "episode number is:  450\n",
            "Episode reward 1 ==> -1185.987919807434\n",
            "Episode reward 2 ==> -1185.987919807434\n",
            "Episode reward 3 ==> -1185.987919807434\n",
            "Episode reward 4 ==> -1185.987919807434\n",
            "Episode reward 5 ==> -1185.987919807434\n",
            "Episode reward 6 ==> -1185.987919807434\n",
            "Episode reward 7 ==> -1185.987919807434\n"
          ]
        },
        {
          "output_type": "stream",
          "name": "stderr",
          "text": [
            "\r 90%|█████████ | 450/500 [09:48<01:30,  1.81s/it]"
          ]
        },
        {
          "output_type": "stream",
          "name": "stdout",
          "text": [
            "Episode reward 8 ==> -1185.987919807434\n",
            "Episode reward 9 ==> -1185.987919807434\n",
            "Episode reward 10 ==> -1185.987919807434\n",
            "episode number is:  451\n"
          ]
        },
        {
          "output_type": "stream",
          "name": "stderr",
          "text": [
            "\r 90%|█████████ | 451/500 [09:50<01:23,  1.71s/it]"
          ]
        },
        {
          "output_type": "stream",
          "name": "stdout",
          "text": [
            "episode number is:  452\n"
          ]
        },
        {
          "output_type": "stream",
          "name": "stderr",
          "text": [
            "\r 90%|█████████ | 452/500 [09:51<01:17,  1.61s/it]"
          ]
        },
        {
          "output_type": "stream",
          "name": "stdout",
          "text": [
            "episode number is:  453\n"
          ]
        },
        {
          "output_type": "stream",
          "name": "stderr",
          "text": [
            "\r 91%|█████████ | 453/500 [09:52<01:11,  1.53s/it]"
          ]
        },
        {
          "output_type": "stream",
          "name": "stdout",
          "text": [
            "episode number is:  454\n"
          ]
        },
        {
          "output_type": "stream",
          "name": "stderr",
          "text": [
            "\r 91%|█████████ | 454/500 [09:54<01:07,  1.47s/it]"
          ]
        },
        {
          "output_type": "stream",
          "name": "stdout",
          "text": [
            "episode number is:  455\n"
          ]
        },
        {
          "output_type": "stream",
          "name": "stderr",
          "text": [
            "\r 91%|█████████ | 455/500 [09:55<01:04,  1.43s/it]"
          ]
        },
        {
          "output_type": "stream",
          "name": "stdout",
          "text": [
            "episode number is:  456\n"
          ]
        },
        {
          "output_type": "stream",
          "name": "stderr",
          "text": [
            "\r 91%|█████████ | 456/500 [09:56<00:58,  1.33s/it]"
          ]
        },
        {
          "output_type": "stream",
          "name": "stdout",
          "text": [
            "episode number is:  457\n"
          ]
        },
        {
          "output_type": "stream",
          "name": "stderr",
          "text": [
            "\r 91%|█████████▏| 457/500 [09:58<01:02,  1.44s/it]"
          ]
        },
        {
          "output_type": "stream",
          "name": "stdout",
          "text": [
            "episode number is:  458\n"
          ]
        },
        {
          "output_type": "stream",
          "name": "stderr",
          "text": [
            "\r 92%|█████████▏| 458/500 [10:00<01:12,  1.72s/it]"
          ]
        },
        {
          "output_type": "stream",
          "name": "stdout",
          "text": [
            "episode number is:  459\n"
          ]
        },
        {
          "output_type": "stream",
          "name": "stderr",
          "text": [
            "\r 92%|█████████▏| 459/500 [10:02<01:11,  1.75s/it]"
          ]
        },
        {
          "output_type": "stream",
          "name": "stdout",
          "text": [
            "episode number is:  460\n",
            "Episode reward 1 ==> -1185.987919807434\n",
            "Episode reward 2 ==> -1185.987919807434\n",
            "Episode reward 3 ==> -1185.987919807434\n",
            "Episode reward 4 ==> -1185.987919807434\n",
            "Episode reward 5 ==> -1185.987919807434\n",
            "Episode reward 6 ==> -1185.987919807434\n"
          ]
        },
        {
          "output_type": "stream",
          "name": "stderr",
          "text": [
            "\r 92%|█████████▏| 460/500 [10:04<01:10,  1.75s/it]"
          ]
        },
        {
          "output_type": "stream",
          "name": "stdout",
          "text": [
            "Episode reward 7 ==> -1185.987919807434\n",
            "Episode reward 8 ==> -1185.987919807434\n",
            "Episode reward 9 ==> -1185.987919807434\n",
            "Episode reward 10 ==> -1185.987919807434\n",
            "episode number is:  461\n"
          ]
        },
        {
          "output_type": "stream",
          "name": "stderr",
          "text": [
            "\r 92%|█████████▏| 461/500 [10:05<01:04,  1.65s/it]"
          ]
        },
        {
          "output_type": "stream",
          "name": "stdout",
          "text": [
            "episode number is:  462\n"
          ]
        },
        {
          "output_type": "stream",
          "name": "stderr",
          "text": [
            "\r 92%|█████████▏| 462/500 [10:07<00:59,  1.56s/it]"
          ]
        },
        {
          "output_type": "stream",
          "name": "stdout",
          "text": [
            "episode number is:  463\n"
          ]
        },
        {
          "output_type": "stream",
          "name": "stderr",
          "text": [
            "\r 93%|█████████▎| 463/500 [10:08<00:55,  1.49s/it]"
          ]
        },
        {
          "output_type": "stream",
          "name": "stdout",
          "text": [
            "episode number is:  464\n"
          ]
        },
        {
          "output_type": "stream",
          "name": "stderr",
          "text": [
            "\r 93%|█████████▎| 464/500 [10:09<00:51,  1.44s/it]"
          ]
        },
        {
          "output_type": "stream",
          "name": "stdout",
          "text": [
            "episode number is:  465\n"
          ]
        },
        {
          "output_type": "stream",
          "name": "stderr",
          "text": [
            "\r 93%|█████████▎| 465/500 [10:11<00:49,  1.41s/it]"
          ]
        },
        {
          "output_type": "stream",
          "name": "stdout",
          "text": [
            "episode number is:  466\n"
          ]
        },
        {
          "output_type": "stream",
          "name": "stderr",
          "text": [
            "\r 93%|█████████▎| 466/500 [10:12<00:44,  1.30s/it]"
          ]
        },
        {
          "output_type": "stream",
          "name": "stdout",
          "text": [
            "episode number is:  467\n"
          ]
        },
        {
          "output_type": "stream",
          "name": "stderr",
          "text": [
            "\r 93%|█████████▎| 467/500 [10:14<00:50,  1.54s/it]"
          ]
        },
        {
          "output_type": "stream",
          "name": "stdout",
          "text": [
            "episode number is:  468\n"
          ]
        },
        {
          "output_type": "stream",
          "name": "stderr",
          "text": [
            "\r 94%|█████████▎| 468/500 [10:16<00:57,  1.80s/it]"
          ]
        },
        {
          "output_type": "stream",
          "name": "stdout",
          "text": [
            "episode number is:  469\n"
          ]
        },
        {
          "output_type": "stream",
          "name": "stderr",
          "text": [
            "\r 94%|█████████▍| 469/500 [10:18<00:51,  1.68s/it]"
          ]
        },
        {
          "output_type": "stream",
          "name": "stdout",
          "text": [
            "episode number is:  470\n",
            "Episode reward 1 ==> -1185.987919807434\n",
            "Episode reward 2 ==> -1185.987919807434\n",
            "Episode reward 3 ==> -1185.987919807434\n",
            "Episode reward 4 ==> -1185.987919807434\n",
            "Episode reward 5 ==> -1185.987919807434\n",
            "Episode reward 6 ==> -1185.987919807434\n",
            "Episode reward 7 ==> -1185.987919807434\n"
          ]
        },
        {
          "output_type": "stream",
          "name": "stderr",
          "text": [
            "\r 94%|█████████▍| 470/500 [10:19<00:50,  1.70s/it]"
          ]
        },
        {
          "output_type": "stream",
          "name": "stdout",
          "text": [
            "Episode reward 8 ==> -1185.987919807434\n",
            "Episode reward 9 ==> -1185.987919807434\n",
            "Episode reward 10 ==> -1185.987919807434\n",
            "episode number is:  471\n"
          ]
        },
        {
          "output_type": "stream",
          "name": "stderr",
          "text": [
            "\r 94%|█████████▍| 471/500 [10:21<00:47,  1.63s/it]"
          ]
        },
        {
          "output_type": "stream",
          "name": "stdout",
          "text": [
            "episode number is:  472\n"
          ]
        },
        {
          "output_type": "stream",
          "name": "stderr",
          "text": [
            "\r 94%|█████████▍| 472/500 [10:22<00:43,  1.55s/it]"
          ]
        },
        {
          "output_type": "stream",
          "name": "stdout",
          "text": [
            "episode number is:  473\n"
          ]
        },
        {
          "output_type": "stream",
          "name": "stderr",
          "text": [
            "\r 95%|█████████▍| 473/500 [10:23<00:40,  1.48s/it]"
          ]
        },
        {
          "output_type": "stream",
          "name": "stdout",
          "text": [
            "episode number is:  474\n"
          ]
        },
        {
          "output_type": "stream",
          "name": "stderr",
          "text": [
            "\r 95%|█████████▍| 474/500 [10:25<00:37,  1.44s/it]"
          ]
        },
        {
          "output_type": "stream",
          "name": "stdout",
          "text": [
            "episode number is:  475\n"
          ]
        },
        {
          "output_type": "stream",
          "name": "stderr",
          "text": [
            "\r 95%|█████████▌| 475/500 [10:26<00:35,  1.41s/it]"
          ]
        },
        {
          "output_type": "stream",
          "name": "stdout",
          "text": [
            "episode number is:  476\n"
          ]
        },
        {
          "output_type": "stream",
          "name": "stderr",
          "text": [
            "\r 95%|█████████▌| 476/500 [10:28<00:34,  1.43s/it]"
          ]
        },
        {
          "output_type": "stream",
          "name": "stdout",
          "text": [
            "episode number is:  477\n"
          ]
        },
        {
          "output_type": "stream",
          "name": "stderr",
          "text": [
            "\r 95%|█████████▌| 477/500 [10:30<00:37,  1.63s/it]"
          ]
        },
        {
          "output_type": "stream",
          "name": "stdout",
          "text": [
            "episode number is:  478\n"
          ]
        },
        {
          "output_type": "stream",
          "name": "stderr",
          "text": [
            "\r 96%|█████████▌| 478/500 [10:32<00:38,  1.75s/it]"
          ]
        },
        {
          "output_type": "stream",
          "name": "stdout",
          "text": [
            "episode number is:  479\n"
          ]
        },
        {
          "output_type": "stream",
          "name": "stderr",
          "text": [
            "\r 96%|█████████▌| 479/500 [10:33<00:34,  1.63s/it]"
          ]
        },
        {
          "output_type": "stream",
          "name": "stdout",
          "text": [
            "episode number is:  480\n",
            "Episode reward 1 ==> -1185.987919807434\n",
            "Episode reward 2 ==> -1185.987919807434\n",
            "Episode reward 3 ==> -1185.987919807434\n",
            "Episode reward 4 ==> -1185.987919807434\n",
            "Episode reward 5 ==> -1185.987919807434\n",
            "Episode reward 6 ==> -1185.987919807434\n",
            "Episode reward 7 ==> -1185.987919807434\n"
          ]
        },
        {
          "output_type": "stream",
          "name": "stderr",
          "text": [
            "\r 96%|█████████▌| 480/500 [10:35<00:33,  1.67s/it]"
          ]
        },
        {
          "output_type": "stream",
          "name": "stdout",
          "text": [
            "Episode reward 8 ==> -1185.987919807434\n",
            "Episode reward 9 ==> -1185.987919807434\n",
            "Episode reward 10 ==> -1185.987919807434\n",
            "episode number is:  481\n"
          ]
        },
        {
          "output_type": "stream",
          "name": "stderr",
          "text": [
            "\r 96%|█████████▌| 481/500 [10:36<00:30,  1.60s/it]"
          ]
        },
        {
          "output_type": "stream",
          "name": "stdout",
          "text": [
            "episode number is:  482\n"
          ]
        },
        {
          "output_type": "stream",
          "name": "stderr",
          "text": [
            "\r 96%|█████████▋| 482/500 [10:38<00:27,  1.53s/it]"
          ]
        },
        {
          "output_type": "stream",
          "name": "stdout",
          "text": [
            "episode number is:  483\n"
          ]
        },
        {
          "output_type": "stream",
          "name": "stderr",
          "text": [
            "\r 97%|█████████▋| 483/500 [10:39<00:24,  1.47s/it]"
          ]
        },
        {
          "output_type": "stream",
          "name": "stdout",
          "text": [
            "episode number is:  484\n"
          ]
        },
        {
          "output_type": "stream",
          "name": "stderr",
          "text": [
            "\r 97%|█████████▋| 484/500 [10:40<00:22,  1.43s/it]"
          ]
        },
        {
          "output_type": "stream",
          "name": "stdout",
          "text": [
            "episode number is:  485\n"
          ]
        },
        {
          "output_type": "stream",
          "name": "stderr",
          "text": [
            "\r 97%|█████████▋| 485/500 [10:42<00:22,  1.52s/it]"
          ]
        },
        {
          "output_type": "stream",
          "name": "stdout",
          "text": [
            "episode number is:  486\n"
          ]
        },
        {
          "output_type": "stream",
          "name": "stderr",
          "text": [
            "\r 97%|█████████▋| 486/500 [10:44<00:21,  1.53s/it]"
          ]
        },
        {
          "output_type": "stream",
          "name": "stdout",
          "text": [
            "episode number is:  487\n"
          ]
        },
        {
          "output_type": "stream",
          "name": "stderr",
          "text": [
            "\r 97%|█████████▋| 487/500 [10:46<00:21,  1.69s/it]"
          ]
        },
        {
          "output_type": "stream",
          "name": "stdout",
          "text": [
            "episode number is:  488\n"
          ]
        },
        {
          "output_type": "stream",
          "name": "stderr",
          "text": [
            "\r 98%|█████████▊| 488/500 [10:47<00:20,  1.67s/it]"
          ]
        },
        {
          "output_type": "stream",
          "name": "stdout",
          "text": [
            "episode number is:  489\n"
          ]
        },
        {
          "output_type": "stream",
          "name": "stderr",
          "text": [
            "\r 98%|█████████▊| 489/500 [10:49<00:17,  1.57s/it]"
          ]
        },
        {
          "output_type": "stream",
          "name": "stdout",
          "text": [
            "episode number is:  490\n",
            "Episode reward 1 ==> -1185.987919807434\n",
            "Episode reward 2 ==> -1185.987919807434\n",
            "Episode reward 3 ==> -1185.987919807434\n",
            "Episode reward 4 ==> -1185.987919807434\n",
            "Episode reward 5 ==> -1185.987919807434\n",
            "Episode reward 6 ==> -1185.987919807434\n"
          ]
        },
        {
          "output_type": "stream",
          "name": "stderr",
          "text": [
            "\r 98%|█████████▊| 490/500 [10:50<00:16,  1.63s/it]"
          ]
        },
        {
          "output_type": "stream",
          "name": "stdout",
          "text": [
            "Episode reward 7 ==> -1185.987919807434\n",
            "Episode reward 8 ==> -1185.987919807434\n",
            "Episode reward 9 ==> -1185.987919807434\n",
            "Episode reward 10 ==> -1185.987919807434\n",
            "episode number is:  491\n"
          ]
        },
        {
          "output_type": "stream",
          "name": "stderr",
          "text": [
            "\r 98%|█████████▊| 491/500 [10:52<00:14,  1.56s/it]"
          ]
        },
        {
          "output_type": "stream",
          "name": "stdout",
          "text": [
            "episode number is:  492\n"
          ]
        },
        {
          "output_type": "stream",
          "name": "stderr",
          "text": [
            "\r 98%|█████████▊| 492/500 [10:53<00:11,  1.49s/it]"
          ]
        },
        {
          "output_type": "stream",
          "name": "stdout",
          "text": [
            "episode number is:  493\n"
          ]
        },
        {
          "output_type": "stream",
          "name": "stderr",
          "text": [
            "\r 99%|█████████▊| 493/500 [10:54<00:10,  1.44s/it]"
          ]
        },
        {
          "output_type": "stream",
          "name": "stdout",
          "text": [
            "episode number is:  494\n"
          ]
        },
        {
          "output_type": "stream",
          "name": "stderr",
          "text": [
            "\r 99%|█████████▉| 494/500 [10:56<00:08,  1.43s/it]"
          ]
        },
        {
          "output_type": "stream",
          "name": "stdout",
          "text": [
            "episode number is:  495\n"
          ]
        },
        {
          "output_type": "stream",
          "name": "stderr",
          "text": [
            "\r 99%|█████████▉| 495/500 [10:58<00:07,  1.59s/it]"
          ]
        },
        {
          "output_type": "stream",
          "name": "stdout",
          "text": [
            "episode number is:  496\n"
          ]
        },
        {
          "output_type": "stream",
          "name": "stderr",
          "text": [
            "\r 99%|█████████▉| 496/500 [10:59<00:06,  1.57s/it]"
          ]
        },
        {
          "output_type": "stream",
          "name": "stdout",
          "text": [
            "episode number is:  497\n"
          ]
        },
        {
          "output_type": "stream",
          "name": "stderr",
          "text": [
            "\r 99%|█████████▉| 497/500 [11:01<00:04,  1.61s/it]"
          ]
        },
        {
          "output_type": "stream",
          "name": "stdout",
          "text": [
            "episode number is:  498\n"
          ]
        },
        {
          "output_type": "stream",
          "name": "stderr",
          "text": [
            "\r100%|█████████▉| 498/500 [11:03<00:03,  1.61s/it]"
          ]
        },
        {
          "output_type": "stream",
          "name": "stdout",
          "text": [
            "episode number is:  499\n"
          ]
        },
        {
          "output_type": "stream",
          "name": "stderr",
          "text": [
            "\r100%|█████████▉| 499/500 [11:04<00:01,  1.53s/it]"
          ]
        },
        {
          "output_type": "stream",
          "name": "stdout",
          "text": [
            "episode number is:  500\n",
            "Episode reward 1 ==> -1185.987919807434\n",
            "Episode reward 2 ==> -1185.987919807434\n",
            "Episode reward 3 ==> -1185.987919807434\n",
            "Episode reward 4 ==> -1185.987919807434\n",
            "Episode reward 5 ==> -1185.987919807434\n",
            "Episode reward 6 ==> -1185.987919807434\n",
            "Episode reward 7 ==> -1185.987919807434\n"
          ]
        },
        {
          "output_type": "stream",
          "name": "stderr",
          "text": [
            "100%|██████████| 500/500 [11:06<00:00,  1.33s/it]"
          ]
        },
        {
          "output_type": "stream",
          "name": "stdout",
          "text": [
            "Episode reward 8 ==> -1185.987919807434\n",
            "Episode reward 9 ==> -1185.987919807434\n",
            "Episode reward 10 ==> -1185.987919807434\n"
          ]
        },
        {
          "output_type": "stream",
          "name": "stderr",
          "text": [
            "\n"
          ]
        },
        {
          "output_type": "display_data",
          "data": {
            "text/plain": [
              "<IPython.core.display.HTML object>"
            ],
            "text/html": []
          },
          "metadata": {}
        },
        {
          "output_type": "display_data",
          "data": {
            "text/plain": [
              "<IPython.core.display.HTML object>"
            ],
            "text/html": [
              "<br>    <style><br>        .wandb-row {<br>            display: flex;<br>            flex-direction: row;<br>            flex-wrap: wrap;<br>            justify-content: flex-start;<br>            width: 100%;<br>        }<br>        .wandb-col {<br>            display: flex;<br>            flex-direction: column;<br>            flex-basis: 100%;<br>            flex: 1;<br>            padding: 10px;<br>        }<br>    </style><br><div class=\"wandb-row\"><div class=\"wandb-col\"><h3>Run history:</h3><br/><table class=\"wandb\"><tr><td>Episode</td><td>▁▁▁▁▁▂▂▂▂▂▂▂▃▃▃▃▃▃▃▄▄▄▅▅▅▆▆▆▆▆▆▆▆▇▇▇████</td></tr><tr><td>Episode Length</td><td>████████▂▁▁▁▁▂▁▁▁▁▁▁▁▁▁▂▁▁▁▁▁▁▁▁▂▁▁▂▁▁▁▁</td></tr><tr><td>Episode Reward</td><td>▃▃▁▁▃▁▃▁████████████████████████████████</td></tr><tr><td>Global Step</td><td>▁▁▁▁▂▂▄▅▅▅▅▅▅▆▆▆▆▆▆▆▆▆▇▇▇▇▇▇▇▇▇█████████</td></tr><tr><td>Test Episode Reward</td><td>▁▁▁▁▁▁▁█████████████████████████████████</td></tr></table><br/></div><div class=\"wandb-col\"><h3>Run summary:</h3><br/><table class=\"wandb\"><tr><td>Episode</td><td>500</td></tr><tr><td>Episode Length</td><td>50</td></tr><tr><td>Episode Reward</td><td>-1298.49467</td></tr><tr><td>Global Step</td><td>46053</td></tr><tr><td>Test Episode Reward</td><td>-1185.98792</td></tr></table><br/></div></div>"
            ]
          },
          "metadata": {}
        },
        {
          "output_type": "display_data",
          "data": {
            "text/plain": [
              "<IPython.core.display.HTML object>"
            ],
            "text/html": [
              " View run <strong style=\"color:#cdcd00\">electric-valley-38</strong> at: <a href='https://wandb.ai/voldigoadanos53-aligarh-muslim-university/ddpg/runs/kb5gi47h' target=\"_blank\">https://wandb.ai/voldigoadanos53-aligarh-muslim-university/ddpg/runs/kb5gi47h</a><br> View project at: <a href='https://wandb.ai/voldigoadanos53-aligarh-muslim-university/ddpg' target=\"_blank\">https://wandb.ai/voldigoadanos53-aligarh-muslim-university/ddpg</a><br>Synced 5 W&B file(s), 0 media file(s), 0 artifact file(s) and 0 other file(s)"
            ]
          },
          "metadata": {}
        },
        {
          "output_type": "display_data",
          "data": {
            "text/plain": [
              "<IPython.core.display.HTML object>"
            ],
            "text/html": [
              "Find logs at: <code>./wandb/run-20250618_192217-kb5gi47h/logs</code>"
            ]
          },
          "metadata": {}
        },
        {
          "output_type": "execute_result",
          "data": {
            "text/plain": [
              "[<matplotlib.lines.Line2D at 0x7aa4f94a1f90>]"
            ]
          },
          "metadata": {},
          "execution_count": 28
        },
        {
          "output_type": "display_data",
          "data": {
            "text/plain": [
              "<Figure size 1600x1000 with 1 Axes>"
            ],
            "image/png": "[encoded data removed]"
          },
          "metadata": {}
        }
      ],
      "source": [
        "# from train import Trainer\n",
        "from matplotlib import pyplot as plt\n",
        "# import gym\n",
        "from gym.envs.registration import register\n",
        "gym.register(\n",
        "    id='PointParticle-v0',\n",
        "    entry_point=PointParticleEnv,   # or \"__main__:PointParticleEnv\"\n",
        "    max_episode_steps=300    # ← choose a sensible episode length\n",
        ")\n",
        "\n",
        "\n",
        "env_name='PointParticle-v0'\n",
        "trainer = Trainer(config_file=f'./configs/{env_name}.json',enable_logging=True)\n",
        "episode_rewards, evaluations = trainer.train()\n",
        "\n",
        "plt.figure(figsize=(16, 10))\n",
        "plt.plot(episode_rewards)\n",
        "\n",
        "#     ce0d0200dfea200450b86c341468e0ae12cf0570"
      ]
    },
    {
      "cell_type": "code",
      "execution_count": 30,
      "metadata": {
        "id": "Sl8f57wRbe0-",
        "colab": {
          "base_uri": "https://localhost:8080/",
          "height": 367
        },
        "outputId": "dbba2958-ab8e-4ea1-cceb-2dfcc62feb7f"
      },
      "outputs": [
        {
          "output_type": "stream",
          "name": "stderr",
          "text": [
            "/usr/local/lib/python3.11/dist-packages/gym/envs/registration.py:627: UserWarning: \u001b[33mWARN: The environment creator metadata doesn't include `render_modes`, contains: ['render.modes']\u001b[0m\n",
            "  logger.warn(\n"
          ]
        },
        {
          "output_type": "error",
          "ename": "TypeError",
          "evalue": "PointParticleEnv.__init__() got an unexpected keyword argument 'render_mode'",
          "traceback": [
            "\u001b[0;31m---------------------------------------------------------------------------\u001b[0m",
            "\u001b[0;31mTypeError\u001b[0m                                 Traceback (most recent call last)",
            "\u001b[0;32m/tmp/ipython-input-30-561900845.py\u001b[0m in \u001b[0;36m<cell line: 0>\u001b[0;34m()\u001b[0m\n\u001b[0;32m----> 1\u001b[0;31m \u001b[0mtrainer\u001b[0m\u001b[0;34m.\u001b[0m\u001b[0mevaluate\u001b[0m\u001b[0;34m(\u001b[0m\u001b[0;34m)\u001b[0m\u001b[0;34m\u001b[0m\u001b[0;34m\u001b[0m\u001b[0m\n\u001b[0m",
            "\u001b[0;32m/tmp/ipython-input-27-541267397.py\u001b[0m in \u001b[0;36mevaluate\u001b[0;34m(self)\u001b[0m\n\u001b[1;32m    116\u001b[0m     \u001b[0;32mdef\u001b[0m \u001b[0mevaluate\u001b[0m\u001b[0;34m(\u001b[0m\u001b[0mself\u001b[0m\u001b[0;34m)\u001b[0m\u001b[0;34m:\u001b[0m\u001b[0;34m\u001b[0m\u001b[0;34m\u001b[0m\u001b[0m\n\u001b[1;32m    117\u001b[0m         \u001b[0mself\u001b[0m\u001b[0;34m.\u001b[0m\u001b[0magent\u001b[0m\u001b[0;34m.\u001b[0m\u001b[0mload_checkpoint\u001b[0m\u001b[0;34m(\u001b[0m\u001b[0;34mf\"./pretrained_models/DDPG_{self.config['env_name']}_{self.config['seed']}\"\u001b[0m\u001b[0;34m)\u001b[0m\u001b[0;34m\u001b[0m\u001b[0;34m\u001b[0m\u001b[0m\n\u001b[0;32m--> 118\u001b[0;31m         \u001b[0mevaluate_policy\u001b[0m\u001b[0;34m(\u001b[0m\u001b[0mself\u001b[0m\u001b[0;34m.\u001b[0m\u001b[0magent\u001b[0m\u001b[0;34m,\u001b[0m \u001b[0mself\u001b[0m\u001b[0;34m.\u001b[0m\u001b[0mconfig\u001b[0m\u001b[0;34m[\u001b[0m\u001b[0;34m'env_name'\u001b[0m\u001b[0;34m]\u001b[0m\u001b[0;34m,\u001b[0m \u001b[0mself\u001b[0m\u001b[0;34m.\u001b[0m\u001b[0mconfig\u001b[0m\u001b[0;34m[\u001b[0m\u001b[0;34m'seed'\u001b[0m\u001b[0;34m]\u001b[0m\u001b[0;34m,\u001b[0m\u001b[0mrender\u001b[0m\u001b[0;34m=\u001b[0m\u001b[0;32mTrue\u001b[0m\u001b[0;34m)\u001b[0m\u001b[0;34m\u001b[0m\u001b[0;34m\u001b[0m\u001b[0m\n\u001b[0m",
            "\u001b[0;32m/content/drive/MyDrive/Projects/rl/DDPG-Pytorch/src/utils.py\u001b[0m in \u001b[0;36mevaluate_policy\u001b[0;34m(policy, env_name, seed, wandb, enable_logging, eval_episodes, render)\u001b[0m\n\u001b[1;32m     16\u001b[0m \u001b[0;32mdef\u001b[0m \u001b[0mevaluate_policy\u001b[0m\u001b[0;34m(\u001b[0m\u001b[0mpolicy\u001b[0m\u001b[0;34m,\u001b[0m \u001b[0menv_name\u001b[0m\u001b[0;34m,\u001b[0m \u001b[0mseed\u001b[0m\u001b[0;34m,\u001b[0m \u001b[0mwandb\u001b[0m\u001b[0;34m=\u001b[0m\u001b[0;32mFalse\u001b[0m\u001b[0;34m,\u001b[0m\u001b[0menable_logging\u001b[0m\u001b[0;34m=\u001b[0m\u001b[0;32mTrue\u001b[0m\u001b[0;34m,\u001b[0m \u001b[0meval_episodes\u001b[0m\u001b[0;34m=\u001b[0m\u001b[0;36m10\u001b[0m\u001b[0;34m,\u001b[0m \u001b[0mrender\u001b[0m\u001b[0;34m=\u001b[0m\u001b[0;32mFalse\u001b[0m\u001b[0;34m)\u001b[0m\u001b[0;34m:\u001b[0m\u001b[0;34m\u001b[0m\u001b[0;34m\u001b[0m\u001b[0m\n\u001b[1;32m     17\u001b[0m     \u001b[0;32mif\u001b[0m \u001b[0mrender\u001b[0m\u001b[0;34m:\u001b[0m\u001b[0;34m\u001b[0m\u001b[0;34m\u001b[0m\u001b[0m\n\u001b[0;32m---> 18\u001b[0;31m         \u001b[0meval_env\u001b[0m \u001b[0;34m=\u001b[0m \u001b[0mgym\u001b[0m\u001b[0;34m.\u001b[0m\u001b[0mmake\u001b[0m\u001b[0;34m(\u001b[0m\u001b[0menv_name\u001b[0m\u001b[0;34m,\u001b[0m \u001b[0mrender_mode\u001b[0m\u001b[0;34m=\u001b[0m\u001b[0;34m'human'\u001b[0m\u001b[0;34m)\u001b[0m\u001b[0;34m\u001b[0m\u001b[0;34m\u001b[0m\u001b[0m\n\u001b[0m\u001b[1;32m     19\u001b[0m     \u001b[0;32melse\u001b[0m\u001b[0;34m:\u001b[0m\u001b[0;34m\u001b[0m\u001b[0;34m\u001b[0m\u001b[0m\n\u001b[1;32m     20\u001b[0m         \u001b[0meval_env\u001b[0m \u001b[0;34m=\u001b[0m \u001b[0mgym\u001b[0m\u001b[0;34m.\u001b[0m\u001b[0mmake\u001b[0m\u001b[0;34m(\u001b[0m\u001b[0menv_name\u001b[0m\u001b[0;34m)\u001b[0m\u001b[0;34m\u001b[0m\u001b[0;34m\u001b[0m\u001b[0m\n",
            "\u001b[0;32m/usr/local/lib/python3.11/dist-packages/gym/envs/registration.py\u001b[0m in \u001b[0;36mmake\u001b[0;34m(id, max_episode_steps, autoreset, apply_api_compatibility, disable_env_checker, **kwargs)\u001b[0m\n\u001b[1;32m    650\u001b[0m             )\n\u001b[1;32m    651\u001b[0m         \u001b[0;32melse\u001b[0m\u001b[0;34m:\u001b[0m\u001b[0;34m\u001b[0m\u001b[0;34m\u001b[0m\u001b[0m\n\u001b[0;32m--> 652\u001b[0;31m             \u001b[0;32mraise\u001b[0m \u001b[0me\u001b[0m\u001b[0;34m\u001b[0m\u001b[0;34m\u001b[0m\u001b[0m\n\u001b[0m\u001b[1;32m    653\u001b[0m \u001b[0;34m\u001b[0m\u001b[0m\n\u001b[1;32m    654\u001b[0m     \u001b[0;31m# Copies the environment creation specification and kwargs to add to the environment specification details\u001b[0m\u001b[0;34m\u001b[0m\u001b[0;34m\u001b[0m\u001b[0m\n",
            "\u001b[0;32m/usr/local/lib/python3.11/dist-packages/gym/envs/registration.py\u001b[0m in \u001b[0;36mmake\u001b[0;34m(id, max_episode_steps, autoreset, apply_api_compatibility, disable_env_checker, **kwargs)\u001b[0m\n\u001b[1;32m    638\u001b[0m \u001b[0;34m\u001b[0m\u001b[0m\n\u001b[1;32m    639\u001b[0m     \u001b[0;32mtry\u001b[0m\u001b[0;34m:\u001b[0m\u001b[0;34m\u001b[0m\u001b[0;34m\u001b[0m\u001b[0m\n\u001b[0;32m--> 640\u001b[0;31m         \u001b[0menv\u001b[0m \u001b[0;34m=\u001b[0m \u001b[0menv_creator\u001b[0m\u001b[0;34m(\u001b[0m\u001b[0;34m**\u001b[0m\u001b[0m_kwargs\u001b[0m\u001b[0;34m)\u001b[0m\u001b[0;34m\u001b[0m\u001b[0;34m\u001b[0m\u001b[0m\n\u001b[0m\u001b[1;32m    641\u001b[0m     \u001b[0;32mexcept\u001b[0m \u001b[0mTypeError\u001b[0m \u001b[0;32mas\u001b[0m \u001b[0me\u001b[0m\u001b[0;34m:\u001b[0m\u001b[0;34m\u001b[0m\u001b[0;34m\u001b[0m\u001b[0m\n\u001b[1;32m    642\u001b[0m         if (\n",
            "\u001b[0;31mTypeError\u001b[0m: PointParticleEnv.__init__() got an unexpected keyword argument 'render_mode'"
          ]
        }
      ],
      "source": [
        "trainer.evaluate()\n"
      ]
    },
    {
      "cell_type": "code",
      "source": [],
      "metadata": {
        "id": "QZGRuqdAGfdt"
      },
      "execution_count": null,
      "outputs": []
    }
  ],
  "metadata": {
    "colab": {
      "provenance": [],
      "gpuType": "T4"
    },
    "kernelspec": {
      "display_name": "Python 3",
      "name": "python3"
    },
    "language_info": {
      "name": "python"
    }
  },
  "nbformat": 4,
  "nbformat_minor": 0
}